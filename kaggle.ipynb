{
  "cells": [
    {
      "metadata": {
        "_cell_guid": "b1076dfc-b9ad-4769-8c92-a6c4dae69d19",
        "_kg_hide-output": false,
        "_uuid": "8f2839f25d086af736a60e9eeb907d3b93b6e0e5",
        "trusted": true,
        "collapsed": true
      },
      "cell_type": "code",
      "source": "# This Python 3 environment comes with many helpful analytics libraries installed\n# It is defined by the kaggle/python docker image: https://github.com/kaggle/docker-python\n# For example, here's several helpful packages to load in \n\nimport numpy as np # linear algebra\nimport pandas as pd # data processing, CSV file I/O (e.g. pd.read_csv)\n\n# Input data files are available in the \"../input/\" directory.\n# For example, running this (by clicking run or pressing Shift+Enter) will list the files in the input directory\n\nimport os\nimport sklearn\n\nfrom sklearn.preprocessing import LabelEncoder\n\nimport matplotlib.pyplot as plt\nimport seaborn as sns\n\n# Any results you write to the current directory are saved as output.",
      "execution_count": null,
      "outputs": []
    },
    {
      "metadata": {
        "_cell_guid": "79c7e3d0-c299-4dcb-8224-4455121ee9b0",
        "_uuid": "d629ff2d2480ee46fbb7e2d37f6b5fab8052498a",
        "trusted": true,
        "collapsed": true
      },
      "cell_type": "code",
      "source": "train = pd.read_csv('../input/application_train.csv')\ntest = pd.read_csv('../input/application_test.csv')",
      "execution_count": null,
      "outputs": []
    },
    {
      "metadata": {
        "_uuid": "8d02f172f74894f635bb8b47f0a65b90202b6130",
        "trusted": true,
        "collapsed": true
      },
      "cell_type": "code",
      "source": "test.shape",
      "execution_count": null,
      "outputs": []
    },
    {
      "metadata": {
        "_uuid": "8f99d974f4dbf555a5a886f191607e9e9144f4a3",
        "collapsed": true,
        "trusted": true
      },
      "cell_type": "code",
      "source": "def missing_values_table(df):\n    total_missing = df.isnull().sum()\n    perc_missing = df.isnull().sum() * 100/ len(df)\n    missing_total_perc = pd.concat([total_missing, perc_missing], axis=1)\n    missing_total_perc.columns = ['total', 'percentage']\n    missing_total_perc = missing_total_perc.sort_values('percentage', ascending=False).round(1)\n    return missing_total_perc",
      "execution_count": null,
      "outputs": []
    },
    {
      "metadata": {
        "_uuid": "c0b5ee2bd04b0de444899a60520b2ebf6b021942",
        "trusted": true,
        "collapsed": true
      },
      "cell_type": "code",
      "source": "#no of unique values in object columns\ntrain.select_dtypes('object').apply(pd.Series.nunique, axis=0)",
      "execution_count": null,
      "outputs": []
    },
    {
      "metadata": {
        "_uuid": "17e7360342da381a109beca18dd3871388bdf186",
        "trusted": true,
        "collapsed": true
      },
      "cell_type": "code",
      "source": "le = LabelEncoder()\n\nle_count = 0\n\nfor col in train:\n    if train[col].dtype == 'object':\n        if len(list(train[col].unique())) < 3:\n            le.fit(train[col])\n            print(col)\n            train[col] = le.transform(train[col])\n            test[col] = le.transform(test[col])",
      "execution_count": null,
      "outputs": []
    },
    {
      "metadata": {
        "_uuid": "e967bb50b145205f440844fe2b535f212b6ed4df",
        "trusted": true,
        "collapsed": true
      },
      "cell_type": "code",
      "source": "train_dummied = pd.get_dummies(train)\ntest_dummied = pd.get_dummies(test)",
      "execution_count": null,
      "outputs": []
    },
    {
      "metadata": {
        "_uuid": "293a35a496405d11b4a86a6abb0fd360599998d5",
        "trusted": true,
        "collapsed": true
      },
      "cell_type": "code",
      "source": "train_labels = train.TARGET",
      "execution_count": null,
      "outputs": []
    },
    {
      "metadata": {
        "_uuid": "d0fb1180531859321be47bbca0256da9008604fd",
        "trusted": true,
        "collapsed": true
      },
      "cell_type": "code",
      "source": "app_train, app_test = train_dummied.align(test_dummied, join='inner', axis=1)",
      "execution_count": null,
      "outputs": []
    },
    {
      "metadata": {
        "_uuid": "6ad58cb5a582694ffd3bb7cc06592e8fb429014e",
        "trusted": true,
        "collapsed": true
      },
      "cell_type": "code",
      "source": "app_train.DAYS_EMPLOYED.plot.hist()",
      "execution_count": null,
      "outputs": []
    },
    {
      "metadata": {
        "_uuid": "4e7e50c841130735ff439c28168f21a5ed9c2f58",
        "trusted": true,
        "collapsed": true
      },
      "cell_type": "code",
      "source": "app_train['DAYS_EMPLOYED_ANOMALOUS'] = app_train['DAYS_EMPLOYED'] >= 300000\napp_train['DAYS_EMPLOYED'].replace({365243: np.nan}, inplace=True)\n\napp_test['DAYS_EMPLOYED_ANOMALOUS'] = app_test['DAYS_EMPLOYED'] >= 300000\napp_test['DAYS_EMPLOYED'].replace({365243: np.nan}, inplace=True)",
      "execution_count": null,
      "outputs": []
    },
    {
      "metadata": {
        "_uuid": "06bb8d79b07568672c8767d8c767d30d0485eb02",
        "trusted": true,
        "collapsed": true
      },
      "cell_type": "code",
      "source": "app_train.DAYS_EMPLOYED.plot.hist()",
      "execution_count": null,
      "outputs": []
    },
    {
      "metadata": {
        "_uuid": "dfa6723ebb18e049b9805dfb7dbbaa056ccc24ab",
        "trusted": true,
        "collapsed": true
      },
      "cell_type": "code",
      "source": "app_test.DAYS_EMPLOYED.plot.hist()",
      "execution_count": null,
      "outputs": []
    },
    {
      "metadata": {
        "_uuid": "0ff2a36f25367d9e9cf7d0eb3f354594bc54deca",
        "trusted": true,
        "collapsed": true
      },
      "cell_type": "code",
      "source": "plt.style.use('fivethirtyeight')\n\nplt.hist(app_train.DAYS_BIRTH /-365, edgecolor = 'k', bins=25)\nplt.title('Age of Client'); plt.xlabel('Age(years)'); plt.ylabel('Count')",
      "execution_count": null,
      "outputs": []
    },
    {
      "metadata": {
        "_uuid": "941de63bb29ac024743cd46eb07b3587d03baf57",
        "trusted": true,
        "collapsed": true
      },
      "cell_type": "code",
      "source": "app_train['TARGET'] = train.TARGET\nplt.figure(figsize=(10, 8))\n\nsns.kdeplot(app_train.loc[app_train.TARGET == 0, 'DAYS_BIRTH']/-365, label='Target = 0')\nsns.kdeplot(app_train.loc[app_train.TARGET == 1, 'DAYS_BIRTH']/-365, label='Target = 1')",
      "execution_count": null,
      "outputs": []
    },
    {
      "metadata": {
        "_uuid": "eb41f9ecffebd6df5a1f9d27340fcc2a75e2f4ee",
        "trusted": true,
        "collapsed": true
      },
      "cell_type": "code",
      "source": "\npd.options.mode.chained_assignment = None  # default='warn'\nage_data = train[['TARGET', 'DAYS_BIRTH']]\n#age_data['YEARS_BIRTH'] = 0\nage_data['YEARS_BIRTH'] = age_data['DAYS_BIRTH'] / -365",
      "execution_count": null,
      "outputs": []
    },
    {
      "metadata": {
        "_uuid": "9d8a08cab06c84c90308f6b5f6ff7ee27ce68392",
        "trusted": true,
        "collapsed": true
      },
      "cell_type": "code",
      "source": "age_data['YEARS_BINNED'] = pd.cut(age_data['YEARS_BIRTH'], bins=np.linspace(20, 70, num=11))",
      "execution_count": null,
      "outputs": []
    },
    {
      "metadata": {
        "_uuid": "957d147245eef30edc7188cad3c978c3b5c39634",
        "trusted": true,
        "collapsed": true
      },
      "cell_type": "code",
      "source": "age_groups = age_data.groupby('YEARS_BINNED').mean()\nage_groups",
      "execution_count": null,
      "outputs": []
    },
    {
      "metadata": {
        "_uuid": "d4a29623e5a01867a2bfdf389aa6d008194de2aa",
        "trusted": true,
        "collapsed": true
      },
      "cell_type": "code",
      "source": "plt.figure(figsize=(8, 8))\n\nplt.bar(age_groups.index.astype(str), 100 *age_groups.TARGET)",
      "execution_count": null,
      "outputs": []
    },
    {
      "metadata": {
        "_uuid": "ced8c29db1a3a6cf4669edfc8b789d73d14d958c",
        "trusted": true,
        "collapsed": true
      },
      "cell_type": "code",
      "source": "ext_data = app_train[['TARGET', 'EXT_SOURCE_1', 'EXT_SOURCE_2', 'EXT_SOURCE_3', 'DAYS_BIRTH']]",
      "execution_count": null,
      "outputs": []
    },
    {
      "metadata": {
        "_uuid": "5d086cad34ec4fcb250a6d687e4799fd2642e06c",
        "trusted": true,
        "collapsed": true
      },
      "cell_type": "code",
      "source": "ext_data_corrs = ext_data.corr()\next_data_corrs",
      "execution_count": null,
      "outputs": []
    },
    {
      "metadata": {
        "_uuid": "dd9f17d85bde53dca941fe0f78ab0619c03b2469",
        "trusted": true,
        "collapsed": true
      },
      "cell_type": "code",
      "source": "plt.figure(figsize=(10,12))\n\nfor i, source in enumerate(['EXT_SOURCE_1', 'EXT_SOURCE_2', 'EXT_SOURCE_3']):\n    \n    plt.subplot(3, 1, i + 1)\n    sns.kdeplot(app_train.loc[app_train['TARGET'] ==0, source], label=\"target=0\")\n    sns.kdeplot(app_train.loc[app_train['TARGET'] ==1, source], label=\"target=1\")\n    \n    plt.title('Distribution of %s by Target Value'%(source))",
      "execution_count": null,
      "outputs": []
    },
    {
      "metadata": {
        "_uuid": "4b251e6db9046b4fc3ff30cdfdc33dbe9d7bf44d",
        "trusted": true,
        "collapsed": true
      },
      "cell_type": "code",
      "source": "poly_features = app_train[['EXT_SOURCE_1', 'EXT_SOURCE_2', 'EXT_SOURCE_3', 'TARGET', 'DAYS_BIRTH']]\npoly_features_test = app_test[['EXT_SOURCE_1', 'EXT_SOURCE_2', 'EXT_SOURCE_3', 'DAYS_BIRTH']]\n\nfrom sklearn.preprocessing import Imputer\n\nsimple_imputer = Imputer(strategy='median')\n\npoly_target = poly_features['TARGET']\npoly_features = poly_features.drop(columns='TARGET')\n\npoly_features = simple_imputer.fit_transform(poly_features)\npoly_features_test = simple_imputer.fit_transform(poly_features_test)\n\nfrom sklearn.preprocessing import PolynomialFeatures\npoly_transformer = PolynomialFeatures(degree=3)",
      "execution_count": null,
      "outputs": []
    },
    {
      "metadata": {
        "_uuid": "4cfa0b6ac1a42158b1753d219490b7a01c026826",
        "trusted": true,
        "collapsed": true
      },
      "cell_type": "code",
      "source": "poly_transformer.fit(poly_features)\n\npoly_features = poly_transformer.transform(poly_features)\npoly_features_test = poly_transformer.transform(poly_features_test)\n\nprint ('Polynomial features shape %s'%(str(poly_features.shape)))",
      "execution_count": null,
      "outputs": []
    },
    {
      "metadata": {
        "_uuid": "26f6bcdc9147f4ac76d188b5aca019cde660d772",
        "trusted": true,
        "collapsed": true
      },
      "cell_type": "code",
      "source": "poly_transformer.get_feature_names(input_features=['EXT_SOURCE_1', 'EXT_SOURCE_2', 'EXT_SOURCE_3', 'DAYS_BIRTH'])[:15]",
      "execution_count": null,
      "outputs": []
    },
    {
      "metadata": {
        "_uuid": "215e6eb779f3324f0b3b12d683cc920e0d3071e1",
        "trusted": true,
        "collapsed": true
      },
      "cell_type": "code",
      "source": "poly_features = pd.DataFrame(poly_features, columns = poly_transformer.get_feature_names(['EXT_SOURCE_1', 'EXT_SOURCE_2', 'EXT_SOURCE_3', 'DAYS_BIRTH']))\npoly_features['TARGET'] = poly_target\npoly_corrs = poly_features.corr()['TARGET'].sort_values()\n\nprint(poly_corrs.head(10))\nprint(\"tail\")\nprint(poly_corrs.tail(5))",
      "execution_count": null,
      "outputs": []
    },
    {
      "metadata": {
        "_uuid": "2ea6705786b1cf4982cadc28efdcd9046ed944c2",
        "trusted": true,
        "collapsed": true
      },
      "cell_type": "code",
      "source": "poly_features_test = pd.DataFrame(poly_features_test, columns = poly_transformer.get_feature_names(['EXT_SOURCE_1', 'EXT_SOURCE_2', 'EXT_SOURCE_3', 'DAYS_BIRTH']))\npoly_features['SK_ID_CURR'] = app_train['SK_ID_CURR']\napp_train_poly = app_train.merge(poly_features, on='SK_ID_CURR', how='left')\n\npoly_features_test['SK_ID_CURR'] = app_test['SK_ID_CURR']\napp_test_poly = app_test.merge(poly_features_test, on='SK_ID_CURR', how='left')\n\napp_train_poly, app_test_poly = app_train_poly.align(app_test_poly, join='inner', axis=1)\n\nprint('Training data with polynomials %s and testing shape with polynomials is %s'%(str(app_train_poly.shape), str(app_test_poly.shape)))",
      "execution_count": null,
      "outputs": []
    },
    {
      "metadata": {
        "_uuid": "5a5f52c6d8ef36e1b75e64959191498f28e7adf9",
        "trusted": true,
        "collapsed": true
      },
      "cell_type": "code",
      "source": "app_train_domain = app_train.copy()\napp_test_domain = app_test.copy()\n\napp_train_domain['CREDIT_INCOME_PERCENT'] = app_train_domain['AMT_CREDIT'] / app_train_domain.AMT_INCOME_TOTAL\napp_train_domain['ANNUITY_INCOME_PERCENT'] = app_train_domain.AMT_ANNUITY / app_train_domain.AMT_INCOME_TOTAL\napp_train_domain['CREDIT_TERM'] = app_train_domain.AMT_ANNUITY / app_train_domain.AMT_CREDIT\napp_train_domain['DAYS_EMPLOYED_PERCENT'] = app_train_domain.DAYS_EMPLOYED / app_train_domain.DAYS_BIRTH",
      "execution_count": null,
      "outputs": []
    },
    {
      "metadata": {
        "_uuid": "9f94b0aadd8b21dc37cc01cf1435f3b65f2d70fe",
        "trusted": true,
        "collapsed": true
      },
      "cell_type": "code",
      "source": "app_test_domain['CREDIT_INCOME_PERCENT'] = app_test_domain['AMT_CREDIT'] / app_test_domain.AMT_INCOME_TOTAL\napp_test_domain['ANNUITY_INCOME_PERCENT'] = app_test_domain.AMT_ANNUITY / app_test_domain.AMT_INCOME_TOTAL\napp_test_domain['CREDIT_TERM'] = app_test_domain.AMT_ANNUITY / app_test_domain.AMT_CREDIT\napp_test_domain['DAYS_EMPLOYED_PERCENT'] = app_test_domain.DAYS_EMPLOYED / app_test_domain.DAYS_BIRTH",
      "execution_count": null,
      "outputs": []
    },
    {
      "metadata": {
        "_uuid": "af6c808205d538ec4a12e7f09455e233be1411ca",
        "trusted": true,
        "collapsed": true
      },
      "cell_type": "code",
      "source": "plt.figure(figsize=(12,20))\n\nfor i, source in enumerate(['CREDIT_INCOME_PERCENT', 'ANNUITY_INCOME_PERCENT', 'CREDIT_TERM', 'DAYS_EMPLOYED_PERCENT'  ]):\n    \n    plt.subplot(4, 1, i + 1)\n    sns.kdeplot(app_train_domain.loc[app_train_domain['TARGET'] ==0, source], label=\"target=0\")\n    sns.kdeplot(app_train_domain.loc[app_train_domain['TARGET'] ==1, source], label=\"target=1\")\n    \n    plt.title('Distribution of %s by Target Value'%(source))",
      "execution_count": null,
      "outputs": []
    },
    {
      "metadata": {
        "_uuid": "b1aab488ace3fd1b162622a5848dee0e1c6b91b8",
        "trusted": true,
        "collapsed": true
      },
      "cell_type": "code",
      "source": "from sklearn.preprocessing import MinMaxScaler\n\nimputer = Imputer(strategy='median')\nscaler = MinMaxScaler()\n\nif 'TARGET' in app_train:\n    train = app_train.drop(columns='TARGET')\nelse:\n    train = app_train.copy()\n\nfeatures = list(train.columns)\n\ntest = app_test.copy()\n\nimputer.fit(train)\n\ntrain = imputer.transform(train)\ntest =  imputer.transform(test)\n\nscaler.fit(train)\ntrain = scaler.transform(train)\ntest = scaler.transform(test)\n\nprint ('shape of training is %s and shape of testing is %s'%(str(train.shape), str(test.shape)))",
      "execution_count": null,
      "outputs": []
    },
    {
      "metadata": {
        "_uuid": "c4a5d6105320ba334d52f0261eccb3f3d8fb9d25",
        "trusted": true,
        "collapsed": true
      },
      "cell_type": "code",
      "source": "from sklearn.linear_model import LogisticRegression\n\nlog_reg = LogisticRegression(C=0.0001)\nlog_reg.fit(train, train_labels)",
      "execution_count": null,
      "outputs": []
    },
    {
      "metadata": {
        "_uuid": "d42b95454a015b2db79198384b3e66f4b03d0aab",
        "trusted": true,
        "collapsed": true
      },
      "cell_type": "code",
      "source": "log_reg_pred = log_reg.predict_proba(test)[:,1]",
      "execution_count": null,
      "outputs": []
    },
    {
      "metadata": {
        "_uuid": "5c309ba0173fbd7ad518893d6b40bbdf326a014f",
        "trusted": true,
        "collapsed": true
      },
      "cell_type": "code",
      "source": "submit = app_test[['SK_ID_CURR']]\nsubmit['TARGET'] = log_reg_pred\n\nsubmit.to_csv('log_reg_baseline.csv', index=False)",
      "execution_count": null,
      "outputs": []
    },
    {
      "metadata": {
        "_uuid": "237b68d4c5752f2d9087a13f7245c9dea48288bb",
        "trusted": true,
        "collapsed": true
      },
      "cell_type": "code",
      "source": "from sklearn.ensemble import RandomForestClassifier\n\nrandom_forest = RandomForestClassifier(n_estimators=100, random_state=50, verbose=1, n_jobs=-1)\n\nrandom_forest.fit(train, train_labels)\nfeature_importance_values = random_forest.feature_importances_\nfeature_importances = pd.DataFrame({'feature': features, 'importance': feature_importance_values})\n\npredictions = random_forest.predict_proba(test)[:,1]\n\nsubmit = app_test[['SK_ID_CURR']]\nsubmit['TARGET'] = predictions\n\nsubmit.to_csv('random_forest_baseline.csv', index=False)",
      "execution_count": null,
      "outputs": []
    },
    {
      "metadata": {
        "_uuid": "d342cdb24d8a23d2b69e7079d67282a3a9da2d3a",
        "trusted": true,
        "collapsed": true
      },
      "cell_type": "code",
      "source": "\npoly_features_names = list(app_train_poly.columns)\n\nfrom sklearn.impute import SimpleImputer\n\nimputer = SimpleImputer(strategy='median')\n\nprint('Starting imputer fit...')\npoly_features = imputer.fit_transform(app_train_poly)\npoly_features_test = imputer.transform(app_test_poly)",
      "execution_count": null,
      "outputs": []
    },
    {
      "metadata": {
        "trusted": true,
        "collapsed": true,
        "_uuid": "ff9b163151ab76040ba02d9d9e2250845b758c5c"
      },
      "cell_type": "code",
      "source": "scaler = MinMaxScaler(feature_range=(0,1))\npoly_features = scaler.fit_transform(poly_features)\npoly_features_test = scaler.transform(poly_features_test)",
      "execution_count": null,
      "outputs": []
    },
    {
      "metadata": {
        "trusted": true,
        "_uuid": "0762107b2e14275e631798806665dbd5314a084c",
        "collapsed": true
      },
      "cell_type": "code",
      "source": "random_forest_poly = RandomForestClassifier(n_estimators=100, n_jobs=-1, random_state=50, verbose=1)\n\nprint('Fitting random forest model ...')\nrandom_forest_poly.fit(poly_features, train_labels)\n\nprint('Predicting ..')\npredictions = random_forest_poly.predict_proba(poly_features_test)[:, 1]",
      "execution_count": null,
      "outputs": []
    },
    {
      "metadata": {
        "trusted": true,
        "_uuid": "59ff27087c400311b2597e10f15fab76762ff299",
        "collapsed": true
      },
      "cell_type": "code",
      "source": "",
      "execution_count": null,
      "outputs": []
    },
    {
      "metadata": {
        "trusted": true,
        "collapsed": true,
        "_uuid": "6548fdf0e4cb8236d7099f078ef23f1d129263b1"
      },
      "cell_type": "code",
      "source": "poly_features_names",
      "execution_count": null,
      "outputs": []
    },
    {
      "metadata": {
        "trusted": true,
        "collapsed": true,
        "_uuid": "11299053d8b15dbdd1efe7416d7480164d7a57b4"
      },
      "cell_type": "code",
      "source": "submit = app_test[['SK_ID_CURR']]\n\nsubmit['TARGET'] = predictions\n\nsubmit.to_csv('random_forest_baseline_engineered.csv', index=False)",
      "execution_count": null,
      "outputs": []
    },
    {
      "metadata": {
        "trusted": true,
        "collapsed": true,
        "_uuid": "a6f8feed84dfc957ba974c0133f8f2bbc03999ae"
      },
      "cell_type": "code",
      "source": "assert poly_features.shape[1] == len(poly_feature_names)",
      "execution_count": null,
      "outputs": []
    },
    {
      "metadata": {
        "_uuid": "424d4381ca69c78225e53e7b74f4a9ded0126a6b",
        "trusted": false,
        "collapsed": true
      },
      "cell_type": "code",
      "source": "poly_features_test.shape",
      "execution_count": null,
      "outputs": []
    },
    {
      "metadata": {
        "trusted": true,
        "_uuid": "34b45c8a78d75b6b5698c5f5927798d3d3b2a9ec",
        "collapsed": true
      },
      "cell_type": "code",
      "source": "app_train_domain = app_train_domain.drop(columns = 'TARGET')\nfrom sklearn.ensemble import RandomForestClassifier\ndomain_features_names = list(app_train_domain.columns)\n\n# Impute the domainnomial features\nimputer = Imputer(strategy = 'median')\nprint('fit and transform train')\ndomain_features = imputer.fit_transform(app_train_domain)\nprint('transform test')\ndomain_features_test = imputer.transform(app_test_domain)",
      "execution_count": null,
      "outputs": []
    },
    {
      "metadata": {
        "trusted": true,
        "_uuid": "1252677e81d503ca3ce8299b03fdd5dab06fb31e",
        "collapsed": true
      },
      "cell_type": "code",
      "source": "# Scale the domainnomial features\nscaler = MinMaxScaler(feature_range = (0, 1))\n\nprint('fit transform scaler')\ndomain_features = scaler.fit_transform(domain_features)\nprint('transform scaler test')\ndomain_features_test = scaler.transform(domain_features_test)",
      "execution_count": null,
      "outputs": []
    },
    {
      "metadata": {
        "trusted": true,
        "_uuid": "6dc77d1c88f288f9e9c56abde241797bda3613e5",
        "collapsed": true
      },
      "cell_type": "code",
      "source": "random_forest_domain = RandomForestClassifier(n_estimators = 100, random_state = 50, verbose = 1, n_jobs = -1)\n\nprint('fit random forest')\n# Train on the training data\nrandom_forest_domain.fit(domain_features, train_labels)\n\n# Extract feature importances\nfeature_importance_values_domain = random_forest_domain.feature_importances_\nfeature_importances_domain = pd.DataFrame({'feature': domain_features_names, 'importance': feature_importance_values_domain})",
      "execution_count": null,
      "outputs": []
    },
    {
      "metadata": {
        "trusted": true,
        "_uuid": "3571755734522229d3de805a1a114da149e7146c",
        "collapsed": true
      },
      "cell_type": "code",
      "source": "# Make predictions on the test data\nprint('predict random forest')\npredictions = random_forest_domain.predict_proba(domain_features_test)[:, 1]",
      "execution_count": null,
      "outputs": []
    },
    {
      "metadata": {
        "trusted": true,
        "collapsed": true,
        "_uuid": "1d6ee99331dd6c42c2c5005f64ed8082430cf224"
      },
      "cell_type": "code",
      "source": "submit = app_test[['SK_ID_CURR']]\nsubmit['TARGET'] = predictions\nsubmit.to_csv('random_forest_baseline_domain.csv', index=False)",
      "execution_count": null,
      "outputs": []
    },
    {
      "metadata": {
        "trusted": true,
        "collapsed": true,
        "_uuid": "fdb72868ded36b740e0c7f05e9a9954f96efe22d"
      },
      "cell_type": "code",
      "source": "",
      "execution_count": null,
      "outputs": []
    }
  ],
  "metadata": {
    "kernelspec": {
      "display_name": "Python 3",
      "language": "python",
      "name": "python3"
    },
    "language_info": {
      "name": "python",
      "version": "3.6.6",
      "mimetype": "text/x-python",
      "codemirror_mode": {
        "name": "ipython",
        "version": 3
      },
      "pygments_lexer": "ipython3",
      "nbconvert_exporter": "python",
      "file_extension": ".py"
    }
  },
  "nbformat": 4,
  "nbformat_minor": 1
}
