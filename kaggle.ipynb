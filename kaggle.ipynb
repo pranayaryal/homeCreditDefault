{
 "cells": [
  {
   "cell_type": "code",
   "execution_count": 11,
   "metadata": {},
   "outputs": [],
   "source": [
    "%matplotlib inline\n",
    "import quandl\n",
    "import pandas\n",
    "import matplotlib.pyplot as plt"
   ]
  }}
