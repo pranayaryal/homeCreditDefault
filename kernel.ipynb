{
 "cells": [
  {
   "cell_type": "code",
   "execution_count": 1,
   "metadata": {
    "_cell_guid": "b1076dfc-b9ad-4769-8c92-a6c4dae69d19",
    "_kg_hide-output": false,
    "_uuid": "8f2839f25d086af736a60e9eeb907d3b93b6e0e5"
   },
   "outputs": [],
   "source": [
    "# This Python 3 environment comes with many helpful analytics libraries installed\n",
    "# It is defined by the kaggle/python docker image: https://github.com/kaggle/docker-python\n",
    "# For example, here's several helpful packages to load in \n",
    "\n",
    "import numpy as np # linear algebra\n",
    "import pandas as pd # data processing, CSV file I/O (e.g. pd.read_csv)\n",
    "\n",
    "# Input data files are available in the \"../input/\" directory.\n",
    "# For example, running this (by clicking run or pressing Shift+Enter) will list the files in the input directory\n",
    "\n",
    "import os\n",
    "import sklearn\n",
    "\n",
    "from sklearn.preprocessing import LabelEncoder\n",
    "\n",
    "import matplotlib.pyplot as plt\n",
    "import seaborn as sns\n",
    "\n",
    "# Any results you write to the current directory are saved as output."
   ]
  },
  {
   "cell_type": "code",
   "execution_count": 2,
   "metadata": {
    "_cell_guid": "79c7e3d0-c299-4dcb-8224-4455121ee9b0",
    "_uuid": "d629ff2d2480ee46fbb7e2d37f6b5fab8052498a"
   },
   "outputs": [],
   "source": [
    "train = pd.read_csv('application_train.csv')\n",
    "test = pd.read_csv('application_test.csv')"
   ]
  },
  {
   "cell_type": "code",
   "execution_count": null,
   "metadata": {
    "_uuid": "8d02f172f74894f635bb8b47f0a65b90202b6130",
    "collapsed": true
   },
   "outputs": [],
   "source": [
    "test.shape"
   ]
  },
  {
   "cell_type": "code",
   "execution_count": null,
   "metadata": {
    "_uuid": "8f99d974f4dbf555a5a886f191607e9e9144f4a3",
    "collapsed": true
   },
   "outputs": [],
   "source": [
    "def missing_values_table(df):\n",
    "    total_missing = df.isnull().sum()\n",
    "    perc_missing = df.isnull().sum() * 100/ len(df)\n",
    "    missing_total_perc = pd.concat([total_missing, perc_missing], axis=1)\n",
    "    missing_total_perc.columns = ['total', 'percentage']\n",
    "    missing_total_perc = missing_total_perc.sort_values('percentage', ascending=False).round(1)\n",
    "    return missing_total_perc"
   ]
  },
  {
   "cell_type": "code",
   "execution_count": null,
   "metadata": {
    "_uuid": "c0b5ee2bd04b0de444899a60520b2ebf6b021942",
    "collapsed": true
   },
   "outputs": [],
   "source": [
    "#no of unique values in object columns\n",
    "train.select_dtypes('object').apply(pd.Series.nunique, axis=0)"
   ]
  },
  {
   "cell_type": "code",
   "execution_count": null,
   "metadata": {
    "_uuid": "17e7360342da381a109beca18dd3871388bdf186",
    "collapsed": true
   },
   "outputs": [],
   "source": [
    "le = LabelEncoder()\n",
    "\n",
    "le_count = 0\n",
    "\n",
    "for col in train:\n",
    "    if train[col].dtype == 'object':\n",
    "        if len(list(train[col].unique())) < 3:\n",
    "            le.fit(train[col])\n",
    "            print(col)\n",
    "            train[col] = le.transform(train[col])\n",
    "            test[col] = le.transform(test[col])"
   ]
  },
  {
   "cell_type": "code",
   "execution_count": null,
   "metadata": {
    "_uuid": "e967bb50b145205f440844fe2b535f212b6ed4df",
    "collapsed": true
   },
   "outputs": [],
   "source": [
    "train_dummied = pd.get_dummies(train)\n",
    "test_dummied = pd.get_dummies(test)"
   ]
  },
  {
   "cell_type": "code",
   "execution_count": null,
   "metadata": {
    "_uuid": "293a35a496405d11b4a86a6abb0fd360599998d5",
    "collapsed": true
   },
   "outputs": [],
   "source": [
    "train_labels = train.TARGET"
   ]
  },
  {
   "cell_type": "code",
   "execution_count": null,
   "metadata": {
    "_uuid": "d0fb1180531859321be47bbca0256da9008604fd",
    "collapsed": true
   },
   "outputs": [],
   "source": [
    "app_train, app_test = train_dummied.align(test_dummied, join='inner', axis=1)"
   ]
  },
  {
   "cell_type": "code",
   "execution_count": null,
   "metadata": {
    "_uuid": "6ad58cb5a582694ffd3bb7cc06592e8fb429014e",
    "collapsed": true
   },
   "outputs": [],
   "source": [
    "app_train.DAYS_EMPLOYED.plot.hist()"
   ]
  },
  {
   "cell_type": "code",
   "execution_count": null,
   "metadata": {
    "_uuid": "4e7e50c841130735ff439c28168f21a5ed9c2f58",
    "collapsed": true
   },
   "outputs": [],
   "source": [
    "app_train['DAYS_EMPLOYED_ANOMALOUS'] = app_train['DAYS_EMPLOYED'] >= 300000\n",
    "app_train['DAYS_EMPLOYED'].replace({365243: np.nan}, inplace=True)\n",
    "\n",
    "app_test['DAYS_EMPLOYED_ANOMALOUS'] = app_test['DAYS_EMPLOYED'] >= 300000\n",
    "app_test['DAYS_EMPLOYED'].replace({365243: np.nan}, inplace=True)"
   ]
  },
  {
   "cell_type": "code",
   "execution_count": null,
   "metadata": {
    "_uuid": "06bb8d79b07568672c8767d8c767d30d0485eb02",
    "collapsed": true
   },
   "outputs": [],
   "source": [
    "app_train.DAYS_EMPLOYED.plot.hist()"
   ]
  },
  {
   "cell_type": "code",
   "execution_count": null,
   "metadata": {
    "_uuid": "dfa6723ebb18e049b9805dfb7dbbaa056ccc24ab",
    "collapsed": true
   },
   "outputs": [],
   "source": [
    "app_test.DAYS_EMPLOYED.plot.hist()"
   ]
  },
  {
   "cell_type": "code",
   "execution_count": null,
   "metadata": {
    "_uuid": "0ff2a36f25367d9e9cf7d0eb3f354594bc54deca",
    "collapsed": true
   },
   "outputs": [],
   "source": [
    "plt.style.use('fivethirtyeight')\n",
    "\n",
    "plt.hist(app_train.DAYS_BIRTH /-365, edgecolor = 'k', bins=25)\n",
    "plt.title('Age of Client'); plt.xlabel('Age(years)'); plt.ylabel('Count')"
   ]
  },
  {
   "cell_type": "code",
   "execution_count": null,
   "metadata": {
    "_uuid": "941de63bb29ac024743cd46eb07b3587d03baf57",
    "collapsed": true
   },
   "outputs": [],
   "source": [
    "app_train['TARGET'] = train.TARGET\n",
    "plt.figure(figsize=(10, 8))\n",
    "\n",
    "sns.kdeplot(app_train.loc[app_train.TARGET == 0, 'DAYS_BIRTH']/-365, label='Target = 0')\n",
    "sns.kdeplot(app_train.loc[app_train.TARGET == 1, 'DAYS_BIRTH']/-365, label='Target = 1')"
   ]
  },
  {
   "cell_type": "code",
   "execution_count": null,
   "metadata": {
    "_uuid": "eb41f9ecffebd6df5a1f9d27340fcc2a75e2f4ee",
    "collapsed": true
   },
   "outputs": [],
   "source": [
    "\n",
    "pd.options.mode.chained_assignment = None  # default='warn'\n",
    "age_data = train[['TARGET', 'DAYS_BIRTH']]\n",
    "#age_data['YEARS_BIRTH'] = 0\n",
    "age_data['YEARS_BIRTH'] = age_data['DAYS_BIRTH'] / -365"
   ]
  },
  {
   "cell_type": "code",
   "execution_count": null,
   "metadata": {
    "_uuid": "9d8a08cab06c84c90308f6b5f6ff7ee27ce68392",
    "collapsed": true
   },
   "outputs": [],
   "source": [
    "age_data['YEARS_BINNED'] = pd.cut(age_data['YEARS_BIRTH'], bins=np.linspace(20, 70, num=11))"
   ]
  },
  {
   "cell_type": "code",
   "execution_count": null,
   "metadata": {
    "_uuid": "957d147245eef30edc7188cad3c978c3b5c39634",
    "collapsed": true
   },
   "outputs": [],
   "source": [
    "age_groups = age_data.groupby('YEARS_BINNED').mean()\n",
    "age_groups"
   ]
  },
  {
   "cell_type": "code",
   "execution_count": null,
   "metadata": {
    "_uuid": "d4a29623e5a01867a2bfdf389aa6d008194de2aa",
    "collapsed": true
   },
   "outputs": [],
   "source": [
    "plt.figure(figsize=(8, 8))\n",
    "\n",
    "plt.bar(age_groups.index.astype(str), 100 *age_groups.TARGET)"
   ]
  },
  {
   "cell_type": "code",
   "execution_count": null,
   "metadata": {
    "_uuid": "ced8c29db1a3a6cf4669edfc8b789d73d14d958c",
    "collapsed": true
   },
   "outputs": [],
   "source": [
    "ext_data = app_train[['TARGET', 'EXT_SOURCE_1', 'EXT_SOURCE_2', 'EXT_SOURCE_3', 'DAYS_BIRTH']]"
   ]
  },
  {
   "cell_type": "code",
   "execution_count": null,
   "metadata": {
    "_uuid": "5d086cad34ec4fcb250a6d687e4799fd2642e06c",
    "collapsed": true
   },
   "outputs": [],
   "source": [
    "ext_data_corrs = ext_data.corr()\n",
    "ext_data_corrs"
   ]
  },
  {
   "cell_type": "code",
   "execution_count": null,
   "metadata": {
    "_uuid": "dd9f17d85bde53dca941fe0f78ab0619c03b2469",
    "collapsed": true
   },
   "outputs": [],
   "source": [
    "plt.figure(figsize=(10,12))\n",
    "\n",
    "for i, source in enumerate(['EXT_SOURCE_1', 'EXT_SOURCE_2', 'EXT_SOURCE_3']):\n",
    "    \n",
    "    plt.subplot(3, 1, i + 1)\n",
    "    sns.kdeplot(app_train.loc[app_train['TARGET'] ==0, source], label=\"target=0\")\n",
    "    sns.kdeplot(app_train.loc[app_train['TARGET'] ==1, source], label=\"target=1\")\n",
    "    \n",
    "    plt.title('Distribution of %s by Target Value'%(source))"
   ]
  },
  {
   "cell_type": "code",
   "execution_count": null,
   "metadata": {
    "_uuid": "4b251e6db9046b4fc3ff30cdfdc33dbe9d7bf44d",
    "collapsed": true
   },
   "outputs": [],
   "source": [
    "poly_features = app_train[['EXT_SOURCE_1', 'EXT_SOURCE_2', 'EXT_SOURCE_3', 'TARGET', 'DAYS_BIRTH']]\n",
    "poly_features_test = app_test[['EXT_SOURCE_1', 'EXT_SOURCE_2', 'EXT_SOURCE_3', 'DAYS_BIRTH']]\n",
    "\n",
    "from sklearn.preprocessing import Imputer\n",
    "\n",
    "simple_imputer = Imputer(strategy='median')\n",
    "\n",
    "poly_target = poly_features['TARGET']\n",
    "poly_features = poly_features.drop(columns='TARGET')\n",
    "\n",
    "poly_features = simple_imputer.fit_transform(poly_features)\n",
    "poly_features_test = simple_imputer.fit_transform(poly_features_test)\n",
    "\n",
    "from sklearn.preprocessing import PolynomialFeatures\n",
    "poly_transformer = PolynomialFeatures(degree=3)"
   ]
  },
  {
   "cell_type": "code",
   "execution_count": null,
   "metadata": {
    "_uuid": "4cfa0b6ac1a42158b1753d219490b7a01c026826",
    "collapsed": true
   },
   "outputs": [],
   "source": [
    "poly_transformer.fit(poly_features)\n",
    "\n",
    "poly_features = poly_transformer.transform(poly_features)\n",
    "poly_features_test = poly_transformer.transform(poly_features_test)\n",
    "\n",
    "print ('Polynomial features shape %s'%(str(poly_features.shape)))"
   ]
  },
  {
   "cell_type": "code",
   "execution_count": null,
   "metadata": {
    "_uuid": "26f6bcdc9147f4ac76d188b5aca019cde660d772",
    "collapsed": true
   },
   "outputs": [],
   "source": [
    "poly_transformer.get_feature_names(input_features=['EXT_SOURCE_1', 'EXT_SOURCE_2', 'EXT_SOURCE_3', 'DAYS_BIRTH'])[:15]"
   ]
  },
  {
   "cell_type": "code",
   "execution_count": null,
   "metadata": {
    "_uuid": "215e6eb779f3324f0b3b12d683cc920e0d3071e1",
    "collapsed": true
   },
   "outputs": [],
   "source": [
    "poly_features = pd.DataFrame(poly_features, columns = poly_transformer.get_feature_names(['EXT_SOURCE_1', 'EXT_SOURCE_2', 'EXT_SOURCE_3', 'DAYS_BIRTH']))\n",
    "poly_features['TARGET'] = poly_target\n",
    "poly_corrs = poly_features.corr()['TARGET'].sort_values()\n",
    "\n",
    "print(poly_corrs.head(10))\n",
    "print(\"tail\")\n",
    "print(poly_corrs.tail(5))"
   ]
  },
  {
   "cell_type": "code",
   "execution_count": null,
   "metadata": {
    "_uuid": "2ea6705786b1cf4982cadc28efdcd9046ed944c2",
    "collapsed": true
   },
   "outputs": [],
   "source": [
    "poly_features_test = pd.DataFrame(poly_features_test, columns = poly_transformer.get_feature_names(['EXT_SOURCE_1', 'EXT_SOURCE_2', 'EXT_SOURCE_3', 'DAYS_BIRTH']))\n",
    "poly_features['SK_ID_CURR'] = app_train['SK_ID_CURR']\n",
    "app_train_poly = app_train.merge(poly_features, on='SK_ID_CURR', how='left')\n",
    "\n",
    "poly_features_test['SK_ID_CURR'] = app_test['SK_ID_CURR']\n",
    "app_test_poly = app_test.merge(poly_features_test, on='SK_ID_CURR', how='left')\n",
    "\n",
    "app_train_poly, app_test_poly = app_train_poly.align(app_test_poly, join='inner', axis=1)\n",
    "\n",
    "print('Training data with polynomials %s and testing shape with polynomials is %s'%(str(app_train_poly.shape), str(app_test_poly.shape)))"
   ]
  },
  {
   "cell_type": "code",
   "execution_count": null,
   "metadata": {
    "_uuid": "5a5f52c6d8ef36e1b75e64959191498f28e7adf9",
    "collapsed": true
   },
   "outputs": [],
   "source": [
    "app_train_domain = app_train.copy()\n",
    "app_test_domain = app_test.copy()\n",
    "\n",
    "app_train_domain['CREDIT_INCOME_PERCENT'] = app_train_domain['AMT_CREDIT'] / app_train_domain.AMT_INCOME_TOTAL\n",
    "app_train_domain['ANNUITY_INCOME_PERCENT'] = app_train_domain.AMT_ANNUITY / app_train_domain.AMT_INCOME_TOTAL\n",
    "app_train_domain['CREDIT_TERM'] = app_train_domain.AMT_ANNUITY / app_train_domain.AMT_CREDIT\n",
    "app_train_domain['DAYS_EMPLOYED_PERCENT'] = app_train_domain.DAYS_EMPLOYED / app_train_domain.DAYS_BIRTH"
   ]
  },
  {
   "cell_type": "code",
   "execution_count": null,
   "metadata": {
    "_uuid": "9f94b0aadd8b21dc37cc01cf1435f3b65f2d70fe",
    "collapsed": true
   },
   "outputs": [],
   "source": [
    "app_test_domain['CREDIT_INCOME_PERCENT'] = app_test_domain['AMT_CREDIT'] / app_test_domain.AMT_INCOME_TOTAL\n",
    "app_test_domain['ANNUITY_INCOME_PERCENT'] = app_test_domain.AMT_ANNUITY / app_test_domain.AMT_INCOME_TOTAL\n",
    "app_test_domain['CREDIT_TERM'] = app_test_domain.AMT_ANNUITY / app_test_domain.AMT_CREDIT\n",
    "app_test_domain['DAYS_EMPLOYED_PERCENT'] = app_test_domain.DAYS_EMPLOYED / app_test_domain.DAYS_BIRTH"
   ]
  },
  {
   "cell_type": "code",
   "execution_count": null,
   "metadata": {
    "_uuid": "af6c808205d538ec4a12e7f09455e233be1411ca",
    "collapsed": true
   },
   "outputs": [],
   "source": [
    "plt.figure(figsize=(12,20))\n",
    "\n",
    "for i, source in enumerate(['CREDIT_INCOME_PERCENT', 'ANNUITY_INCOME_PERCENT', 'CREDIT_TERM', 'DAYS_EMPLOYED_PERCENT'  ]):\n",
    "    \n",
    "    plt.subplot(4, 1, i + 1)\n",
    "    sns.kdeplot(app_train_domain.loc[app_train_domain['TARGET'] ==0, source], label=\"target=0\")\n",
    "    sns.kdeplot(app_train_domain.loc[app_train_domain['TARGET'] ==1, source], label=\"target=1\")\n",
    "    \n",
    "    plt.title('Distribution of %s by Target Value'%(source))"
   ]
  },
  {
   "cell_type": "code",
   "execution_count": null,
   "metadata": {
    "_uuid": "b1aab488ace3fd1b162622a5848dee0e1c6b91b8",
    "collapsed": true
   },
   "outputs": [],
   "source": [
    "from sklearn.preprocessing import MinMaxScaler\n",
    "\n",
    "imputer = Imputer(strategy='median')\n",
    "scaler = MinMaxScaler()\n",
    "\n",
    "if 'TARGET' in app_train:\n",
    "    train = app_train.drop(columns='TARGET')\n",
    "else:\n",
    "    train = app_train.copy()\n",
    "\n",
    "features = list(train.columns)\n",
    "\n",
    "test = app_test.copy()\n",
    "\n",
    "imputer.fit(train)\n",
    "\n",
    "train = imputer.transform(train)\n",
    "test =  imputer.transform(test)\n",
    "\n",
    "scaler.fit(train)\n",
    "train = scaler.transform(train)\n",
    "test = scaler.transform(test)\n",
    "\n",
    "print ('shape of training is %s and shape of testing is %s'%(str(train.shape), str(test.shape)))"
   ]
  },
  {
   "cell_type": "code",
   "execution_count": null,
   "metadata": {
    "_uuid": "c4a5d6105320ba334d52f0261eccb3f3d8fb9d25",
    "collapsed": true
   },
   "outputs": [],
   "source": [
    "from sklearn.linear_model import LogisticRegression\n",
    "\n",
    "log_reg = LogisticRegression(C=0.0001)\n",
    "log_reg.fit(train, train_labels)"
   ]
  },
  {
   "cell_type": "code",
   "execution_count": null,
   "metadata": {
    "_uuid": "d42b95454a015b2db79198384b3e66f4b03d0aab",
    "collapsed": true
   },
   "outputs": [],
   "source": [
    "log_reg_pred = log_reg.predict_proba(test)[:,1]"
   ]
  },
  {
   "cell_type": "code",
   "execution_count": null,
   "metadata": {
    "_uuid": "5c309ba0173fbd7ad518893d6b40bbdf326a014f",
    "collapsed": true
   },
   "outputs": [],
   "source": [
    "submit = app_test[['SK_ID_CURR']]\n",
    "submit['TARGET'] = log_reg_pred\n",
    "\n",
    "submit.to_csv('log_reg_baseline.csv', index=False)"
   ]
  },
  {
   "cell_type": "code",
   "execution_count": null,
   "metadata": {
    "_uuid": "237b68d4c5752f2d9087a13f7245c9dea48288bb",
    "collapsed": true
   },
   "outputs": [],
   "source": [
    "from sklearn.ensemble import RandomForestClassifier\n",
    "\n",
    "random_forest = RandomForestClassifier(n_estimators=100, random_state=50, verbose=1, n_jobs=-1)\n",
    "\n",
    "random_forest.fit(train, train_labels)\n",
    "feature_importance_values = random_forest.feature_importances_\n",
    "feature_importances = pd.DataFrame({'feature': features, 'importance': feature_importance_values})\n",
    "\n",
    "predictions = random_forest.predict_proba(test)[:,1]\n",
    "\n",
    "submit = app_test[['SK_ID_CURR']]\n",
    "submit['TARGET'] = predictions\n",
    "\n",
    "submit.to_csv('random_forest_baseline.csv', index=False)"
   ]
  },
  {
   "cell_type": "code",
   "execution_count": null,
   "metadata": {
    "_uuid": "d342cdb24d8a23d2b69e7079d67282a3a9da2d3a",
    "collapsed": true
   },
   "outputs": [],
   "source": [
    "\n",
    "poly_features_names = list(app_train_poly.columns)\n",
    "\n",
    "from sklearn.impute import SimpleImputer\n",
    "\n",
    "imputer = SimpleImputer(strategy='median')\n",
    "\n",
    "print('Starting imputer fit...')\n",
    "poly_features = imputer.fit_transform(app_train_poly)\n",
    "poly_features_test = imputer.transform(app_test_poly)"
   ]
  },
  {
   "cell_type": "code",
   "execution_count": null,
   "metadata": {
    "_uuid": "ff9b163151ab76040ba02d9d9e2250845b758c5c",
    "collapsed": true
   },
   "outputs": [],
   "source": [
    "scaler = MinMaxScaler(feature_range=(0,1))\n",
    "poly_features = scaler.fit_transform(poly_features)\n",
    "poly_features_test = scaler.transform(poly_features_test)"
   ]
  },
  {
   "cell_type": "code",
   "execution_count": null,
   "metadata": {
    "_uuid": "0762107b2e14275e631798806665dbd5314a084c",
    "collapsed": true
   },
   "outputs": [],
   "source": [
    "random_forest_poly = RandomForestClassifier(n_estimators=100, n_jobs=-1, random_state=50, verbose=1)\n",
    "\n",
    "print('Fitting random forest model ...')\n",
    "random_forest_poly.fit(poly_features, train_labels)\n",
    "\n",
    "print('Predicting ..')\n",
    "predictions = random_forest_poly.predict_proba(poly_features_test)[:, 1]"
   ]
  },
  {
   "cell_type": "code",
   "execution_count": null,
   "metadata": {
    "_uuid": "59ff27087c400311b2597e10f15fab76762ff299",
    "collapsed": true
   },
   "outputs": [],
   "source": []
  },
  {
   "cell_type": "code",
   "execution_count": null,
   "metadata": {
    "_uuid": "6548fdf0e4cb8236d7099f078ef23f1d129263b1",
    "collapsed": true
   },
   "outputs": [],
   "source": [
    "poly_features_names"
   ]
  },
  {
   "cell_type": "code",
   "execution_count": null,
   "metadata": {
    "_uuid": "11299053d8b15dbdd1efe7416d7480164d7a57b4",
    "collapsed": true
   },
   "outputs": [],
   "source": [
    "submit = app_test[['SK_ID_CURR']]\n",
    "\n",
    "submit['TARGET'] = predictions\n",
    "\n",
    "submit.to_csv('random_forest_baseline_engineered.csv', index=False)"
   ]
  },
  {
   "cell_type": "code",
   "execution_count": null,
   "metadata": {
    "_uuid": "a6f8feed84dfc957ba974c0133f8f2bbc03999ae",
    "collapsed": true
   },
   "outputs": [],
   "source": [
    "assert poly_features.shape[1] == len(poly_feature_names)"
   ]
  },
  {
   "cell_type": "code",
   "execution_count": null,
   "metadata": {
    "_uuid": "424d4381ca69c78225e53e7b74f4a9ded0126a6b",
    "collapsed": true
   },
   "outputs": [],
   "source": [
    "poly_features_test.shape"
   ]
  },
  {
   "cell_type": "code",
   "execution_count": null,
   "metadata": {
    "_uuid": "34b45c8a78d75b6b5698c5f5927798d3d3b2a9ec",
    "collapsed": true
   },
   "outputs": [],
   "source": [
    "app_train_domain = app_train_domain.drop(columns = 'TARGET')\n",
    "from sklearn.ensemble import RandomForestClassifier\n",
    "domain_features_names = list(app_train_domain.columns)\n",
    "\n",
    "# Impute the domainnomial features\n",
    "imputer = Imputer(strategy = 'median')\n",
    "print('fit and transform train')\n",
    "domain_features = imputer.fit_transform(app_train_domain)\n",
    "print('transform test')\n",
    "domain_features_test = imputer.transform(app_test_domain)"
   ]
  },
  {
   "cell_type": "code",
   "execution_count": null,
   "metadata": {
    "_uuid": "1252677e81d503ca3ce8299b03fdd5dab06fb31e",
    "collapsed": true
   },
   "outputs": [],
   "source": [
    "# Scale the domainnomial features\n",
    "scaler = MinMaxScaler(feature_range = (0, 1))\n",
    "\n",
    "print('fit transform scaler')\n",
    "domain_features = scaler.fit_transform(domain_features)\n",
    "print('transform scaler test')\n",
    "domain_features_test = scaler.transform(domain_features_test)"
   ]
  },
  {
   "cell_type": "code",
   "execution_count": null,
   "metadata": {
    "_uuid": "6dc77d1c88f288f9e9c56abde241797bda3613e5",
    "collapsed": true
   },
   "outputs": [],
   "source": [
    "random_forest_domain = RandomForestClassifier(n_estimators = 100, random_state = 50, verbose = 1, n_jobs = -1)\n",
    "\n",
    "print('fit random forest')\n",
    "# Train on the training data\n",
    "random_forest_domain.fit(domain_features, train_labels)\n",
    "\n",
    "# Extract feature importances\n",
    "feature_importance_values_domain = random_forest_domain.feature_importances_\n",
    "feature_importances_domain = pd.DataFrame({'feature': domain_features_names, 'importance': feature_importance_values_domain})"
   ]
  },
  {
   "cell_type": "code",
   "execution_count": null,
   "metadata": {
    "_uuid": "3571755734522229d3de805a1a114da149e7146c",
    "collapsed": true
   },
   "outputs": [],
   "source": [
    "# Make predictions on the test data\n",
    "print('predict random forest')\n",
    "predictions = random_forest_domain.predict_proba(domain_features_test)[:, 1]"
   ]
  },
  {
   "cell_type": "code",
   "execution_count": null,
   "metadata": {
    "_uuid": "1d6ee99331dd6c42c2c5005f64ed8082430cf224",
    "collapsed": true
   },
   "outputs": [],
   "source": [
    "submit = app_test[['SK_ID_CURR']]\n",
    "submit['TARGET'] = predictions\n",
    "submit.to_csv('random_forest_baseline_domain.csv', index=False)"
   ]
  },
  {
   "cell_type": "code",
   "execution_count": null,
   "metadata": {
    "_uuid": "fdb72868ded36b740e0c7f05e9a9954f96efe22d",
    "collapsed": true
   },
   "outputs": [],
   "source": []
  }
 ],
 "metadata": {
  "kernelspec": {
   "display_name": "Python 3",
   "language": "python",
   "name": "python3"
  },
  "language_info": {
   "codemirror_mode": {
    "name": "ipython",
    "version": 3
   },
   "file_extension": ".py",
   "mimetype": "text/x-python",
   "name": "python",
   "nbconvert_exporter": "python",
   "pygments_lexer": "ipython3",
   "version": "3.6.5"
  }
 },
 "nbformat": 4,
 "nbformat_minor": 1
}
