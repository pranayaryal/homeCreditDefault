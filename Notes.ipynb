{
 "cells": [
  {
   "cell_type": "markdown",
   "metadata": {},
   "source": [
    "<h2>Notes</h2>\n",
    "<p><strong>Previous Applications</strong> table seems to have some columns common with <strong>train</strong> table</p>\n",
    "<p><strong>Annuity</strong> is the amount paid at regular intervals</p>\n",
    "<p><strong>Terms of Credit</strong> is the amount to be paid in each installment</p>\n",
    "<p>NAME_INCOME_TYPE is more in </p>\n",
    "<p>The nulls in test is similar to nulls in train</p>\n",
    "<p>There are no duplicate SK_ID_BUREAU in bureau.csv</p>"
   ]
  },
  {
   "cell_type": "markdown",
   "metadata": {},
   "source": [
    "## Correlations\n",
    "1. In <i>installments_payments</i> days_installment and days_entry_payment are correlated (0.99)\n",
    "2. amt_instalment and amt_payment are correlated (0.937)"
   ]
  },
  {
   "cell_type": "markdown",
   "metadata": {},
   "source": [
    "<h2>Things to be done</h2>\n",
    "1. Need to modify the columns name  so that they are more descriptive\n",
    "2. Ask questions about rare events modelling\n",
    "3. Ask questions in kaggle\n",
    "4. How to combine data from past with the current data frame\n",
    "\n",
    "5. Try other classifiers\n",
    "6. Remove null areas\n",
    "\n",
    "<strong>In the credit_card_application:</strong>\n",
    "7. CNT_DRAWINGS_ATM_CURRENT and CNT_DRAWINGS_CURRENT columns are correlated (1.0)\n",
    "8. AMT_DRAWINGS_ATM_CURRENT and AMT_DRAWINGS_CURRENT are correlated(1.0)\n",
    "9. SK_DPD adn SK_DPD_DEF are correlated by 1.0"
   ]
  },
  {
   "cell_type": "markdown",
   "metadata": {},
   "source": [
    "### Helpful coding things you learn along the way\n",
    "1. You can use grouby two columns like `dataframe.groupby(['columns_1', 'column_2']`\n",
    "2. To get the first value of group use `df[df.groupby('colname').cumcount() == 0 ]`"
   ]
  },
  {
   "cell_type": "markdown",
   "metadata": {},
   "source": [
    "### How is credit score calculated"
   ]
  },
  {
   "cell_type": "markdown",
   "metadata": {},
   "source": [
    "- But they do give the weights of various criteria that they look at: 35% payment history, 30% amount owed, 15% length of history, 10% new credit, 10% types of credit used.\n",
    "- It looks at how much you’re using of the total credit you have available – also known as your “utilization ratio.” \n",
    "- average age of accounts or how long has it been since those accounts have been used\n",
    "- mix of different types of credit\n",
    "- How recently and how often you missed a payment\n",
    "- Used credit vs available credit (maximum that can be used)\n",
    "- How many of each account - credit card, installment type"
   ]
  },
  {
   "cell_type": "markdown",
   "metadata": {},
   "source": []
  },
  {
   "cell_type": "code",
   "execution_count": null,
   "metadata": {},
   "outputs": [],
   "source": []
  }
 ],
 "metadata": {
  "kernelspec": {
   "display_name": "Python 3",
   "language": "python",
   "name": "python3"
  },
  "language_info": {
   "codemirror_mode": {
    "name": "ipython",
    "version": 3
   },
   "file_extension": ".py",
   "mimetype": "text/x-python",
   "name": "python",
   "nbconvert_exporter": "python",
   "pygments_lexer": "ipython3",
   "version": "3.6.5"
  }
 },
 "nbformat": 4,
 "nbformat_minor": 2
}
