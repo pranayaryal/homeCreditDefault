{
 "cells": [
  {
   "cell_type": "markdown",
   "metadata": {},
   "source": [
    "<h2>Notes</h2>\n",
    "<p><strong>Previous Applications</strong> table seems to have some columns common with <strong>train</strong> table</p>\n",
    "<p><strong>Annuity</strong> is the amount paid at regular intervals</p>\n",
    "<p><strong>Terms of Credit</strong> is the amount to be paid in each installment</p>\n",
    "<p>NAME_INCOME_TYPE is more in </p>\n",
    "<p>The nulls in test is similar to nulls in train</p>"
   ]
  },
  {
   "cell_type": "markdown",
   "metadata": {},
   "source": [
    "<h2>Things to be done</h2>\n",
    "1. Need to modify the columns name  so that they are more descriptive\n",
    "2. Ask questions about rare events modelling\n",
    "3. Ask questions in kaggle\n",
    "4. How to combine data from past with the current data frame\n",
    "\n",
    "5. Try other classifiers\n",
    "6. Remove null areas"
   ]
  },
  {
   "cell_type": "code",
   "execution_count": null,
   "metadata": {},
   "outputs": [],
   "source": []
  }
 ],
 "metadata": {
  "kernelspec": {
   "display_name": "tensorflow",
   "language": "python",
   "name": "tensorflow"
  },
  "language_info": {
   "codemirror_mode": {
    "name": "ipython",
    "version": 2
   },
   "file_extension": ".py",
   "mimetype": "text/x-python",
   "name": "python",
   "nbconvert_exporter": "python",
   "pygments_lexer": "ipython2",
   "version": "2.7.12"
  }
 },
 "nbformat": 4,
 "nbformat_minor": 2
}
