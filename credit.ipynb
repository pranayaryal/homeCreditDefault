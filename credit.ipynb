{
 "cells": [
  {
   "cell_type": "code",
   "execution_count": 1,
   "metadata": {},
   "outputs": [
    {
     "name": "stderr",
     "output_type": "stream",
     "text": [
      "/home/pranay/tensorflow/local/lib/python2.7/site-packages/h5py/__init__.py:36: FutureWarning: Conversion of the second argument of issubdtype from `float` to `np.floating` is deprecated. In future, it will be treated as `np.float64 == np.dtype(float).type`.\n",
      "  from ._conv import register_converters as _register_converters\n"
     ]
    }
   ],
   "source": [
    "import tensorflow as tf\n",
    "import pandas as pd\n",
    "import matplotlib.pyplot as plt\n",
    "from __future__ import division\n",
    "import missingno as msno\n",
    "import xgboost\n",
    "import numpy as np\n",
    "import xgboost\n",
    "from sklearn.model_selection import StratifiedKFold, GridSearchCV"
   ]
  },
  {
   "cell_type": "code",
   "execution_count": 2,
   "metadata": {},
   "outputs": [],
   "source": [
    "from imblearn.over_sampling import SMOTE,RandomOverSampler"
   ]
  },
  {
   "cell_type": "code",
   "execution_count": 3,
   "metadata": {},
   "outputs": [],
   "source": [
    "from utils import *"
   ]
  },
  {
   "cell_type": "code",
   "execution_count": 4,
   "metadata": {},
   "outputs": [],
   "source": [
    "pd.set_option('display.max_colwidth', -1)"
   ]
  },
  {
   "cell_type": "code",
   "execution_count": 129,
   "metadata": {},
   "outputs": [],
   "source": [
    "pd.set_option('display.max_columns', 50)\n",
    "pd.set_option('display.float_format', lambda x: '%.3f' % x)"
   ]
  },
  {
   "cell_type": "code",
   "execution_count": 62,
   "metadata": {},
   "outputs": [],
   "source": [
    "test = pd.read_csv('application_test.csv')"
   ]
  },
  {
   "cell_type": "code",
   "execution_count": 63,
   "metadata": {},
   "outputs": [
    {
     "name": "stdout",
     "output_type": "stream",
     "text": [
      "Reading train ...\n",
      "Shape of train is (307511, 122)\n",
      "The shape of bureau_balance is (27299925, 3)\n",
      "The shape of creditcard_balance is (3840312, 23)\n",
      "The shape of installments_payments is (13605401, 8)\n",
      "The shape of pos_cash_balance is (10001358, 8)\n",
      "The shape of previous_application is (1670214, 37)\n",
      "The shape of descriptions is (219, 5)\n",
      "The shape of bureau is (1716428, 17)\n",
      "Done!\n"
     ]
    }
   ],
   "source": [
    "print 'Reading train ...'\n",
    "train = pd.read_csv('application_train.csv')\n",
    "print 'Shape of train is %s'%(str(train.shape))\n",
    "bureau_balance = pd.read_csv('bureau_balance.csv')\n",
    "print 'The shape of bureau_balance is %s'%(str(bureau_balance.shape))\n",
    "credit_card_balance = pd.read_csv('credit_card_balance.csv')\n",
    "print 'The shape of creditcard_balance is %s'%(str(credit_card_balance.shape))\n",
    "installments_payments = pd.read_csv('installments_payments.csv')\n",
    "print 'The shape of installments_payments is %s'%(str(installments_payments.shape))\n",
    "pos_cash_balance = pd.read_csv('POS_CASH_balance.csv')\n",
    "print 'The shape of pos_cash_balance is %s'%(str(pos_cash_balance.shape))\n",
    "previous_application = pd.read_csv('previous_application.csv')\n",
    "print 'The shape of previous_application is %s'%(str(previous_application.shape))\n",
    "descriptions = pd.read_csv('HomeCredit_columns_description.csv')\n",
    "print 'The shape of descriptions is %s'%(str(descriptions.shape))\n",
    "bureau = pd.read_csv('bureau.csv')\n",
    "print 'The shape of bureau is %s'%(str(bureau.shape))\n",
    "print 'Done!'"
   ]
  },
  {
   "cell_type": "code",
   "execution_count": 140,
   "metadata": {},
   "outputs": [
    {
     "name": "stdout",
     "output_type": "stream",
     "text": [
      "AMT_ANNUITY ['Loan annuity' 'Annuity of the Credit Bureau credit'\n",
      " 'Annuity of previous application']\n",
      "AMT_APPLICATION ['For how much credit did client ask on the previous application']\n",
      "AMT_DOWN_PAYMENT ['Down payment on the previous application']\n",
      "FLAG_LAST_APPL_PER_CONTRACT ['Flag if it was last application for the previous contract. Sometimes by mistake of client or our clerk there could be more applications for one single contract']\n",
      "NFLAG_LAST_APPL_IN_DAY ['Flag if the application was the last application per day of the client. Sometimes clients apply for more applications a day. Rarely it could also be error in our system that one application is in the database twice']\n",
      "RATE_DOWN_PAYMENT ['Down payment rate normalized on previous credit']\n",
      "RATE_INTEREST_PRIMARY ['Interest rate normalized on previous credit']\n",
      "RATE_INTEREST_PRIVILEGED ['Interest rate normalized on previous credit']\n",
      "NAME_CASH_LOAN_PURPOSE ['Purpose of the cash loan']\n",
      "DAYS_DECISION ['Relative to current application when was the decision about previous application made']\n",
      "NAME_PAYMENT_TYPE ['Payment method that client chose to pay for the previous application']\n",
      "CODE_REJECT_REASON ['Why was the previous application rejected']\n",
      "NAME_CLIENT_TYPE ['Was the client old or new client when applying for the previous application']\n",
      "NAME_GOODS_CATEGORY ['What kind of goods did the client apply for in the previous application']\n",
      "NAME_PORTFOLIO ['Was the previous application for CASH, POS, CAR, \\x85']\n",
      "NAME_PRODUCT_TYPE ['Was the previous application x-sell o walk-in']\n",
      "CHANNEL_TYPE ['Through which channel we acquired the client on the previous application']\n",
      "SELLERPLACE_AREA ['Selling area of seller place of the previous application']\n",
      "NAME_SELLER_INDUSTRY ['The industry of the seller']\n",
      "CNT_PAYMENT ['Term of previous credit at application of the previous application']\n",
      "NAME_YIELD_GROUP ['Grouped interest rate into small medium and high of the previous application']\n",
      "PRODUCT_COMBINATION ['Detailed product combination of the previous application']\n",
      "DAYS_FIRST_DRAWING ['Relative to application date of current application when was the first disbursement of the previous application']\n",
      "DAYS_FIRST_DUE ['Relative to application date of current application when was the first due supposed to be of the previous application']\n",
      "DAYS_LAST_DUE_1ST_VERSION ['Relative to application date of current application when was the first due of the previous application']\n",
      "DAYS_LAST_DUE ['Relative to application date of current application when was the last due date of the previous application']\n",
      "DAYS_TERMINATION ['Relative to application date of current application when was the expected termination of the previous application']\n",
      "NFLAG_INSURED_ON_APPROVAL ['Did the client requested insurance during the previous application']\n",
      "HOUR_APPR_PROCESS_START_PREV []\n",
      "NAME_TYPE_SUITE_PREV []\n",
      "WEEKDAY_APPR_PROCESS_START_PREV []\n",
      "NAME_CONTRACT_TYPE_PREV []\n",
      "AMT_CREDIT_PREV []\n",
      "AMT_GOODS_PRICE_PREV []\n",
      "NAME_CONTRACT_STATUS_PREV []\n",
      "app_cred_diff []\n"
     ]
    }
   ],
   "source": [
    "my_utils = MyUtils(previous_application)\n",
    "my_utils.getColDesc()"
   ]
  },
  {
   "cell_type": "code",
   "execution_count": 139,
   "metadata": {},
   "outputs": [
    {
     "data": {
      "text/html": [
       "<div>\n",
       "<style scoped>\n",
       "    .dataframe tbody tr th:only-of-type {\n",
       "        vertical-align: middle;\n",
       "    }\n",
       "\n",
       "    .dataframe tbody tr th {\n",
       "        vertical-align: top;\n",
       "    }\n",
       "\n",
       "    .dataframe thead th {\n",
       "        text-align: right;\n",
       "    }\n",
       "</style>\n",
       "<table border=\"1\" class=\"dataframe\">\n",
       "  <thead>\n",
       "    <tr style=\"text-align: right;\">\n",
       "      <th></th>\n",
       "      <th>SK_ID_PREV</th>\n",
       "      <th>SK_ID_CURR</th>\n",
       "      <th>AMT_ANNUITY</th>\n",
       "      <th>AMT_APPLICATION</th>\n",
       "      <th>AMT_DOWN_PAYMENT</th>\n",
       "      <th>FLAG_LAST_APPL_PER_CONTRACT</th>\n",
       "      <th>NFLAG_LAST_APPL_IN_DAY</th>\n",
       "      <th>RATE_DOWN_PAYMENT</th>\n",
       "      <th>RATE_INTEREST_PRIMARY</th>\n",
       "      <th>RATE_INTEREST_PRIVILEGED</th>\n",
       "      <th>NAME_CASH_LOAN_PURPOSE</th>\n",
       "      <th>DAYS_DECISION</th>\n",
       "      <th>NAME_PAYMENT_TYPE</th>\n",
       "      <th>CODE_REJECT_REASON</th>\n",
       "      <th>NAME_CLIENT_TYPE</th>\n",
       "      <th>NAME_GOODS_CATEGORY</th>\n",
       "      <th>NAME_PORTFOLIO</th>\n",
       "      <th>NAME_PRODUCT_TYPE</th>\n",
       "      <th>CHANNEL_TYPE</th>\n",
       "      <th>SELLERPLACE_AREA</th>\n",
       "      <th>NAME_SELLER_INDUSTRY</th>\n",
       "      <th>CNT_PAYMENT</th>\n",
       "      <th>NAME_YIELD_GROUP</th>\n",
       "      <th>PRODUCT_COMBINATION</th>\n",
       "      <th>DAYS_FIRST_DRAWING</th>\n",
       "      <th>DAYS_FIRST_DUE</th>\n",
       "      <th>DAYS_LAST_DUE_1ST_VERSION</th>\n",
       "      <th>DAYS_LAST_DUE</th>\n",
       "      <th>DAYS_TERMINATION</th>\n",
       "      <th>NFLAG_INSURED_ON_APPROVAL</th>\n",
       "      <th>HOUR_APPR_PROCESS_START_PREV</th>\n",
       "      <th>NAME_TYPE_SUITE_PREV</th>\n",
       "      <th>WEEKDAY_APPR_PROCESS_START_PREV</th>\n",
       "      <th>NAME_CONTRACT_TYPE_PREV</th>\n",
       "      <th>AMT_CREDIT_PREV</th>\n",
       "      <th>AMT_GOODS_PRICE_PREV</th>\n",
       "      <th>NAME_CONTRACT_STATUS_PREV</th>\n",
       "      <th>app_cred_diff</th>\n",
       "    </tr>\n",
       "  </thead>\n",
       "  <tbody>\n",
       "    <tr>\n",
       "      <th>201668</th>\n",
       "      <td>1369693</td>\n",
       "      <td>100001</td>\n",
       "      <td>3951.000</td>\n",
       "      <td>24835.500</td>\n",
       "      <td>2520.000</td>\n",
       "      <td>Y</td>\n",
       "      <td>1</td>\n",
       "      <td>0.104</td>\n",
       "      <td>nan</td>\n",
       "      <td>nan</td>\n",
       "      <td>XAP</td>\n",
       "      <td>-1740</td>\n",
       "      <td>Cash through the bank</td>\n",
       "      <td>XAP</td>\n",
       "      <td>Refreshed</td>\n",
       "      <td>Mobile</td>\n",
       "      <td>POS</td>\n",
       "      <td>XNA</td>\n",
       "      <td>Country-wide</td>\n",
       "      <td>23</td>\n",
       "      <td>Connectivity</td>\n",
       "      <td>8.000</td>\n",
       "      <td>high</td>\n",
       "      <td>POS mobile with interest</td>\n",
       "      <td>365243.000</td>\n",
       "      <td>-1709.000</td>\n",
       "      <td>-1499.000</td>\n",
       "      <td>-1619.000</td>\n",
       "      <td>-1612.000</td>\n",
       "      <td>0.000</td>\n",
       "      <td>13</td>\n",
       "      <td>Family</td>\n",
       "      <td>FRIDAY</td>\n",
       "      <td>Consumer loans</td>\n",
       "      <td>23787.000</td>\n",
       "      <td>24835.500</td>\n",
       "      <td>Approved</td>\n",
       "      <td>1048.500</td>\n",
       "    </tr>\n",
       "    <tr>\n",
       "      <th>892077</th>\n",
       "      <td>1038818</td>\n",
       "      <td>100002</td>\n",
       "      <td>9251.775</td>\n",
       "      <td>179055.000</td>\n",
       "      <td>0.000</td>\n",
       "      <td>Y</td>\n",
       "      <td>1</td>\n",
       "      <td>0.000</td>\n",
       "      <td>nan</td>\n",
       "      <td>nan</td>\n",
       "      <td>XAP</td>\n",
       "      <td>-606</td>\n",
       "      <td>XNA</td>\n",
       "      <td>XAP</td>\n",
       "      <td>New</td>\n",
       "      <td>Vehicles</td>\n",
       "      <td>POS</td>\n",
       "      <td>XNA</td>\n",
       "      <td>Stone</td>\n",
       "      <td>500</td>\n",
       "      <td>Auto technology</td>\n",
       "      <td>24.000</td>\n",
       "      <td>low_normal</td>\n",
       "      <td>POS other with interest</td>\n",
       "      <td>365243.000</td>\n",
       "      <td>-565.000</td>\n",
       "      <td>125.000</td>\n",
       "      <td>-25.000</td>\n",
       "      <td>-17.000</td>\n",
       "      <td>0.000</td>\n",
       "      <td>9</td>\n",
       "      <td>NaN</td>\n",
       "      <td>SATURDAY</td>\n",
       "      <td>Consumer loans</td>\n",
       "      <td>179055.000</td>\n",
       "      <td>179055.000</td>\n",
       "      <td>Approved</td>\n",
       "      <td>0.000</td>\n",
       "    </tr>\n",
       "    <tr>\n",
       "      <th>575941</th>\n",
       "      <td>1810518</td>\n",
       "      <td>100003</td>\n",
       "      <td>98356.995</td>\n",
       "      <td>900000.000</td>\n",
       "      <td>nan</td>\n",
       "      <td>Y</td>\n",
       "      <td>1</td>\n",
       "      <td>nan</td>\n",
       "      <td>nan</td>\n",
       "      <td>nan</td>\n",
       "      <td>XNA</td>\n",
       "      <td>-746</td>\n",
       "      <td>XNA</td>\n",
       "      <td>XAP</td>\n",
       "      <td>Repeater</td>\n",
       "      <td>XNA</td>\n",
       "      <td>Cash</td>\n",
       "      <td>x-sell</td>\n",
       "      <td>Credit and cash offices</td>\n",
       "      <td>-1</td>\n",
       "      <td>XNA</td>\n",
       "      <td>12.000</td>\n",
       "      <td>low_normal</td>\n",
       "      <td>Cash X-Sell: low</td>\n",
       "      <td>365243.000</td>\n",
       "      <td>-716.000</td>\n",
       "      <td>-386.000</td>\n",
       "      <td>-536.000</td>\n",
       "      <td>-527.000</td>\n",
       "      <td>1.000</td>\n",
       "      <td>12</td>\n",
       "      <td>Unaccompanied</td>\n",
       "      <td>FRIDAY</td>\n",
       "      <td>Cash loans</td>\n",
       "      <td>1035882.000</td>\n",
       "      <td>900000.000</td>\n",
       "      <td>Approved</td>\n",
       "      <td>-135882.000</td>\n",
       "    </tr>\n",
       "    <tr>\n",
       "      <th>1021650</th>\n",
       "      <td>2636178</td>\n",
       "      <td>100003</td>\n",
       "      <td>64567.665</td>\n",
       "      <td>337500.000</td>\n",
       "      <td>0.000</td>\n",
       "      <td>Y</td>\n",
       "      <td>1</td>\n",
       "      <td>0.000</td>\n",
       "      <td>nan</td>\n",
       "      <td>nan</td>\n",
       "      <td>XAP</td>\n",
       "      <td>-828</td>\n",
       "      <td>Cash through the bank</td>\n",
       "      <td>XAP</td>\n",
       "      <td>Refreshed</td>\n",
       "      <td>Furniture</td>\n",
       "      <td>POS</td>\n",
       "      <td>XNA</td>\n",
       "      <td>Stone</td>\n",
       "      <td>1400</td>\n",
       "      <td>Furniture</td>\n",
       "      <td>6.000</td>\n",
       "      <td>middle</td>\n",
       "      <td>POS industry with interest</td>\n",
       "      <td>365243.000</td>\n",
       "      <td>-797.000</td>\n",
       "      <td>-647.000</td>\n",
       "      <td>-647.000</td>\n",
       "      <td>-639.000</td>\n",
       "      <td>0.000</td>\n",
       "      <td>17</td>\n",
       "      <td>Family</td>\n",
       "      <td>SUNDAY</td>\n",
       "      <td>Consumer loans</td>\n",
       "      <td>348637.500</td>\n",
       "      <td>337500.000</td>\n",
       "      <td>Approved</td>\n",
       "      <td>-11137.500</td>\n",
       "    </tr>\n",
       "    <tr>\n",
       "      <th>1223745</th>\n",
       "      <td>2396755</td>\n",
       "      <td>100003</td>\n",
       "      <td>6737.310</td>\n",
       "      <td>68809.500</td>\n",
       "      <td>6885.000</td>\n",
       "      <td>Y</td>\n",
       "      <td>1</td>\n",
       "      <td>0.100</td>\n",
       "      <td>nan</td>\n",
       "      <td>nan</td>\n",
       "      <td>XAP</td>\n",
       "      <td>-2341</td>\n",
       "      <td>Cash through the bank</td>\n",
       "      <td>XAP</td>\n",
       "      <td>Refreshed</td>\n",
       "      <td>Consumer Electronics</td>\n",
       "      <td>POS</td>\n",
       "      <td>XNA</td>\n",
       "      <td>Country-wide</td>\n",
       "      <td>200</td>\n",
       "      <td>Consumer electronics</td>\n",
       "      <td>12.000</td>\n",
       "      <td>middle</td>\n",
       "      <td>POS household with interest</td>\n",
       "      <td>365243.000</td>\n",
       "      <td>-2310.000</td>\n",
       "      <td>-1980.000</td>\n",
       "      <td>-1980.000</td>\n",
       "      <td>-1976.000</td>\n",
       "      <td>1.000</td>\n",
       "      <td>15</td>\n",
       "      <td>Family</td>\n",
       "      <td>SATURDAY</td>\n",
       "      <td>Consumer loans</td>\n",
       "      <td>68053.500</td>\n",
       "      <td>68809.500</td>\n",
       "      <td>Approved</td>\n",
       "      <td>756.000</td>\n",
       "    </tr>\n",
       "  </tbody>\n",
       "</table>\n",
       "</div>"
      ],
      "text/plain": [
       "         SK_ID_PREV  SK_ID_CURR  AMT_ANNUITY  AMT_APPLICATION  \\\n",
       "201668   1369693     100001     3951.000     24835.500          \n",
       "892077   1038818     100002     9251.775     179055.000         \n",
       "575941   1810518     100003     98356.995    900000.000         \n",
       "1021650  2636178     100003     64567.665    337500.000         \n",
       "1223745  2396755     100003     6737.310     68809.500          \n",
       "\n",
       "         AMT_DOWN_PAYMENT FLAG_LAST_APPL_PER_CONTRACT  NFLAG_LAST_APPL_IN_DAY  \\\n",
       "201668  2520.000           Y                           1                        \n",
       "892077  0.000              Y                           1                        \n",
       "575941  nan                Y                           1                        \n",
       "1021650 0.000              Y                           1                        \n",
       "1223745 6885.000           Y                           1                        \n",
       "\n",
       "         RATE_DOWN_PAYMENT  RATE_INTEREST_PRIMARY  RATE_INTEREST_PRIVILEGED  \\\n",
       "201668  0.104              nan                    nan                         \n",
       "892077  0.000              nan                    nan                         \n",
       "575941  nan                nan                    nan                         \n",
       "1021650 0.000              nan                    nan                         \n",
       "1223745 0.100              nan                    nan                         \n",
       "\n",
       "        NAME_CASH_LOAN_PURPOSE  DAYS_DECISION      NAME_PAYMENT_TYPE  \\\n",
       "201668   XAP                   -1740           Cash through the bank   \n",
       "892077   XAP                   -606            XNA                     \n",
       "575941   XNA                   -746            XNA                     \n",
       "1021650  XAP                   -828            Cash through the bank   \n",
       "1223745  XAP                   -2341           Cash through the bank   \n",
       "\n",
       "        CODE_REJECT_REASON NAME_CLIENT_TYPE   NAME_GOODS_CATEGORY  \\\n",
       "201668   XAP                Refreshed        Mobile                 \n",
       "892077   XAP                New              Vehicles               \n",
       "575941   XAP                Repeater         XNA                    \n",
       "1021650  XAP                Refreshed        Furniture              \n",
       "1223745  XAP                Refreshed        Consumer Electronics   \n",
       "\n",
       "        NAME_PORTFOLIO NAME_PRODUCT_TYPE             CHANNEL_TYPE  \\\n",
       "201668   POS            XNA               Country-wide              \n",
       "892077   POS            XNA               Stone                     \n",
       "575941   Cash           x-sell            Credit and cash offices   \n",
       "1021650  POS            XNA               Stone                     \n",
       "1223745  POS            XNA               Country-wide              \n",
       "\n",
       "         SELLERPLACE_AREA  NAME_SELLER_INDUSTRY  CNT_PAYMENT NAME_YIELD_GROUP  \\\n",
       "201668   23                Connectivity         8.000         high              \n",
       "892077   500               Auto technology      24.000        low_normal        \n",
       "575941  -1                 XNA                  12.000        low_normal        \n",
       "1021650  1400              Furniture            6.000         middle            \n",
       "1223745  200               Consumer electronics 12.000        middle            \n",
       "\n",
       "                 PRODUCT_COMBINATION  DAYS_FIRST_DRAWING  DAYS_FIRST_DUE  \\\n",
       "201668   POS mobile with interest    365243.000          -1709.000         \n",
       "892077   POS other with interest     365243.000          -565.000          \n",
       "575941   Cash X-Sell: low            365243.000          -716.000          \n",
       "1021650  POS industry with interest  365243.000          -797.000          \n",
       "1223745  POS household with interest 365243.000          -2310.000         \n",
       "\n",
       "         DAYS_LAST_DUE_1ST_VERSION  DAYS_LAST_DUE  DAYS_TERMINATION  \\\n",
       "201668  -1499.000                  -1619.000      -1612.000           \n",
       "892077  125.000                    -25.000        -17.000             \n",
       "575941  -386.000                   -536.000       -527.000            \n",
       "1021650 -647.000                   -647.000       -639.000            \n",
       "1223745 -1980.000                  -1980.000      -1976.000           \n",
       "\n",
       "         NFLAG_INSURED_ON_APPROVAL  HOUR_APPR_PROCESS_START_PREV  \\\n",
       "201668  0.000                       13                             \n",
       "892077  0.000                       9                              \n",
       "575941  1.000                       12                             \n",
       "1021650 0.000                       17                             \n",
       "1223745 1.000                       15                             \n",
       "\n",
       "        NAME_TYPE_SUITE_PREV WEEKDAY_APPR_PROCESS_START_PREV  \\\n",
       "201668   Family               FRIDAY                           \n",
       "892077   NaN                  SATURDAY                         \n",
       "575941   Unaccompanied        FRIDAY                           \n",
       "1021650  Family               SUNDAY                           \n",
       "1223745  Family               SATURDAY                         \n",
       "\n",
       "        NAME_CONTRACT_TYPE_PREV  AMT_CREDIT_PREV  AMT_GOODS_PRICE_PREV  \\\n",
       "201668   Consumer loans         23787.000        24835.500               \n",
       "892077   Consumer loans         179055.000       179055.000              \n",
       "575941   Cash loans             1035882.000      900000.000              \n",
       "1021650  Consumer loans         348637.500       337500.000              \n",
       "1223745  Consumer loans         68053.500        68809.500               \n",
       "\n",
       "        NAME_CONTRACT_STATUS_PREV  app_cred_diff  \n",
       "201668   Approved                 1048.500        \n",
       "892077   Approved                 0.000           \n",
       "575941   Approved                 -135882.000     \n",
       "1021650  Approved                 -11137.500      \n",
       "1223745  Approved                 756.000         "
      ]
     },
     "execution_count": 139,
     "metadata": {},
     "output_type": "execute_result"
    }
   ],
   "source": [
    "previous_application.sort_values('SK_ID_CURR').head()"
   ]
  },
  {
   "cell_type": "code",
   "execution_count": 150,
   "metadata": {},
   "outputs": [
    {
     "ename": "AttributeError",
     "evalue": "Cannot access callable attribute 'mode' of 'SeriesGroupBy' objects, try using the 'apply' method",
     "output_type": "error",
     "traceback": [
      "\u001b[0;31m---------------------------------------------------------------------------\u001b[0m",
      "\u001b[0;31mAttributeError\u001b[0m                            Traceback (most recent call last)",
      "\u001b[0;32m<ipython-input-150-7fc28516dfcf>\u001b[0m in \u001b[0;36m<module>\u001b[0;34m()\u001b[0m\n\u001b[0;32m----> 1\u001b[0;31m \u001b[0mprevious_application\u001b[0m\u001b[0;34m.\u001b[0m\u001b[0mgroupby\u001b[0m\u001b[0;34m(\u001b[0m\u001b[0;34m'SK_ID_CURR'\u001b[0m\u001b[0;34m)\u001b[0m\u001b[0;34m.\u001b[0m\u001b[0mNAME_CLIENT_TYPE\u001b[0m\u001b[0;34m.\u001b[0m\u001b[0mmode\u001b[0m\u001b[0;34m(\u001b[0m\u001b[0;34m)\u001b[0m\u001b[0;34m\u001b[0m\u001b[0m\n\u001b[0m",
      "\u001b[0;32m/home/pranay/tensorflow/local/lib/python2.7/site-packages/pandas/core/groupby.pyc\u001b[0m in \u001b[0;36m__getattr__\u001b[0;34m(self, attr)\u001b[0m\n\u001b[1;32m    671\u001b[0m             \u001b[0;32mreturn\u001b[0m \u001b[0mself\u001b[0m\u001b[0;34m[\u001b[0m\u001b[0mattr\u001b[0m\u001b[0;34m]\u001b[0m\u001b[0;34m\u001b[0m\u001b[0m\n\u001b[1;32m    672\u001b[0m         \u001b[0;32mif\u001b[0m \u001b[0mhasattr\u001b[0m\u001b[0;34m(\u001b[0m\u001b[0mself\u001b[0m\u001b[0;34m.\u001b[0m\u001b[0mobj\u001b[0m\u001b[0;34m,\u001b[0m \u001b[0mattr\u001b[0m\u001b[0;34m)\u001b[0m\u001b[0;34m:\u001b[0m\u001b[0;34m\u001b[0m\u001b[0m\n\u001b[0;32m--> 673\u001b[0;31m             \u001b[0;32mreturn\u001b[0m \u001b[0mself\u001b[0m\u001b[0;34m.\u001b[0m\u001b[0m_make_wrapper\u001b[0m\u001b[0;34m(\u001b[0m\u001b[0mattr\u001b[0m\u001b[0;34m)\u001b[0m\u001b[0;34m\u001b[0m\u001b[0m\n\u001b[0m\u001b[1;32m    674\u001b[0m \u001b[0;34m\u001b[0m\u001b[0m\n\u001b[1;32m    675\u001b[0m         raise AttributeError(\"%r object has no attribute %r\" %\n",
      "\u001b[0;32m/home/pranay/tensorflow/local/lib/python2.7/site-packages/pandas/core/groupby.pyc\u001b[0m in \u001b[0;36m_make_wrapper\u001b[0;34m(self, name)\u001b[0m\n\u001b[1;32m    685\u001b[0m                    \"using the 'apply' method\".format(kind, name,\n\u001b[1;32m    686\u001b[0m                                                      type(self).__name__))\n\u001b[0;32m--> 687\u001b[0;31m             \u001b[0;32mraise\u001b[0m \u001b[0mAttributeError\u001b[0m\u001b[0;34m(\u001b[0m\u001b[0mmsg\u001b[0m\u001b[0;34m)\u001b[0m\u001b[0;34m\u001b[0m\u001b[0m\n\u001b[0m\u001b[1;32m    688\u001b[0m \u001b[0;34m\u001b[0m\u001b[0m\n\u001b[1;32m    689\u001b[0m         \u001b[0;31m# need to setup the selection\u001b[0m\u001b[0;34m\u001b[0m\u001b[0;34m\u001b[0m\u001b[0m\n",
      "\u001b[0;31mAttributeError\u001b[0m: Cannot access callable attribute 'mode' of 'SeriesGroupBy' objects, try using the 'apply' method"
     ]
    }
   ],
   "source": [
    "previous_application.groupby('SK_ID_CURR').NAME_CLIENT_TYPE"
   ]
  },
  {
   "cell_type": "code",
   "execution_count": 131,
   "metadata": {},
   "outputs": [
    {
     "data": {
      "text/html": [
       "<div>\n",
       "<style scoped>\n",
       "    .dataframe tbody tr th:only-of-type {\n",
       "        vertical-align: middle;\n",
       "    }\n",
       "\n",
       "    .dataframe tbody tr th {\n",
       "        vertical-align: top;\n",
       "    }\n",
       "\n",
       "    .dataframe thead th {\n",
       "        text-align: right;\n",
       "    }\n",
       "</style>\n",
       "<table border=\"1\" class=\"dataframe\">\n",
       "  <thead>\n",
       "    <tr style=\"text-align: right;\">\n",
       "      <th></th>\n",
       "      <th>SK_ID_PREV</th>\n",
       "      <th>SK_ID_CURR</th>\n",
       "      <th>CNT_INSTALMENT</th>\n",
       "      <th>CNT_INSTALMENT_FUTURE</th>\n",
       "      <th>SK_DPD</th>\n",
       "      <th>MONTHS_BALANCE_POS</th>\n",
       "      <th>SK_DPD_DEF_POS</th>\n",
       "      <th>NAME_CONTRACT_STATUS_POS</th>\n",
       "    </tr>\n",
       "  </thead>\n",
       "  <tbody>\n",
       "    <tr>\n",
       "      <th>0</th>\n",
       "      <td>1803195</td>\n",
       "      <td>182943</td>\n",
       "      <td>48.000</td>\n",
       "      <td>45.000</td>\n",
       "      <td>0</td>\n",
       "      <td>-31</td>\n",
       "      <td>0</td>\n",
       "      <td>Active</td>\n",
       "    </tr>\n",
       "    <tr>\n",
       "      <th>1</th>\n",
       "      <td>1715348</td>\n",
       "      <td>367990</td>\n",
       "      <td>36.000</td>\n",
       "      <td>35.000</td>\n",
       "      <td>0</td>\n",
       "      <td>-33</td>\n",
       "      <td>0</td>\n",
       "      <td>Active</td>\n",
       "    </tr>\n",
       "    <tr>\n",
       "      <th>2</th>\n",
       "      <td>1784872</td>\n",
       "      <td>397406</td>\n",
       "      <td>12.000</td>\n",
       "      <td>9.000</td>\n",
       "      <td>0</td>\n",
       "      <td>-32</td>\n",
       "      <td>0</td>\n",
       "      <td>Active</td>\n",
       "    </tr>\n",
       "    <tr>\n",
       "      <th>3</th>\n",
       "      <td>1903291</td>\n",
       "      <td>269225</td>\n",
       "      <td>48.000</td>\n",
       "      <td>42.000</td>\n",
       "      <td>0</td>\n",
       "      <td>-35</td>\n",
       "      <td>0</td>\n",
       "      <td>Active</td>\n",
       "    </tr>\n",
       "    <tr>\n",
       "      <th>4</th>\n",
       "      <td>2341044</td>\n",
       "      <td>334279</td>\n",
       "      <td>36.000</td>\n",
       "      <td>35.000</td>\n",
       "      <td>0</td>\n",
       "      <td>-35</td>\n",
       "      <td>0</td>\n",
       "      <td>Active</td>\n",
       "    </tr>\n",
       "  </tbody>\n",
       "</table>\n",
       "</div>"
      ],
      "text/plain": [
       "   SK_ID_PREV  SK_ID_CURR  CNT_INSTALMENT  CNT_INSTALMENT_FUTURE  SK_DPD  \\\n",
       "0  1803195     182943     48.000          45.000                  0        \n",
       "1  1715348     367990     36.000          35.000                  0        \n",
       "2  1784872     397406     12.000          9.000                   0        \n",
       "3  1903291     269225     48.000          42.000                  0        \n",
       "4  2341044     334279     36.000          35.000                  0        \n",
       "\n",
       "   MONTHS_BALANCE_POS  SK_DPD_DEF_POS NAME_CONTRACT_STATUS_POS  \n",
       "0 -31                  0               Active                   \n",
       "1 -33                  0               Active                   \n",
       "2 -32                  0               Active                   \n",
       "3 -35                  0               Active                   \n",
       "4 -35                  0               Active                   "
      ]
     },
     "execution_count": 131,
     "metadata": {},
     "output_type": "execute_result"
    }
   ],
   "source": [
    "pos_cash_balance.head()"
   ]
  },
  {
   "cell_type": "code",
   "execution_count": 132,
   "metadata": {},
   "outputs": [
    {
     "data": {
      "text/html": [
       "<div>\n",
       "<style scoped>\n",
       "    .dataframe tbody tr th:only-of-type {\n",
       "        vertical-align: middle;\n",
       "    }\n",
       "\n",
       "    .dataframe tbody tr th {\n",
       "        vertical-align: top;\n",
       "    }\n",
       "\n",
       "    .dataframe thead th {\n",
       "        text-align: right;\n",
       "    }\n",
       "</style>\n",
       "<table border=\"1\" class=\"dataframe\">\n",
       "  <thead>\n",
       "    <tr style=\"text-align: right;\">\n",
       "      <th></th>\n",
       "      <th>SK_ID_PREV</th>\n",
       "      <th>SK_ID_CURR</th>\n",
       "      <th>AMT_ANNUITY</th>\n",
       "      <th>AMT_APPLICATION</th>\n",
       "      <th>AMT_DOWN_PAYMENT</th>\n",
       "      <th>FLAG_LAST_APPL_PER_CONTRACT</th>\n",
       "      <th>NFLAG_LAST_APPL_IN_DAY</th>\n",
       "      <th>RATE_DOWN_PAYMENT</th>\n",
       "      <th>RATE_INTEREST_PRIMARY</th>\n",
       "      <th>RATE_INTEREST_PRIVILEGED</th>\n",
       "      <th>NAME_CASH_LOAN_PURPOSE</th>\n",
       "      <th>DAYS_DECISION</th>\n",
       "      <th>NAME_PAYMENT_TYPE</th>\n",
       "      <th>CODE_REJECT_REASON</th>\n",
       "      <th>NAME_CLIENT_TYPE</th>\n",
       "      <th>NAME_GOODS_CATEGORY</th>\n",
       "      <th>NAME_PORTFOLIO</th>\n",
       "      <th>NAME_PRODUCT_TYPE</th>\n",
       "      <th>CHANNEL_TYPE</th>\n",
       "      <th>SELLERPLACE_AREA</th>\n",
       "      <th>NAME_SELLER_INDUSTRY</th>\n",
       "      <th>CNT_PAYMENT</th>\n",
       "      <th>NAME_YIELD_GROUP</th>\n",
       "      <th>PRODUCT_COMBINATION</th>\n",
       "      <th>DAYS_FIRST_DRAWING</th>\n",
       "      <th>DAYS_FIRST_DUE</th>\n",
       "      <th>DAYS_LAST_DUE_1ST_VERSION</th>\n",
       "      <th>DAYS_LAST_DUE</th>\n",
       "      <th>DAYS_TERMINATION</th>\n",
       "      <th>NFLAG_INSURED_ON_APPROVAL</th>\n",
       "      <th>HOUR_APPR_PROCESS_START_PREV</th>\n",
       "      <th>NAME_TYPE_SUITE_PREV</th>\n",
       "      <th>WEEKDAY_APPR_PROCESS_START_PREV</th>\n",
       "      <th>NAME_CONTRACT_TYPE_PREV</th>\n",
       "      <th>AMT_CREDIT_PREV</th>\n",
       "      <th>AMT_GOODS_PRICE_PREV</th>\n",
       "      <th>NAME_CONTRACT_STATUS_PREV</th>\n",
       "      <th>app_cred_diff</th>\n",
       "    </tr>\n",
       "  </thead>\n",
       "  <tbody>\n",
       "    <tr>\n",
       "      <th>1650130</th>\n",
       "      <td>1803195</td>\n",
       "      <td>182943</td>\n",
       "      <td>22629.600</td>\n",
       "      <td>630000.000</td>\n",
       "      <td>nan</td>\n",
       "      <td>Y</td>\n",
       "      <td>1</td>\n",
       "      <td>nan</td>\n",
       "      <td>nan</td>\n",
       "      <td>nan</td>\n",
       "      <td>XNA</td>\n",
       "      <td>-1035</td>\n",
       "      <td>Cash through the bank</td>\n",
       "      <td>XAP</td>\n",
       "      <td>Repeater</td>\n",
       "      <td>XNA</td>\n",
       "      <td>Cash</td>\n",
       "      <td>x-sell</td>\n",
       "      <td>AP+ (Cash loan)</td>\n",
       "      <td>5</td>\n",
       "      <td>XNA</td>\n",
       "      <td>48.000</td>\n",
       "      <td>low_normal</td>\n",
       "      <td>Cash X-Sell: low</td>\n",
       "      <td>365243.000</td>\n",
       "      <td>-1005.000</td>\n",
       "      <td>405.000</td>\n",
       "      <td>365243.000</td>\n",
       "      <td>365243.000</td>\n",
       "      <td>0.000</td>\n",
       "      <td>18</td>\n",
       "      <td>Unaccompanied</td>\n",
       "      <td>WEDNESDAY</td>\n",
       "      <td>Cash loans</td>\n",
       "      <td>630000.000</td>\n",
       "      <td>630000.000</td>\n",
       "      <td>Approved</td>\n",
       "      <td>0.000</td>\n",
       "    </tr>\n",
       "  </tbody>\n",
       "</table>\n",
       "</div>"
      ],
      "text/plain": [
       "         SK_ID_PREV  SK_ID_CURR  AMT_ANNUITY  AMT_APPLICATION  \\\n",
       "1650130  1803195     182943     22629.600    630000.000         \n",
       "\n",
       "         AMT_DOWN_PAYMENT FLAG_LAST_APPL_PER_CONTRACT  NFLAG_LAST_APPL_IN_DAY  \\\n",
       "1650130 nan                Y                           1                        \n",
       "\n",
       "         RATE_DOWN_PAYMENT  RATE_INTEREST_PRIMARY  RATE_INTEREST_PRIVILEGED  \\\n",
       "1650130 nan                nan                    nan                         \n",
       "\n",
       "        NAME_CASH_LOAN_PURPOSE  DAYS_DECISION      NAME_PAYMENT_TYPE  \\\n",
       "1650130  XNA                   -1035           Cash through the bank   \n",
       "\n",
       "        CODE_REJECT_REASON NAME_CLIENT_TYPE NAME_GOODS_CATEGORY  \\\n",
       "1650130  XAP                Repeater         XNA                  \n",
       "\n",
       "        NAME_PORTFOLIO NAME_PRODUCT_TYPE     CHANNEL_TYPE  SELLERPLACE_AREA  \\\n",
       "1650130  Cash           x-sell            AP+ (Cash loan)  5                  \n",
       "\n",
       "        NAME_SELLER_INDUSTRY  CNT_PAYMENT NAME_YIELD_GROUP  \\\n",
       "1650130  XNA                 48.000        low_normal        \n",
       "\n",
       "        PRODUCT_COMBINATION  DAYS_FIRST_DRAWING  DAYS_FIRST_DUE  \\\n",
       "1650130  Cash X-Sell: low   365243.000          -1005.000         \n",
       "\n",
       "         DAYS_LAST_DUE_1ST_VERSION  DAYS_LAST_DUE  DAYS_TERMINATION  \\\n",
       "1650130 405.000                    365243.000     365243.000          \n",
       "\n",
       "         NFLAG_INSURED_ON_APPROVAL  HOUR_APPR_PROCESS_START_PREV  \\\n",
       "1650130 0.000                       18                             \n",
       "\n",
       "        NAME_TYPE_SUITE_PREV WEEKDAY_APPR_PROCESS_START_PREV  \\\n",
       "1650130  Unaccompanied        WEDNESDAY                        \n",
       "\n",
       "        NAME_CONTRACT_TYPE_PREV  AMT_CREDIT_PREV  AMT_GOODS_PRICE_PREV  \\\n",
       "1650130  Cash loans             630000.000       630000.000              \n",
       "\n",
       "        NAME_CONTRACT_STATUS_PREV  app_cred_diff  \n",
       "1650130  Approved                 0.000           "
      ]
     },
     "execution_count": 132,
     "metadata": {},
     "output_type": "execute_result"
    }
   ],
   "source": [
    "previous_application[previous_application.SK_ID_PREV == 1803195]"
   ]
  },
  {
   "cell_type": "code",
   "execution_count": null,
   "metadata": {},
   "outputs": [],
   "source": [
    "pos_cash_balance.SK_ID_CURR.value_counts()"
   ]
  },
  {
   "cell_type": "code",
   "execution_count": 122,
   "metadata": {},
   "outputs": [
    {
     "data": {
      "text/plain": [
       "(98394, 292)"
      ]
     },
     "execution_count": 122,
     "metadata": {},
     "output_type": "execute_result"
    }
   ],
   "source": [
    "concatted.shape"
   ]
  },
  {
   "cell_type": "code",
   "execution_count": 16,
   "metadata": {},
   "outputs": [],
   "source": [
    "corr_train = train.corr()"
   ]
  },
  {
   "cell_type": "code",
   "execution_count": 34,
   "metadata": {},
   "outputs": [],
   "source": [
    "corr_test = test.corr()"
   ]
  },
  {
   "cell_type": "code",
   "execution_count": null,
   "metadata": {},
   "outputs": [],
   "source": [
    "corr_train[corr_train > 0.70][50:]"
   ]
  },
  {
   "cell_type": "code",
   "execution_count": null,
   "metadata": {},
   "outputs": [],
   "source": [
    "corr_test[corr_test > 0.70][:50]"
   ]
  },
  {
   "cell_type": "code",
   "execution_count": 31,
   "metadata": {},
   "outputs": [
    {
     "data": {
      "text/plain": [
       "Index([u'SK_ID_CURR', u'TARGET', u'CNT_CHILDREN', u'AMT_INCOME_TOTAL',\n",
       "       u'AMT_CREDIT', u'AMT_ANNUITY', u'AMT_GOODS_PRICE',\n",
       "       u'REGION_POPULATION_RELATIVE', u'DAYS_BIRTH', u'DAYS_EMPLOYED',\n",
       "       ...\n",
       "       u'FLAG_DOCUMENT_18', u'FLAG_DOCUMENT_19', u'FLAG_DOCUMENT_20',\n",
       "       u'FLAG_DOCUMENT_21', u'AMT_REQ_CREDIT_BUREAU_HOUR',\n",
       "       u'AMT_REQ_CREDIT_BUREAU_DAY', u'AMT_REQ_CREDIT_BUREAU_WEEK',\n",
       "       u'AMT_REQ_CREDIT_BUREAU_MON', u'AMT_REQ_CREDIT_BUREAU_QRT',\n",
       "       u'AMT_REQ_CREDIT_BUREAU_YEAR'],\n",
       "      dtype='object', length=106)"
      ]
     },
     "execution_count": 31,
     "metadata": {},
     "output_type": "execute_result"
    }
   ],
   "source": [
    "corr_train[corr_train == 0.950842]"
   ]
  },
  {
   "cell_type": "markdown",
   "metadata": {},
   "source": [
    "<strong>Remember to remove one of these columns in credit_card_application as they are correlated</strong>\n",
    "7. CNT_DRAWINGS_ATM_CURRENT | CNT_DRAWINGS_CURRENT columns are correlated (1.0)\n",
    "8. AMT_DRAWINGS_ATM_CURRENT | AMT_DRAWINGS_CURRENT are correlated(1.0)\n",
    "9. SK_DPD | SK_DPD_DEF are correlated by 1.0\n",
    "\n",
    "<strong>These are correlated in installments_payments</strong>\n",
    "1. DAYS_INSTALLMENT | DAYS_ENTRY_PAYMENT (0.99)\n",
    "2. AMT_INSTALMENT | AMT_PAYMENT\n",
    "\n",
    "<strong>In pos_cash_balance</strong>\n",
    "1. CNT_INSTALMENT | CNT_INSTALMENT_FUTURE (0.87)\n",
    "\n",
    "<strong>In train</strong>\n",
    "1. AMT_CREDIT | AMT_ANNUITY (0.77)\n",
    "2. AMT_CREDIT | AMT_GOODS_PRICE (0.98)\n",
    "3. AMT_ANNUITY | AMT_GOODS_PRICE (0.77)\n",
    "4. CNT_FAM_MEMBERS | CNT_CHILDREN\n",
    "5. REGION_RATING_CLIENT | REGION_RATING_CLIENT_W_CITY (0.95)"
   ]
  },
  {
   "cell_type": "markdown",
   "metadata": {},
   "source": [
    "#### Let's drop correlated variables"
   ]
  },
  {
   "cell_type": "code",
   "execution_count": 39,
   "metadata": {},
   "outputs": [],
   "source": [
    "test = test.drop(['AMT_ANNUITY', 'AMT_GOODS_PRICE', 'CNT_CHILDREN', 'REGION_RATING_CLIENT_W_CITY'], axis=1)"
   ]
  },
  {
   "cell_type": "markdown",
   "metadata": {},
   "source": [
    "### Lets try to calculate mix of loans"
   ]
  },
  {
   "cell_type": "code",
   "execution_count": null,
   "metadata": {},
   "outputs": [],
   "source": [
    "train.head()"
   ]
  },
  {
   "cell_type": "code",
   "execution_count": null,
   "metadata": {},
   "outputs": [],
   "source": [
    "credit_card_balance.sort_values('SK_ID_CURR').head(15)"
   ]
  },
  {
   "cell_type": "code",
   "execution_count": null,
   "metadata": {},
   "outputs": [],
   "source": [
    "my_utils = MyUtils(train)\n",
    "my_utils.getColDesc()"
   ]
  },
  {
   "cell_type": "code",
   "execution_count": 21,
   "metadata": {},
   "outputs": [
    {
     "data": {
      "text/plain": [
       "(1670214,)"
      ]
     },
     "execution_count": 21,
     "metadata": {},
     "output_type": "execute_result"
    }
   ],
   "source": [
    "previous_application.SK_ID_PREV.unique().shape"
   ]
  },
  {
   "cell_type": "code",
   "execution_count": 29,
   "metadata": {},
   "outputs": [
    {
     "data": {
      "text/plain": [
       "(307511, 122)"
      ]
     },
     "execution_count": 29,
     "metadata": {},
     "output_type": "execute_result"
    }
   ],
   "source": [
    "train.shape"
   ]
  },
  {
   "cell_type": "code",
   "execution_count": 30,
   "metadata": {},
   "outputs": [
    {
     "data": {
      "text/plain": [
       "(48744, 121)"
      ]
     },
     "execution_count": 30,
     "metadata": {},
     "output_type": "execute_result"
    }
   ],
   "source": [
    "test.shape"
   ]
  },
  {
   "cell_type": "code",
   "execution_count": 22,
   "metadata": {},
   "outputs": [
    {
     "data": {
      "text/plain": [
       "(1670214, 37)"
      ]
     },
     "execution_count": 22,
     "metadata": {},
     "output_type": "execute_result"
    }
   ],
   "source": [
    "previous_application.shape"
   ]
  },
  {
   "cell_type": "code",
   "execution_count": 23,
   "metadata": {},
   "outputs": [
    {
     "data": {
      "text/plain": [
       "(104307,)"
      ]
     },
     "execution_count": 23,
     "metadata": {},
     "output_type": "execute_result"
    }
   ],
   "source": [
    "credit_card_balance.SK_ID_PREV.unique().shape"
   ]
  },
  {
   "cell_type": "code",
   "execution_count": 24,
   "metadata": {},
   "outputs": [
    {
     "data": {
      "text/plain": [
       "(936325,)"
      ]
     },
     "execution_count": 24,
     "metadata": {},
     "output_type": "execute_result"
    }
   ],
   "source": [
    "pos_cash_balance.SK_ID_PREV.unique().shape"
   ]
  },
  {
   "cell_type": "code",
   "execution_count": null,
   "metadata": {},
   "outputs": [],
   "source": [
    "pos_cash_balance.head()"
   ]
  },
  {
   "cell_type": "code",
   "execution_count": null,
   "metadata": {},
   "outputs": [],
   "source": [
    "credit_card_balance.sort_values('SK_ID_PREV').head(15)"
   ]
  },
  {
   "cell_type": "code",
   "execution_count": null,
   "metadata": {},
   "outputs": [],
   "source": [
    "previous_application[previous_application.SK_ID_PREV == 1803195]"
   ]
  },
  {
   "cell_type": "code",
   "execution_count": null,
   "metadata": {},
   "outputs": [],
   "source": [
    "test[test.SK_ID_CURR == 131335]"
   ]
  },
  {
   "cell_type": "code",
   "execution_count": 35,
   "metadata": {},
   "outputs": [],
   "source": [
    "my_utils = MyUtils(train)\n",
    "nonnulls = my_utils.getNonnullCount()"
   ]
  },
  {
   "cell_type": "code",
   "execution_count": null,
   "metadata": {},
   "outputs": [],
   "source": []
  },
  {
   "cell_type": "code",
   "execution_count": null,
   "metadata": {},
   "outputs": [],
   "source": [
    "my_utils = MyUtils(credit_card_balance)\n",
    "my_utils.getDfOfMax().sort_values('SK_ID_PREV')\n",
    "corr_df = my_utils.getDfOfMax()[my_utils.getDfOfMax().SK_ID_PREV == 2243411].sort_values('MONTHS_BALANCE').corr()\n",
    "corr_df[corr_df == 1]"
   ]
  },
  {
   "cell_type": "code",
   "execution_count": null,
   "metadata": {},
   "outputs": [],
   "source": [
    "y = np.bincount(credit_card_balance.SK_ID_PREV.value_counts().values)\n",
    "ii = np.nonzero(y)[0]\n",
    "zip(ii,y[ii])"
   ]
  },
  {
   "cell_type": "code",
   "execution_count": null,
   "metadata": {},
   "outputs": [],
   "source": [
    "train_skids = train.SK_ID_CURR\n",
    "test_skids = test.SK_ID_CURR\n",
    "appended = train_skids.append(test_skids)\n",
    "assert len(appended) == len(train_skids) + len(test_skids)\n",
    "not_in_prev = [ skid for skid in appended if skid not in  previous_application.SK_ID_CURR.unique()]\n",
    "len(not_in_prev)\n",
    "not_in_prev_df = pd.DataFrame(not_in_prev)\n",
    "not_in_prev_df.columns = ['SK_ID_CURR']\n",
    "# not_in_prev_df.SK_ID_CURR.value_counts()\n",
    "\n",
    "# len(appended)\n",
    "# previous_application.SK_ID_CURR.unique()"
   ]
  },
  {
   "cell_type": "markdown",
   "metadata": {},
   "source": [
    "### Renaming colums which are similar\n",
    "Not doing this is causing problems in xgboost. Naming is by adding dataframe name at the end"
   ]
  },
  {
   "cell_type": "code",
   "execution_count": 64,
   "metadata": {},
   "outputs": [],
   "source": [
    "credit_card_balance['NAME_CONTRACT_STATUS_CRED'] = credit_card_balance.NAME_CONTRACT_STATUS\n",
    "credit_card_balance = credit_card_balance.drop(['NAME_CONTRACT_STATUS'], axis=1)\n",
    "credit_card_balance['MONTHS_BALANCE_CRED'] = credit_card_balance.MONTHS_BALANCE\n",
    "credit_card_balance = credit_card_balance.drop(['MONTHS_BALANCE'], axis=1)\n",
    "\n",
    "bureau_balance['MONTHS_BALANCE_BUR'] = bureau_balance.MONTHS_BALANCE\n",
    "bureau_balance = bureau_balance.drop(['MONTHS_BALANCE'], axis=1)\n",
    "pos_cash_balance['MONTHS_BALANCE_POS'] = pos_cash_balance.MONTHS_BALANCE\n",
    "pos_cash_balance = pos_cash_balance.drop(['MONTHS_BALANCE'], axis=1)\n",
    "pos_cash_balance['SK_DPD_DEF_POS'] = pos_cash_balance.SK_DPD_DEF\n",
    "pos_cash_balance = pos_cash_balance.drop(['SK_DPD_DEF'], axis=1)\n",
    "pos_cash_balance['NAME_CONTRACT_STATUS_POS'] = pos_cash_balance.NAME_CONTRACT_STATUS\n",
    "pos_cash_balance = pos_cash_balance.drop(['NAME_CONTRACT_STATUS'], axis=1)\n",
    "\n",
    "\n",
    "previous_application['HOUR_APPR_PROCESS_START_PREV'] = previous_application.HOUR_APPR_PROCESS_START\n",
    "previous_application = previous_application.drop(['HOUR_APPR_PROCESS_START'], axis=1)\n",
    "previous_application['NAME_TYPE_SUITE_PREV'] = previous_application.NAME_TYPE_SUITE\n",
    "previous_application = previous_application.drop(['NAME_TYPE_SUITE'], axis=1)\n",
    "previous_application['WEEKDAY_APPR_PROCESS_START_PREV'] = previous_application.WEEKDAY_APPR_PROCESS_START\n",
    "previous_application = previous_application.drop(['WEEKDAY_APPR_PROCESS_START'], axis=1)\n",
    "previous_application['NAME_CONTRACT_TYPE_PREV'] = previous_application.NAME_CONTRACT_TYPE\n",
    "previous_application = previous_application.drop(['NAME_CONTRACT_TYPE'], axis=1)\n",
    "previous_application['AMT_CREDIT_PREV'] = previous_application.AMT_CREDIT\n",
    "previous_application = previous_application.drop(['AMT_CREDIT'], axis=1)\n",
    "previous_application['AMT_GOODS_PRICE_PREV'] = previous_application.AMT_GOODS_PRICE\n",
    "previous_application = previous_application.drop(['AMT_GOODS_PRICE'], axis=1)\n",
    "previous_application['NAME_CONTRACT_STATUS_PREV'] = previous_application.NAME_CONTRACT_STATUS\n",
    "previous_application= previous_application.drop(['NAME_CONTRACT_STATUS'], axis=1)"
   ]
  },
  {
   "cell_type": "markdown",
   "metadata": {},
   "source": [
    "### Starting to create feature columns\n",
    "Columns with Levels needs to be unstacked after group by\n",
    "<p><strong>This is to get pure columns. It is almost like creating dummies</strong></p>"
   ]
  },
  {
   "cell_type": "code",
   "execution_count": null,
   "metadata": {},
   "outputs": [],
   "source": []
  },
  {
   "cell_type": "code",
   "execution_count": 65,
   "metadata": {},
   "outputs": [],
   "source": [
    "my_utils = MyUtils(pos_cash_balance)\n",
    "sk_dpd_def_pos_df = my_utils.groupBySkidMean('SK_DPD_DEF_POS')\n",
    "sk_dpd_df = my_utils.groupBySkidMean('SK_DPD')\n",
    "\n",
    "# sk_dpd_def_pos_df.merge(sk_dpd_df, how='left', on='SK_ID_CURR').corr()\n",
    "\n",
    "bur_grp_df =bureau.groupby('SK_ID_CURR').CREDIT_ACTIVE.value_counts().unstack()\n",
    "bur_grp_df.columns = ['credit_active', 'credit_bad_debt', 'credit_closed', 'credit_sold']\n",
    "bur_grp_df = bur_grp_df.fillna(value=0).reset_index()\n",
    "\n",
    "bur_curr_df = bureau.groupby('SK_ID_CURR').CREDIT_CURRENCY.value_counts().unstack()\n",
    "bur_curr_df.columns = ['currency1', 'currency2', 'currency3', 'currency4']\n",
    "bur_curr_df = bur_curr_df.fillna(value=0).reset_index()\n",
    "\n",
    "bur_credtype_df = bureau.groupby('SK_ID_CURR').CREDIT_TYPE.value_counts().unstack()\n",
    "# bur_credtype_df.columns = ['currency1', 'currency2', 'currency3', 'currency4']\n",
    "bur_credtype_df = bur_credtype_df.fillna(value=0).reset_index()\n",
    "\n",
    "my_utils = MyUtils(bureau)\n",
    "bur_amtcredsum_df = my_utils.groupBySkidMean('AMT_CREDIT_SUM')\n"
   ]
  },
  {
   "cell_type": "code",
   "execution_count": 66,
   "metadata": {},
   "outputs": [],
   "source": [
    "my_utils = MyUtils(bureau)\n",
    "bur_dayscredupdate_df = my_utils.groupBySkidMean('DAYS_CREDIT_UPDATE')\n",
    "bur_creddayoverdue_df = my_utils.groupBySkidMean('CREDIT_DAY_OVERDUE')\n",
    "\n",
    "bur_amt_cred_sum_overdue_df = my_utils.groupBySkidMean('AMT_CREDIT_SUM_OVERDUE')\n",
    "\n",
    "bur_amt_cred_sum_limit_df = my_utils.groupBySkidMean('AMT_CREDIT_SUM_LIMIT')\n",
    "\n",
    "bur_amt_credit_sum_debt_df = my_utils.groupBySkidMean('AMT_CREDIT_SUM_DEBT')"
   ]
  },
  {
   "cell_type": "code",
   "execution_count": 67,
   "metadata": {},
   "outputs": [],
   "source": [
    "bb_cnt_df = bureau_balance.SK_ID_BUREAU.value_counts().to_frame().reset_index()\n",
    "bb_cnt_df.columns = ['SK_ID_BUREAU', 'bb_cnt']\n",
    "\n",
    "bureau_bb_cnt_df = bureau.merge(bb_cnt_df, on='SK_ID_BUREAU', how='inner')\n",
    "grp_cnt_bureau_df = bureau_bb_cnt_df.groupby('SK_ID_CURR').bb_cnt.sum().to_frame().reset_index()"
   ]
  },
  {
   "cell_type": "code",
   "execution_count": 68,
   "metadata": {},
   "outputs": [],
   "source": [
    "bureau_cnt_df = bureau.SK_ID_CURR.value_counts().to_frame().reset_index()\n",
    "bureau_cnt_df.columns = ['SK_ID_CURR', 'bureau_cnt']"
   ]
  },
  {
   "cell_type": "code",
   "execution_count": 69,
   "metadata": {},
   "outputs": [],
   "source": [
    "my_utils = MyUtils(bureau)\n",
    "bureau_cnt_df = my_utils.skidCount('bureau_')"
   ]
  },
  {
   "cell_type": "code",
   "execution_count": 70,
   "metadata": {},
   "outputs": [],
   "source": [
    "counts = bureau_balance['SK_ID_BUREAU'].value_counts().reset_index()\n",
    "burbal_df = pd.DataFrame(counts)\n",
    "burbal_df.columns = ['SK_ID_BUREAU',  'bureau_cnt']"
   ]
  },
  {
   "cell_type": "code",
   "execution_count": 71,
   "metadata": {},
   "outputs": [
    {
     "data": {
      "text/plain": [
       "True     942074\n",
       "False    774354\n",
       "Name: bureau_cnt, dtype: int64"
      ]
     },
     "execution_count": 71,
     "metadata": {},
     "output_type": "execute_result"
    }
   ],
   "source": [
    "bureau[['SK_ID_CURR', 'SK_ID_BUREAU']].merge(burbal_df, on='SK_ID_BUREAU', how='left') \\\n",
    "            .bureau_cnt.isnull().value_counts()"
   ]
  },
  {
   "cell_type": "markdown",
   "metadata": {},
   "source": [
    "### Merging Bureau and Bureau balance\n",
    "Remember that each one sk_id_curr is asoociated with many sk_id_bureau which in turn has monthly records so will have to multiply both"
   ]
  },
  {
   "cell_type": "code",
   "execution_count": 72,
   "metadata": {},
   "outputs": [],
   "source": [
    "#merge bureau and bureau_balance\n",
    "bureau_burbal = bureau[['SK_ID_CURR', 'SK_ID_BUREAU']].merge(burbal_df, on='SK_ID_BUREAU', how='left')\n",
    "bureau_burbal.bureau_cnt = bureau_burbal.bureau_cnt.fillna(value=0)\n",
    "bureau_burbal_df = bureau_burbal.groupby('SK_ID_CURR').bureau_cnt.sum().reset_index()"
   ]
  },
  {
   "cell_type": "markdown",
   "metadata": {},
   "source": [
    "### Count of sk_id_curr in previous applications"
   ]
  },
  {
   "cell_type": "code",
   "execution_count": 73,
   "metadata": {},
   "outputs": [],
   "source": [
    "prev_app_cnt = previous_application.SK_ID_CURR.value_counts().reset_index()\n",
    "prev_app_cnt_df = pd.DataFrame(prev_app_cnt)\n",
    "prev_app_cnt_df.columns = ['SK_ID_CURR', 'prev_app_cnt']"
   ]
  },
  {
   "cell_type": "markdown",
   "metadata": {},
   "source": [
    "### Count of skidcurr in credit card balance"
   ]
  },
  {
   "cell_type": "code",
   "execution_count": 74,
   "metadata": {},
   "outputs": [],
   "source": [
    "cred_cnt = credit_card_balance.SK_ID_CURR.value_counts().reset_index()\n",
    "cred_cnt_df = pd.DataFrame(cred_cnt)\n",
    "cred_cnt_df.columns = ['SK_ID_CURR', 'cred_cnt']"
   ]
  },
  {
   "cell_type": "code",
   "execution_count": 75,
   "metadata": {},
   "outputs": [],
   "source": [
    "my_utils = MyUtils(df=credit_card_balance)\n",
    "amt_balance_df = my_utils.groupBySkidMean('AMT_BALANCE')"
   ]
  },
  {
   "cell_type": "code",
   "execution_count": 76,
   "metadata": {},
   "outputs": [
    {
     "data": {
      "text/html": [
       "<div>\n",
       "<style scoped>\n",
       "    .dataframe tbody tr th:only-of-type {\n",
       "        vertical-align: middle;\n",
       "    }\n",
       "\n",
       "    .dataframe tbody tr th {\n",
       "        vertical-align: top;\n",
       "    }\n",
       "\n",
       "    .dataframe thead th {\n",
       "        text-align: right;\n",
       "    }\n",
       "</style>\n",
       "<table border=\"1\" class=\"dataframe\">\n",
       "  <thead>\n",
       "    <tr style=\"text-align: right;\">\n",
       "      <th></th>\n",
       "      <th>SK_ID_CURR</th>\n",
       "      <th>AMT_BALANCE</th>\n",
       "    </tr>\n",
       "  </thead>\n",
       "  <tbody>\n",
       "    <tr>\n",
       "      <th>0</th>\n",
       "      <td>100006</td>\n",
       "      <td>0.000000</td>\n",
       "    </tr>\n",
       "    <tr>\n",
       "      <th>1</th>\n",
       "      <td>100011</td>\n",
       "      <td>54482.111149</td>\n",
       "    </tr>\n",
       "    <tr>\n",
       "      <th>2</th>\n",
       "      <td>100013</td>\n",
       "      <td>18159.919219</td>\n",
       "    </tr>\n",
       "    <tr>\n",
       "      <th>3</th>\n",
       "      <td>100021</td>\n",
       "      <td>0.000000</td>\n",
       "    </tr>\n",
       "    <tr>\n",
       "      <th>4</th>\n",
       "      <td>100023</td>\n",
       "      <td>0.000000</td>\n",
       "    </tr>\n",
       "  </tbody>\n",
       "</table>\n",
       "</div>"
      ],
      "text/plain": [
       "   SK_ID_CURR   AMT_BALANCE\n",
       "0  100006      0.000000    \n",
       "1  100011      54482.111149\n",
       "2  100013      18159.919219\n",
       "3  100021      0.000000    \n",
       "4  100023      0.000000    "
      ]
     },
     "execution_count": 76,
     "metadata": {},
     "output_type": "execute_result"
    }
   ],
   "source": [
    "amt_balance_df.head()"
   ]
  },
  {
   "cell_type": "code",
   "execution_count": 77,
   "metadata": {},
   "outputs": [],
   "source": [
    "#name_contr_df\n",
    "nam_contr = previous_application[['SK_ID_CURR', 'NAME_CONTRACT_TYPE_PREV']]\n",
    "nam_cntr_dummied_df = nam_contr.groupby('SK_ID_CURR').NAME_CONTRACT_TYPE_PREV.value_counts().unstack()\n",
    "nam_cntr_dummied_df.columns = ['cash_loans', 'consumer_loans', 'revolving_loans', 'xna']\n",
    "nam_cntr_dummied_df = nam_cntr_dummied_df.fillna(value=0).reset_index()"
   ]
  },
  {
   "cell_type": "code",
   "execution_count": 78,
   "metadata": {},
   "outputs": [],
   "source": [
    "my_utils = MyUtils(previous_application)\n",
    "cnt_payment_df = my_utils.groupBySkidMean('CNT_PAYMENT')"
   ]
  },
  {
   "cell_type": "code",
   "execution_count": 79,
   "metadata": {},
   "outputs": [],
   "source": [
    "my_utils = MyUtils(previous_application)\n",
    "amt_goods_price_df = my_utils.groupBySkidMean('AMT_GOODS_PRICE_PREV')\n",
    "amt_annuity_df = my_utils.groupBySkidMean('AMT_ANNUITY')\n",
    "\n",
    "previous_application['app_cred_diff'] = previous_application.AMT_APPLICATION - previous_application.AMT_CREDIT_PREV\n",
    "app_cred_diff_df = my_utils.groupBySkidMean('app_cred_diff')\n",
    "amt_credit_df = my_utils.groupBySkidMean('AMT_CREDIT_PREV')"
   ]
  },
  {
   "cell_type": "code",
   "execution_count": 80,
   "metadata": {},
   "outputs": [],
   "source": [
    "cols_select = ['SK_ID_CURR', 'NAME_CONTRACT_STATUS_PREV']\n",
    "prevapp_select = previous_application[cols_select]"
   ]
  },
  {
   "cell_type": "code",
   "execution_count": 81,
   "metadata": {},
   "outputs": [],
   "source": [
    "prev_name_cntr_status_df = prevapp_select.groupby('SK_ID_CURR').NAME_CONTRACT_STATUS_PREV.value_counts().unstack().fillna(value=0)\n",
    "prev_name_cntr_status_df.columns = ['NAME_CONTRACT_STATUS_PREV_approved', 'NAME_CONTRACT_STATUS_PREV_canceled', 'NAME_CONTRACT_STATUS_PREV_refused', 'NAME_CONTRACT_STATUS_PREV_unused']\n",
    "prev_name_cntr_status_df = prev_name_cntr_status_df.reset_index()"
   ]
  },
  {
   "cell_type": "code",
   "execution_count": 82,
   "metadata": {},
   "outputs": [],
   "source": [
    "my_utils = MyUtils(pos_cash_balance)\n",
    "count_contract_status_df = my_utils.groupBySkidCount('NAME_CONTRACT_STATUS_POS')\n",
    "future_df = my_utils.groupBySkidCount('CNT_INSTALMENT_FUTURE')"
   ]
  },
  {
   "cell_type": "code",
   "execution_count": 83,
   "metadata": {},
   "outputs": [],
   "source": [
    "installments_payments['diff_amount'] = installments_payments.AMT_INSTALMENT - installments_payments.AMT_PAYMENT\n",
    "installments_payments['diff_days'] = installments_payments.DAYS_INSTALMENT - installments_payments.DAYS_ENTRY_PAYMENT\n",
    "my_utils = MyUtils(installments_payments)\n",
    "diff_days_mean_df = my_utils.groupBySkidMean('diff_days')\n",
    "diff_amt_mean_df = my_utils.groupBySkidMean('diff_amount')"
   ]
  },
  {
   "cell_type": "markdown",
   "metadata": {},
   "source": [
    "### Start the Main Process"
   ]
  },
  {
   "cell_type": "code",
   "execution_count": 84,
   "metadata": {},
   "outputs": [],
   "source": [
    "train_x = train.drop(['TARGET'], axis=1)"
   ]
  },
  {
   "cell_type": "code",
   "execution_count": 85,
   "metadata": {},
   "outputs": [],
   "source": [
    "assert train_x.shape[1] == test.shape[1]"
   ]
  },
  {
   "cell_type": "code",
   "execution_count": 86,
   "metadata": {},
   "outputs": [],
   "source": [
    "concatted = pd.concat([train_x, test])"
   ]
  },
  {
   "cell_type": "markdown",
   "metadata": {},
   "source": [
    "### Let's remove correlated columns here"
   ]
  },
  {
   "cell_type": "code",
   "execution_count": 87,
   "metadata": {},
   "outputs": [],
   "source": [
    "concatted = concatted.drop(['AMT_ANNUITY', 'AMT_GOODS_PRICE', 'CNT_CHILDREN', 'REGION_RATING_CLIENT_W_CITY'], axis=1)"
   ]
  },
  {
   "cell_type": "code",
   "execution_count": 88,
   "metadata": {},
   "outputs": [],
   "source": [
    "assert installments_payments[installments_payments.diff_amount.isnull()].shape[0] == installments_payments[installments_payments.diff_days.isnull()].shape[0]"
   ]
  },
  {
   "cell_type": "code",
   "execution_count": 89,
   "metadata": {},
   "outputs": [],
   "source": [
    "#Since they share same rows, joint them\n",
    "join_amt_days = diff_amt_mean_df.merge(diff_days_mean_df, on='SK_ID_CURR', how='inner')"
   ]
  },
  {
   "cell_type": "code",
   "execution_count": 90,
   "metadata": {},
   "outputs": [
    {
     "data": {
      "text/plain": [
       "(338857, 2)"
      ]
     },
     "execution_count": 90,
     "metadata": {},
     "output_type": "execute_result"
    }
   ],
   "source": [
    "prev_app_cnt_df.shape"
   ]
  },
  {
   "cell_type": "code",
   "execution_count": 91,
   "metadata": {},
   "outputs": [
    {
     "data": {
      "text/plain": [
       "(103558, 2)"
      ]
     },
     "execution_count": 91,
     "metadata": {},
     "output_type": "execute_result"
    }
   ],
   "source": [
    "cred_cnt_df.shape"
   ]
  },
  {
   "cell_type": "markdown",
   "metadata": {},
   "source": [
    "### Doing Joins with Engineered Features"
   ]
  },
  {
   "cell_type": "code",
   "execution_count": 96,
   "metadata": {},
   "outputs": [],
   "source": [
    "concat_with_features = concatted.merge(future_df, on='SK_ID_CURR', how='left')  \\\n",
    "            .merge(join_amt_days, on='SK_ID_CURR', how='left') \\\n",
    "            .merge(count_contract_status_df, on='SK_ID_CURR', how='left') \\\n",
    "            .merge(app_cred_diff_df, on='SK_ID_CURR', how='left') \\\n",
    "            .merge(amt_credit_df, on='SK_ID_CURR', how='left') \\\n",
    "            .merge(amt_annuity_df, on='SK_ID_CURR', how='left') \\\n",
    "            .merge(amt_goods_price_df, on='SK_ID_CURR', how='left') \\\n",
    "            .merge(amt_balance_df, on='SK_ID_CURR', how='left') \\\n",
    "            .merge(cnt_payment_df, on='SK_ID_CURR', how='left') \\\n",
    "            .merge(prev_app_cnt_df, on='SK_ID_CURR', how='left') \\\n",
    "            .merge(cred_cnt_df, on='SK_ID_CURR', how='left') \\\n",
    "            .merge(bureau_burbal_df, on='SK_ID_CURR', how='left') \\\n",
    "            .merge(bur_grp_df, on='SK_ID_CURR', how='left') \\\n",
    "            .merge(bur_curr_df, on='SK_ID_CURR', how='left') \\\n",
    "            .merge(bur_credtype_df, on='SK_ID_CURR', how='left') \\\n",
    "            .merge(bur_amtcredsum_df, on='SK_ID_CURR', how='left') \\\n",
    "            .merge(bur_dayscredupdate_df, on='SK_ID_CURR', how='left') \\\n",
    "            .merge(bur_creddayoverdue_df, on='SK_ID_CURR', how='left') \\\n",
    "            .merge(nam_cntr_dummied_df, on='SK_ID_CURR', how='left') \\\n",
    "            .merge(prev_name_cntr_status_df, on='SK_ID_CURR', how='left') \\\n",
    "            .merge(sk_dpd_def_pos_df, on='SK_ID_CURR', how='left') \\\n",
    "            .merge(sk_dpd_df, on='SK_ID_CURR', how='left') \\\n",
    "            .merge(bur_amt_cred_sum_overdue_df, on='SK_ID_CURR', how='left') \\\n",
    "            .merge(bur_amt_cred_sum_limit_df, on='SK_ID_CURR', how='left') \\\n",
    "            .merge(bur_amt_credit_sum_debt_df, on='SK_ID_CURR', how='left')"
   ]
  },
  {
   "cell_type": "code",
   "execution_count": 97,
   "metadata": {},
   "outputs": [
    {
     "data": {
      "text/html": [
       "<div>\n",
       "<style scoped>\n",
       "    .dataframe tbody tr th:only-of-type {\n",
       "        vertical-align: middle;\n",
       "    }\n",
       "\n",
       "    .dataframe tbody tr th {\n",
       "        vertical-align: top;\n",
       "    }\n",
       "\n",
       "    .dataframe thead th {\n",
       "        text-align: right;\n",
       "    }\n",
       "</style>\n",
       "<table border=\"1\" class=\"dataframe\">\n",
       "  <thead>\n",
       "    <tr style=\"text-align: right;\">\n",
       "      <th></th>\n",
       "      <th>bureau_cnt</th>\n",
       "      <th>credit_active</th>\n",
       "      <th>credit_bad_debt</th>\n",
       "      <th>credit_closed</th>\n",
       "      <th>credit_sold</th>\n",
       "      <th>currency1</th>\n",
       "      <th>currency2</th>\n",
       "      <th>currency3</th>\n",
       "      <th>currency4</th>\n",
       "      <th>Another type of loan</th>\n",
       "      <th>Car loan</th>\n",
       "      <th>Cash loan (non-earmarked)</th>\n",
       "      <th>Consumer credit</th>\n",
       "      <th>Credit card</th>\n",
       "      <th>Interbank credit</th>\n",
       "      <th>Loan for business development</th>\n",
       "      <th>Loan for purchase of shares (margin lending)</th>\n",
       "      <th>Loan for the purchase of equipment</th>\n",
       "      <th>Loan for working capital replenishment</th>\n",
       "      <th>Microloan</th>\n",
       "      <th>Mobile operator loan</th>\n",
       "      <th>Mortgage</th>\n",
       "      <th>Real estate loan</th>\n",
       "      <th>Unknown type of loan</th>\n",
       "      <th>AMT_CREDIT_SUM</th>\n",
       "      <th>DAYS_CREDIT_UPDATE</th>\n",
       "      <th>CREDIT_DAY_OVERDUE</th>\n",
       "      <th>cash_loans</th>\n",
       "      <th>consumer_loans</th>\n",
       "      <th>revolving_loans</th>\n",
       "      <th>xna</th>\n",
       "      <th>NAME_CONTRACT_STATUS_PREV_approved</th>\n",
       "      <th>NAME_CONTRACT_STATUS_PREV_canceled</th>\n",
       "      <th>NAME_CONTRACT_STATUS_PREV_refused</th>\n",
       "      <th>NAME_CONTRACT_STATUS_PREV_unused</th>\n",
       "      <th>SK_DPD_DEF_POS</th>\n",
       "      <th>SK_DPD</th>\n",
       "      <th>AMT_CREDIT_SUM_OVERDUE</th>\n",
       "      <th>AMT_CREDIT_SUM_LIMIT</th>\n",
       "      <th>AMT_CREDIT_SUM_DEBT</th>\n",
       "    </tr>\n",
       "  </thead>\n",
       "  <tbody>\n",
       "    <tr>\n",
       "      <th>0</th>\n",
       "      <td>110.0</td>\n",
       "      <td>2.0</td>\n",
       "      <td>0.0</td>\n",
       "      <td>6.0</td>\n",
       "      <td>0.0</td>\n",
       "      <td>8.0</td>\n",
       "      <td>0.0</td>\n",
       "      <td>0.0</td>\n",
       "      <td>0.0</td>\n",
       "      <td>0.0</td>\n",
       "      <td>0.0</td>\n",
       "      <td>0.0</td>\n",
       "      <td>4.0</td>\n",
       "      <td>4.0</td>\n",
       "      <td>0.0</td>\n",
       "      <td>0.0</td>\n",
       "      <td>0.0</td>\n",
       "      <td>0.0</td>\n",
       "      <td>0.0</td>\n",
       "      <td>0.0</td>\n",
       "      <td>0.0</td>\n",
       "      <td>0.0</td>\n",
       "      <td>0.0</td>\n",
       "      <td>0.0</td>\n",
       "      <td>108131.945625</td>\n",
       "      <td>-499.875</td>\n",
       "      <td>0.0</td>\n",
       "      <td>0.0</td>\n",
       "      <td>1.0</td>\n",
       "      <td>0.0</td>\n",
       "      <td>0.0</td>\n",
       "      <td>1.0</td>\n",
       "      <td>0.0</td>\n",
       "      <td>0.0</td>\n",
       "      <td>0.0</td>\n",
       "      <td>0.0</td>\n",
       "      <td>0.0</td>\n",
       "      <td>0.0</td>\n",
       "      <td>7997.14125</td>\n",
       "      <td>49156.2</td>\n",
       "    </tr>\n",
       "    <tr>\n",
       "      <th>1</th>\n",
       "      <td>0.0</td>\n",
       "      <td>1.0</td>\n",
       "      <td>0.0</td>\n",
       "      <td>3.0</td>\n",
       "      <td>0.0</td>\n",
       "      <td>4.0</td>\n",
       "      <td>0.0</td>\n",
       "      <td>0.0</td>\n",
       "      <td>0.0</td>\n",
       "      <td>0.0</td>\n",
       "      <td>0.0</td>\n",
       "      <td>0.0</td>\n",
       "      <td>2.0</td>\n",
       "      <td>2.0</td>\n",
       "      <td>0.0</td>\n",
       "      <td>0.0</td>\n",
       "      <td>0.0</td>\n",
       "      <td>0.0</td>\n",
       "      <td>0.0</td>\n",
       "      <td>0.0</td>\n",
       "      <td>0.0</td>\n",
       "      <td>0.0</td>\n",
       "      <td>0.0</td>\n",
       "      <td>0.0</td>\n",
       "      <td>254350.125000</td>\n",
       "      <td>-816.000</td>\n",
       "      <td>0.0</td>\n",
       "      <td>1.0</td>\n",
       "      <td>2.0</td>\n",
       "      <td>0.0</td>\n",
       "      <td>0.0</td>\n",
       "      <td>3.0</td>\n",
       "      <td>0.0</td>\n",
       "      <td>0.0</td>\n",
       "      <td>0.0</td>\n",
       "      <td>0.0</td>\n",
       "      <td>0.0</td>\n",
       "      <td>0.0</td>\n",
       "      <td>202500.00000</td>\n",
       "      <td>0.0</td>\n",
       "    </tr>\n",
       "    <tr>\n",
       "      <th>2</th>\n",
       "      <td>0.0</td>\n",
       "      <td>0.0</td>\n",
       "      <td>0.0</td>\n",
       "      <td>2.0</td>\n",
       "      <td>0.0</td>\n",
       "      <td>2.0</td>\n",
       "      <td>0.0</td>\n",
       "      <td>0.0</td>\n",
       "      <td>0.0</td>\n",
       "      <td>0.0</td>\n",
       "      <td>0.0</td>\n",
       "      <td>0.0</td>\n",
       "      <td>2.0</td>\n",
       "      <td>0.0</td>\n",
       "      <td>0.0</td>\n",
       "      <td>0.0</td>\n",
       "      <td>0.0</td>\n",
       "      <td>0.0</td>\n",
       "      <td>0.0</td>\n",
       "      <td>0.0</td>\n",
       "      <td>0.0</td>\n",
       "      <td>0.0</td>\n",
       "      <td>0.0</td>\n",
       "      <td>0.0</td>\n",
       "      <td>94518.900000</td>\n",
       "      <td>-532.000</td>\n",
       "      <td>0.0</td>\n",
       "      <td>0.0</td>\n",
       "      <td>1.0</td>\n",
       "      <td>0.0</td>\n",
       "      <td>0.0</td>\n",
       "      <td>1.0</td>\n",
       "      <td>0.0</td>\n",
       "      <td>0.0</td>\n",
       "      <td>0.0</td>\n",
       "      <td>0.0</td>\n",
       "      <td>0.0</td>\n",
       "      <td>0.0</td>\n",
       "      <td>0.00000</td>\n",
       "      <td>0.0</td>\n",
       "    </tr>\n",
       "    <tr>\n",
       "      <th>3</th>\n",
       "      <td>NaN</td>\n",
       "      <td>NaN</td>\n",
       "      <td>NaN</td>\n",
       "      <td>NaN</td>\n",
       "      <td>NaN</td>\n",
       "      <td>NaN</td>\n",
       "      <td>NaN</td>\n",
       "      <td>NaN</td>\n",
       "      <td>NaN</td>\n",
       "      <td>NaN</td>\n",
       "      <td>NaN</td>\n",
       "      <td>NaN</td>\n",
       "      <td>NaN</td>\n",
       "      <td>NaN</td>\n",
       "      <td>NaN</td>\n",
       "      <td>NaN</td>\n",
       "      <td>NaN</td>\n",
       "      <td>NaN</td>\n",
       "      <td>NaN</td>\n",
       "      <td>NaN</td>\n",
       "      <td>NaN</td>\n",
       "      <td>NaN</td>\n",
       "      <td>NaN</td>\n",
       "      <td>NaN</td>\n",
       "      <td>NaN</td>\n",
       "      <td>NaN</td>\n",
       "      <td>NaN</td>\n",
       "      <td>5.0</td>\n",
       "      <td>2.0</td>\n",
       "      <td>2.0</td>\n",
       "      <td>0.0</td>\n",
       "      <td>5.0</td>\n",
       "      <td>3.0</td>\n",
       "      <td>1.0</td>\n",
       "      <td>0.0</td>\n",
       "      <td>0.0</td>\n",
       "      <td>0.0</td>\n",
       "      <td>NaN</td>\n",
       "      <td>NaN</td>\n",
       "      <td>NaN</td>\n",
       "    </tr>\n",
       "    <tr>\n",
       "      <th>4</th>\n",
       "      <td>0.0</td>\n",
       "      <td>0.0</td>\n",
       "      <td>0.0</td>\n",
       "      <td>1.0</td>\n",
       "      <td>0.0</td>\n",
       "      <td>1.0</td>\n",
       "      <td>0.0</td>\n",
       "      <td>0.0</td>\n",
       "      <td>0.0</td>\n",
       "      <td>0.0</td>\n",
       "      <td>0.0</td>\n",
       "      <td>0.0</td>\n",
       "      <td>1.0</td>\n",
       "      <td>0.0</td>\n",
       "      <td>0.0</td>\n",
       "      <td>0.0</td>\n",
       "      <td>0.0</td>\n",
       "      <td>0.0</td>\n",
       "      <td>0.0</td>\n",
       "      <td>0.0</td>\n",
       "      <td>0.0</td>\n",
       "      <td>0.0</td>\n",
       "      <td>0.0</td>\n",
       "      <td>0.0</td>\n",
       "      <td>146250.000000</td>\n",
       "      <td>-783.000</td>\n",
       "      <td>0.0</td>\n",
       "      <td>4.0</td>\n",
       "      <td>2.0</td>\n",
       "      <td>0.0</td>\n",
       "      <td>0.0</td>\n",
       "      <td>6.0</td>\n",
       "      <td>0.0</td>\n",
       "      <td>0.0</td>\n",
       "      <td>0.0</td>\n",
       "      <td>0.0</td>\n",
       "      <td>0.0</td>\n",
       "      <td>0.0</td>\n",
       "      <td>0.00000</td>\n",
       "      <td>0.0</td>\n",
       "    </tr>\n",
       "  </tbody>\n",
       "</table>\n",
       "</div>"
      ],
      "text/plain": [
       "   bureau_cnt  credit_active  credit_bad_debt  credit_closed  credit_sold  \\\n",
       "0  110.0       2.0            0.0              6.0            0.0           \n",
       "1  0.0         1.0            0.0              3.0            0.0           \n",
       "2  0.0         0.0            0.0              2.0            0.0           \n",
       "3 NaN         NaN            NaN              NaN            NaN            \n",
       "4  0.0         0.0            0.0              1.0            0.0           \n",
       "\n",
       "   currency1  currency2  currency3  currency4  Another type of loan  Car loan  \\\n",
       "0  8.0        0.0        0.0        0.0        0.0                   0.0        \n",
       "1  4.0        0.0        0.0        0.0        0.0                   0.0        \n",
       "2  2.0        0.0        0.0        0.0        0.0                   0.0        \n",
       "3 NaN        NaN        NaN        NaN        NaN                   NaN         \n",
       "4  1.0        0.0        0.0        0.0        0.0                   0.0        \n",
       "\n",
       "   Cash loan (non-earmarked)  Consumer credit  Credit card  Interbank credit  \\\n",
       "0  0.0                        4.0              4.0          0.0                \n",
       "1  0.0                        2.0              2.0          0.0                \n",
       "2  0.0                        2.0              0.0          0.0                \n",
       "3 NaN                        NaN              NaN          NaN                 \n",
       "4  0.0                        1.0              0.0          0.0                \n",
       "\n",
       "   Loan for business development  \\\n",
       "0  0.0                             \n",
       "1  0.0                             \n",
       "2  0.0                             \n",
       "3 NaN                              \n",
       "4  0.0                             \n",
       "\n",
       "   Loan for purchase of shares (margin lending)  \\\n",
       "0  0.0                                            \n",
       "1  0.0                                            \n",
       "2  0.0                                            \n",
       "3 NaN                                             \n",
       "4  0.0                                            \n",
       "\n",
       "   Loan for the purchase of equipment  Loan for working capital replenishment  \\\n",
       "0  0.0                                 0.0                                      \n",
       "1  0.0                                 0.0                                      \n",
       "2  0.0                                 0.0                                      \n",
       "3 NaN                                 NaN                                       \n",
       "4  0.0                                 0.0                                      \n",
       "\n",
       "   Microloan  Mobile operator loan  Mortgage  Real estate loan  \\\n",
       "0  0.0        0.0                   0.0       0.0                \n",
       "1  0.0        0.0                   0.0       0.0                \n",
       "2  0.0        0.0                   0.0       0.0                \n",
       "3 NaN        NaN                   NaN       NaN                 \n",
       "4  0.0        0.0                   0.0       0.0                \n",
       "\n",
       "   Unknown type of loan  AMT_CREDIT_SUM  DAYS_CREDIT_UPDATE  \\\n",
       "0  0.0                   108131.945625  -499.875              \n",
       "1  0.0                   254350.125000  -816.000              \n",
       "2  0.0                   94518.900000   -532.000              \n",
       "3 NaN                   NaN             NaN                   \n",
       "4  0.0                   146250.000000  -783.000              \n",
       "\n",
       "   CREDIT_DAY_OVERDUE  cash_loans  consumer_loans  revolving_loans  xna  \\\n",
       "0  0.0                 0.0         1.0             0.0              0.0   \n",
       "1  0.0                 1.0         2.0             0.0              0.0   \n",
       "2  0.0                 0.0         1.0             0.0              0.0   \n",
       "3 NaN                  5.0         2.0             2.0              0.0   \n",
       "4  0.0                 4.0         2.0             0.0              0.0   \n",
       "\n",
       "   NAME_CONTRACT_STATUS_PREV_approved  NAME_CONTRACT_STATUS_PREV_canceled  \\\n",
       "0  1.0                                 0.0                                  \n",
       "1  3.0                                 0.0                                  \n",
       "2  1.0                                 0.0                                  \n",
       "3  5.0                                 3.0                                  \n",
       "4  6.0                                 0.0                                  \n",
       "\n",
       "   NAME_CONTRACT_STATUS_PREV_refused  NAME_CONTRACT_STATUS_PREV_unused  \\\n",
       "0  0.0                                0.0                                \n",
       "1  0.0                                0.0                                \n",
       "2  0.0                                0.0                                \n",
       "3  1.0                                0.0                                \n",
       "4  0.0                                0.0                                \n",
       "\n",
       "   SK_DPD_DEF_POS  SK_DPD  AMT_CREDIT_SUM_OVERDUE  AMT_CREDIT_SUM_LIMIT  \\\n",
       "0  0.0             0.0     0.0                     7997.14125             \n",
       "1  0.0             0.0     0.0                     202500.00000           \n",
       "2  0.0             0.0     0.0                     0.00000                \n",
       "3  0.0             0.0    NaN                     NaN                     \n",
       "4  0.0             0.0     0.0                     0.00000                \n",
       "\n",
       "   AMT_CREDIT_SUM_DEBT  \n",
       "0  49156.2              \n",
       "1  0.0                  \n",
       "2  0.0                  \n",
       "3 NaN                   \n",
       "4  0.0                  "
      ]
     },
     "execution_count": 97,
     "metadata": {},
     "output_type": "execute_result"
    }
   ],
   "source": [
    "concat_with_features.iloc[:,129:].head()"
   ]
  },
  {
   "cell_type": "code",
   "execution_count": 98,
   "metadata": {},
   "outputs": [
    {
     "data": {
      "text/plain": [
       "125"
      ]
     },
     "execution_count": 98,
     "metadata": {},
     "output_type": "execute_result"
    }
   ],
   "source": [
    "concat_with_features.columns.get_loc('AMT_BALANCE')"
   ]
  },
  {
   "cell_type": "code",
   "execution_count": 99,
   "metadata": {},
   "outputs": [],
   "source": [
    "#fill nas after 138th column with zeros. lower cased column names are engineered columns\n",
    "concat_with_features.iloc[:,125:] = concat_with_features.iloc[:,125:].fillna(value=0)"
   ]
  },
  {
   "cell_type": "code",
   "execution_count": 100,
   "metadata": {},
   "outputs": [],
   "source": [
    "y_train = train.TARGET"
   ]
  },
  {
   "cell_type": "markdown",
   "metadata": {},
   "source": [
    "### Load Imputer Libraries"
   ]
  },
  {
   "cell_type": "code",
   "execution_count": 101,
   "metadata": {},
   "outputs": [],
   "source": [
    "from sklearn.preprocessing import Imputer\n",
    "my_imputer = Imputer()\n",
    "from sklearn.ensemble import RandomForestClassifier\n",
    "from sklearn.linear_model import LogisticRegression\n",
    "clf = RandomForestClassifier()\n",
    "# clf = LogisticRegression()"
   ]
  },
  {
   "cell_type": "code",
   "execution_count": 102,
   "metadata": {},
   "outputs": [],
   "source": [
    "concat_with_features_drop = concat_with_features.drop('SK_ID_CURR', axis=1)"
   ]
  },
  {
   "cell_type": "code",
   "execution_count": 103,
   "metadata": {},
   "outputs": [],
   "source": [
    "dummied = pd.get_dummies(concat_with_features_drop)"
   ]
  },
  {
   "cell_type": "code",
   "execution_count": 104,
   "metadata": {},
   "outputs": [],
   "source": [
    "imputed = my_imputer.fit_transform(dummied)"
   ]
  },
  {
   "cell_type": "code",
   "execution_count": 105,
   "metadata": {},
   "outputs": [],
   "source": [
    "imputed_df = pd.DataFrame(imputed)\n",
    "imputed_df.columns = dummied.columns"
   ]
  },
  {
   "cell_type": "markdown",
   "metadata": {},
   "source": [
    "### Split the test and train back"
   ]
  },
  {
   "cell_type": "code",
   "execution_count": 106,
   "metadata": {},
   "outputs": [],
   "source": [
    "new_x_train_df = imputed_df[:train_x.shape[0]]\n",
    "new_test_df = imputed_df[train_x.shape[0]:]"
   ]
  },
  {
   "cell_type": "code",
   "execution_count": 107,
   "metadata": {},
   "outputs": [],
   "source": [
    "assert new_x_train_df.shape[0] == train.shape[0] "
   ]
  },
  {
   "cell_type": "markdown",
   "metadata": {},
   "source": [
    "### Initiate XGBoost Classifier"
   ]
  },
  {
   "cell_type": "code",
   "execution_count": null,
   "metadata": {},
   "outputs": [],
   "source": [
    "from xgboost import XGBClassifier\n",
    "model = XGBClassifier()\n",
    "n_estimators = [50, 100, 150, 200]\n",
    "max_depth = [2, 4, 6, 8]\n",
    "param_grid = dict(max_depth=max_depth, n_estimators=n_estimators)\n",
    "kfold = StratifiedKFold(n_splits=10, shuffle=True, random_state=7)\n",
    "grid_search = GridSearchCV(model, param_grid, cv=kfold, n_jobs=-1)\n",
    "grid_result = grid_search.fit(new_x_train_df, y_train)\n",
    "print 'Best %s using %s'%(str(grid_result.best_score_), str(grid_result.best_params_))"
   ]
  },
  {
   "cell_type": "code",
   "execution_count": 108,
   "metadata": {},
   "outputs": [
    {
     "name": "stderr",
     "output_type": "stream",
     "text": [
      "/home/pranay/tensorflow/lib/python2.7/site-packages/ipykernel_launcher.py:1: SettingWithCopyWarning: \n",
      "A value is trying to be set on a copy of a slice from a DataFrame.\n",
      "Try using .loc[row_indexer,col_indexer] = value instead\n",
      "\n",
      "See the caveats in the documentation: http://pandas.pydata.org/pandas-docs/stable/indexing.html#indexing-view-versus-copy\n",
      "  \"\"\"Entry point for launching an IPython kernel.\n"
     ]
    }
   ],
   "source": [
    "new_x_train_df['TARGET'] = train.TARGET"
   ]
  },
  {
   "cell_type": "code",
   "execution_count": 109,
   "metadata": {},
   "outputs": [
    {
     "name": "stdout",
     "output_type": "stream",
     "text": [
      "shape of sampled indices is (11, 24825)\n",
      "starting 0 th sample\n",
      "starting 1 th sample\n",
      "starting 2 th sample\n",
      "starting 3 th sample\n",
      "starting 4 th sample\n",
      "starting 5 th sample\n",
      "starting 6 th sample\n",
      "starting 7 th sample\n",
      "starting 8 th sample\n",
      "starting 9 th sample\n",
      "starting 10 th sample\n"
     ]
    }
   ],
   "source": [
    "\n",
    "train_zeros = new_x_train_df[new_x_train_df.TARGET == 0]\n",
    "train_ones = new_x_train_df[new_x_train_df.TARGET == 1]\n",
    "sampled_indices = np.random.choice(train_zeros.index, size=[11, train_ones.shape[0]], replace=False)\n",
    "print 'shape of sampled indices is %s'%(str(sampled_indices.shape))\n",
    "test_dropid = new_test_df\n",
    "ensembled = np.zeros([11, test.shape[0]])\n",
    "preds_list = []\n",
    "for i in range(11):\n",
    "    print 'starting %s th sample'%(str(i))\n",
    "    new_train = pd.concat([train_zeros.loc[sampled_indices[i]], train_ones])\n",
    "    train_y = new_train.TARGET\n",
    "    train_x = new_train.drop(['TARGET'], axis=1)\n",
    "    \n",
    "    concatted = pd.concat([train_x, test_dropid])\n",
    "    concatted_dummied = pd.get_dummies(concatted)\n",
    "    imputed_concatted = my_imputer.fit_transform(concatted_dummied)\n",
    "    imputed_concatted_df = pd.DataFrame(imputed_concatted)\n",
    "    imputed_concatted_df.columns = concatted_dummied.columns\n",
    "    #split them back to train and test\n",
    "    train_x_after_impute = imputed_concatted_df[:train_x.shape[0]]\n",
    "    test_x = imputed_concatted_df[train_x.shape[0]:]\n",
    "    clf.fit(train_x_after_impute, train_y)\n",
    "    preds = clf.predict_proba(test_x)\n",
    "    pred_actual = preds[:,1]\n",
    "    ensembled[i] = pred_actual\n",
    "\n"
   ]
  },
  {
   "cell_type": "code",
   "execution_count": 78,
   "metadata": {},
   "outputs": [
    {
     "name": "stderr",
     "output_type": "stream",
     "text": [
      "/home/pranay/tensorflow/local/lib/python2.7/site-packages/sklearn/ensemble/forest.py:623: RuntimeWarning: divide by zero encountered in log\n",
      "  return np.log(proba)\n"
     ]
    }
   ],
   "source": [
    "dropped = new_x_train_df.drop(['TARGET'], axis=1)\n",
    "x_resampled, y_resampled = SMOTE().fit_sample(dropped, y_train)\n",
    "clf.fit(x_resampled, y_resampled)\n",
    "predicts = clf.predict_log_proba(new_test_df)"
   ]
  },
  {
   "cell_type": "code",
   "execution_count": 104,
   "metadata": {},
   "outputs": [],
   "source": [
    "predicts = clf.predict_proba(new_test_df)"
   ]
  },
  {
   "cell_type": "code",
   "execution_count": 100,
   "metadata": {},
   "outputs": [
    {
     "data": {
      "text/plain": [
       "(307511,)"
      ]
     },
     "execution_count": 100,
     "metadata": {},
     "output_type": "execute_result"
    }
   ],
   "source": [
    "y_train.shape"
   ]
  },
  {
   "cell_type": "code",
   "execution_count": 106,
   "metadata": {},
   "outputs": [],
   "source": [
    "meaned = predicts[:,0]"
   ]
  },
  {
   "cell_type": "code",
   "execution_count": 110,
   "metadata": {},
   "outputs": [],
   "source": [
    "meaned = np.mean(ensembled, axis=0)\n",
    "assert meaned.shape[0] == 48744"
   ]
  },
  {
   "cell_type": "code",
   "execution_count": null,
   "metadata": {},
   "outputs": [],
   "source": [
    "clf.fit(x_resampled, y_resampled)"
   ]
  },
  {
   "cell_type": "code",
   "execution_count": 203,
   "metadata": {},
   "outputs": [],
   "source": [
    "preds = clf.predict_proba(new_test)\n",
    "pred_actual = preds[:,1]"
   ]
  },
  {
   "cell_type": "code",
   "execution_count": null,
   "metadata": {},
   "outputs": [],
   "source": [
    "assert len(not_included) == test.shape[0] - test_merged.shape[0]"
   ]
  },
  {
   "cell_type": "code",
   "execution_count": 111,
   "metadata": {},
   "outputs": [],
   "source": [
    "preds_df = pd.DataFrame(meaned)\n",
    "subm = pd.concat([test.SK_ID_CURR, preds_df], axis=1)\n",
    "subm.columns = ['SK_ID_CURR', 'TARGET']"
   ]
  },
  {
   "cell_type": "code",
   "execution_count": 112,
   "metadata": {},
   "outputs": [],
   "source": [
    "subm_csv = subm.to_csv('submission.csv', sep=',', index=False)"
   ]
  },
  {
   "cell_type": "code",
   "execution_count": 113,
   "metadata": {},
   "outputs": [],
   "source": [
    "%mv submission.csv /home/pranay/Downloads/"
   ]
  },
  {
   "cell_type": "code",
   "execution_count": 266,
   "metadata": {},
   "outputs": [
    {
     "data": {
      "text/html": [
       "<div>\n",
       "<style scoped>\n",
       "    .dataframe tbody tr th:only-of-type {\n",
       "        vertical-align: middle;\n",
       "    }\n",
       "\n",
       "    .dataframe tbody tr th {\n",
       "        vertical-align: top;\n",
       "    }\n",
       "\n",
       "    .dataframe thead th {\n",
       "        text-align: right;\n",
       "    }\n",
       "</style>\n",
       "<table border=\"1\" class=\"dataframe\">\n",
       "  <thead>\n",
       "    <tr style=\"text-align: right;\">\n",
       "      <th></th>\n",
       "      <th>SK_ID_PREV</th>\n",
       "      <th>SK_ID_CURR</th>\n",
       "      <th>MONTHS_BALANCE</th>\n",
       "      <th>AMT_BALANCE</th>\n",
       "      <th>AMT_CREDIT_LIMIT_ACTUAL</th>\n",
       "      <th>AMT_DRAWINGS_ATM_CURRENT</th>\n",
       "      <th>AMT_DRAWINGS_CURRENT</th>\n",
       "      <th>AMT_DRAWINGS_OTHER_CURRENT</th>\n",
       "      <th>AMT_DRAWINGS_POS_CURRENT</th>\n",
       "      <th>AMT_INST_MIN_REGULARITY</th>\n",
       "      <th>AMT_PAYMENT_CURRENT</th>\n",
       "      <th>AMT_PAYMENT_TOTAL_CURRENT</th>\n",
       "      <th>AMT_RECEIVABLE_PRINCIPAL</th>\n",
       "      <th>AMT_RECIVABLE</th>\n",
       "      <th>AMT_TOTAL_RECEIVABLE</th>\n",
       "      <th>CNT_DRAWINGS_ATM_CURRENT</th>\n",
       "      <th>CNT_DRAWINGS_CURRENT</th>\n",
       "      <th>CNT_DRAWINGS_OTHER_CURRENT</th>\n",
       "      <th>CNT_DRAWINGS_POS_CURRENT</th>\n",
       "      <th>CNT_INSTALMENT_MATURE_CUM</th>\n",
       "      <th>NAME_CONTRACT_STATUS</th>\n",
       "      <th>SK_DPD</th>\n",
       "      <th>SK_DPD_DEF</th>\n",
       "    </tr>\n",
       "  </thead>\n",
       "  <tbody>\n",
       "    <tr>\n",
       "      <th>0</th>\n",
       "      <td>2562384</td>\n",
       "      <td>378907</td>\n",
       "      <td>-6</td>\n",
       "      <td>56.970</td>\n",
       "      <td>135000</td>\n",
       "      <td>0.0</td>\n",
       "      <td>877.5</td>\n",
       "      <td>0.0</td>\n",
       "      <td>877.5</td>\n",
       "      <td>1700.325</td>\n",
       "      <td>1800.0</td>\n",
       "      <td>1800.0</td>\n",
       "      <td>0.000</td>\n",
       "      <td>0.000</td>\n",
       "      <td>0.000</td>\n",
       "      <td>0.0</td>\n",
       "      <td>1</td>\n",
       "      <td>0.0</td>\n",
       "      <td>1.0</td>\n",
       "      <td>35.0</td>\n",
       "      <td>Active</td>\n",
       "      <td>0</td>\n",
       "      <td>0</td>\n",
       "    </tr>\n",
       "    <tr>\n",
       "      <th>1</th>\n",
       "      <td>2582071</td>\n",
       "      <td>363914</td>\n",
       "      <td>-1</td>\n",
       "      <td>63975.555</td>\n",
       "      <td>45000</td>\n",
       "      <td>2250.0</td>\n",
       "      <td>2250.0</td>\n",
       "      <td>0.0</td>\n",
       "      <td>0.0</td>\n",
       "      <td>2250.000</td>\n",
       "      <td>2250.0</td>\n",
       "      <td>2250.0</td>\n",
       "      <td>60175.080</td>\n",
       "      <td>64875.555</td>\n",
       "      <td>64875.555</td>\n",
       "      <td>1.0</td>\n",
       "      <td>1</td>\n",
       "      <td>0.0</td>\n",
       "      <td>0.0</td>\n",
       "      <td>69.0</td>\n",
       "      <td>Active</td>\n",
       "      <td>0</td>\n",
       "      <td>0</td>\n",
       "    </tr>\n",
       "    <tr>\n",
       "      <th>2</th>\n",
       "      <td>1740877</td>\n",
       "      <td>371185</td>\n",
       "      <td>-7</td>\n",
       "      <td>31815.225</td>\n",
       "      <td>450000</td>\n",
       "      <td>0.0</td>\n",
       "      <td>0.0</td>\n",
       "      <td>0.0</td>\n",
       "      <td>0.0</td>\n",
       "      <td>2250.000</td>\n",
       "      <td>2250.0</td>\n",
       "      <td>2250.0</td>\n",
       "      <td>26926.425</td>\n",
       "      <td>31460.085</td>\n",
       "      <td>31460.085</td>\n",
       "      <td>0.0</td>\n",
       "      <td>0</td>\n",
       "      <td>0.0</td>\n",
       "      <td>0.0</td>\n",
       "      <td>30.0</td>\n",
       "      <td>Active</td>\n",
       "      <td>0</td>\n",
       "      <td>0</td>\n",
       "    </tr>\n",
       "    <tr>\n",
       "      <th>3</th>\n",
       "      <td>1389973</td>\n",
       "      <td>337855</td>\n",
       "      <td>-4</td>\n",
       "      <td>236572.110</td>\n",
       "      <td>225000</td>\n",
       "      <td>2250.0</td>\n",
       "      <td>2250.0</td>\n",
       "      <td>0.0</td>\n",
       "      <td>0.0</td>\n",
       "      <td>11795.760</td>\n",
       "      <td>11925.0</td>\n",
       "      <td>11925.0</td>\n",
       "      <td>224949.285</td>\n",
       "      <td>233048.970</td>\n",
       "      <td>233048.970</td>\n",
       "      <td>1.0</td>\n",
       "      <td>1</td>\n",
       "      <td>0.0</td>\n",
       "      <td>0.0</td>\n",
       "      <td>10.0</td>\n",
       "      <td>Active</td>\n",
       "      <td>0</td>\n",
       "      <td>0</td>\n",
       "    </tr>\n",
       "    <tr>\n",
       "      <th>4</th>\n",
       "      <td>1891521</td>\n",
       "      <td>126868</td>\n",
       "      <td>-1</td>\n",
       "      <td>453919.455</td>\n",
       "      <td>450000</td>\n",
       "      <td>0.0</td>\n",
       "      <td>11547.0</td>\n",
       "      <td>0.0</td>\n",
       "      <td>11547.0</td>\n",
       "      <td>22924.890</td>\n",
       "      <td>27000.0</td>\n",
       "      <td>27000.0</td>\n",
       "      <td>443044.395</td>\n",
       "      <td>453919.455</td>\n",
       "      <td>453919.455</td>\n",
       "      <td>0.0</td>\n",
       "      <td>1</td>\n",
       "      <td>0.0</td>\n",
       "      <td>1.0</td>\n",
       "      <td>101.0</td>\n",
       "      <td>Active</td>\n",
       "      <td>0</td>\n",
       "      <td>0</td>\n",
       "    </tr>\n",
       "  </tbody>\n",
       "</table>\n",
       "</div>"
      ],
      "text/plain": [
       "   SK_ID_PREV  SK_ID_CURR  MONTHS_BALANCE  AMT_BALANCE  \\\n",
       "0  2562384     378907     -6               56.970        \n",
       "1  2582071     363914     -1               63975.555     \n",
       "2  1740877     371185     -7               31815.225     \n",
       "3  1389973     337855     -4               236572.110    \n",
       "4  1891521     126868     -1               453919.455    \n",
       "\n",
       "   AMT_CREDIT_LIMIT_ACTUAL  AMT_DRAWINGS_ATM_CURRENT  AMT_DRAWINGS_CURRENT  \\\n",
       "0  135000                   0.0                       877.5                  \n",
       "1  45000                    2250.0                    2250.0                 \n",
       "2  450000                   0.0                       0.0                    \n",
       "3  225000                   2250.0                    2250.0                 \n",
       "4  450000                   0.0                       11547.0                \n",
       "\n",
       "   AMT_DRAWINGS_OTHER_CURRENT  AMT_DRAWINGS_POS_CURRENT  \\\n",
       "0  0.0                         877.5                      \n",
       "1  0.0                         0.0                        \n",
       "2  0.0                         0.0                        \n",
       "3  0.0                         0.0                        \n",
       "4  0.0                         11547.0                    \n",
       "\n",
       "   AMT_INST_MIN_REGULARITY  AMT_PAYMENT_CURRENT  AMT_PAYMENT_TOTAL_CURRENT  \\\n",
       "0  1700.325                 1800.0               1800.0                      \n",
       "1  2250.000                 2250.0               2250.0                      \n",
       "2  2250.000                 2250.0               2250.0                      \n",
       "3  11795.760                11925.0              11925.0                     \n",
       "4  22924.890                27000.0              27000.0                     \n",
       "\n",
       "   AMT_RECEIVABLE_PRINCIPAL  AMT_RECIVABLE  AMT_TOTAL_RECEIVABLE  \\\n",
       "0  0.000                     0.000          0.000                  \n",
       "1  60175.080                 64875.555      64875.555              \n",
       "2  26926.425                 31460.085      31460.085              \n",
       "3  224949.285                233048.970     233048.970             \n",
       "4  443044.395                453919.455     453919.455             \n",
       "\n",
       "   CNT_DRAWINGS_ATM_CURRENT  CNT_DRAWINGS_CURRENT  CNT_DRAWINGS_OTHER_CURRENT  \\\n",
       "0  0.0                       1                     0.0                          \n",
       "1  1.0                       1                     0.0                          \n",
       "2  0.0                       0                     0.0                          \n",
       "3  1.0                       1                     0.0                          \n",
       "4  0.0                       1                     0.0                          \n",
       "\n",
       "   CNT_DRAWINGS_POS_CURRENT  CNT_INSTALMENT_MATURE_CUM NAME_CONTRACT_STATUS  \\\n",
       "0  1.0                       35.0                       Active                \n",
       "1  0.0                       69.0                       Active                \n",
       "2  0.0                       30.0                       Active                \n",
       "3  0.0                       10.0                       Active                \n",
       "4  1.0                       101.0                      Active                \n",
       "\n",
       "   SK_DPD  SK_DPD_DEF  \n",
       "0  0       0           \n",
       "1  0       0           \n",
       "2  0       0           \n",
       "3  0       0           \n",
       "4  0       0           "
      ]
     },
     "execution_count": 266,
     "metadata": {},
     "output_type": "execute_result"
    }
   ],
   "source": [
    "credit_card_balance.head()"
   ]
  },
  {
   "cell_type": "code",
   "execution_count": null,
   "metadata": {},
   "outputs": [],
   "source": [
    "pos_cash_balance.SK_ID_CURR.value_counts()"
   ]
  },
  {
   "cell_type": "code",
   "execution_count": null,
   "metadata": {},
   "outputs": [],
   "source": [
    "credit_card_balance.SK_ID_CURR.value_counts()"
   ]
  },
  {
   "cell_type": "code",
   "execution_count": null,
   "metadata": {},
   "outputs": [],
   "source": [
    "previous_application.SK_ID_CURR.value_counts()"
   ]
  },
  {
   "cell_type": "code",
   "execution_count": 165,
   "metadata": {},
   "outputs": [
    {
     "data": {
      "text/plain": [
       "float64    15\n",
       "int64      7 \n",
       "object     1 \n",
       "dtype: int64"
      ]
     },
     "execution_count": 165,
     "metadata": {},
     "output_type": "execute_result"
    }
   ],
   "source": [
    "for col in credit_card_balance"
   ]
  },
  {
   "cell_type": "code",
   "execution_count": 167,
   "metadata": {},
   "outputs": [
    {
     "data": {
      "text/plain": [
       "True"
      ]
     },
     "execution_count": 167,
     "metadata": {},
     "output_type": "execute_result"
    }
   ],
   "source": [
    "credit_card_balance.SK_ID_CURR.dtype == 'in'"
   ]
  },
  {
   "cell_type": "code",
   "execution_count": 227,
   "metadata": {},
   "outputs": [],
   "source": [
    "assert new_train.shape[0] == train_ones.shape[0] * 2"
   ]
  },
  {
   "cell_type": "code",
   "execution_count": 147,
   "metadata": {},
   "outputs": [],
   "source": [
    "floats = less_nulls_concat.loc[:,less_nulls_concat.dtypes == 'float64']\n",
    "ints = less_nulls_concat.loc[:,less_nulls_concat.dtypes == 'int64']\n",
    "objectly = less_nulls_concat.loc[:,less_nulls_concat.dtypes == 'object']"
   ]
  },
  {
   "cell_type": "code",
   "execution_count": 94,
   "metadata": {},
   "outputs": [],
   "source": [
    "floats = floats.fillna(floats.mean())\n",
    "ints = ints.fillna(ints.mean())"
   ]
  },
  {
   "cell_type": "code",
   "execution_count": 101,
   "metadata": {},
   "outputs": [],
   "source": [
    "assert floats.shape[0] == concatted.shape[0]"
   ]
  },
  {
   "cell_type": "code",
   "execution_count": null,
   "metadata": {},
   "outputs": [],
   "source": [
    "get_nulls(ints)"
   ]
  },
  {
   "cell_type": "code",
   "execution_count": 242,
   "metadata": {},
   "outputs": [],
   "source": []
  },
  {
   "cell_type": "code",
   "execution_count": 243,
   "metadata": {},
   "outputs": [],
   "source": [
    "pred_actual_df = pd.DataFrame(pred_actual)"
   ]
  },
  {
   "cell_type": "code",
   "execution_count": 244,
   "metadata": {},
   "outputs": [],
   "source": [
    "subm = pd.concat([test.SK_ID_CURR, pred_actual_df], axis=1)"
   ]
  },
  {
   "cell_type": "code",
   "execution_count": 245,
   "metadata": {},
   "outputs": [],
   "source": [
    "subm.columns = ['SK_ID_CURR', 'TARGET']"
   ]
  },
  {
   "cell_type": "code",
   "execution_count": 246,
   "metadata": {},
   "outputs": [
    {
     "data": {
      "text/plain": [
       "Index([u'SK_ID_CURR', u'TARGET'], dtype='object')"
      ]
     },
     "execution_count": 246,
     "metadata": {},
     "output_type": "execute_result"
    }
   ],
   "source": [
    "subm.columns"
   ]
  },
  {
   "cell_type": "code",
   "execution_count": 247,
   "metadata": {},
   "outputs": [],
   "source": [
    "subm_csv = subm.to_csv('submission.csv', sep=',', index=False)"
   ]
  },
  {
   "cell_type": "code",
   "execution_count": 248,
   "metadata": {},
   "outputs": [],
   "source": []
  },
  {
   "cell_type": "code",
   "execution_count": 123,
   "metadata": {},
   "outputs": [],
   "source": [
    "%cp sample_submission.csv /home/pranay/Downloads/"
   ]
  },
  {
   "cell_type": "code",
   "execution_count": 105,
   "metadata": {},
   "outputs": [],
   "source": [
    "sample = pd.read_csv('sample_submission.csv', sep=',')"
   ]
  },
  {
   "cell_type": "code",
   "execution_count": 104,
   "metadata": {},
   "outputs": [
    {
     "data": {
      "text/plain": [
       "(48744, 2)"
      ]
     },
     "execution_count": 104,
     "metadata": {},
     "output_type": "execute_result"
    }
   ],
   "source": [
    "subm.shape"
   ]
  },
  {
   "cell_type": "code",
   "execution_count": null,
   "metadata": {},
   "outputs": [],
   "source": [
    "# sample\n",
    "subm.TARGET.value_counts().plot.bar()"
   ]
  },
  {
   "cell_type": "code",
   "execution_count": 58,
   "metadata": {},
   "outputs": [
    {
     "data": {
      "text/plain": [
       "0    282686\n",
       "1    24825 \n",
       "Name: TARGET, dtype: int64"
      ]
     },
     "execution_count": 58,
     "metadata": {},
     "output_type": "execute_result"
    }
   ],
   "source": [
    "train_y.value_counts()"
   ]
  },
  {
   "cell_type": "code",
   "execution_count": 187,
   "metadata": {},
   "outputs": [
    {
     "data": {
      "text/plain": [
       "(356255, 245)"
      ]
     },
     "execution_count": 187,
     "metadata": {},
     "output_type": "execute_result"
    }
   ],
   "source": [
    "imputed_concatted.shape"
   ]
  },
  {
   "cell_type": "code",
   "execution_count": null,
   "metadata": {},
   "outputs": [],
   "source": [
    "get_nulls(concatted_dummied)"
   ]
  },
  {
   "cell_type": "code",
   "execution_count": null,
   "metadata": {},
   "outputs": [],
   "source": [
    "get_nulls(ints)"
   ]
  },
  {
   "cell_type": "code",
   "execution_count": null,
   "metadata": {},
   "outputs": [],
   "source": [
    "objectly = objectly.fillna(objectly.mode())"
   ]
  },
  {
   "cell_type": "code",
   "execution_count": 130,
   "metadata": {},
   "outputs": [
    {
     "data": {
      "text/plain": [
       "CODE_GENDER                   0.000000 \n",
       "EMERGENCYSTATE_MODE           47.147128\n",
       "FLAG_OWN_CAR                  0.000000 \n",
       "FLAG_OWN_REALTY               0.000000 \n",
       "FONDKAPREMONT_MODE            68.235393\n",
       "HOUSETYPE_MODE                49.940632\n",
       "NAME_CONTRACT_TYPE            0.000000 \n",
       "NAME_EDUCATION_TYPE           0.000000 \n",
       "NAME_FAMILY_STATUS            0.000000 \n",
       "NAME_HOUSING_TYPE             0.000000 \n",
       "NAME_INCOME_TYPE              0.000000 \n",
       "NAME_TYPE_SUITE               0.618377 \n",
       "OCCUPATION_TYPE               31.437032\n",
       "ORGANIZATION_TYPE             0.000000 \n",
       "WALLSMATERIAL_MODE            50.591290\n",
       "WEEKDAY_APPR_PROCESS_START    0.000000 \n",
       "dtype: float64"
      ]
     },
     "execution_count": 130,
     "metadata": {},
     "output_type": "execute_result"
    }
   ],
   "source": [
    "get_nulls(objectly)"
   ]
  },
  {
   "cell_type": "code",
   "execution_count": 131,
   "metadata": {},
   "outputs": [
    {
     "data": {
      "text/plain": [
       "0        No \n",
       "1        No \n",
       "2        NaN\n",
       "3        NaN\n",
       "4        NaN\n",
       "5        NaN\n",
       "6        NaN\n",
       "7        NaN\n",
       "8        NaN\n",
       "9        NaN\n",
       "10       NaN\n",
       "11       NaN\n",
       "12       No \n",
       "13       No \n",
       "14       No \n",
       "15       NaN\n",
       "16       NaN\n",
       "17       NaN\n",
       "18       No \n",
       "19       NaN\n",
       "20       No \n",
       "21       NaN\n",
       "22       No \n",
       "23       No \n",
       "24       No \n",
       "25       No \n",
       "26       Yes\n",
       "27       NaN\n",
       "28       NaN\n",
       "29       No \n",
       "         .. \n",
       "48714    No \n",
       "48715    NaN\n",
       "48716    No \n",
       "48717    NaN\n",
       "48718    No \n",
       "48719    No \n",
       "48720    No \n",
       "48721    NaN\n",
       "48722    NaN\n",
       "48723    NaN\n",
       "48724    No \n",
       "48725    NaN\n",
       "48726    NaN\n",
       "48727    No \n",
       "48728    NaN\n",
       "48729    NaN\n",
       "48730    NaN\n",
       "48731    No \n",
       "48732    No \n",
       "48733    No \n",
       "48734    NaN\n",
       "48735    No \n",
       "48736    No \n",
       "48737    No \n",
       "48738    No \n",
       "48739    NaN\n",
       "48740    NaN\n",
       "48741    No \n",
       "48742    No \n",
       "48743    NaN\n",
       "Name: EMERGENCYSTATE_MODE, Length: 356255, dtype: object"
      ]
     },
     "execution_count": 131,
     "metadata": {},
     "output_type": "execute_result"
    }
   ],
   "source": [
    "objectly.EMERGENCYSTATE_MODE.fillna(objectly.EMERGENCYSTATE_MODE.mode())"
   ]
  },
  {
   "cell_type": "code",
   "execution_count": null,
   "metadata": {},
   "outputs": [],
   "source": [
    "msno.matrix(objectly)"
   ]
  },
  {
   "cell_type": "code",
   "execution_count": null,
   "metadata": {},
   "outputs": [],
   "source": [
    "less_nulls_concat.dtypes.value_counts()"
   ]
  },
  {
   "cell_type": "code",
   "execution_count": null,
   "metadata": {},
   "outputs": [],
   "source": []
  },
  {
   "cell_type": "code",
   "execution_count": null,
   "metadata": {},
   "outputs": [],
   "source": [
    "concatted.loc[:, concatted[less]"
   ]
  },
  {
   "cell_type": "code",
   "execution_count": 67,
   "metadata": {},
   "outputs": [],
   "source": [
    "assert concatted.shape[0] == train.shape[0] + test.shape[0]"
   ]
  },
  {
   "cell_type": "code",
   "execution_count": null,
   "metadata": {},
   "outputs": [],
   "source": []
  },
  {
   "cell_type": "code",
   "execution_count": null,
   "metadata": {},
   "outputs": [],
   "source": [
    "credit_card_balance.head()"
   ]
  },
  {
   "cell_type": "code",
   "execution_count": 45,
   "metadata": {},
   "outputs": [
    {
     "data": {
      "text/html": [
       "<div>\n",
       "<style scoped>\n",
       "    .dataframe tbody tr th:only-of-type {\n",
       "        vertical-align: middle;\n",
       "    }\n",
       "\n",
       "    .dataframe tbody tr th {\n",
       "        vertical-align: top;\n",
       "    }\n",
       "\n",
       "    .dataframe thead th {\n",
       "        text-align: right;\n",
       "    }\n",
       "</style>\n",
       "<table border=\"1\" class=\"dataframe\">\n",
       "  <thead>\n",
       "    <tr style=\"text-align: right;\">\n",
       "      <th></th>\n",
       "      <th>SK_ID_PREV</th>\n",
       "      <th>SK_ID_CURR</th>\n",
       "      <th>MONTHS_BALANCE</th>\n",
       "      <th>AMT_BALANCE</th>\n",
       "      <th>AMT_CREDIT_LIMIT_ACTUAL</th>\n",
       "      <th>AMT_DRAWINGS_ATM_CURRENT</th>\n",
       "      <th>AMT_DRAWINGS_CURRENT</th>\n",
       "      <th>AMT_DRAWINGS_OTHER_CURRENT</th>\n",
       "      <th>AMT_DRAWINGS_POS_CURRENT</th>\n",
       "      <th>AMT_INST_MIN_REGULARITY</th>\n",
       "      <th>AMT_PAYMENT_CURRENT</th>\n",
       "      <th>AMT_PAYMENT_TOTAL_CURRENT</th>\n",
       "      <th>AMT_RECEIVABLE_PRINCIPAL</th>\n",
       "      <th>AMT_RECIVABLE</th>\n",
       "      <th>AMT_TOTAL_RECEIVABLE</th>\n",
       "      <th>CNT_DRAWINGS_ATM_CURRENT</th>\n",
       "      <th>CNT_DRAWINGS_CURRENT</th>\n",
       "      <th>CNT_DRAWINGS_OTHER_CURRENT</th>\n",
       "      <th>CNT_DRAWINGS_POS_CURRENT</th>\n",
       "      <th>CNT_INSTALMENT_MATURE_CUM</th>\n",
       "      <th>NAME_CONTRACT_STATUS</th>\n",
       "      <th>SK_DPD</th>\n",
       "      <th>SK_DPD_DEF</th>\n",
       "    </tr>\n",
       "  </thead>\n",
       "  <tbody>\n",
       "    <tr>\n",
       "      <th>2019431</th>\n",
       "      <td>1440617</td>\n",
       "      <td>186401</td>\n",
       "      <td>-96</td>\n",
       "      <td>22737.915</td>\n",
       "      <td>112500</td>\n",
       "      <td>0.0</td>\n",
       "      <td>0.0</td>\n",
       "      <td>0.0</td>\n",
       "      <td>0.0</td>\n",
       "      <td>6750.0</td>\n",
       "      <td>96750.0</td>\n",
       "      <td>96750.0</td>\n",
       "      <td>19811.34</td>\n",
       "      <td>22737.915</td>\n",
       "      <td>22737.915</td>\n",
       "      <td>0.0</td>\n",
       "      <td>0</td>\n",
       "      <td>0.0</td>\n",
       "      <td>0.0</td>\n",
       "      <td>15.0</td>\n",
       "      <td>Active</td>\n",
       "      <td>0</td>\n",
       "      <td>0</td>\n",
       "    </tr>\n",
       "    <tr>\n",
       "      <th>1476656</th>\n",
       "      <td>2243411</td>\n",
       "      <td>186401</td>\n",
       "      <td>-96</td>\n",
       "      <td>47700.000</td>\n",
       "      <td>180000</td>\n",
       "      <td>45000.0</td>\n",
       "      <td>45000.0</td>\n",
       "      <td>0.0</td>\n",
       "      <td>0.0</td>\n",
       "      <td>NaN</td>\n",
       "      <td>0.0</td>\n",
       "      <td>0.0</td>\n",
       "      <td>45000.00</td>\n",
       "      <td>48996.000</td>\n",
       "      <td>48996.000</td>\n",
       "      <td>2.0</td>\n",
       "      <td>2</td>\n",
       "      <td>0.0</td>\n",
       "      <td>0.0</td>\n",
       "      <td>NaN</td>\n",
       "      <td>Active</td>\n",
       "      <td>0</td>\n",
       "      <td>0</td>\n",
       "    </tr>\n",
       "    <tr>\n",
       "      <th>1803594</th>\n",
       "      <td>1440617</td>\n",
       "      <td>186401</td>\n",
       "      <td>-95</td>\n",
       "      <td>30.375</td>\n",
       "      <td>112500</td>\n",
       "      <td>0.0</td>\n",
       "      <td>0.0</td>\n",
       "      <td>0.0</td>\n",
       "      <td>0.0</td>\n",
       "      <td>6750.0</td>\n",
       "      <td>25290.0</td>\n",
       "      <td>25290.0</td>\n",
       "      <td>0.00</td>\n",
       "      <td>0.000</td>\n",
       "      <td>0.000</td>\n",
       "      <td>0.0</td>\n",
       "      <td>0</td>\n",
       "      <td>0.0</td>\n",
       "      <td>0.0</td>\n",
       "      <td>16.0</td>\n",
       "      <td>Active</td>\n",
       "      <td>0</td>\n",
       "      <td>0</td>\n",
       "    </tr>\n",
       "    <tr>\n",
       "      <th>2284738</th>\n",
       "      <td>2243411</td>\n",
       "      <td>186401</td>\n",
       "      <td>-95</td>\n",
       "      <td>180277.650</td>\n",
       "      <td>180000</td>\n",
       "      <td>135000.0</td>\n",
       "      <td>135000.0</td>\n",
       "      <td>0.0</td>\n",
       "      <td>0.0</td>\n",
       "      <td>9000.0</td>\n",
       "      <td>9000.0</td>\n",
       "      <td>9000.0</td>\n",
       "      <td>174996.00</td>\n",
       "      <td>178981.650</td>\n",
       "      <td>178981.650</td>\n",
       "      <td>8.0</td>\n",
       "      <td>8</td>\n",
       "      <td>0.0</td>\n",
       "      <td>0.0</td>\n",
       "      <td>1.0</td>\n",
       "      <td>Active</td>\n",
       "      <td>0</td>\n",
       "      <td>0</td>\n",
       "    </tr>\n",
       "    <tr>\n",
       "      <th>1473970</th>\n",
       "      <td>2243411</td>\n",
       "      <td>186401</td>\n",
       "      <td>-94</td>\n",
       "      <td>175450.725</td>\n",
       "      <td>180000</td>\n",
       "      <td>0.0</td>\n",
       "      <td>0.0</td>\n",
       "      <td>0.0</td>\n",
       "      <td>0.0</td>\n",
       "      <td>9000.0</td>\n",
       "      <td>9000.0</td>\n",
       "      <td>9000.0</td>\n",
       "      <td>169981.65</td>\n",
       "      <td>175450.725</td>\n",
       "      <td>175450.725</td>\n",
       "      <td>0.0</td>\n",
       "      <td>0</td>\n",
       "      <td>0.0</td>\n",
       "      <td>0.0</td>\n",
       "      <td>2.0</td>\n",
       "      <td>Active</td>\n",
       "      <td>0</td>\n",
       "      <td>0</td>\n",
       "    </tr>\n",
       "  </tbody>\n",
       "</table>\n",
       "</div>"
      ],
      "text/plain": [
       "         SK_ID_PREV  SK_ID_CURR  MONTHS_BALANCE  AMT_BALANCE  \\\n",
       "2019431  1440617     186401     -96              22737.915     \n",
       "1476656  2243411     186401     -96              47700.000     \n",
       "1803594  1440617     186401     -95              30.375        \n",
       "2284738  2243411     186401     -95              180277.650    \n",
       "1473970  2243411     186401     -94              175450.725    \n",
       "\n",
       "         AMT_CREDIT_LIMIT_ACTUAL  AMT_DRAWINGS_ATM_CURRENT  \\\n",
       "2019431  112500                   0.0                        \n",
       "1476656  180000                   45000.0                    \n",
       "1803594  112500                   0.0                        \n",
       "2284738  180000                   135000.0                   \n",
       "1473970  180000                   0.0                        \n",
       "\n",
       "         AMT_DRAWINGS_CURRENT  AMT_DRAWINGS_OTHER_CURRENT  \\\n",
       "2019431  0.0                   0.0                          \n",
       "1476656  45000.0               0.0                          \n",
       "1803594  0.0                   0.0                          \n",
       "2284738  135000.0              0.0                          \n",
       "1473970  0.0                   0.0                          \n",
       "\n",
       "         AMT_DRAWINGS_POS_CURRENT  AMT_INST_MIN_REGULARITY  \\\n",
       "2019431  0.0                       6750.0                    \n",
       "1476656  0.0                      NaN                        \n",
       "1803594  0.0                       6750.0                    \n",
       "2284738  0.0                       9000.0                    \n",
       "1473970  0.0                       9000.0                    \n",
       "\n",
       "         AMT_PAYMENT_CURRENT  AMT_PAYMENT_TOTAL_CURRENT  \\\n",
       "2019431  96750.0              96750.0                     \n",
       "1476656  0.0                  0.0                         \n",
       "1803594  25290.0              25290.0                     \n",
       "2284738  9000.0               9000.0                      \n",
       "1473970  9000.0               9000.0                      \n",
       "\n",
       "         AMT_RECEIVABLE_PRINCIPAL  AMT_RECIVABLE  AMT_TOTAL_RECEIVABLE  \\\n",
       "2019431  19811.34                  22737.915      22737.915              \n",
       "1476656  45000.00                  48996.000      48996.000              \n",
       "1803594  0.00                      0.000          0.000                  \n",
       "2284738  174996.00                 178981.650     178981.650             \n",
       "1473970  169981.65                 175450.725     175450.725             \n",
       "\n",
       "         CNT_DRAWINGS_ATM_CURRENT  CNT_DRAWINGS_CURRENT  \\\n",
       "2019431  0.0                       0                      \n",
       "1476656  2.0                       2                      \n",
       "1803594  0.0                       0                      \n",
       "2284738  8.0                       8                      \n",
       "1473970  0.0                       0                      \n",
       "\n",
       "         CNT_DRAWINGS_OTHER_CURRENT  CNT_DRAWINGS_POS_CURRENT  \\\n",
       "2019431  0.0                         0.0                        \n",
       "1476656  0.0                         0.0                        \n",
       "1803594  0.0                         0.0                        \n",
       "2284738  0.0                         0.0                        \n",
       "1473970  0.0                         0.0                        \n",
       "\n",
       "         CNT_INSTALMENT_MATURE_CUM NAME_CONTRACT_STATUS  SK_DPD  SK_DPD_DEF  \n",
       "2019431  15.0                       Active               0       0           \n",
       "1476656 NaN                         Active               0       0           \n",
       "1803594  16.0                       Active               0       0           \n",
       "2284738  1.0                        Active               0       0           \n",
       "1473970  2.0                        Active               0       0           "
      ]
     },
     "execution_count": 45,
     "metadata": {},
     "output_type": "execute_result"
    }
   ],
   "source": [
    "credit_card_balance[credit_card_balance.SK_ID_CURR == 186401].sort_values(by='MONTHS_BALANCE').head()"
   ]
  },
  {
   "cell_type": "code",
   "execution_count": 23,
   "metadata": {},
   "outputs": [],
   "source": [
    "count_credit = credit_card_balance.groupby('SK_ID_CURR').SK_ID_CURR.count().sort_values(ascending=False).to_frame()"
   ]
  },
  {
   "cell_type": "code",
   "execution_count": null,
   "metadata": {},
   "outputs": [],
   "source": [
    "credit_card_balance.groupby('SK_ID_PREV').SK_ID_PREV.count().sort_values(ascending=False)"
   ]
  },
  {
   "cell_type": "code",
   "execution_count": 31,
   "metadata": {},
   "outputs": [],
   "source": [
    "count_credit = credit_card_balance.groupby('SK_ID_CURR').SK_ID_CURR.count().sort_values(ascending=False)"
   ]
  },
  {
   "cell_type": "code",
   "execution_count": null,
   "metadata": {},
   "outputs": [],
   "source": [
    "count_credit"
   ]
  },
  {
   "cell_type": "code",
   "execution_count": 24,
   "metadata": {},
   "outputs": [],
   "source": [
    "count_credit['COUNT'] = count_credit.SK_ID_CURR"
   ]
  },
  {
   "cell_type": "code",
   "execution_count": 25,
   "metadata": {},
   "outputs": [],
   "source": [
    "count_credit['SK_ID_CURR'] = count_credit.index"
   ]
  },
  {
   "cell_type": "code",
   "execution_count": 121,
   "metadata": {},
   "outputs": [],
   "source": [
    "merged = pd.merge(train, count_credit, how='inner', on='SK_ID_CURR')"
   ]
  },
  {
   "cell_type": "code",
   "execution_count": 26,
   "metadata": {},
   "outputs": [],
   "source": [
    "merge_test = pd.merge(test, count_credit, how='inner', on='SK_ID_CURR')"
   ]
  },
  {
   "cell_type": "code",
   "execution_count": null,
   "metadata": {},
   "outputs": [],
   "source": [
    "assert merge_test.shape[0] == test.shape[0]"
   ]
  },
  {
   "cell_type": "code",
   "execution_count": 122,
   "metadata": {},
   "outputs": [
    {
     "data": {
      "text/plain": [
       "Index([u'SK_ID_CURR', u'TARGET', u'NAME_CONTRACT_TYPE', u'CODE_GENDER',\n",
       "       u'FLAG_OWN_CAR', u'FLAG_OWN_REALTY', u'CNT_CHILDREN',\n",
       "       u'AMT_INCOME_TOTAL', u'AMT_CREDIT', u'AMT_ANNUITY',\n",
       "       ...\n",
       "       u'FLAG_DOCUMENT_19', u'FLAG_DOCUMENT_20', u'FLAG_DOCUMENT_21',\n",
       "       u'AMT_REQ_CREDIT_BUREAU_HOUR', u'AMT_REQ_CREDIT_BUREAU_DAY',\n",
       "       u'AMT_REQ_CREDIT_BUREAU_WEEK', u'AMT_REQ_CREDIT_BUREAU_MON',\n",
       "       u'AMT_REQ_CREDIT_BUREAU_QRT', u'AMT_REQ_CREDIT_BUREAU_YEAR', u'COUNT'],\n",
       "      dtype='object', length=123)"
      ]
     },
     "execution_count": 122,
     "metadata": {},
     "output_type": "execute_result"
    }
   ],
   "source": [
    "merged.columns"
   ]
  },
  {
   "cell_type": "code",
   "execution_count": 123,
   "metadata": {},
   "outputs": [
    {
     "data": {
      "text/plain": [
       "False    86905\n",
       "Name: COUNT, dtype: int64"
      ]
     },
     "execution_count": 123,
     "metadata": {},
     "output_type": "execute_result"
    }
   ],
   "source": [
    "merged.COUNT.isnull().value_counts()"
   ]
  },
  {
   "cell_type": "code",
   "execution_count": null,
   "metadata": {},
   "outputs": [],
   "source": [
    "[ col for col in credit_card_balance.SK_ID_CURR.unique() if col not in train.SK_ID_CURR ]"
   ]
  },
  {
   "cell_type": "code",
   "execution_count": 11,
   "metadata": {},
   "outputs": [
    {
     "data": {
      "text/plain": [
       "0    282686\n",
       "1     24825\n",
       "Name: TARGET, dtype: int64"
      ]
     },
     "execution_count": 11,
     "metadata": {},
     "output_type": "execute_result"
    }
   ],
   "source": [
    "train.TARGET.value_counts()"
   ]
  },
  {
   "cell_type": "code",
   "execution_count": 43,
   "metadata": {},
   "outputs": [],
   "source": [
    "def get_description_of_columns(df):\n",
    "    for col in df.columns[2:]:\n",
    "        print col, descriptions[descriptions.Row == str(col)].Description.values"
   ]
  },
  {
   "cell_type": "code",
   "execution_count": null,
   "metadata": {},
   "outputs": [],
   "source": [
    "get_description_of_columns(credit_card_balance)"
   ]
  },
  {
   "cell_type": "code",
   "execution_count": null,
   "metadata": {},
   "outputs": [],
   "source": [
    "for col in credit_card_balance.columns[2:]:\n",
    "    print col, descriptions[descriptions.Row == str(col)].Description.values"
   ]
  },
  {
   "cell_type": "code",
   "execution_count": 39,
   "metadata": {},
   "outputs": [
    {
     "data": {
      "text/html": [
       "<div>\n",
       "<style scoped>\n",
       "    .dataframe tbody tr th:only-of-type {\n",
       "        vertical-align: middle;\n",
       "    }\n",
       "\n",
       "    .dataframe tbody tr th {\n",
       "        vertical-align: top;\n",
       "    }\n",
       "\n",
       "    .dataframe thead th {\n",
       "        text-align: right;\n",
       "    }\n",
       "</style>\n",
       "<table border=\"1\" class=\"dataframe\">\n",
       "  <thead>\n",
       "    <tr style=\"text-align: right;\">\n",
       "      <th></th>\n",
       "      <th>Unnamed: 0</th>\n",
       "      <th>Table</th>\n",
       "      <th>Row</th>\n",
       "      <th>Description</th>\n",
       "      <th>Special</th>\n",
       "    </tr>\n",
       "  </thead>\n",
       "  <tbody>\n",
       "    <tr>\n",
       "      <th>0</th>\n",
       "      <td>1</td>\n",
       "      <td>application_{train|test}.csv</td>\n",
       "      <td>SK_ID_CURR</td>\n",
       "      <td>ID of loan in our sample</td>\n",
       "      <td>NaN</td>\n",
       "    </tr>\n",
       "    <tr>\n",
       "      <th>1</th>\n",
       "      <td>2</td>\n",
       "      <td>application_{train|test}.csv</td>\n",
       "      <td>TARGET</td>\n",
       "      <td>Target variable (1 - client with payment diffi...</td>\n",
       "      <td>NaN</td>\n",
       "    </tr>\n",
       "    <tr>\n",
       "      <th>2</th>\n",
       "      <td>5</td>\n",
       "      <td>application_{train|test}.csv</td>\n",
       "      <td>NAME_CONTRACT_TYPE</td>\n",
       "      <td>Identification if loan is cash or revolving</td>\n",
       "      <td>NaN</td>\n",
       "    </tr>\n",
       "    <tr>\n",
       "      <th>3</th>\n",
       "      <td>6</td>\n",
       "      <td>application_{train|test}.csv</td>\n",
       "      <td>CODE_GENDER</td>\n",
       "      <td>Gender of the client</td>\n",
       "      <td>NaN</td>\n",
       "    </tr>\n",
       "    <tr>\n",
       "      <th>4</th>\n",
       "      <td>7</td>\n",
       "      <td>application_{train|test}.csv</td>\n",
       "      <td>FLAG_OWN_CAR</td>\n",
       "      <td>Flag if the client owns a car</td>\n",
       "      <td>NaN</td>\n",
       "    </tr>\n",
       "  </tbody>\n",
       "</table>\n",
       "</div>"
      ],
      "text/plain": [
       "   Unnamed: 0                         Table                 Row  \\\n",
       "0           1  application_{train|test}.csv          SK_ID_CURR   \n",
       "1           2  application_{train|test}.csv              TARGET   \n",
       "2           5  application_{train|test}.csv  NAME_CONTRACT_TYPE   \n",
       "3           6  application_{train|test}.csv         CODE_GENDER   \n",
       "4           7  application_{train|test}.csv        FLAG_OWN_CAR   \n",
       "\n",
       "                                         Description Special  \n",
       "0                           ID of loan in our sample     NaN  \n",
       "1  Target variable (1 - client with payment diffi...     NaN  \n",
       "2        Identification if loan is cash or revolving     NaN  \n",
       "3                               Gender of the client     NaN  \n",
       "4                      Flag if the client owns a car     NaN  "
      ]
     },
     "execution_count": 39,
     "metadata": {},
     "output_type": "execute_result"
    }
   ],
   "source": [
    "descriptions.head()"
   ]
  },
  {
   "cell_type": "code",
   "execution_count": null,
   "metadata": {},
   "outputs": [],
   "source": [
    "train.groupby(['TARGET'])['NAME_CONTRACT_TYPE'].value_counts(normalize=True)"
   ]
  },
  {
   "cell_type": "code",
   "execution_count": null,
   "metadata": {},
   "outputs": [],
   "source": [
    "train.groupby(['TARGET'])['CODE_GENDER'].value_counts(normalize=True)"
   ]
  },
  {
   "cell_type": "code",
   "execution_count": null,
   "metadata": {},
   "outputs": [],
   "source": [
    "train.groupby(['TARGET'])['FLAG_OWN_CAR'].value_counts(normalize=True)"
   ]
  },
  {
   "cell_type": "code",
   "execution_count": null,
   "metadata": {},
   "outputs": [],
   "source": [
    "train.groupby(['TARGET'])['FLAG_OWN_REALTY'].value_counts(normalize=True)"
   ]
  },
  {
   "cell_type": "code",
   "execution_count": null,
   "metadata": {},
   "outputs": [],
   "source": [
    "train.groupby(['TARGET'])['CNT_CHILDREN'].value_counts(normalize=True)"
   ]
  },
  {
   "cell_type": "code",
   "execution_count": null,
   "metadata": {},
   "outputs": [],
   "source": [
    "msno.matrix(train[:10000])"
   ]
  },
  {
   "cell_type": "code",
   "execution_count": null,
   "metadata": {},
   "outputs": [],
   "source": [
    "train.head()"
   ]
  },
  {
   "cell_type": "code",
   "execution_count": 30,
   "metadata": {},
   "outputs": [
    {
     "data": {
      "text/plain": [
       "(307511, 122)"
      ]
     },
     "execution_count": 30,
     "metadata": {},
     "output_type": "execute_result"
    }
   ],
   "source": [
    "train.shape"
   ]
  },
  {
   "cell_type": "code",
   "execution_count": 58,
   "metadata": {},
   "outputs": [],
   "source": [
    "nulls = train.isnull().sum() * 100/train.shape[0]"
   ]
  },
  {
   "cell_type": "code",
   "execution_count": 50,
   "metadata": {},
   "outputs": [],
   "source": [
    "null_test = test.isnull().sum() * 100/test.shape[0]"
   ]
  },
  {
   "cell_type": "code",
   "execution_count": 51,
   "metadata": {},
   "outputs": [],
   "source": [
    "above_fifty_null_test = null_test[null_test > 50].index"
   ]
  },
  {
   "cell_type": "code",
   "execution_count": 61,
   "metadata": {},
   "outputs": [],
   "source": [
    "less_nulls_test = null_test[null_test < 50].index\n",
    "less_nulls_train = null_test[null_test < 50].index"
   ]
  },
  {
   "cell_type": "code",
   "execution_count": null,
   "metadata": {},
   "outputs": [],
   "source": [
    "msno.matrix(test[less_nulls_test])"
   ]
  },
  {
   "cell_type": "code",
   "execution_count": null,
   "metadata": {},
   "outputs": [],
   "source": [
    "msno.matrix(train[less_nulls_train])"
   ]
  },
  {
   "cell_type": "code",
   "execution_count": 52,
   "metadata": {},
   "outputs": [
    {
     "data": {
      "text/plain": [
       "Index([u'OWN_CAR_AGE', u'BASEMENTAREA_AVG', u'YEARS_BUILD_AVG',\n",
       "       u'COMMONAREA_AVG', u'ELEVATORS_AVG', u'FLOORSMIN_AVG', u'LANDAREA_AVG',\n",
       "       u'LIVINGAPARTMENTS_AVG', u'NONLIVINGAPARTMENTS_AVG',\n",
       "       u'NONLIVINGAREA_AVG', u'BASEMENTAREA_MODE', u'YEARS_BUILD_MODE',\n",
       "       u'COMMONAREA_MODE', u'ELEVATORS_MODE', u'FLOORSMIN_MODE',\n",
       "       u'LANDAREA_MODE', u'LIVINGAPARTMENTS_MODE', u'NONLIVINGAPARTMENTS_MODE',\n",
       "       u'NONLIVINGAREA_MODE', u'BASEMENTAREA_MEDI', u'YEARS_BUILD_MEDI',\n",
       "       u'COMMONAREA_MEDI', u'ELEVATORS_MEDI', u'FLOORSMIN_MEDI',\n",
       "       u'LANDAREA_MEDI', u'LIVINGAPARTMENTS_MEDI', u'NONLIVINGAPARTMENTS_MEDI',\n",
       "       u'NONLIVINGAREA_MEDI', u'FONDKAPREMONT_MODE'],\n",
       "      dtype='object')"
      ]
     },
     "execution_count": 52,
     "metadata": {},
     "output_type": "execute_result"
    }
   ],
   "source": [
    "above_fifty_null_test"
   ]
  },
  {
   "cell_type": "code",
   "execution_count": null,
   "metadata": {},
   "outputs": [],
   "source": [
    "above_fifty_nulls = nulls[nulls > 50].index\n",
    "above_fifty_nulls"
   ]
  },
  {
   "cell_type": "code",
   "execution_count": null,
   "metadata": {},
   "outputs": [],
   "source": [
    "[ col for col in above_fifty_nulls if col not in above_fifty_null_test ]"
   ]
  },
  {
   "cell_type": "code",
   "execution_count": 57,
   "metadata": {},
   "outputs": [],
   "source": [
    "remove_nulls = train.drop(above_fifty_nulls, axis=1)"
   ]
  },
  {
   "cell_type": "code",
   "execution_count": 58,
   "metadata": {},
   "outputs": [],
   "source": [
    "assert remove_nulls.shape[1] == train.shape[1] - above_fifty_nulls.shape[0]"
   ]
  },
  {
   "cell_type": "code",
   "execution_count": null,
   "metadata": {},
   "outputs": [],
   "source": [
    "msno.matrix(remove_nulls)"
   ]
  },
  {
   "cell_type": "code",
   "execution_count": null,
   "metadata": {},
   "outputs": [],
   "source": [
    "msno.matrix(remove_nulls.iloc[:100, 40:60])"
   ]
  },
  {
   "cell_type": "code",
   "execution_count": null,
   "metadata": {},
   "outputs": [],
   "source": [
    "remove_nulls.isnull().sum() * 100 /(remove_nulls.shape[0])"
   ]
  },
  {
   "cell_type": "code",
   "execution_count": null,
   "metadata": {},
   "outputs": [],
   "source": [
    "for col in remove_nulls.columns[remove_nulls.dtypes == 'object'].values:\n",
    "    print remove_nulls.groupby(['TARGET'])[str(col)].value_counts(normalize=True)"
   ]
  },
  {
   "cell_type": "code",
   "execution_count": 79,
   "metadata": {},
   "outputs": [
    {
     "data": {
      "text/plain": [
       "int64      41\n",
       "float64    27\n",
       "object     13\n",
       "dtype: int64"
      ]
     },
     "execution_count": 79,
     "metadata": {},
     "output_type": "execute_result"
    }
   ],
   "source": [
    "remove_nulls.dtypes.value_counts()"
   ]
  },
  {
   "cell_type": "code",
   "execution_count": 8,
   "metadata": {},
   "outputs": [
    {
     "data": {
      "text/html": [
       "<div>\n",
       "<style scoped>\n",
       "    .dataframe tbody tr th:only-of-type {\n",
       "        vertical-align: middle;\n",
       "    }\n",
       "\n",
       "    .dataframe tbody tr th {\n",
       "        vertical-align: top;\n",
       "    }\n",
       "\n",
       "    .dataframe thead th {\n",
       "        text-align: right;\n",
       "    }\n",
       "</style>\n",
       "<table border=\"1\" class=\"dataframe\">\n",
       "  <thead>\n",
       "    <tr style=\"text-align: right;\">\n",
       "      <th></th>\n",
       "      <th>SK_ID_PREV</th>\n",
       "      <th>SK_ID_CURR</th>\n",
       "      <th>NAME_CONTRACT_TYPE</th>\n",
       "      <th>AMT_ANNUITY</th>\n",
       "      <th>AMT_APPLICATION</th>\n",
       "      <th>AMT_CREDIT</th>\n",
       "      <th>AMT_DOWN_PAYMENT</th>\n",
       "      <th>AMT_GOODS_PRICE</th>\n",
       "      <th>WEEKDAY_APPR_PROCESS_START</th>\n",
       "      <th>HOUR_APPR_PROCESS_START</th>\n",
       "      <th>FLAG_LAST_APPL_PER_CONTRACT</th>\n",
       "      <th>NFLAG_LAST_APPL_IN_DAY</th>\n",
       "      <th>RATE_DOWN_PAYMENT</th>\n",
       "      <th>RATE_INTEREST_PRIMARY</th>\n",
       "      <th>RATE_INTEREST_PRIVILEGED</th>\n",
       "      <th>NAME_CASH_LOAN_PURPOSE</th>\n",
       "      <th>NAME_CONTRACT_STATUS</th>\n",
       "      <th>DAYS_DECISION</th>\n",
       "      <th>NAME_PAYMENT_TYPE</th>\n",
       "      <th>CODE_REJECT_REASON</th>\n",
       "      <th>NAME_TYPE_SUITE</th>\n",
       "      <th>NAME_CLIENT_TYPE</th>\n",
       "      <th>NAME_GOODS_CATEGORY</th>\n",
       "      <th>NAME_PORTFOLIO</th>\n",
       "      <th>NAME_PRODUCT_TYPE</th>\n",
       "      <th>CHANNEL_TYPE</th>\n",
       "      <th>SELLERPLACE_AREA</th>\n",
       "      <th>NAME_SELLER_INDUSTRY</th>\n",
       "      <th>CNT_PAYMENT</th>\n",
       "      <th>NAME_YIELD_GROUP</th>\n",
       "      <th>PRODUCT_COMBINATION</th>\n",
       "      <th>DAYS_FIRST_DRAWING</th>\n",
       "      <th>DAYS_FIRST_DUE</th>\n",
       "      <th>DAYS_LAST_DUE_1ST_VERSION</th>\n",
       "      <th>DAYS_LAST_DUE</th>\n",
       "      <th>DAYS_TERMINATION</th>\n",
       "      <th>NFLAG_INSURED_ON_APPROVAL</th>\n",
       "    </tr>\n",
       "  </thead>\n",
       "  <tbody>\n",
       "    <tr>\n",
       "      <th>0</th>\n",
       "      <td>2030495</td>\n",
       "      <td>271877</td>\n",
       "      <td>Consumer loans</td>\n",
       "      <td>1730.430</td>\n",
       "      <td>17145.0</td>\n",
       "      <td>17145.0</td>\n",
       "      <td>0.0</td>\n",
       "      <td>17145.0</td>\n",
       "      <td>SATURDAY</td>\n",
       "      <td>15</td>\n",
       "      <td>Y</td>\n",
       "      <td>1</td>\n",
       "      <td>0.0</td>\n",
       "      <td>0.182832</td>\n",
       "      <td>0.867336</td>\n",
       "      <td>XAP</td>\n",
       "      <td>Approved</td>\n",
       "      <td>-73</td>\n",
       "      <td>Cash through the bank</td>\n",
       "      <td>XAP</td>\n",
       "      <td>NaN</td>\n",
       "      <td>Repeater</td>\n",
       "      <td>Mobile</td>\n",
       "      <td>POS</td>\n",
       "      <td>XNA</td>\n",
       "      <td>Country-wide</td>\n",
       "      <td>35</td>\n",
       "      <td>Connectivity</td>\n",
       "      <td>12.0</td>\n",
       "      <td>middle</td>\n",
       "      <td>POS mobile with interest</td>\n",
       "      <td>365243.0</td>\n",
       "      <td>-42.0</td>\n",
       "      <td>300.0</td>\n",
       "      <td>-42.0</td>\n",
       "      <td>-37.0</td>\n",
       "      <td>0.0</td>\n",
       "    </tr>\n",
       "    <tr>\n",
       "      <th>1</th>\n",
       "      <td>2802425</td>\n",
       "      <td>108129</td>\n",
       "      <td>Cash loans</td>\n",
       "      <td>25188.615</td>\n",
       "      <td>607500.0</td>\n",
       "      <td>679671.0</td>\n",
       "      <td>NaN</td>\n",
       "      <td>607500.0</td>\n",
       "      <td>THURSDAY</td>\n",
       "      <td>11</td>\n",
       "      <td>Y</td>\n",
       "      <td>1</td>\n",
       "      <td>NaN</td>\n",
       "      <td>NaN</td>\n",
       "      <td>NaN</td>\n",
       "      <td>XNA</td>\n",
       "      <td>Approved</td>\n",
       "      <td>-164</td>\n",
       "      <td>XNA</td>\n",
       "      <td>XAP</td>\n",
       "      <td>Unaccompanied</td>\n",
       "      <td>Repeater</td>\n",
       "      <td>XNA</td>\n",
       "      <td>Cash</td>\n",
       "      <td>x-sell</td>\n",
       "      <td>Contact center</td>\n",
       "      <td>-1</td>\n",
       "      <td>XNA</td>\n",
       "      <td>36.0</td>\n",
       "      <td>low_action</td>\n",
       "      <td>Cash X-Sell: low</td>\n",
       "      <td>365243.0</td>\n",
       "      <td>-134.0</td>\n",
       "      <td>916.0</td>\n",
       "      <td>365243.0</td>\n",
       "      <td>365243.0</td>\n",
       "      <td>1.0</td>\n",
       "    </tr>\n",
       "    <tr>\n",
       "      <th>2</th>\n",
       "      <td>2523466</td>\n",
       "      <td>122040</td>\n",
       "      <td>Cash loans</td>\n",
       "      <td>15060.735</td>\n",
       "      <td>112500.0</td>\n",
       "      <td>136444.5</td>\n",
       "      <td>NaN</td>\n",
       "      <td>112500.0</td>\n",
       "      <td>TUESDAY</td>\n",
       "      <td>11</td>\n",
       "      <td>Y</td>\n",
       "      <td>1</td>\n",
       "      <td>NaN</td>\n",
       "      <td>NaN</td>\n",
       "      <td>NaN</td>\n",
       "      <td>XNA</td>\n",
       "      <td>Approved</td>\n",
       "      <td>-301</td>\n",
       "      <td>Cash through the bank</td>\n",
       "      <td>XAP</td>\n",
       "      <td>Spouse, partner</td>\n",
       "      <td>Repeater</td>\n",
       "      <td>XNA</td>\n",
       "      <td>Cash</td>\n",
       "      <td>x-sell</td>\n",
       "      <td>Credit and cash offices</td>\n",
       "      <td>-1</td>\n",
       "      <td>XNA</td>\n",
       "      <td>12.0</td>\n",
       "      <td>high</td>\n",
       "      <td>Cash X-Sell: high</td>\n",
       "      <td>365243.0</td>\n",
       "      <td>-271.0</td>\n",
       "      <td>59.0</td>\n",
       "      <td>365243.0</td>\n",
       "      <td>365243.0</td>\n",
       "      <td>1.0</td>\n",
       "    </tr>\n",
       "    <tr>\n",
       "      <th>3</th>\n",
       "      <td>2819243</td>\n",
       "      <td>176158</td>\n",
       "      <td>Cash loans</td>\n",
       "      <td>47041.335</td>\n",
       "      <td>450000.0</td>\n",
       "      <td>470790.0</td>\n",
       "      <td>NaN</td>\n",
       "      <td>450000.0</td>\n",
       "      <td>MONDAY</td>\n",
       "      <td>7</td>\n",
       "      <td>Y</td>\n",
       "      <td>1</td>\n",
       "      <td>NaN</td>\n",
       "      <td>NaN</td>\n",
       "      <td>NaN</td>\n",
       "      <td>XNA</td>\n",
       "      <td>Approved</td>\n",
       "      <td>-512</td>\n",
       "      <td>Cash through the bank</td>\n",
       "      <td>XAP</td>\n",
       "      <td>NaN</td>\n",
       "      <td>Repeater</td>\n",
       "      <td>XNA</td>\n",
       "      <td>Cash</td>\n",
       "      <td>x-sell</td>\n",
       "      <td>Credit and cash offices</td>\n",
       "      <td>-1</td>\n",
       "      <td>XNA</td>\n",
       "      <td>12.0</td>\n",
       "      <td>middle</td>\n",
       "      <td>Cash X-Sell: middle</td>\n",
       "      <td>365243.0</td>\n",
       "      <td>-482.0</td>\n",
       "      <td>-152.0</td>\n",
       "      <td>-182.0</td>\n",
       "      <td>-177.0</td>\n",
       "      <td>1.0</td>\n",
       "    </tr>\n",
       "    <tr>\n",
       "      <th>4</th>\n",
       "      <td>1784265</td>\n",
       "      <td>202054</td>\n",
       "      <td>Cash loans</td>\n",
       "      <td>31924.395</td>\n",
       "      <td>337500.0</td>\n",
       "      <td>404055.0</td>\n",
       "      <td>NaN</td>\n",
       "      <td>337500.0</td>\n",
       "      <td>THURSDAY</td>\n",
       "      <td>9</td>\n",
       "      <td>Y</td>\n",
       "      <td>1</td>\n",
       "      <td>NaN</td>\n",
       "      <td>NaN</td>\n",
       "      <td>NaN</td>\n",
       "      <td>Repairs</td>\n",
       "      <td>Refused</td>\n",
       "      <td>-781</td>\n",
       "      <td>Cash through the bank</td>\n",
       "      <td>HC</td>\n",
       "      <td>NaN</td>\n",
       "      <td>Repeater</td>\n",
       "      <td>XNA</td>\n",
       "      <td>Cash</td>\n",
       "      <td>walk-in</td>\n",
       "      <td>Credit and cash offices</td>\n",
       "      <td>-1</td>\n",
       "      <td>XNA</td>\n",
       "      <td>24.0</td>\n",
       "      <td>high</td>\n",
       "      <td>Cash Street: high</td>\n",
       "      <td>NaN</td>\n",
       "      <td>NaN</td>\n",
       "      <td>NaN</td>\n",
       "      <td>NaN</td>\n",
       "      <td>NaN</td>\n",
       "      <td>NaN</td>\n",
       "    </tr>\n",
       "  </tbody>\n",
       "</table>\n",
       "</div>"
      ],
      "text/plain": [
       "   SK_ID_PREV  SK_ID_CURR NAME_CONTRACT_TYPE  AMT_ANNUITY  AMT_APPLICATION  \\\n",
       "0  2030495     271877      Consumer loans     1730.430     17145.0           \n",
       "1  2802425     108129      Cash loans         25188.615    607500.0          \n",
       "2  2523466     122040      Cash loans         15060.735    112500.0          \n",
       "3  2819243     176158      Cash loans         47041.335    450000.0          \n",
       "4  1784265     202054      Cash loans         31924.395    337500.0          \n",
       "\n",
       "   AMT_CREDIT  AMT_DOWN_PAYMENT  AMT_GOODS_PRICE WEEKDAY_APPR_PROCESS_START  \\\n",
       "0  17145.0     0.0               17145.0          SATURDAY                    \n",
       "1  679671.0   NaN                607500.0         THURSDAY                    \n",
       "2  136444.5   NaN                112500.0         TUESDAY                     \n",
       "3  470790.0   NaN                450000.0         MONDAY                      \n",
       "4  404055.0   NaN                337500.0         THURSDAY                    \n",
       "\n",
       "   HOUR_APPR_PROCESS_START FLAG_LAST_APPL_PER_CONTRACT  \\\n",
       "0  15                       Y                            \n",
       "1  11                       Y                            \n",
       "2  11                       Y                            \n",
       "3  7                        Y                            \n",
       "4  9                        Y                            \n",
       "\n",
       "   NFLAG_LAST_APPL_IN_DAY  RATE_DOWN_PAYMENT  RATE_INTEREST_PRIMARY  \\\n",
       "0  1                       0.0                0.182832                \n",
       "1  1                      NaN                NaN                      \n",
       "2  1                      NaN                NaN                      \n",
       "3  1                      NaN                NaN                      \n",
       "4  1                      NaN                NaN                      \n",
       "\n",
       "   RATE_INTEREST_PRIVILEGED NAME_CASH_LOAN_PURPOSE NAME_CONTRACT_STATUS  \\\n",
       "0  0.867336                  XAP                    Approved              \n",
       "1 NaN                        XNA                    Approved              \n",
       "2 NaN                        XNA                    Approved              \n",
       "3 NaN                        XNA                    Approved              \n",
       "4 NaN                        Repairs                Refused               \n",
       "\n",
       "   DAYS_DECISION      NAME_PAYMENT_TYPE CODE_REJECT_REASON  NAME_TYPE_SUITE  \\\n",
       "0 -73             Cash through the bank  XAP                NaN               \n",
       "1 -164            XNA                    XAP                Unaccompanied     \n",
       "2 -301            Cash through the bank  XAP                Spouse, partner   \n",
       "3 -512            Cash through the bank  XAP                NaN               \n",
       "4 -781            Cash through the bank  HC                 NaN               \n",
       "\n",
       "  NAME_CLIENT_TYPE NAME_GOODS_CATEGORY NAME_PORTFOLIO NAME_PRODUCT_TYPE  \\\n",
       "0  Repeater         Mobile              POS            XNA                \n",
       "1  Repeater         XNA                 Cash           x-sell             \n",
       "2  Repeater         XNA                 Cash           x-sell             \n",
       "3  Repeater         XNA                 Cash           x-sell             \n",
       "4  Repeater         XNA                 Cash           walk-in            \n",
       "\n",
       "              CHANNEL_TYPE  SELLERPLACE_AREA NAME_SELLER_INDUSTRY  \\\n",
       "0  Country-wide             35                Connectivity          \n",
       "1  Contact center          -1                 XNA                   \n",
       "2  Credit and cash offices -1                 XNA                   \n",
       "3  Credit and cash offices -1                 XNA                   \n",
       "4  Credit and cash offices -1                 XNA                   \n",
       "\n",
       "   CNT_PAYMENT NAME_YIELD_GROUP       PRODUCT_COMBINATION  DAYS_FIRST_DRAWING  \\\n",
       "0  12.0         middle           POS mobile with interest  365243.0             \n",
       "1  36.0         low_action       Cash X-Sell: low          365243.0             \n",
       "2  12.0         high             Cash X-Sell: high         365243.0             \n",
       "3  12.0         middle           Cash X-Sell: middle       365243.0             \n",
       "4  24.0         high             Cash Street: high        NaN                   \n",
       "\n",
       "   DAYS_FIRST_DUE  DAYS_LAST_DUE_1ST_VERSION  DAYS_LAST_DUE  DAYS_TERMINATION  \\\n",
       "0 -42.0            300.0                     -42.0          -37.0               \n",
       "1 -134.0           916.0                      365243.0       365243.0           \n",
       "2 -271.0           59.0                       365243.0       365243.0           \n",
       "3 -482.0          -152.0                     -182.0         -177.0              \n",
       "4 NaN             NaN                        NaN            NaN                 \n",
       "\n",
       "   NFLAG_INSURED_ON_APPROVAL  \n",
       "0  0.0                        \n",
       "1  1.0                        \n",
       "2  1.0                        \n",
       "3  1.0                        \n",
       "4 NaN                         "
      ]
     },
     "execution_count": 8,
     "metadata": {},
     "output_type": "execute_result"
    }
   ],
   "source": [
    "previous_application.head()"
   ]
  },
  {
   "cell_type": "code",
   "execution_count": null,
   "metadata": {},
   "outputs": [],
   "source": [
    "for col in previous_application.columns.values:\n",
    "    print col, descriptions[descriptions.Row == str(col)].Description.unique()"
   ]
  },
  {
   "cell_type": "code",
   "execution_count": 46,
   "metadata": {},
   "outputs": [
    {
     "data": {
      "text/html": [
       "<div>\n",
       "<style scoped>\n",
       "    .dataframe tbody tr th:only-of-type {\n",
       "        vertical-align: middle;\n",
       "    }\n",
       "\n",
       "    .dataframe tbody tr th {\n",
       "        vertical-align: top;\n",
       "    }\n",
       "\n",
       "    .dataframe thead th {\n",
       "        text-align: right;\n",
       "    }\n",
       "</style>\n",
       "<table border=\"1\" class=\"dataframe\">\n",
       "  <thead>\n",
       "    <tr style=\"text-align: right;\">\n",
       "      <th></th>\n",
       "      <th>AMT_ANNUITY</th>\n",
       "      <th>AMT_APPLICATION</th>\n",
       "      <th>AMT_CREDIT</th>\n",
       "      <th>AMT_DOWN_PAYMENT</th>\n",
       "      <th>AMT_GOODS_PRICE</th>\n",
       "      <th>RATE_DOWN_PAYMENT</th>\n",
       "      <th>RATE_INTEREST_PRIMARY</th>\n",
       "      <th>RATE_INTEREST_PRIVILEGED</th>\n",
       "      <th>CNT_PAYMENT</th>\n",
       "      <th>DAYS_FIRST_DRAWING</th>\n",
       "      <th>DAYS_FIRST_DUE</th>\n",
       "      <th>DAYS_LAST_DUE_1ST_VERSION</th>\n",
       "      <th>DAYS_LAST_DUE</th>\n",
       "      <th>DAYS_TERMINATION</th>\n",
       "      <th>NFLAG_INSURED_ON_APPROVAL</th>\n",
       "    </tr>\n",
       "  </thead>\n",
       "  <tbody>\n",
       "    <tr>\n",
       "      <th>0</th>\n",
       "      <td>1730.430</td>\n",
       "      <td>17145.0</td>\n",
       "      <td>17145.0</td>\n",
       "      <td>0.0</td>\n",
       "      <td>17145.0</td>\n",
       "      <td>0.0</td>\n",
       "      <td>0.182832</td>\n",
       "      <td>0.867336</td>\n",
       "      <td>12.0</td>\n",
       "      <td>365243.0</td>\n",
       "      <td>-42.0</td>\n",
       "      <td>300.0</td>\n",
       "      <td>-42.0</td>\n",
       "      <td>-37.0</td>\n",
       "      <td>0.0</td>\n",
       "    </tr>\n",
       "    <tr>\n",
       "      <th>1</th>\n",
       "      <td>25188.615</td>\n",
       "      <td>607500.0</td>\n",
       "      <td>679671.0</td>\n",
       "      <td>NaN</td>\n",
       "      <td>607500.0</td>\n",
       "      <td>NaN</td>\n",
       "      <td>NaN</td>\n",
       "      <td>NaN</td>\n",
       "      <td>36.0</td>\n",
       "      <td>365243.0</td>\n",
       "      <td>-134.0</td>\n",
       "      <td>916.0</td>\n",
       "      <td>365243.0</td>\n",
       "      <td>365243.0</td>\n",
       "      <td>1.0</td>\n",
       "    </tr>\n",
       "    <tr>\n",
       "      <th>2</th>\n",
       "      <td>15060.735</td>\n",
       "      <td>112500.0</td>\n",
       "      <td>136444.5</td>\n",
       "      <td>NaN</td>\n",
       "      <td>112500.0</td>\n",
       "      <td>NaN</td>\n",
       "      <td>NaN</td>\n",
       "      <td>NaN</td>\n",
       "      <td>12.0</td>\n",
       "      <td>365243.0</td>\n",
       "      <td>-271.0</td>\n",
       "      <td>59.0</td>\n",
       "      <td>365243.0</td>\n",
       "      <td>365243.0</td>\n",
       "      <td>1.0</td>\n",
       "    </tr>\n",
       "    <tr>\n",
       "      <th>3</th>\n",
       "      <td>47041.335</td>\n",
       "      <td>450000.0</td>\n",
       "      <td>470790.0</td>\n",
       "      <td>NaN</td>\n",
       "      <td>450000.0</td>\n",
       "      <td>NaN</td>\n",
       "      <td>NaN</td>\n",
       "      <td>NaN</td>\n",
       "      <td>12.0</td>\n",
       "      <td>365243.0</td>\n",
       "      <td>-482.0</td>\n",
       "      <td>-152.0</td>\n",
       "      <td>-182.0</td>\n",
       "      <td>-177.0</td>\n",
       "      <td>1.0</td>\n",
       "    </tr>\n",
       "    <tr>\n",
       "      <th>4</th>\n",
       "      <td>31924.395</td>\n",
       "      <td>337500.0</td>\n",
       "      <td>404055.0</td>\n",
       "      <td>NaN</td>\n",
       "      <td>337500.0</td>\n",
       "      <td>NaN</td>\n",
       "      <td>NaN</td>\n",
       "      <td>NaN</td>\n",
       "      <td>24.0</td>\n",
       "      <td>NaN</td>\n",
       "      <td>NaN</td>\n",
       "      <td>NaN</td>\n",
       "      <td>NaN</td>\n",
       "      <td>NaN</td>\n",
       "      <td>NaN</td>\n",
       "    </tr>\n",
       "  </tbody>\n",
       "</table>\n",
       "</div>"
      ],
      "text/plain": [
       "   AMT_ANNUITY  AMT_APPLICATION  AMT_CREDIT  AMT_DOWN_PAYMENT  \\\n",
       "0  1730.430     17145.0          17145.0     0.0                \n",
       "1  25188.615    607500.0         679671.0   NaN                 \n",
       "2  15060.735    112500.0         136444.5   NaN                 \n",
       "3  47041.335    450000.0         470790.0   NaN                 \n",
       "4  31924.395    337500.0         404055.0   NaN                 \n",
       "\n",
       "   AMT_GOODS_PRICE  RATE_DOWN_PAYMENT  RATE_INTEREST_PRIMARY  \\\n",
       "0  17145.0          0.0                0.182832                \n",
       "1  607500.0        NaN                NaN                      \n",
       "2  112500.0        NaN                NaN                      \n",
       "3  450000.0        NaN                NaN                      \n",
       "4  337500.0        NaN                NaN                      \n",
       "\n",
       "   RATE_INTEREST_PRIVILEGED  CNT_PAYMENT  DAYS_FIRST_DRAWING  DAYS_FIRST_DUE  \\\n",
       "0  0.867336                  12.0         365243.0           -42.0             \n",
       "1 NaN                        36.0         365243.0           -134.0            \n",
       "2 NaN                        12.0         365243.0           -271.0            \n",
       "3 NaN                        12.0         365243.0           -482.0            \n",
       "4 NaN                        24.0        NaN                 NaN               \n",
       "\n",
       "   DAYS_LAST_DUE_1ST_VERSION  DAYS_LAST_DUE  DAYS_TERMINATION  \\\n",
       "0  300.0                     -42.0          -37.0               \n",
       "1  916.0                      365243.0       365243.0           \n",
       "2  59.0                       365243.0       365243.0           \n",
       "3 -152.0                     -182.0         -177.0              \n",
       "4 NaN                        NaN            NaN                 \n",
       "\n",
       "   NFLAG_INSURED_ON_APPROVAL  \n",
       "0  0.0                        \n",
       "1  1.0                        \n",
       "2  1.0                        \n",
       "3  1.0                        \n",
       "4 NaN                         "
      ]
     },
     "execution_count": 46,
     "metadata": {},
     "output_type": "execute_result"
    }
   ],
   "source": [
    "previous_application[previous_application.columns[previous_application.dtypes == 'float64'].values].head()"
   ]
  },
  {
   "cell_type": "code",
   "execution_count": 54,
   "metadata": {},
   "outputs": [
    {
     "data": {
      "text/plain": [
       "AMT_ANNUITY                  372235 \n",
       "AMT_APPLICATION              0      \n",
       "AMT_CREDIT                   1      \n",
       "AMT_DOWN_PAYMENT             895844 \n",
       "AMT_GOODS_PRICE              385515 \n",
       "RATE_DOWN_PAYMENT            895844 \n",
       "RATE_INTEREST_PRIMARY        1664263\n",
       "RATE_INTEREST_PRIVILEGED     1664263\n",
       "CNT_PAYMENT                  372230 \n",
       "DAYS_FIRST_DRAWING           673065 \n",
       "DAYS_FIRST_DUE               673065 \n",
       "DAYS_LAST_DUE_1ST_VERSION    673065 \n",
       "DAYS_LAST_DUE                673065 \n",
       "DAYS_TERMINATION             673065 \n",
       "NFLAG_INSURED_ON_APPROVAL    673065 \n",
       "dtype: int64"
      ]
     },
     "execution_count": 54,
     "metadata": {},
     "output_type": "execute_result"
    }
   ],
   "source": [
    "previous_application[previous_application.columns[previous_application.dtypes == 'float64']].isnull().sum()"
   ]
  },
  {
   "cell_type": "code",
   "execution_count": 60,
   "metadata": {},
   "outputs": [
    {
     "data": {
      "text/plain": [
       "1000983    1\n",
       "2428426    1\n",
       "1026910    1\n",
       "1024863    1\n",
       "2448896    1\n",
       "Name: SK_ID_PREV, dtype: int64"
      ]
     },
     "execution_count": 60,
     "metadata": {},
     "output_type": "execute_result"
    }
   ],
   "source": [
    "previous_application.SK_ID_PREV.value_counts().head()"
   ]
  },
  {
   "cell_type": "code",
   "execution_count": 52,
   "metadata": {},
   "outputs": [
    {
     "data": {
      "text/plain": [
       "53.636480115721696"
      ]
     },
     "execution_count": 52,
     "metadata": {},
     "output_type": "execute_result"
    }
   ],
   "source": [
    "895844 * 100 / previous_application.shape[0]"
   ]
  },
  {
   "cell_type": "code",
   "execution_count": 61,
   "metadata": {},
   "outputs": [
    {
     "data": {
      "text/html": [
       "<div>\n",
       "<style scoped>\n",
       "    .dataframe tbody tr th:only-of-type {\n",
       "        vertical-align: middle;\n",
       "    }\n",
       "\n",
       "    .dataframe tbody tr th {\n",
       "        vertical-align: top;\n",
       "    }\n",
       "\n",
       "    .dataframe thead th {\n",
       "        text-align: right;\n",
       "    }\n",
       "</style>\n",
       "<table border=\"1\" class=\"dataframe\">\n",
       "  <thead>\n",
       "    <tr style=\"text-align: right;\">\n",
       "      <th></th>\n",
       "      <th>SK_ID_PREV</th>\n",
       "      <th>SK_ID_CURR</th>\n",
       "      <th>MONTHS_BALANCE</th>\n",
       "      <th>CNT_INSTALMENT</th>\n",
       "      <th>CNT_INSTALMENT_FUTURE</th>\n",
       "      <th>NAME_CONTRACT_STATUS</th>\n",
       "      <th>SK_DPD</th>\n",
       "      <th>SK_DPD_DEF</th>\n",
       "    </tr>\n",
       "  </thead>\n",
       "  <tbody>\n",
       "    <tr>\n",
       "      <th>0</th>\n",
       "      <td>1803195</td>\n",
       "      <td>182943</td>\n",
       "      <td>-31</td>\n",
       "      <td>48.0</td>\n",
       "      <td>45.0</td>\n",
       "      <td>Active</td>\n",
       "      <td>0</td>\n",
       "      <td>0</td>\n",
       "    </tr>\n",
       "    <tr>\n",
       "      <th>1</th>\n",
       "      <td>1715348</td>\n",
       "      <td>367990</td>\n",
       "      <td>-33</td>\n",
       "      <td>36.0</td>\n",
       "      <td>35.0</td>\n",
       "      <td>Active</td>\n",
       "      <td>0</td>\n",
       "      <td>0</td>\n",
       "    </tr>\n",
       "    <tr>\n",
       "      <th>2</th>\n",
       "      <td>1784872</td>\n",
       "      <td>397406</td>\n",
       "      <td>-32</td>\n",
       "      <td>12.0</td>\n",
       "      <td>9.0</td>\n",
       "      <td>Active</td>\n",
       "      <td>0</td>\n",
       "      <td>0</td>\n",
       "    </tr>\n",
       "    <tr>\n",
       "      <th>3</th>\n",
       "      <td>1903291</td>\n",
       "      <td>269225</td>\n",
       "      <td>-35</td>\n",
       "      <td>48.0</td>\n",
       "      <td>42.0</td>\n",
       "      <td>Active</td>\n",
       "      <td>0</td>\n",
       "      <td>0</td>\n",
       "    </tr>\n",
       "    <tr>\n",
       "      <th>4</th>\n",
       "      <td>2341044</td>\n",
       "      <td>334279</td>\n",
       "      <td>-35</td>\n",
       "      <td>36.0</td>\n",
       "      <td>35.0</td>\n",
       "      <td>Active</td>\n",
       "      <td>0</td>\n",
       "      <td>0</td>\n",
       "    </tr>\n",
       "  </tbody>\n",
       "</table>\n",
       "</div>"
      ],
      "text/plain": [
       "   SK_ID_PREV  SK_ID_CURR  MONTHS_BALANCE  CNT_INSTALMENT  \\\n",
       "0  1803195     182943     -31              48.0             \n",
       "1  1715348     367990     -33              36.0             \n",
       "2  1784872     397406     -32              12.0             \n",
       "3  1903291     269225     -35              48.0             \n",
       "4  2341044     334279     -35              36.0             \n",
       "\n",
       "   CNT_INSTALMENT_FUTURE NAME_CONTRACT_STATUS  SK_DPD  SK_DPD_DEF  \n",
       "0  45.0                   Active               0       0           \n",
       "1  35.0                   Active               0       0           \n",
       "2  9.0                    Active               0       0           \n",
       "3  42.0                   Active               0       0           \n",
       "4  35.0                   Active               0       0           "
      ]
     },
     "execution_count": 61,
     "metadata": {},
     "output_type": "execute_result"
    }
   ],
   "source": [
    "pos_cash_balance.head()"
   ]
  },
  {
   "cell_type": "code",
   "execution_count": 28,
   "metadata": {},
   "outputs": [
    {
     "data": {
      "text/plain": [
       "object     16\n",
       "float64    15\n",
       "int64      6 \n",
       "dtype: int64"
      ]
     },
     "execution_count": 28,
     "metadata": {},
     "output_type": "execute_result"
    }
   ],
   "source": [
    "previous_application.dtypes.value_counts()"
   ]
  },
  {
   "cell_type": "code",
   "execution_count": 10,
   "metadata": {},
   "outputs": [
    {
     "data": {
      "text/html": [
       "<div>\n",
       "<style scoped>\n",
       "    .dataframe tbody tr th:only-of-type {\n",
       "        vertical-align: middle;\n",
       "    }\n",
       "\n",
       "    .dataframe tbody tr th {\n",
       "        vertical-align: top;\n",
       "    }\n",
       "\n",
       "    .dataframe thead th {\n",
       "        text-align: right;\n",
       "    }\n",
       "</style>\n",
       "<table border=\"1\" class=\"dataframe\">\n",
       "  <thead>\n",
       "    <tr style=\"text-align: right;\">\n",
       "      <th></th>\n",
       "      <th>Unnamed: 0</th>\n",
       "      <th>Table</th>\n",
       "      <th>Row</th>\n",
       "      <th>Description</th>\n",
       "      <th>Special</th>\n",
       "    </tr>\n",
       "  </thead>\n",
       "  <tbody>\n",
       "    <tr>\n",
       "      <th>0</th>\n",
       "      <td>1</td>\n",
       "      <td>application_{train|test}.csv</td>\n",
       "      <td>SK_ID_CURR</td>\n",
       "      <td>ID of loan in our sample</td>\n",
       "      <td>NaN</td>\n",
       "    </tr>\n",
       "    <tr>\n",
       "      <th>1</th>\n",
       "      <td>2</td>\n",
       "      <td>application_{train|test}.csv</td>\n",
       "      <td>TARGET</td>\n",
       "      <td>Target variable (1 - client with payment difficulties: he/she had late payment more than X days on at least one of the first Y installments of the loan in our sample, 0 - all other cases)</td>\n",
       "      <td>NaN</td>\n",
       "    </tr>\n",
       "    <tr>\n",
       "      <th>2</th>\n",
       "      <td>5</td>\n",
       "      <td>application_{train|test}.csv</td>\n",
       "      <td>NAME_CONTRACT_TYPE</td>\n",
       "      <td>Identification if loan is cash or revolving</td>\n",
       "      <td>NaN</td>\n",
       "    </tr>\n",
       "    <tr>\n",
       "      <th>3</th>\n",
       "      <td>6</td>\n",
       "      <td>application_{train|test}.csv</td>\n",
       "      <td>CODE_GENDER</td>\n",
       "      <td>Gender of the client</td>\n",
       "      <td>NaN</td>\n",
       "    </tr>\n",
       "    <tr>\n",
       "      <th>4</th>\n",
       "      <td>7</td>\n",
       "      <td>application_{train|test}.csv</td>\n",
       "      <td>FLAG_OWN_CAR</td>\n",
       "      <td>Flag if the client owns a car</td>\n",
       "      <td>NaN</td>\n",
       "    </tr>\n",
       "  </tbody>\n",
       "</table>\n",
       "</div>"
      ],
      "text/plain": [
       "   Unnamed: 0                         Table                 Row  \\\n",
       "0  1           application_{train|test}.csv  SK_ID_CURR           \n",
       "1  2           application_{train|test}.csv  TARGET               \n",
       "2  5           application_{train|test}.csv  NAME_CONTRACT_TYPE   \n",
       "3  6           application_{train|test}.csv  CODE_GENDER          \n",
       "4  7           application_{train|test}.csv  FLAG_OWN_CAR         \n",
       "\n",
       "                                                                                                                                                                                   Description  \\\n",
       "0  ID of loan in our sample                                                                                                                                                                      \n",
       "1  Target variable (1 - client with payment difficulties: he/she had late payment more than X days on at least one of the first Y installments of the loan in our sample, 0 - all other cases)   \n",
       "2  Identification if loan is cash or revolving                                                                                                                                                   \n",
       "3  Gender of the client                                                                                                                                                                          \n",
       "4  Flag if the client owns a car                                                                                                                                                                 \n",
       "\n",
       "  Special  \n",
       "0  NaN     \n",
       "1  NaN     \n",
       "2  NaN     \n",
       "3  NaN     \n",
       "4  NaN     "
      ]
     },
     "execution_count": 10,
     "metadata": {},
     "output_type": "execute_result"
    }
   ],
   "source": [
    "descriptions.head()"
   ]
  },
  {
   "cell_type": "code",
   "execution_count": 9,
   "metadata": {},
   "outputs": [
    {
     "data": {
      "text/html": [
       "<div>\n",
       "<style scoped>\n",
       "    .dataframe tbody tr th:only-of-type {\n",
       "        vertical-align: middle;\n",
       "    }\n",
       "\n",
       "    .dataframe tbody tr th {\n",
       "        vertical-align: top;\n",
       "    }\n",
       "\n",
       "    .dataframe thead th {\n",
       "        text-align: right;\n",
       "    }\n",
       "</style>\n",
       "<table border=\"1\" class=\"dataframe\">\n",
       "  <thead>\n",
       "    <tr style=\"text-align: right;\">\n",
       "      <th></th>\n",
       "      <th>Unnamed: 0</th>\n",
       "      <th>Table</th>\n",
       "      <th>Row</th>\n",
       "      <th>Description</th>\n",
       "      <th>Special</th>\n",
       "    </tr>\n",
       "  </thead>\n",
       "  <tbody>\n",
       "    <tr>\n",
       "      <th>10</th>\n",
       "      <td>13</td>\n",
       "      <td>application_{train|test}.csv</td>\n",
       "      <td>AMT_GOODS_PRICE</td>\n",
       "      <td>For consumer loans it is the price of the goods for which the loan is given</td>\n",
       "      <td>NaN</td>\n",
       "    </tr>\n",
       "    <tr>\n",
       "      <th>180</th>\n",
       "      <td>183</td>\n",
       "      <td>previous_application.csv</td>\n",
       "      <td>AMT_GOODS_PRICE</td>\n",
       "      <td>Goods price of good that client asked for (if applicable) on the previous application</td>\n",
       "      <td>NaN</td>\n",
       "    </tr>\n",
       "  </tbody>\n",
       "</table>\n",
       "</div>"
      ],
      "text/plain": [
       "     Unnamed: 0                         Table              Row  \\\n",
       "10   13          application_{train|test}.csv  AMT_GOODS_PRICE   \n",
       "180  183         previous_application.csv      AMT_GOODS_PRICE   \n",
       "\n",
       "                                                                               Description  \\\n",
       "10   For consumer loans it is the price of the goods for which the loan is given             \n",
       "180  Goods price of good that client asked for (if applicable) on the previous application   \n",
       "\n",
       "    Special  \n",
       "10   NaN     \n",
       "180  NaN     "
      ]
     },
     "execution_count": 9,
     "metadata": {},
     "output_type": "execute_result"
    }
   ],
   "source": [
    "descriptions[descriptions.Row == 'AMT_GOODS_PRICE']"
   ]
  },
  {
   "cell_type": "code",
   "execution_count": null,
   "metadata": {},
   "outputs": [],
   "source": [
    "for col in remove_nulls.columns[remove_nulls.dtypes == 'float64']:\n",
    "    if (col != 'SK_ID_CURR') and (col != 'TARGET'):\n",
    "        print remove_nulls.groupby(['TARGET'])[str(col)].mean()"
   ]
  },
  {
   "cell_type": "code",
   "execution_count": null,
   "metadata": {},
   "outputs": [],
   "source": [
    "#getting columns with missing values granular\n",
    "ranges = [(0,30),(30,60), (60, 120)]\n",
    "\n",
    "for i in ranges:\n",
    "    msno.matrix(remove_nulls.iloc[:100, i[0]:i[1]])"
   ]
  },
  {
   "cell_type": "code",
   "execution_count": 116,
   "metadata": {},
   "outputs": [
    {
     "data": {
      "text/plain": [
       "False    0.686545\n",
       "True     0.313455\n",
       "Name: OCCUPATION_TYPE, dtype: float64"
      ]
     },
     "execution_count": 116,
     "metadata": {},
     "output_type": "execute_result"
    }
   ],
   "source": [
    "remove_nulls.OCCUPATION_TYPE.isnull().value_counts(normalize=True)"
   ]
  },
  {
   "cell_type": "code",
   "execution_count": 129,
   "metadata": {},
   "outputs": [],
   "source": [
    "nulls = remove_nulls.isnull().sum() * 100/train.shape[0]"
   ]
  },
  {
   "cell_type": "code",
   "execution_count": 136,
   "metadata": {},
   "outputs": [],
   "source": [
    "null_cols = nulls[nulls > 30].index.values"
   ]
  },
  {
   "cell_type": "code",
   "execution_count": null,
   "metadata": {},
   "outputs": [],
   "source": [
    "#dtypes of null cols in remove_nulls data frame\n",
    "for col in null_cols:\n",
    "    print col, remove_nulls[str(col)].dtype"
   ]
  },
  {
   "cell_type": "code",
   "execution_count": null,
   "metadata": {},
   "outputs": [],
   "source": [
    "#dtypes of missing cols in train\n",
    "for col in nulls[nulls > 50].index.values:\n",
    "    print col, train[str(col)].dtypes"
   ]
  },
  {
   "cell_type": "code",
   "execution_count": 151,
   "metadata": {},
   "outputs": [
    {
     "data": {
      "text/plain": [
       "SK_ID_PREV               0    \n",
       "SK_ID_CURR               0    \n",
       "MONTHS_BALANCE           0    \n",
       "CNT_INSTALMENT           26071\n",
       "CNT_INSTALMENT_FUTURE    26087\n",
       "NAME_CONTRACT_STATUS     0    \n",
       "SK_DPD                   0    \n",
       "SK_DPD_DEF               0    \n",
       "dtype: int64"
      ]
     },
     "execution_count": 151,
     "metadata": {},
     "output_type": "execute_result"
    }
   ],
   "source": [
    "pos_cash_balance.isnull().sum()"
   ]
  },
  {
   "cell_type": "code",
   "execution_count": 147,
   "metadata": {},
   "outputs": [
    {
     "data": {
      "text/html": [
       "<div>\n",
       "<style scoped>\n",
       "    .dataframe tbody tr th:only-of-type {\n",
       "        vertical-align: middle;\n",
       "    }\n",
       "\n",
       "    .dataframe tbody tr th {\n",
       "        vertical-align: top;\n",
       "    }\n",
       "\n",
       "    .dataframe thead th {\n",
       "        text-align: right;\n",
       "    }\n",
       "</style>\n",
       "<table border=\"1\" class=\"dataframe\">\n",
       "  <thead>\n",
       "    <tr style=\"text-align: right;\">\n",
       "      <th></th>\n",
       "      <th>SK_ID_PREV</th>\n",
       "      <th>SK_ID_CURR</th>\n",
       "      <th>NAME_CONTRACT_TYPE</th>\n",
       "      <th>AMT_ANNUITY</th>\n",
       "      <th>AMT_APPLICATION</th>\n",
       "      <th>AMT_CREDIT</th>\n",
       "      <th>AMT_DOWN_PAYMENT</th>\n",
       "      <th>AMT_GOODS_PRICE</th>\n",
       "      <th>WEEKDAY_APPR_PROCESS_START</th>\n",
       "      <th>HOUR_APPR_PROCESS_START</th>\n",
       "      <th>FLAG_LAST_APPL_PER_CONTRACT</th>\n",
       "      <th>NFLAG_LAST_APPL_IN_DAY</th>\n",
       "      <th>RATE_DOWN_PAYMENT</th>\n",
       "      <th>RATE_INTEREST_PRIMARY</th>\n",
       "      <th>RATE_INTEREST_PRIVILEGED</th>\n",
       "      <th>NAME_CASH_LOAN_PURPOSE</th>\n",
       "      <th>NAME_CONTRACT_STATUS</th>\n",
       "      <th>DAYS_DECISION</th>\n",
       "      <th>NAME_PAYMENT_TYPE</th>\n",
       "      <th>CODE_REJECT_REASON</th>\n",
       "      <th>NAME_TYPE_SUITE</th>\n",
       "      <th>NAME_CLIENT_TYPE</th>\n",
       "      <th>NAME_GOODS_CATEGORY</th>\n",
       "      <th>NAME_PORTFOLIO</th>\n",
       "      <th>NAME_PRODUCT_TYPE</th>\n",
       "      <th>CHANNEL_TYPE</th>\n",
       "      <th>SELLERPLACE_AREA</th>\n",
       "      <th>NAME_SELLER_INDUSTRY</th>\n",
       "      <th>CNT_PAYMENT</th>\n",
       "      <th>NAME_YIELD_GROUP</th>\n",
       "      <th>PRODUCT_COMBINATION</th>\n",
       "      <th>DAYS_FIRST_DRAWING</th>\n",
       "      <th>DAYS_FIRST_DUE</th>\n",
       "      <th>DAYS_LAST_DUE_1ST_VERSION</th>\n",
       "      <th>DAYS_LAST_DUE</th>\n",
       "      <th>DAYS_TERMINATION</th>\n",
       "      <th>NFLAG_INSURED_ON_APPROVAL</th>\n",
       "    </tr>\n",
       "  </thead>\n",
       "  <tbody>\n",
       "    <tr>\n",
       "      <th>0</th>\n",
       "      <td>2030495</td>\n",
       "      <td>271877</td>\n",
       "      <td>Consumer loans</td>\n",
       "      <td>1730.430</td>\n",
       "      <td>17145.0</td>\n",
       "      <td>17145.0</td>\n",
       "      <td>0.0</td>\n",
       "      <td>17145.0</td>\n",
       "      <td>SATURDAY</td>\n",
       "      <td>15</td>\n",
       "      <td>Y</td>\n",
       "      <td>1</td>\n",
       "      <td>0.0</td>\n",
       "      <td>0.182832</td>\n",
       "      <td>0.867336</td>\n",
       "      <td>XAP</td>\n",
       "      <td>Approved</td>\n",
       "      <td>-73</td>\n",
       "      <td>Cash through the bank</td>\n",
       "      <td>XAP</td>\n",
       "      <td>NaN</td>\n",
       "      <td>Repeater</td>\n",
       "      <td>Mobile</td>\n",
       "      <td>POS</td>\n",
       "      <td>XNA</td>\n",
       "      <td>Country-wide</td>\n",
       "      <td>35</td>\n",
       "      <td>Connectivity</td>\n",
       "      <td>12.0</td>\n",
       "      <td>middle</td>\n",
       "      <td>POS mobile with interest</td>\n",
       "      <td>365243.0</td>\n",
       "      <td>-42.0</td>\n",
       "      <td>300.0</td>\n",
       "      <td>-42.0</td>\n",
       "      <td>-37.0</td>\n",
       "      <td>0.0</td>\n",
       "    </tr>\n",
       "    <tr>\n",
       "      <th>1</th>\n",
       "      <td>2802425</td>\n",
       "      <td>108129</td>\n",
       "      <td>Cash loans</td>\n",
       "      <td>25188.615</td>\n",
       "      <td>607500.0</td>\n",
       "      <td>679671.0</td>\n",
       "      <td>NaN</td>\n",
       "      <td>607500.0</td>\n",
       "      <td>THURSDAY</td>\n",
       "      <td>11</td>\n",
       "      <td>Y</td>\n",
       "      <td>1</td>\n",
       "      <td>NaN</td>\n",
       "      <td>NaN</td>\n",
       "      <td>NaN</td>\n",
       "      <td>XNA</td>\n",
       "      <td>Approved</td>\n",
       "      <td>-164</td>\n",
       "      <td>XNA</td>\n",
       "      <td>XAP</td>\n",
       "      <td>Unaccompanied</td>\n",
       "      <td>Repeater</td>\n",
       "      <td>XNA</td>\n",
       "      <td>Cash</td>\n",
       "      <td>x-sell</td>\n",
       "      <td>Contact center</td>\n",
       "      <td>-1</td>\n",
       "      <td>XNA</td>\n",
       "      <td>36.0</td>\n",
       "      <td>low_action</td>\n",
       "      <td>Cash X-Sell: low</td>\n",
       "      <td>365243.0</td>\n",
       "      <td>-134.0</td>\n",
       "      <td>916.0</td>\n",
       "      <td>365243.0</td>\n",
       "      <td>365243.0</td>\n",
       "      <td>1.0</td>\n",
       "    </tr>\n",
       "    <tr>\n",
       "      <th>2</th>\n",
       "      <td>2523466</td>\n",
       "      <td>122040</td>\n",
       "      <td>Cash loans</td>\n",
       "      <td>15060.735</td>\n",
       "      <td>112500.0</td>\n",
       "      <td>136444.5</td>\n",
       "      <td>NaN</td>\n",
       "      <td>112500.0</td>\n",
       "      <td>TUESDAY</td>\n",
       "      <td>11</td>\n",
       "      <td>Y</td>\n",
       "      <td>1</td>\n",
       "      <td>NaN</td>\n",
       "      <td>NaN</td>\n",
       "      <td>NaN</td>\n",
       "      <td>XNA</td>\n",
       "      <td>Approved</td>\n",
       "      <td>-301</td>\n",
       "      <td>Cash through the bank</td>\n",
       "      <td>XAP</td>\n",
       "      <td>Spouse, partner</td>\n",
       "      <td>Repeater</td>\n",
       "      <td>XNA</td>\n",
       "      <td>Cash</td>\n",
       "      <td>x-sell</td>\n",
       "      <td>Credit and cash offices</td>\n",
       "      <td>-1</td>\n",
       "      <td>XNA</td>\n",
       "      <td>12.0</td>\n",
       "      <td>high</td>\n",
       "      <td>Cash X-Sell: high</td>\n",
       "      <td>365243.0</td>\n",
       "      <td>-271.0</td>\n",
       "      <td>59.0</td>\n",
       "      <td>365243.0</td>\n",
       "      <td>365243.0</td>\n",
       "      <td>1.0</td>\n",
       "    </tr>\n",
       "    <tr>\n",
       "      <th>3</th>\n",
       "      <td>2819243</td>\n",
       "      <td>176158</td>\n",
       "      <td>Cash loans</td>\n",
       "      <td>47041.335</td>\n",
       "      <td>450000.0</td>\n",
       "      <td>470790.0</td>\n",
       "      <td>NaN</td>\n",
       "      <td>450000.0</td>\n",
       "      <td>MONDAY</td>\n",
       "      <td>7</td>\n",
       "      <td>Y</td>\n",
       "      <td>1</td>\n",
       "      <td>NaN</td>\n",
       "      <td>NaN</td>\n",
       "      <td>NaN</td>\n",
       "      <td>XNA</td>\n",
       "      <td>Approved</td>\n",
       "      <td>-512</td>\n",
       "      <td>Cash through the bank</td>\n",
       "      <td>XAP</td>\n",
       "      <td>NaN</td>\n",
       "      <td>Repeater</td>\n",
       "      <td>XNA</td>\n",
       "      <td>Cash</td>\n",
       "      <td>x-sell</td>\n",
       "      <td>Credit and cash offices</td>\n",
       "      <td>-1</td>\n",
       "      <td>XNA</td>\n",
       "      <td>12.0</td>\n",
       "      <td>middle</td>\n",
       "      <td>Cash X-Sell: middle</td>\n",
       "      <td>365243.0</td>\n",
       "      <td>-482.0</td>\n",
       "      <td>-152.0</td>\n",
       "      <td>-182.0</td>\n",
       "      <td>-177.0</td>\n",
       "      <td>1.0</td>\n",
       "    </tr>\n",
       "    <tr>\n",
       "      <th>4</th>\n",
       "      <td>1784265</td>\n",
       "      <td>202054</td>\n",
       "      <td>Cash loans</td>\n",
       "      <td>31924.395</td>\n",
       "      <td>337500.0</td>\n",
       "      <td>404055.0</td>\n",
       "      <td>NaN</td>\n",
       "      <td>337500.0</td>\n",
       "      <td>THURSDAY</td>\n",
       "      <td>9</td>\n",
       "      <td>Y</td>\n",
       "      <td>1</td>\n",
       "      <td>NaN</td>\n",
       "      <td>NaN</td>\n",
       "      <td>NaN</td>\n",
       "      <td>Repairs</td>\n",
       "      <td>Refused</td>\n",
       "      <td>-781</td>\n",
       "      <td>Cash through the bank</td>\n",
       "      <td>HC</td>\n",
       "      <td>NaN</td>\n",
       "      <td>Repeater</td>\n",
       "      <td>XNA</td>\n",
       "      <td>Cash</td>\n",
       "      <td>walk-in</td>\n",
       "      <td>Credit and cash offices</td>\n",
       "      <td>-1</td>\n",
       "      <td>XNA</td>\n",
       "      <td>24.0</td>\n",
       "      <td>high</td>\n",
       "      <td>Cash Street: high</td>\n",
       "      <td>NaN</td>\n",
       "      <td>NaN</td>\n",
       "      <td>NaN</td>\n",
       "      <td>NaN</td>\n",
       "      <td>NaN</td>\n",
       "      <td>NaN</td>\n",
       "    </tr>\n",
       "  </tbody>\n",
       "</table>\n",
       "</div>"
      ],
      "text/plain": [
       "   SK_ID_PREV  SK_ID_CURR NAME_CONTRACT_TYPE  AMT_ANNUITY  AMT_APPLICATION  \\\n",
       "0  2030495     271877      Consumer loans     1730.430     17145.0           \n",
       "1  2802425     108129      Cash loans         25188.615    607500.0          \n",
       "2  2523466     122040      Cash loans         15060.735    112500.0          \n",
       "3  2819243     176158      Cash loans         47041.335    450000.0          \n",
       "4  1784265     202054      Cash loans         31924.395    337500.0          \n",
       "\n",
       "   AMT_CREDIT  AMT_DOWN_PAYMENT  AMT_GOODS_PRICE WEEKDAY_APPR_PROCESS_START  \\\n",
       "0  17145.0     0.0               17145.0          SATURDAY                    \n",
       "1  679671.0   NaN                607500.0         THURSDAY                    \n",
       "2  136444.5   NaN                112500.0         TUESDAY                     \n",
       "3  470790.0   NaN                450000.0         MONDAY                      \n",
       "4  404055.0   NaN                337500.0         THURSDAY                    \n",
       "\n",
       "   HOUR_APPR_PROCESS_START FLAG_LAST_APPL_PER_CONTRACT  \\\n",
       "0  15                       Y                            \n",
       "1  11                       Y                            \n",
       "2  11                       Y                            \n",
       "3  7                        Y                            \n",
       "4  9                        Y                            \n",
       "\n",
       "   NFLAG_LAST_APPL_IN_DAY  RATE_DOWN_PAYMENT  RATE_INTEREST_PRIMARY  \\\n",
       "0  1                       0.0                0.182832                \n",
       "1  1                      NaN                NaN                      \n",
       "2  1                      NaN                NaN                      \n",
       "3  1                      NaN                NaN                      \n",
       "4  1                      NaN                NaN                      \n",
       "\n",
       "   RATE_INTEREST_PRIVILEGED NAME_CASH_LOAN_PURPOSE NAME_CONTRACT_STATUS  \\\n",
       "0  0.867336                  XAP                    Approved              \n",
       "1 NaN                        XNA                    Approved              \n",
       "2 NaN                        XNA                    Approved              \n",
       "3 NaN                        XNA                    Approved              \n",
       "4 NaN                        Repairs                Refused               \n",
       "\n",
       "   DAYS_DECISION      NAME_PAYMENT_TYPE CODE_REJECT_REASON  NAME_TYPE_SUITE  \\\n",
       "0 -73             Cash through the bank  XAP                NaN               \n",
       "1 -164            XNA                    XAP                Unaccompanied     \n",
       "2 -301            Cash through the bank  XAP                Spouse, partner   \n",
       "3 -512            Cash through the bank  XAP                NaN               \n",
       "4 -781            Cash through the bank  HC                 NaN               \n",
       "\n",
       "  NAME_CLIENT_TYPE NAME_GOODS_CATEGORY NAME_PORTFOLIO NAME_PRODUCT_TYPE  \\\n",
       "0  Repeater         Mobile              POS            XNA                \n",
       "1  Repeater         XNA                 Cash           x-sell             \n",
       "2  Repeater         XNA                 Cash           x-sell             \n",
       "3  Repeater         XNA                 Cash           x-sell             \n",
       "4  Repeater         XNA                 Cash           walk-in            \n",
       "\n",
       "              CHANNEL_TYPE  SELLERPLACE_AREA NAME_SELLER_INDUSTRY  \\\n",
       "0  Country-wide             35                Connectivity          \n",
       "1  Contact center          -1                 XNA                   \n",
       "2  Credit and cash offices -1                 XNA                   \n",
       "3  Credit and cash offices -1                 XNA                   \n",
       "4  Credit and cash offices -1                 XNA                   \n",
       "\n",
       "   CNT_PAYMENT NAME_YIELD_GROUP       PRODUCT_COMBINATION  DAYS_FIRST_DRAWING  \\\n",
       "0  12.0         middle           POS mobile with interest  365243.0             \n",
       "1  36.0         low_action       Cash X-Sell: low          365243.0             \n",
       "2  12.0         high             Cash X-Sell: high         365243.0             \n",
       "3  12.0         middle           Cash X-Sell: middle       365243.0             \n",
       "4  24.0         high             Cash Street: high        NaN                   \n",
       "\n",
       "   DAYS_FIRST_DUE  DAYS_LAST_DUE_1ST_VERSION  DAYS_LAST_DUE  DAYS_TERMINATION  \\\n",
       "0 -42.0            300.0                     -42.0          -37.0               \n",
       "1 -134.0           916.0                      365243.0       365243.0           \n",
       "2 -271.0           59.0                       365243.0       365243.0           \n",
       "3 -482.0          -152.0                     -182.0         -177.0              \n",
       "4 NaN             NaN                        NaN            NaN                 \n",
       "\n",
       "   NFLAG_INSURED_ON_APPROVAL  \n",
       "0  0.0                        \n",
       "1  1.0                        \n",
       "2  1.0                        \n",
       "3  1.0                        \n",
       "4 NaN                         "
      ]
     },
     "execution_count": 147,
     "metadata": {},
     "output_type": "execute_result"
    }
   ],
   "source": [
    "previous_application.head()"
   ]
  },
  {
   "cell_type": "code",
   "execution_count": 148,
   "metadata": {},
   "outputs": [
    {
     "data": {
      "text/plain": [
       "187868    77\n",
       "265681    73\n",
       "173680    72\n",
       "242412    68\n",
       "206783    67\n",
       "Name: SK_ID_CURR, dtype: int64"
      ]
     },
     "execution_count": 148,
     "metadata": {},
     "output_type": "execute_result"
    }
   ],
   "source": [
    "previous_application.SK_ID_CURR.value_counts().head()"
   ]
  },
  {
   "cell_type": "code",
   "execution_count": 153,
   "metadata": {},
   "outputs": [
    {
     "data": {
      "text/plain": [
       "SK_ID_PREV                     0      \n",
       "SK_ID_CURR                     0      \n",
       "NAME_CONTRACT_TYPE             0      \n",
       "AMT_ANNUITY                    372235 \n",
       "AMT_APPLICATION                0      \n",
       "AMT_CREDIT                     1      \n",
       "AMT_DOWN_PAYMENT               895844 \n",
       "AMT_GOODS_PRICE                385515 \n",
       "WEEKDAY_APPR_PROCESS_START     0      \n",
       "HOUR_APPR_PROCESS_START        0      \n",
       "FLAG_LAST_APPL_PER_CONTRACT    0      \n",
       "NFLAG_LAST_APPL_IN_DAY         0      \n",
       "RATE_DOWN_PAYMENT              895844 \n",
       "RATE_INTEREST_PRIMARY          1664263\n",
       "RATE_INTEREST_PRIVILEGED       1664263\n",
       "NAME_CASH_LOAN_PURPOSE         0      \n",
       "NAME_CONTRACT_STATUS           0      \n",
       "DAYS_DECISION                  0      \n",
       "NAME_PAYMENT_TYPE              0      \n",
       "CODE_REJECT_REASON             0      \n",
       "NAME_TYPE_SUITE                820405 \n",
       "NAME_CLIENT_TYPE               0      \n",
       "NAME_GOODS_CATEGORY            0      \n",
       "NAME_PORTFOLIO                 0      \n",
       "NAME_PRODUCT_TYPE              0      \n",
       "CHANNEL_TYPE                   0      \n",
       "SELLERPLACE_AREA               0      \n",
       "NAME_SELLER_INDUSTRY           0      \n",
       "CNT_PAYMENT                    372230 \n",
       "NAME_YIELD_GROUP               0      \n",
       "PRODUCT_COMBINATION            346    \n",
       "DAYS_FIRST_DRAWING             673065 \n",
       "DAYS_FIRST_DUE                 673065 \n",
       "DAYS_LAST_DUE_1ST_VERSION      673065 \n",
       "DAYS_LAST_DUE                  673065 \n",
       "DAYS_TERMINATION               673065 \n",
       "NFLAG_INSURED_ON_APPROVAL      673065 \n",
       "dtype: int64"
      ]
     },
     "execution_count": 153,
     "metadata": {},
     "output_type": "execute_result"
    }
   ],
   "source": [
    "previous_application.isnull().sum()"
   ]
  },
  {
   "cell_type": "code",
   "execution_count": 152,
   "metadata": {},
   "outputs": [
    {
     "data": {
      "text/plain": [
       "SK_ID_PREV                    0     \n",
       "SK_ID_CURR                    0     \n",
       "MONTHS_BALANCE                0     \n",
       "AMT_BALANCE                   0     \n",
       "AMT_CREDIT_LIMIT_ACTUAL       0     \n",
       "AMT_DRAWINGS_ATM_CURRENT      749816\n",
       "AMT_DRAWINGS_CURRENT          0     \n",
       "AMT_DRAWINGS_OTHER_CURRENT    749816\n",
       "AMT_DRAWINGS_POS_CURRENT      749816\n",
       "AMT_INST_MIN_REGULARITY       305236\n",
       "AMT_PAYMENT_CURRENT           767988\n",
       "AMT_PAYMENT_TOTAL_CURRENT     0     \n",
       "AMT_RECEIVABLE_PRINCIPAL      0     \n",
       "AMT_RECIVABLE                 0     \n",
       "AMT_TOTAL_RECEIVABLE          0     \n",
       "CNT_DRAWINGS_ATM_CURRENT      749816\n",
       "CNT_DRAWINGS_CURRENT          0     \n",
       "CNT_DRAWINGS_OTHER_CURRENT    749816\n",
       "CNT_DRAWINGS_POS_CURRENT      749816\n",
       "CNT_INSTALMENT_MATURE_CUM     305236\n",
       "NAME_CONTRACT_STATUS          0     \n",
       "SK_DPD                        0     \n",
       "SK_DPD_DEF                    0     \n",
       "dtype: int64"
      ]
     },
     "execution_count": 152,
     "metadata": {},
     "output_type": "execute_result"
    }
   ],
   "source": [
    "credit_card_balance.isnull().sum()"
   ]
  },
  {
   "cell_type": "code",
   "execution_count": 154,
   "metadata": {},
   "outputs": [
    {
     "data": {
      "text/html": [
       "<div>\n",
       "<style scoped>\n",
       "    .dataframe tbody tr th:only-of-type {\n",
       "        vertical-align: middle;\n",
       "    }\n",
       "\n",
       "    .dataframe tbody tr th {\n",
       "        vertical-align: top;\n",
       "    }\n",
       "\n",
       "    .dataframe thead th {\n",
       "        text-align: right;\n",
       "    }\n",
       "</style>\n",
       "<table border=\"1\" class=\"dataframe\">\n",
       "  <thead>\n",
       "    <tr style=\"text-align: right;\">\n",
       "      <th></th>\n",
       "      <th>SK_ID_PREV</th>\n",
       "      <th>SK_ID_CURR</th>\n",
       "      <th>MONTHS_BALANCE</th>\n",
       "      <th>AMT_BALANCE</th>\n",
       "      <th>AMT_CREDIT_LIMIT_ACTUAL</th>\n",
       "      <th>AMT_DRAWINGS_ATM_CURRENT</th>\n",
       "      <th>AMT_DRAWINGS_CURRENT</th>\n",
       "      <th>AMT_DRAWINGS_OTHER_CURRENT</th>\n",
       "      <th>AMT_DRAWINGS_POS_CURRENT</th>\n",
       "      <th>AMT_INST_MIN_REGULARITY</th>\n",
       "      <th>AMT_PAYMENT_CURRENT</th>\n",
       "      <th>AMT_PAYMENT_TOTAL_CURRENT</th>\n",
       "      <th>AMT_RECEIVABLE_PRINCIPAL</th>\n",
       "      <th>AMT_RECIVABLE</th>\n",
       "      <th>AMT_TOTAL_RECEIVABLE</th>\n",
       "      <th>CNT_DRAWINGS_ATM_CURRENT</th>\n",
       "      <th>CNT_DRAWINGS_CURRENT</th>\n",
       "      <th>CNT_DRAWINGS_OTHER_CURRENT</th>\n",
       "      <th>CNT_DRAWINGS_POS_CURRENT</th>\n",
       "      <th>CNT_INSTALMENT_MATURE_CUM</th>\n",
       "      <th>NAME_CONTRACT_STATUS</th>\n",
       "      <th>SK_DPD</th>\n",
       "      <th>SK_DPD_DEF</th>\n",
       "    </tr>\n",
       "  </thead>\n",
       "  <tbody>\n",
       "    <tr>\n",
       "      <th>0</th>\n",
       "      <td>2562384</td>\n",
       "      <td>378907</td>\n",
       "      <td>-6</td>\n",
       "      <td>56.970</td>\n",
       "      <td>135000</td>\n",
       "      <td>0.0</td>\n",
       "      <td>877.5</td>\n",
       "      <td>0.0</td>\n",
       "      <td>877.5</td>\n",
       "      <td>1700.325</td>\n",
       "      <td>1800.0</td>\n",
       "      <td>1800.0</td>\n",
       "      <td>0.000</td>\n",
       "      <td>0.000</td>\n",
       "      <td>0.000</td>\n",
       "      <td>0.0</td>\n",
       "      <td>1</td>\n",
       "      <td>0.0</td>\n",
       "      <td>1.0</td>\n",
       "      <td>35.0</td>\n",
       "      <td>Active</td>\n",
       "      <td>0</td>\n",
       "      <td>0</td>\n",
       "    </tr>\n",
       "    <tr>\n",
       "      <th>1</th>\n",
       "      <td>2582071</td>\n",
       "      <td>363914</td>\n",
       "      <td>-1</td>\n",
       "      <td>63975.555</td>\n",
       "      <td>45000</td>\n",
       "      <td>2250.0</td>\n",
       "      <td>2250.0</td>\n",
       "      <td>0.0</td>\n",
       "      <td>0.0</td>\n",
       "      <td>2250.000</td>\n",
       "      <td>2250.0</td>\n",
       "      <td>2250.0</td>\n",
       "      <td>60175.080</td>\n",
       "      <td>64875.555</td>\n",
       "      <td>64875.555</td>\n",
       "      <td>1.0</td>\n",
       "      <td>1</td>\n",
       "      <td>0.0</td>\n",
       "      <td>0.0</td>\n",
       "      <td>69.0</td>\n",
       "      <td>Active</td>\n",
       "      <td>0</td>\n",
       "      <td>0</td>\n",
       "    </tr>\n",
       "    <tr>\n",
       "      <th>2</th>\n",
       "      <td>1740877</td>\n",
       "      <td>371185</td>\n",
       "      <td>-7</td>\n",
       "      <td>31815.225</td>\n",
       "      <td>450000</td>\n",
       "      <td>0.0</td>\n",
       "      <td>0.0</td>\n",
       "      <td>0.0</td>\n",
       "      <td>0.0</td>\n",
       "      <td>2250.000</td>\n",
       "      <td>2250.0</td>\n",
       "      <td>2250.0</td>\n",
       "      <td>26926.425</td>\n",
       "      <td>31460.085</td>\n",
       "      <td>31460.085</td>\n",
       "      <td>0.0</td>\n",
       "      <td>0</td>\n",
       "      <td>0.0</td>\n",
       "      <td>0.0</td>\n",
       "      <td>30.0</td>\n",
       "      <td>Active</td>\n",
       "      <td>0</td>\n",
       "      <td>0</td>\n",
       "    </tr>\n",
       "    <tr>\n",
       "      <th>3</th>\n",
       "      <td>1389973</td>\n",
       "      <td>337855</td>\n",
       "      <td>-4</td>\n",
       "      <td>236572.110</td>\n",
       "      <td>225000</td>\n",
       "      <td>2250.0</td>\n",
       "      <td>2250.0</td>\n",
       "      <td>0.0</td>\n",
       "      <td>0.0</td>\n",
       "      <td>11795.760</td>\n",
       "      <td>11925.0</td>\n",
       "      <td>11925.0</td>\n",
       "      <td>224949.285</td>\n",
       "      <td>233048.970</td>\n",
       "      <td>233048.970</td>\n",
       "      <td>1.0</td>\n",
       "      <td>1</td>\n",
       "      <td>0.0</td>\n",
       "      <td>0.0</td>\n",
       "      <td>10.0</td>\n",
       "      <td>Active</td>\n",
       "      <td>0</td>\n",
       "      <td>0</td>\n",
       "    </tr>\n",
       "    <tr>\n",
       "      <th>4</th>\n",
       "      <td>1891521</td>\n",
       "      <td>126868</td>\n",
       "      <td>-1</td>\n",
       "      <td>453919.455</td>\n",
       "      <td>450000</td>\n",
       "      <td>0.0</td>\n",
       "      <td>11547.0</td>\n",
       "      <td>0.0</td>\n",
       "      <td>11547.0</td>\n",
       "      <td>22924.890</td>\n",
       "      <td>27000.0</td>\n",
       "      <td>27000.0</td>\n",
       "      <td>443044.395</td>\n",
       "      <td>453919.455</td>\n",
       "      <td>453919.455</td>\n",
       "      <td>0.0</td>\n",
       "      <td>1</td>\n",
       "      <td>0.0</td>\n",
       "      <td>1.0</td>\n",
       "      <td>101.0</td>\n",
       "      <td>Active</td>\n",
       "      <td>0</td>\n",
       "      <td>0</td>\n",
       "    </tr>\n",
       "  </tbody>\n",
       "</table>\n",
       "</div>"
      ],
      "text/plain": [
       "   SK_ID_PREV  SK_ID_CURR  MONTHS_BALANCE  AMT_BALANCE  \\\n",
       "0  2562384     378907     -6               56.970        \n",
       "1  2582071     363914     -1               63975.555     \n",
       "2  1740877     371185     -7               31815.225     \n",
       "3  1389973     337855     -4               236572.110    \n",
       "4  1891521     126868     -1               453919.455    \n",
       "\n",
       "   AMT_CREDIT_LIMIT_ACTUAL  AMT_DRAWINGS_ATM_CURRENT  AMT_DRAWINGS_CURRENT  \\\n",
       "0  135000                   0.0                       877.5                  \n",
       "1  45000                    2250.0                    2250.0                 \n",
       "2  450000                   0.0                       0.0                    \n",
       "3  225000                   2250.0                    2250.0                 \n",
       "4  450000                   0.0                       11547.0                \n",
       "\n",
       "   AMT_DRAWINGS_OTHER_CURRENT  AMT_DRAWINGS_POS_CURRENT  \\\n",
       "0  0.0                         877.5                      \n",
       "1  0.0                         0.0                        \n",
       "2  0.0                         0.0                        \n",
       "3  0.0                         0.0                        \n",
       "4  0.0                         11547.0                    \n",
       "\n",
       "   AMT_INST_MIN_REGULARITY  AMT_PAYMENT_CURRENT  AMT_PAYMENT_TOTAL_CURRENT  \\\n",
       "0  1700.325                 1800.0               1800.0                      \n",
       "1  2250.000                 2250.0               2250.0                      \n",
       "2  2250.000                 2250.0               2250.0                      \n",
       "3  11795.760                11925.0              11925.0                     \n",
       "4  22924.890                27000.0              27000.0                     \n",
       "\n",
       "   AMT_RECEIVABLE_PRINCIPAL  AMT_RECIVABLE  AMT_TOTAL_RECEIVABLE  \\\n",
       "0  0.000                     0.000          0.000                  \n",
       "1  60175.080                 64875.555      64875.555              \n",
       "2  26926.425                 31460.085      31460.085              \n",
       "3  224949.285                233048.970     233048.970             \n",
       "4  443044.395                453919.455     453919.455             \n",
       "\n",
       "   CNT_DRAWINGS_ATM_CURRENT  CNT_DRAWINGS_CURRENT  CNT_DRAWINGS_OTHER_CURRENT  \\\n",
       "0  0.0                       1                     0.0                          \n",
       "1  1.0                       1                     0.0                          \n",
       "2  0.0                       0                     0.0                          \n",
       "3  1.0                       1                     0.0                          \n",
       "4  0.0                       1                     0.0                          \n",
       "\n",
       "   CNT_DRAWINGS_POS_CURRENT  CNT_INSTALMENT_MATURE_CUM NAME_CONTRACT_STATUS  \\\n",
       "0  1.0                       35.0                       Active                \n",
       "1  0.0                       69.0                       Active                \n",
       "2  0.0                       30.0                       Active                \n",
       "3  0.0                       10.0                       Active                \n",
       "4  1.0                       101.0                      Active                \n",
       "\n",
       "   SK_DPD  SK_DPD_DEF  \n",
       "0  0       0           \n",
       "1  0       0           \n",
       "2  0       0           \n",
       "3  0       0           \n",
       "4  0       0           "
      ]
     },
     "execution_count": 154,
     "metadata": {},
     "output_type": "execute_result"
    }
   ],
   "source": [
    "credit_card_balance.head()"
   ]
  },
  {
   "cell_type": "code",
   "execution_count": null,
   "metadata": {},
   "outputs": [],
   "source": []
  }
 ],
 "metadata": {
  "kernelspec": {
   "display_name": "tensorflow",
   "language": "python",
   "name": "tensorflow"
  },
  "language_info": {
   "codemirror_mode": {
    "name": "ipython",
    "version": 2
   },
   "file_extension": ".py",
   "mimetype": "text/x-python",
   "name": "python",
   "nbconvert_exporter": "python",
   "pygments_lexer": "ipython2",
   "version": "2.7.12"
  }
 },
 "nbformat": 4,
 "nbformat_minor": 2
}
