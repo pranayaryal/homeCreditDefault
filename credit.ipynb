{
 "cells": [
  {
   "cell_type": "code",
   "execution_count": null,
   "metadata": {},
   "outputs": [],
   "source": [
    "import tensorflow as tf\n",
    "import pandas as pd\n",
    "import matplotlib.pyplot as plt\n",
    "from __future__ import division\n",
    "import missingno as msno\n",
    "import xgboost\n",
    "import numpy as np\n",
    "import xgboost\n",
    "from sklearn.model_selection import StratifiedKFold, GridSearchCV"
   ]
  },
  {
   "cell_type": "code",
   "execution_count": null,
   "metadata": {},
   "outputs": [],
   "source": [
    "from imblearn.over_sampling import SMOTE,RandomOverSampler"
   ]
  },
  {
   "cell_type": "code",
   "execution_count": null,
   "metadata": {},
   "outputs": [],
   "source": [
    "from utils import MyUtils"
   ]
  },
  {
   "cell_type": "code",
   "execution_count": null,
   "metadata": {},
   "outputs": [],
   "source": [
    "pd.set_option('display.max_colwidth', -1)"
   ]
  },
  {
   "cell_type": "code",
   "execution_count": null,
   "metadata": {},
   "outputs": [],
   "source": [
    "pd.set_option('display.max_columns', 50)\n",
    "pd.set_option('display.float_format', lambda x: '%.3f' % x)"
   ]
  },
  {
   "cell_type": "code",
   "execution_count": null,
   "metadata": {},
   "outputs": [],
   "source": [
    "test = pd.read_csv('application_test.csv')"
   ]
  },
  {
   "cell_type": "code",
   "execution_count": null,
   "metadata": {},
   "outputs": [],
   "source": [
    "print ('Reading train ...')\n",
    "train = pd.read_csv('application_train.csv')\n",
    "print ('Shape of train is %s'%(str(train.shape)))\n",
    "bureau_balance = pd.read_csv('bureau_balance.csv')\n",
    "print ('The shape of bureau_balance is %s'%(str(bureau_balance.shape)))\n",
    "credit_card_balance = pd.read_csv('credit_card_balance.csv')\n",
    "print ('The shape of creditcard_balance is %s'%(str(credit_card_balance.shape)))\n",
    "installments_payments = pd.read_csv('installments_payments.csv')\n",
    "print ('The shape of installments_payments is %s'%(str(installments_payments.shape)))\n",
    "pos_cash_balance = pd.read_csv('POS_CASH_balance.csv')\n",
    "print ('The shape of pos_cash_balance is %s'%(str(pos_cash_balance.shape)))\n",
    "previous_application = pd.read_csv('previous_application.csv')\n",
    "print ('The shape of previous_application is %s'%(str(previous_application.shape)))\n",
    "descriptions = pd.read_csv('descriptions.csv', encoding='ISO-8859-1')\n",
    "print ('The shape of descriptions is %s'%(str(descriptions.shape)))\n",
    "bureau = pd.read_csv('bureau.csv')\n",
    "print ('The shape of bureau is %s'%(str(bureau.shape)))\n",
    "print ('Done!')"
   ]
  },
  {
   "cell_type": "code",
   "execution_count": null,
   "metadata": {},
   "outputs": [],
   "source": [
    "cred_sort = credit_card_balance.sort_values(by=['SK_ID_CURR', 'MONTHS_BALANCE'])"
   ]
  },
  {
   "cell_type": "code",
   "execution_count": null,
   "metadata": {},
   "outputs": [],
   "source": []
  },
  {
   "cell_type": "code",
   "execution_count": null,
   "metadata": {},
   "outputs": [],
   "source": [
    "cred_sort[cred_sort.groupby('SK_ID_CURR').cumcount() == 0].shape"
   ]
  },
  {
   "cell_type": "code",
   "execution_count": null,
   "metadata": {},
   "outputs": [],
   "source": [
    "cred_month_max_df = credit_card_balance.groupby('SK_ID_CURR').MONTHS_BALANCE.min().to_frame().reset_index()"
   ]
  },
  {
   "cell_type": "code",
   "execution_count": null,
   "metadata": {},
   "outputs": [],
   "source": [
    "credit_card_balance.sort_values(by=['SK_ID_CURR', 'MONTHS_BALANCE_CRED']).head(50)"
   ]
  },
  {
   "cell_type": "code",
   "execution_count": null,
   "metadata": {},
   "outputs": [],
   "source": [
    "zero_amt_cred = credit_card_balance[credit_card_balance.AMT_BALANCE == 0]\n",
    "zero_grp_cred_df = zero_amt_cred.groupby('SK_ID_CURR').AMT_BALANCE.count().to_frame().reset_index()\n",
    "zero_grp_cred_df.columns = ['SK_ID_CURR', 'ZERO_MONTHS_COUNT']"
   ]
  },
  {
   "cell_type": "code",
   "execution_count": null,
   "metadata": {},
   "outputs": [],
   "source": [
    "head_cred[head_cred.groupby('SK_ID_CURR').cumcount() == 0]"
   ]
  },
  {
   "cell_type": "code",
   "execution_count": null,
   "metadata": {},
   "outputs": [],
   "source": [
    "bur_bal_max = bureau_balance.groupby('SK_ID_BUREAU').MONTHS_BALANCE.max().to_frame().reset_index()"
   ]
  },
  {
   "cell_type": "code",
   "execution_count": null,
   "metadata": {},
   "outputs": [],
   "source": [
    "bureau_balance.head()"
   ]
  },
  {
   "cell_type": "code",
   "execution_count": null,
   "metadata": {},
   "outputs": [],
   "source": [
    "bureau.head()"
   ]
  },
  {
   "cell_type": "code",
   "execution_count": null,
   "metadata": {},
   "outputs": [],
   "source": [
    "bur_bal_max.shape"
   ]
  },
  {
   "cell_type": "code",
   "execution_count": null,
   "metadata": {},
   "outputs": [],
   "source": [
    "bureau.shape"
   ]
  },
  {
   "cell_type": "code",
   "execution_count": null,
   "metadata": {},
   "outputs": [],
   "source": [
    "bureau.groupby('SK_ID_CURR').count().shape"
   ]
  },
  {
   "cell_type": "raw",
   "metadata": {},
   "source": [
    "bur_bal_max"
   ]
  },
  {
   "cell_type": "code",
   "execution_count": null,
   "metadata": {},
   "outputs": [],
   "source": [
    "concatted.shape"
   ]
  },
  {
   "cell_type": "code",
   "execution_count": null,
   "metadata": {},
   "outputs": [],
   "source": [
    "my_utils = MyUtils(bureau)\n",
    "my_utils.getColDesc()"
   ]
  },
  {
   "cell_type": "code",
   "execution_count": null,
   "metadata": {},
   "outputs": [],
   "source": [
    "bureau.CNT_CREDIT_PROLONG.value_counts()"
   ]
  },
  {
   "cell_type": "code",
   "execution_count": null,
   "metadata": {},
   "outputs": [],
   "source": [
    "bureau.head()"
   ]
  },
  {
   "cell_type": "code",
   "execution_count": null,
   "metadata": {},
   "outputs": [],
   "source": [
    "bureau_balance.STATUS.value_counts()"
   ]
  },
  {
   "cell_type": "code",
   "execution_count": null,
   "metadata": {},
   "outputs": [],
   "source": [
    "dum_bureau_balance = pd.get_dummies(bureau_balance)"
   ]
  },
  {
   "cell_type": "code",
   "execution_count": null,
   "metadata": {},
   "outputs": [],
   "source": []
  },
  {
   "cell_type": "code",
   "execution_count": null,
   "metadata": {},
   "outputs": [],
   "source": [
    "dum_bureau_balance.groupby('SK_ID_BUREAU').STATUS_0.count().shape"
   ]
  },
  {
   "cell_type": "code",
   "execution_count": null,
   "metadata": {},
   "outputs": [],
   "source": [
    "bureau.SK_ID_BUREAU.value_counts().shape"
   ]
  },
  {
   "cell_type": "code",
   "execution_count": null,
   "metadata": {},
   "outputs": [],
   "source": [
    "bur_bal_merge = bureau.merge(bureau_balance, on='SK_ID_BUREAU', how='left')"
   ]
  },
  {
   "cell_type": "code",
   "execution_count": null,
   "metadata": {},
   "outputs": [],
   "source": [
    "bur_bal_merge.shape"
   ]
  },
  {
   "cell_type": "code",
   "execution_count": null,
   "metadata": {},
   "outputs": [],
   "source": [
    "bur_bal_merge.isnull().sum()"
   ]
  },
  {
   "cell_type": "code",
   "execution_count": null,
   "metadata": {},
   "outputs": [],
   "source": [
    "bureau.corr()"
   ]
  },
  {
   "cell_type": "code",
   "execution_count": null,
   "metadata": {},
   "outputs": [],
   "source": [
    "bureau.dtypes[bureau.dtypes == 'object'].index.values"
   ]
  },
  {
   "cell_type": "code",
   "execution_count": null,
   "metadata": {},
   "outputs": [],
   "source": [
    "credit_card_balance.groupby(['SK_ID_CURR', 'SK_ID_PREV']).AMT_BALANCE.mean().reset_index().sort_values('SK_ID_CURR')"
   ]
  },
  {
   "cell_type": "code",
   "execution_count": null,
   "metadata": {},
   "outputs": [],
   "source": [
    "my_utils = MyUtils(bureau)\n",
    "my_utils.getColDesc()"
   ]
  },
  {
   "cell_type": "code",
   "execution_count": null,
   "metadata": {},
   "outputs": [],
   "source": [
    "my_utils.getColDesc()"
   ]
  },
  {
   "cell_type": "code",
   "execution_count": null,
   "metadata": {},
   "outputs": [],
   "source": [
    "dum_bureau = pd.get_dummies(bureau)"
   ]
  },
  {
   "cell_type": "code",
   "execution_count": null,
   "metadata": {},
   "outputs": [],
   "source": [
    "my_utils = MyUtils(bureau)\n",
    "my_utils.groupBySkidCount('DAYS_CREDIT').shape"
   ]
  },
  {
   "cell_type": "code",
   "execution_count": null,
   "metadata": {},
   "outputs": [],
   "source": [
    "columns_without_spaces = []\n",
    "for col in dum_bureau.columns.values:\n",
    "    columns_without_spaces.append(col.replace(' ', '_'))"
   ]
  },
  {
   "cell_type": "code",
   "execution_count": null,
   "metadata": {},
   "outputs": [],
   "source": [
    "dum_bureau.columns = columns_without_spaces"
   ]
  },
  {
   "cell_type": "code",
   "execution_count": null,
   "metadata": {},
   "outputs": [],
   "source": [
    "dum_bureau.CREDIT_CURRENCY_currency_4.min()"
   ]
  },
  {
   "cell_type": "code",
   "execution_count": null,
   "metadata": {},
   "outputs": [],
   "source": [
    "from __future__ import division\n",
    "bureau.CREDIT_CURRENCY.value_counts()"
   ]
  },
  {
   "cell_type": "code",
   "execution_count": null,
   "metadata": {},
   "outputs": [],
   "source": [
    "dum_bureau.groupby('SK_ID_CURR')['CREDIT_ACTIVE_Active'].mean()"
   ]
  },
  {
   "cell_type": "code",
   "execution_count": null,
   "metadata": {},
   "outputs": [],
   "source": []
  },
  {
   "cell_type": "code",
   "execution_count": null,
   "metadata": {},
   "outputs": [],
   "source": [
    "bureau_num_dfs = {}\n",
    "for col in dum_bureau.columns:\n",
    "    if col != 'object':\n",
    "        meaned_df = dum_bureau.groupby('SK_ID_CURR')[str(col)].mean().to_frame().reset_index()\n",
    "        bureau_num_dfs.append(col, meaned_df)"
   ]
  },
  {
   "cell_type": "code",
   "execution_count": null,
   "metadata": {},
   "outputs": [],
   "source": [
    "dum_bureau.dtypes"
   ]
  },
  {
   "cell_type": "code",
   "execution_count": null,
   "metadata": {},
   "outputs": [],
   "source": [
    "my_utils = MyUtils(concat_with_features)\n",
    "my_utils.get_nulls()"
   ]
  },
  {
   "cell_type": "code",
   "execution_count": null,
   "metadata": {},
   "outputs": [],
   "source": [
    "pos_cash_balance.groupby('SK_ID_CURR').SK_ID_PREV.count().shape"
   ]
  },
  {
   "cell_type": "code",
   "execution_count": null,
   "metadata": {},
   "outputs": [],
   "source": [
    "my_utils = MyUtils(pos_cash_balance)\n",
    "my_utils.getColDesc()"
   ]
  },
  {
   "cell_type": "markdown",
   "metadata": {},
   "source": [
    "#### Remember 'unstack' is used to unfold categorical columns with levels"
   ]
  },
  {
   "cell_type": "markdown",
   "metadata": {},
   "source": [
    "### Dont delete this, It is important"
   ]
  },
  {
   "cell_type": "code",
   "execution_count": null,
   "metadata": {},
   "outputs": [],
   "source": [
    "# pos_cash_balance.sort_values('SK_ID_CURR').head(50)\n",
    "# grouped = pos_cash_balance.groupby(['SK_ID_PREV', 'MONTHS_BALANCE']).mean()"
   ]
  },
  {
   "cell_type": "code",
   "execution_count": null,
   "metadata": {},
   "outputs": [],
   "source": [
    "corr_train = train.corr()\n",
    "corr_test = test.corr()\n",
    "corr_train[corr_train > 0.70][50:]\n",
    "corr_test[corr_test > 0.70][:50]\n",
    "corr_train[corr_train == 0.950842]"
   ]
  },
  {
   "cell_type": "markdown",
   "metadata": {},
   "source": [
    "<strong>Remember to remove one of these columns in credit_card_application as they are correlated</strong>\n",
    "7. CNT_DRAWINGS_ATM_CURRENT | CNT_DRAWINGS_CURRENT columns are correlated (1.0)\n",
    "8. AMT_DRAWINGS_ATM_CURRENT | AMT_DRAWINGS_CURRENT are correlated(1.0)\n",
    "9. SK_DPD | SK_DPD_DEF are correlated by 1.0\n",
    "\n",
    "<strong>These are correlated in installments_payments</strong>\n",
    "1. DAYS_INSTALLMENT | DAYS_ENTRY_PAYMENT (0.99)\n",
    "2. AMT_INSTALMENT | AMT_PAYMENT\n",
    "\n",
    "<strong>In pos_cash_balance</strong>\n",
    "1. CNT_INSTALMENT | CNT_INSTALMENT_FUTURE (0.87)\n",
    "\n",
    "<strong>In train</strong>\n",
    "1. AMT_CREDIT | AMT_ANNUITY (0.77)\n",
    "2. AMT_CREDIT | AMT_GOODS_PRICE (0.98)\n",
    "3. AMT_ANNUITY | AMT_GOODS_PRICE (0.77)\n",
    "4. CNT_FAM_MEMBERS | CNT_CHILDREN\n",
    "5. REGION_RATING_CLIENT | REGION_RATING_CLIENT_W_CITY (0.95)"
   ]
  },
  {
   "cell_type": "markdown",
   "metadata": {},
   "source": [
    "### Let's drop correlated variables\n",
    "`test = test.drop(['AMT_ANNUITY', 'AMT_GOODS_PRICE', 'CNT_CHILDREN', 'REGION_RATING_CLIENT_W_CITY'], axis=1)`"
   ]
  },
  {
   "cell_type": "markdown",
   "metadata": {},
   "source": [
    "### Calculating some correlations"
   ]
  },
  {
   "cell_type": "code",
   "execution_count": null,
   "metadata": {},
   "outputs": [],
   "source": [
    "my_utils = MyUtils(credit_card_balance)\n",
    "my_utils.getDfOfMax().sort_values('SK_ID_PREV')\n",
    "corr_df = my_utils.getDfOfMax()[my_utils.getDfOfMax().SK_ID_PREV == 2243411].sort_values('MONTHS_BALANCE').corr()\n",
    "corr_df[corr_df == 1]"
   ]
  },
  {
   "cell_type": "markdown",
   "metadata": {},
   "source": [
    "### How to get frequency distribution of numpy array"
   ]
  },
  {
   "cell_type": "code",
   "execution_count": null,
   "metadata": {},
   "outputs": [],
   "source": [
    "##How to get frequency distribution in numpy array\n",
    "y = np.bincount(credit_card_balance.SK_ID_PREV.value_counts().values)\n",
    "ii = np.nonzero(y)[0]\n",
    "zip(ii,y[ii])"
   ]
  },
  {
   "cell_type": "markdown",
   "metadata": {},
   "source": [
    "### Checking if skids are in two dataframes"
   ]
  },
  {
   "cell_type": "code",
   "execution_count": null,
   "metadata": {},
   "outputs": [],
   "source": [
    "train_skids = train.SK_ID_CURR\n",
    "test_skids = test.SK_ID_CURR\n",
    "appended = train_skids.append(test_skids)\n",
    "assert len(appended) == len(train_skids) + len(test_skids)\n",
    "not_in_prev = [ skid for skid in appended if skid not in  previous_application.SK_ID_CURR.unique()]\n",
    "len(not_in_prev)\n",
    "not_in_prev_df = pd.DataFrame(not_in_prev)\n",
    "not_in_prev_df.columns = ['SK_ID_CURR']\n",
    "# not_in_prev_df.SK_ID_CURR.value_counts()\n",
    "\n",
    "# len(appended)\n",
    "# previous_application.SK_ID_CURR.unique()"
   ]
  },
  {
   "cell_type": "markdown",
   "metadata": {},
   "source": [
    "### Renaming colums which are similar\n",
    "Not doing this is causing problems in xgboost. Naming is by adding dataframe name at the end"
   ]
  },
  {
   "cell_type": "code",
   "execution_count": null,
   "metadata": {},
   "outputs": [],
   "source": [
    "credit_card_balance['NAME_CONTRACT_STATUS_CRED'] = credit_card_balance.NAME_CONTRACT_STATUS\n",
    "credit_card_balance = credit_card_balance.drop(['NAME_CONTRACT_STATUS'], axis=1)\n",
    "credit_card_balance['MONTHS_BALANCE_CRED'] = credit_card_balance.MONTHS_BALANCE\n",
    "credit_card_balance = credit_card_balance.drop(['MONTHS_BALANCE'], axis=1)\n",
    "\n",
    "bureau_balance['MONTHS_BALANCE_BUR'] = bureau_balance.MONTHS_BALANCE\n",
    "bureau_balance = bureau_balance.drop(['MONTHS_BALANCE'], axis=1)\n",
    "pos_cash_balance['MONTHS_BALANCE_POS'] = pos_cash_balance.MONTHS_BALANCE\n",
    "pos_cash_balance = pos_cash_balance.drop(['MONTHS_BALANCE'], axis=1)\n",
    "pos_cash_balance['SK_DPD_DEF_POS'] = pos_cash_balance.SK_DPD_DEF\n",
    "pos_cash_balance = pos_cash_balance.drop(['SK_DPD_DEF'], axis=1)\n",
    "pos_cash_balance['NAME_CONTRACT_STATUS_POS'] = pos_cash_balance.NAME_CONTRACT_STATUS\n",
    "pos_cash_balance = pos_cash_balance.drop(['NAME_CONTRACT_STATUS'], axis=1)\n",
    "\n",
    "\n",
    "previous_application['HOUR_APPR_PROCESS_START_PREV'] = previous_application.HOUR_APPR_PROCESS_START\n",
    "previous_application = previous_application.drop(['HOUR_APPR_PROCESS_START'], axis=1)\n",
    "previous_application['NAME_TYPE_SUITE_PREV'] = previous_application.NAME_TYPE_SUITE\n",
    "previous_application = previous_application.drop(['NAME_TYPE_SUITE'], axis=1)\n",
    "previous_application['WEEKDAY_APPR_PROCESS_START_PREV'] = previous_application.WEEKDAY_APPR_PROCESS_START\n",
    "previous_application = previous_application.drop(['WEEKDAY_APPR_PROCESS_START'], axis=1)\n",
    "previous_application['NAME_CONTRACT_TYPE_PREV'] = previous_application.NAME_CONTRACT_TYPE\n",
    "previous_application = previous_application.drop(['NAME_CONTRACT_TYPE'], axis=1)\n",
    "previous_application['AMT_CREDIT_PREV'] = previous_application.AMT_CREDIT\n",
    "previous_application = previous_application.drop(['AMT_CREDIT'], axis=1)\n",
    "previous_application['AMT_GOODS_PRICE_PREV'] = previous_application.AMT_GOODS_PRICE\n",
    "previous_application = previous_application.drop(['AMT_GOODS_PRICE'], axis=1)\n",
    "previous_application['NAME_CONTRACT_STATUS_PREV'] = previous_application.NAME_CONTRACT_STATUS\n",
    "previous_application= previous_application.drop(['NAME_CONTRACT_STATUS'], axis=1)"
   ]
  },
  {
   "cell_type": "code",
   "execution_count": null,
   "metadata": {},
   "outputs": [],
   "source": [
    "# if 'NAME_CONTRACT_STATUS' in previous_application.columns:\n",
    "#     credit_card_balance['NAME_CONTRACT_STATUS_CRED'] = credit_card_balance.NAME_CONTRACT_STATUS"
   ]
  },
  {
   "cell_type": "code",
   "execution_count": null,
   "metadata": {},
   "outputs": [],
   "source": []
  },
  {
   "cell_type": "markdown",
   "metadata": {},
   "source": [
    "### Starting to create feature columns\n",
    "Columns with Levels needs to be unstacked after group by\n",
    "<p><strong>This is to get pure columns. It is almost like creating dummies</strong></p>"
   ]
  },
  {
   "cell_type": "markdown",
   "metadata": {},
   "source": [
    "### Bureau related features"
   ]
  },
  {
   "cell_type": "code",
   "execution_count": null,
   "metadata": {},
   "outputs": [],
   "source": [
    "bureau_cred_curr = bureau[['SK_ID_CURR', 'CREDIT_ACTIVE', 'CREDIT_CURRENCY']]"
   ]
  },
  {
   "cell_type": "code",
   "execution_count": null,
   "metadata": {},
   "outputs": [],
   "source": [
    "dum_bureau_cred_curr = pd.get_dummies(bureau_cred_curr)\n",
    "dum_bureau_cred_curr.columns = ['SK_ID_CURR', 'credit_active', 'credit_baddebt', 'credit_closed', 'credit_sold',\n",
    "                           'currency1', 'currency2', 'currency3', 'currency4']\n",
    "\n",
    "bureau_active = dum_bureau_cred_curr.groupby('SK_ID_CURR').credit_active.sum().to_frame().reset_index()\n",
    "bureau_total = bureau.groupby('SK_ID_CURR').SK_ID_BUREAU.count().to_frame().reset_index()\n",
    "\n",
    "merge_active_burtotal = bureau_active.merge(bureau_total, on='SK_ID_CURR', how='inner')\n",
    "merge_active_burtotal['active_percent'] = merge_active_burtotal.credit_active / merge_active_burtotal.SK_ID_BUREAU\n",
    "\n",
    "active_percent_df = merge_active_burtotal[['SK_ID_CURR', 'active_percent']]\n",
    "\n"
   ]
  },
  {
   "cell_type": "code",
   "execution_count": null,
   "metadata": {},
   "outputs": [],
   "source": []
  },
  {
   "cell_type": "code",
   "execution_count": null,
   "metadata": {},
   "outputs": [],
   "source": [
    "my_utils = MyUtils(pos_cash_balance)\n",
    "sk_dpd_def_pos_df = my_utils.groupBySkidMean('SK_DPD_DEF_POS')\n",
    "sk_dpd_df = my_utils.groupBySkidMean('SK_DPD')\n",
    "\n",
    "# sk_dpd_def_pos_df.merge(sk_dpd_df, how='left', on='SK_ID_CURR').corr()\n",
    "\n",
    "# bur_grp_df =bureau.groupby('SK_ID_CURR').CREDIT_ACTIVE.value_counts().unstack()\n",
    "# bur_grp_df.columns = ['credit_active', 'credit_bad_debt', 'credit_closed', 'credit_sold']\n",
    "# bur_grp_df = bur_grp_df.fillna(value=0).reset_index()\n",
    "\n",
    "bur_curr_df = bureau.groupby('SK_ID_CURR').CREDIT_CURRENCY.value_counts().unstack()\n",
    "bur_curr_df.columns = ['currency1', 'currency2', 'currency3', 'currency4']\n",
    "bur_curr_df = bur_curr_df.fillna(value=0).reset_index()\n",
    "\n",
    "# bur_credtype_df = bureau.groupby('SK_ID_CURR').CREDIT_TYPE.value_counts().unstack()\n",
    "# bur_credtype_df.columns = ['currency1', 'currency2', 'currency3', 'currency4']\n",
    "# bur_credtype_df = bur_credtype_df.fillna(value=0).reset_index()\n",
    "\n",
    "my_utils = MyUtils(bureau)\n",
    "bur_amtcredsum_df = my_utils.groupBySkidMean('AMT_CREDIT_SUM')\n",
    "\n"
   ]
  },
  {
   "cell_type": "code",
   "execution_count": null,
   "metadata": {},
   "outputs": [],
   "source": [
    "# bur_curr_df.shape\n",
    "# max_month_df.shape\n"
   ]
  },
  {
   "cell_type": "code",
   "execution_count": null,
   "metadata": {},
   "outputs": [],
   "source": [
    "my_utils = MyUtils(bureau)\n",
    "bur_dayscredupdate_df = my_utils.groupBySkidMean('DAYS_CREDIT_UPDATE')\n",
    "bur_creddayoverdue_df = my_utils.groupBySkidMean('CREDIT_DAY_OVERDUE')\n",
    "bur_days_credit_max_df = bureau.groupby('SK_ID_CURR').DAYS_CREDIT.max().to_frame().reset_index().rename(columns={'DAYS_CREDIT': 'days_credit_max'})\n",
    "bur_days_credit_min_df = bureau.groupby('SK_ID_CURR').DAYS_CREDIT.min().to_frame().reset_index().rename(columns={'DAYS_CREDIT': 'days_credit_min'})\n",
    "bur_days_credit_mean_df = bureau.groupby('SK_ID_CURR').DAYS_CREDIT.mean().to_frame().reset_index().rename(columns={'DAYS_CREDIT': 'days_credit_mean'})\n",
    "\n",
    "bur_amtcred_sum_df = bureau.groupby('SK_ID_CURR').AMT_CREDIT_SUM.mean().to_frame().reset_index()\n",
    "\n",
    "bur_amt_cred_sum_overdue_df = my_utils.groupBySkidMean('AMT_CREDIT_SUM_OVERDUE')\n",
    "\n",
    "bur_amt_cred_sum_limit_df = my_utils.groupBySkidMean('AMT_CREDIT_SUM_LIMIT')\n",
    "\n",
    "bur_amt_credit_sum_debt_df = my_utils.groupBySkidMean('AMT_CREDIT_SUM_DEBT')"
   ]
  },
  {
   "cell_type": "code",
   "execution_count": null,
   "metadata": {},
   "outputs": [],
   "source": [
    "bb_cnt_df = bureau_balance.SK_ID_BUREAU.value_counts().to_frame().reset_index()\n",
    "bb_cnt_df.columns = ['SK_ID_BUREAU', 'bb_cnt']\n",
    "\n",
    "bureau_bb_cnt_df = bureau.merge(bb_cnt_df, on='SK_ID_BUREAU', how='inner')\n",
    "grp_cnt_bureau_df = bureau_bb_cnt_df.groupby('SK_ID_CURR').bb_cnt.sum().to_frame().reset_index()"
   ]
  },
  {
   "cell_type": "code",
   "execution_count": null,
   "metadata": {},
   "outputs": [],
   "source": [
    "bureau_cnt_df = bureau.SK_ID_CURR.value_counts().to_frame().reset_index()\n",
    "bureau_cnt_df.columns = ['SK_ID_CURR', 'bureau_cnt']"
   ]
  },
  {
   "cell_type": "code",
   "execution_count": null,
   "metadata": {},
   "outputs": [],
   "source": [
    "my_utils = MyUtils(bureau)\n",
    "bureau_cnt_df = my_utils.skidCount('bureau_')"
   ]
  },
  {
   "cell_type": "code",
   "execution_count": null,
   "metadata": {},
   "outputs": [],
   "source": [
    "burbal_df = bureau_balance['SK_ID_BUREAU'].value_counts().to_frame().reset_index()\n",
    "burbal_df.columns = ['SK_ID_BUREAU',  'bureau_cnt']"
   ]
  },
  {
   "cell_type": "code",
   "execution_count": null,
   "metadata": {},
   "outputs": [],
   "source": [
    "bureau[['SK_ID_CURR', 'SK_ID_BUREAU']].merge(burbal_df, on='SK_ID_BUREAU', how='left') \\\n",
    "            .bureau_cnt.isnull().value_counts()"
   ]
  },
  {
   "cell_type": "markdown",
   "metadata": {},
   "source": [
    "### Merging Bureau and Bureau balance\n",
    "Remember that each one sk_id_curr is asoociated with many sk_id_bureau which in turn has monthly records so will have to multiply both"
   ]
  },
  {
   "cell_type": "code",
   "execution_count": null,
   "metadata": {},
   "outputs": [],
   "source": [
    "#merge bureau and bureau_balance\n",
    "bureau_burbal = bureau[['SK_ID_CURR', 'SK_ID_BUREAU']].merge(burbal_df, on='SK_ID_BUREAU', how='inner')\n",
    "bureau_burbal.bureau_cnt = bureau_burbal.bureau_cnt.fillna(value=0)\n",
    "bureau_burbal_df = bureau_burbal.groupby('SK_ID_CURR').bureau_cnt.sum().reset_index()"
   ]
  },
  {
   "cell_type": "code",
   "execution_count": null,
   "metadata": {},
   "outputs": [],
   "source": [
    "bureau_burbal.shape"
   ]
  },
  {
   "cell_type": "code",
   "execution_count": null,
   "metadata": {},
   "outputs": [],
   "source": [
    "bureau_burbal_df"
   ]
  },
  {
   "cell_type": "markdown",
   "metadata": {},
   "source": [
    "### Count of sk_id_curr in previous applications"
   ]
  },
  {
   "cell_type": "code",
   "execution_count": null,
   "metadata": {},
   "outputs": [],
   "source": [
    "prev_app_cnt = previous_application.SK_ID_CURR.value_counts().reset_index()\n",
    "prev_app_cnt_df = pd.DataFrame(prev_app_cnt)\n",
    "prev_app_cnt_df.columns = ['SK_ID_CURR', 'prev_app_cnt']"
   ]
  },
  {
   "cell_type": "markdown",
   "metadata": {},
   "source": [
    "### Count of skidcurr in credit card balance"
   ]
  },
  {
   "cell_type": "code",
   "execution_count": null,
   "metadata": {},
   "outputs": [],
   "source": [
    "cred_cnt = credit_card_balance.SK_ID_CURR.value_counts().reset_index()\n",
    "cred_cnt_df = pd.DataFrame(cred_cnt)\n",
    "cred_cnt_df.columns = ['SK_ID_CURR', 'cred_cnt']"
   ]
  },
  {
   "cell_type": "markdown",
   "metadata": {},
   "source": [
    "### Max value of months in credit card balance"
   ]
  },
  {
   "cell_type": "code",
   "execution_count": null,
   "metadata": {},
   "outputs": [],
   "source": [
    "cred_month_max_df = credit_card_balance.groupby('SK_ID_CURR').MONTHS_BALANCE_CRED.min().to_frame().reset_index()"
   ]
  },
  {
   "cell_type": "markdown",
   "metadata": {},
   "source": [
    "### Number of zeros in credi card balance"
   ]
  },
  {
   "cell_type": "code",
   "execution_count": null,
   "metadata": {},
   "outputs": [],
   "source": [
    "zero_amt_cred = credit_card_balance[credit_card_balance.AMT_BALANCE == 0]\n",
    "zero_grp_cred_df = zero_amt_cred.groupby('SK_ID_CURR').AMT_BALANCE.count().to_frame().reset_index()\n",
    "zero_grp_cred_df.columns = ['SK_ID_CURR', 'ZERO_MONTHS_COUNT']"
   ]
  },
  {
   "cell_type": "code",
   "execution_count": null,
   "metadata": {},
   "outputs": [],
   "source": [
    "my_utils = MyUtils(df=credit_card_balance)\n",
    "amt_balance_df = my_utils.groupBySkidMean('AMT_BALANCE')"
   ]
  },
  {
   "cell_type": "code",
   "execution_count": null,
   "metadata": {},
   "outputs": [],
   "source": [
    "amt_balance_df.head()"
   ]
  },
  {
   "cell_type": "code",
   "execution_count": null,
   "metadata": {},
   "outputs": [],
   "source": [
    "#name_contr_df\n",
    "nam_contr = previous_application[['SK_ID_CURR', 'NAME_CONTRACT_TYPE_PREV']]\n",
    "nam_cntr_dummied_df = nam_contr.groupby('SK_ID_CURR').NAME_CONTRACT_TYPE_PREV.value_counts().unstack()\n",
    "nam_cntr_dummied_df.columns = ['cash_loans', 'consumer_loans', 'revolving_loans', 'xna']\n",
    "nam_cntr_dummied_df = nam_cntr_dummied_df.fillna(value=0).reset_index()"
   ]
  },
  {
   "cell_type": "code",
   "execution_count": null,
   "metadata": {},
   "outputs": [],
   "source": [
    "my_utils = MyUtils(previous_application)\n",
    "cnt_payment_df = my_utils.groupBySkidMean('CNT_PAYMENT')"
   ]
  },
  {
   "cell_type": "code",
   "execution_count": null,
   "metadata": {},
   "outputs": [],
   "source": [
    "my_utils = MyUtils(previous_application)\n",
    "amt_goods_price_df = my_utils.groupBySkidMean('AMT_GOODS_PRICE_PREV')\n",
    "amt_annuity_df = my_utils.groupBySkidMean('AMT_ANNUITY')\n",
    "amt_annuity_max_df = my_utils.groupBySkidMax('AMT_ANNUITY')\n",
    "amt_annuity_min_df = my_utils.groupBySkidMin('AMT_ANNUITY')\n",
    "\n",
    "previous_application['app_cred_diff'] = previous_application.AMT_APPLICATION - previous_application.AMT_CREDIT_PREV\n",
    "app_cred_diff_df = my_utils.groupBySkidMean('app_cred_diff')\n",
    "amt_credit_df = my_utils.groupBySkidMean('AMT_CREDIT_PREV')"
   ]
  },
  {
   "cell_type": "code",
   "execution_count": null,
   "metadata": {},
   "outputs": [],
   "source": [
    "cols_select = ['SK_ID_CURR', 'NAME_CONTRACT_STATUS_PREV']\n",
    "prevapp_select = previous_application[cols_select]"
   ]
  },
  {
   "cell_type": "code",
   "execution_count": null,
   "metadata": {},
   "outputs": [],
   "source": [
    "prev_name_cntr_status_df = prevapp_select.groupby('SK_ID_CURR').NAME_CONTRACT_STATUS_PREV.value_counts().unstack().fillna(value=0)\n",
    "prev_name_cntr_status_df.columns = ['NAME_CONTRACT_STATUS_PREV_approved', 'NAME_CONTRACT_STATUS_PREV_canceled', 'NAME_CONTRACT_STATUS_PREV_refused', 'NAME_CONTRACT_STATUS_PREV_unused']\n",
    "prev_name_cntr_status_df = prev_name_cntr_status_df.reset_index()"
   ]
  },
  {
   "cell_type": "code",
   "execution_count": null,
   "metadata": {},
   "outputs": [],
   "source": [
    "my_utils = MyUtils(pos_cash_balance)\n",
    "# count_contract_status_df = my_utils.groupBySkidCount('NAME_CONTRACT_STATUS_POS')\n",
    "pos_cash_bal_dum = pd.get_dummies(pos_cash_balance)\n",
    "pos_cash_active_df = pos_cash_bal_dum.groupby('SK_ID_CURR').NAME_CONTRACT_STATUS_POS_Active \\\n",
    "                                .sum().to_frame().reset_index()\n",
    "total_skids_pos = pos_cash_balance.groupby('SK_ID_CURR').SK_ID_PREV.count().to_frame().reset_index()\n",
    "merge_total_active_df = pos_cash_active_df.merge(total_skids_pos, on='SK_ID_CURR', how='left')\n",
    "merge_total_active_df.columns = ['SK_ID_CURR', 'ACTIVE', 'TOTAL_OF_GROUP']\n",
    "merge_total_active_df['ratio_active'] = merge_total_active_df.ACTIVE / merge_total_active_df.TOTAL_OF_GROUP\n",
    "merge_total_active_df = merge_total_active_df.drop(['ACTIVE', 'TOTAL_OF_GROUP'], axis=1)\n",
    "\n",
    "##from pos_cash_balance, get the minimum value of Month and Maximum value of Month as features\n",
    "min_month_df = pos_cash_balance.groupby('SK_ID_CURR').MONTHS_BALANCE_POS.min().to_frame().reset_index()\n",
    "max_month_df = pos_cash_balance.groupby('SK_ID_CURR').MONTHS_BALANCE_POS.max().to_frame().reset_index()\n",
    "max_dpd_df = pos_cash_balance.groupby('SK_ID_CURR').SK_DPD.max().to_frame().reset_index()\n",
    "\n",
    "#Making levels of name_contract_pos into feature\n",
    "cols_to_select = ['SK_ID_CURR', 'NAME_CONTRACT_STATUS_POS']\n",
    "pos_select = pos_cash_balance[cols_to_select]\n",
    "pos_name_contract_df = pos_select.groupby('SK_ID_CURR').NAME_CONTRACT_STATUS_POS.value_counts().unstack().fillna(value=0)\n",
    "pos_name_contract_df.columns = ['pos_active', 'pos_amortized_debt', 'pos_approved', 'pos_canceled', 'pos_completed', 'pos_demand', 'pos_returned_to_store', 'pos_signed', 'pos_xna']\n",
    "pos_name_contract_df = pos_name_contract_df.reset_index()\n",
    "\n",
    "pos_cnt_instalmentMax_df = pos_cash_balance.groupby('SK_ID_CURR').CNT_INSTALMENT.max().to_frame().reset_index()\n",
    "\n",
    "cred_card_grp_df = credit_card_balance.groupby('SK_ID_CURR').SK_ID_PREV.count().to_frame().reset_index()\n",
    "concatted_select = concatted.iloc[:,0].to_frame() ##concatted is by joining test and train\n",
    "cred_card_grp_df.columns = ['SK_ID_CURR', 'HAS_CRED']\n",
    "concat_select_cred_df = concatted_select.merge(cred_card_grp_df, on='SK_ID_CURR', how='left')\n",
    "concat_select_cred_df.HAS_CRED = concat_select_cred_df.HAS_CRED.apply(lambda x: 0 if x != x else 1 ) #checking if x is null\n"
   ]
  },
  {
   "cell_type": "code",
   "execution_count": 321,
   "metadata": {},
   "outputs": [],
   "source": [
    "assert total_skids_pos.shape[0] == pos_cash_active_df.shape[0]"
   ]
  },
  {
   "cell_type": "code",
   "execution_count": null,
   "metadata": {},
   "outputs": [],
   "source": [
    "pos_cash_bal_dum_active_df.merge(total_skids_pos, on='SK_ID_CURR', how='inner')"
   ]
  },
  {
   "cell_type": "code",
   "execution_count": null,
   "metadata": {},
   "outputs": [],
   "source": [
    "count_contract_status_df"
   ]
  },
  {
   "cell_type": "code",
   "execution_count": 278,
   "metadata": {},
   "outputs": [
    {
     "data": {
      "text/html": [
       "<div>\n",
       "<style scoped>\n",
       "    .dataframe tbody tr th:only-of-type {\n",
       "        vertical-align: middle;\n",
       "    }\n",
       "\n",
       "    .dataframe tbody tr th {\n",
       "        vertical-align: top;\n",
       "    }\n",
       "\n",
       "    .dataframe thead th {\n",
       "        text-align: right;\n",
       "    }\n",
       "</style>\n",
       "<table border=\"1\" class=\"dataframe\">\n",
       "  <thead>\n",
       "    <tr style=\"text-align: right;\">\n",
       "      <th></th>\n",
       "      <th>SK_ID_PREV</th>\n",
       "      <th>SK_ID_CURR</th>\n",
       "      <th>CNT_INSTALMENT</th>\n",
       "      <th>CNT_INSTALMENT_FUTURE</th>\n",
       "      <th>SK_DPD</th>\n",
       "      <th>MONTHS_BALANCE_POS</th>\n",
       "      <th>SK_DPD_DEF_POS</th>\n",
       "      <th>NAME_CONTRACT_STATUS_POS</th>\n",
       "    </tr>\n",
       "  </thead>\n",
       "  <tbody>\n",
       "    <tr>\n",
       "      <th>0</th>\n",
       "      <td>1803195</td>\n",
       "      <td>182943</td>\n",
       "      <td>48.000</td>\n",
       "      <td>45.000</td>\n",
       "      <td>0</td>\n",
       "      <td>-31</td>\n",
       "      <td>0</td>\n",
       "      <td>Active</td>\n",
       "    </tr>\n",
       "    <tr>\n",
       "      <th>1</th>\n",
       "      <td>1715348</td>\n",
       "      <td>367990</td>\n",
       "      <td>36.000</td>\n",
       "      <td>35.000</td>\n",
       "      <td>0</td>\n",
       "      <td>-33</td>\n",
       "      <td>0</td>\n",
       "      <td>Active</td>\n",
       "    </tr>\n",
       "    <tr>\n",
       "      <th>2</th>\n",
       "      <td>1784872</td>\n",
       "      <td>397406</td>\n",
       "      <td>12.000</td>\n",
       "      <td>9.000</td>\n",
       "      <td>0</td>\n",
       "      <td>-32</td>\n",
       "      <td>0</td>\n",
       "      <td>Active</td>\n",
       "    </tr>\n",
       "    <tr>\n",
       "      <th>3</th>\n",
       "      <td>1903291</td>\n",
       "      <td>269225</td>\n",
       "      <td>48.000</td>\n",
       "      <td>42.000</td>\n",
       "      <td>0</td>\n",
       "      <td>-35</td>\n",
       "      <td>0</td>\n",
       "      <td>Active</td>\n",
       "    </tr>\n",
       "    <tr>\n",
       "      <th>4</th>\n",
       "      <td>2341044</td>\n",
       "      <td>334279</td>\n",
       "      <td>36.000</td>\n",
       "      <td>35.000</td>\n",
       "      <td>0</td>\n",
       "      <td>-35</td>\n",
       "      <td>0</td>\n",
       "      <td>Active</td>\n",
       "    </tr>\n",
       "  </tbody>\n",
       "</table>\n",
       "</div>"
      ],
      "text/plain": [
       "   SK_ID_PREV  SK_ID_CURR  CNT_INSTALMENT  CNT_INSTALMENT_FUTURE  SK_DPD  \\\n",
       "0  1803195     182943     48.000          45.000                  0        \n",
       "1  1715348     367990     36.000          35.000                  0        \n",
       "2  1784872     397406     12.000          9.000                   0        \n",
       "3  1903291     269225     48.000          42.000                  0        \n",
       "4  2341044     334279     36.000          35.000                  0        \n",
       "\n",
       "   MONTHS_BALANCE_POS  SK_DPD_DEF_POS NAME_CONTRACT_STATUS_POS  \n",
       "0 -31                  0               Active                   \n",
       "1 -33                  0               Active                   \n",
       "2 -32                  0               Active                   \n",
       "3 -35                  0               Active                   \n",
       "4 -35                  0               Active                   "
      ]
     },
     "execution_count": 278,
     "metadata": {},
     "output_type": "execute_result"
    }
   ],
   "source": [
    "pos_cash_balance.head()"
   ]
  },
  {
   "cell_type": "code",
   "execution_count": 316,
   "metadata": {},
   "outputs": [],
   "source": []
  },
  {
   "cell_type": "code",
   "execution_count": 264,
   "metadata": {},
   "outputs": [
    {
     "data": {
      "text/plain": [
       "(356255, 121)"
      ]
     },
     "execution_count": 264,
     "metadata": {},
     "output_type": "execute_result"
    }
   ],
   "source": [
    "concatted.shape"
   ]
  },
  {
   "cell_type": "code",
   "execution_count": 265,
   "metadata": {},
   "outputs": [],
   "source": [
    "pos_cnt_instalmentMax_df = pos_cash_balance.groupby('SK_ID_CURR').CNT_INSTALMENT.max().to_frame().reset_index()\n",
    "pos_cnt_instalmentMin_df = pos_cash_balance.groupby('SK_ID_CURR').CNT_INSTALMENT.min().to_frame().reset_index()"
   ]
  },
  {
   "cell_type": "markdown",
   "metadata": {},
   "source": [
    "### In installments_payments days_installment and days_entry_payment are correlated (0.99)\n",
    "amt_instalment and amt_payment are correlated (0.937)"
   ]
  },
  {
   "cell_type": "code",
   "execution_count": null,
   "metadata": {},
   "outputs": [],
   "source": [
    "installments_payments['payment_ratio'] = installments_payments.AMT_PAYMENT / installments_payments.AMT_INSTALMENT\n",
    "my_utils = MyUtils(installments_payments)\n",
    "payment_ratio_df = my_utils.groupBySkidMean('payment_ratio')"
   ]
  },
  {
   "cell_type": "code",
   "execution_count": null,
   "metadata": {},
   "outputs": [],
   "source": [
    "installments_payments.head()"
   ]
  },
  {
   "cell_type": "code",
   "execution_count": null,
   "metadata": {},
   "outputs": [],
   "source": [
    "my_utils = MyUtils(installments_payments)\n",
    "my_utils.getColDesc()"
   ]
  },
  {
   "cell_type": "markdown",
   "metadata": {},
   "source": [
    "### Start the Main Process"
   ]
  },
  {
   "cell_type": "code",
   "execution_count": 288,
   "metadata": {},
   "outputs": [],
   "source": [
    "train_x = train.drop(['TARGET'], axis=1)"
   ]
  },
  {
   "cell_type": "code",
   "execution_count": 289,
   "metadata": {},
   "outputs": [],
   "source": [
    "assert train_x.shape[1] == test.shape[1]"
   ]
  },
  {
   "cell_type": "code",
   "execution_count": 290,
   "metadata": {},
   "outputs": [],
   "source": [
    "concatted = pd.concat([train_x, test])"
   ]
  },
  {
   "cell_type": "code",
   "execution_count": 291,
   "metadata": {},
   "outputs": [
    {
     "data": {
      "text/plain": [
       "(356255, 121)"
      ]
     },
     "execution_count": 291,
     "metadata": {},
     "output_type": "execute_result"
    }
   ],
   "source": [
    "concatted.shape"
   ]
  },
  {
   "cell_type": "markdown",
   "metadata": {},
   "source": [
    "### Let's remove correlated columns here"
   ]
  },
  {
   "cell_type": "code",
   "execution_count": 292,
   "metadata": {},
   "outputs": [],
   "source": [
    "# concatted = concatted.drop(['AMT_ANNUITY', 'AMT_GOODS_PRICE', 'CNT_CHILDREN', 'REGION_RATING_CLIENT_W_CITY'], axis=1)"
   ]
  },
  {
   "cell_type": "code",
   "execution_count": 293,
   "metadata": {},
   "outputs": [],
   "source": [
    "# assert installments_payments[installments_payments.diff_amount.isnull()].shape[0] == installments_payments[installments_payments.diff_days.isnull()].shape[0]"
   ]
  },
  {
   "cell_type": "code",
   "execution_count": 294,
   "metadata": {},
   "outputs": [],
   "source": [
    "#Since they share same rows, joint them\n",
    "# join_amt_days = diff_amt_mean_df.merge(diff_days_mean_df, on='SK_ID_CURR', how='inner')"
   ]
  },
  {
   "cell_type": "code",
   "execution_count": 295,
   "metadata": {},
   "outputs": [],
   "source": [
    "# concat_with_features.SK_ID_CURR.value_counts()"
   ]
  },
  {
   "cell_type": "markdown",
   "metadata": {},
   "source": [
    "### Doing Joins with Engineered Features"
   ]
  },
  {
   "cell_type": "code",
   "execution_count": 296,
   "metadata": {},
   "outputs": [],
   "source": [
    "concat_with_features = concatted.merge(pos_cash_bal_dum_active_df, on='SK_ID_CURR', how='left') \\\n",
    "            .merge(app_cred_diff_df, on='SK_ID_CURR', how='left') \\\n",
    "            .merge(amt_credit_df, on='SK_ID_CURR', how='left') \\\n",
    "            .merge(amt_annuity_df, on='SK_ID_CURR', how='left') \\\n",
    "            .merge(amt_goods_price_df, on='SK_ID_CURR', how='left') \\\n",
    "            .merge(amt_balance_df, on='SK_ID_CURR', how='left') \\\n",
    "            .merge(cnt_payment_df, on='SK_ID_CURR', how='left') \\\n",
    "            .merge(prev_app_cnt_df, on='SK_ID_CURR', how='left') \\\n",
    "            .merge(cred_cnt_df, on='SK_ID_CURR', how='left') \\\n",
    "            .merge(bureau_burbal_df, on='SK_ID_CURR', how='left') \\\n",
    "            .merge(bur_curr_df, on='SK_ID_CURR', how='left') \\\n",
    "            .merge(bur_days_credit_max_df, on='SK_ID_CURR', how='left') \\\n",
    "            .merge(bur_days_credit_min_df, on='SK_ID_CURR', how='left') \\\n",
    "            .merge(bur_days_credit_mean_df, on='SK_ID_CURR', how='left') \\\n",
    "            .merge(bur_amtcredsum_df, on='SK_ID_CURR', how='left') \\\n",
    "            .merge(bur_dayscredupdate_df, on='SK_ID_CURR', how='left') \\\n",
    "            .merge(bur_creddayoverdue_df, on='SK_ID_CURR', how='left') \\\n",
    "            .merge(bur_amtcred_sum_df, on='SK_ID_CURR', how='left') \\\n",
    "            .merge(nam_cntr_dummied_df, on='SK_ID_CURR', how='left') \\\n",
    "            .merge(prev_name_cntr_status_df, on='SK_ID_CURR', how='left') \\\n",
    "            .merge(sk_dpd_def_pos_df, on='SK_ID_CURR', how='left') \\\n",
    "            .merge(sk_dpd_df, on='SK_ID_CURR', how='left') \\\n",
    "            .merge(bur_amt_cred_sum_overdue_df, on='SK_ID_CURR', how='left') \\\n",
    "            .merge(bur_amt_cred_sum_limit_df, on='SK_ID_CURR', how='left') \\\n",
    "            .merge(bur_amt_credit_sum_debt_df, on='SK_ID_CURR', how='left') \\\n",
    "            .merge(min_month_df, on='SK_ID_CURR', how='left')\\\n",
    "            .merge(max_month_df, on='SK_ID_CURR', how='left') \\\n",
    "            .merge(max_dpd_df, on='SK_ID_CURR', how='left') \\\n",
    "            .merge(pos_name_contract_df, on='SK_ID_CURR', how='left') \\\n",
    "            .merge(pos_cnt_instalmentMax_df, on='SK_ID_CURR', how='left') \\\n",
    "            .merge(pos_cnt_instalmentMin_df, on='SK_ID_CURR', how='left') \\\n",
    "            .merge(concat_select_cred_df, on='SK_ID_CURR', how='left') \\\n",
    "            .merge(amt_annuity_max_df, on='SK_ID_CURR', how='left') \\\n",
    "            .merge(amt_annuity_min_df, on='SK_ID_CURR', how='left') \\\n",
    "            .merge(active_percent_df, on='SK_ID_CURR', how='left') \\\n",
    "            .merge(cred_month_max_df, on='SK_ID_CURR', how='left') \\\n",
    "            .merge(zero_grp_cred_df, on='SK_ID_CURR', how='left') \\\n",
    "            .merge(payment_ratio_df, on='SK_ID_CURR', how='left') "
   ]
  },
  {
   "cell_type": "markdown",
   "metadata": {},
   "source": [
    "<p style=\"color: steelblue;\"> Reminder: check if there are nulls because of merge later</p>"
   ]
  },
  {
   "cell_type": "code",
   "execution_count": null,
   "metadata": {},
   "outputs": [],
   "source": [
    "#Checking correlation between them\n",
    "# bureau_total.merge(bureau_burbal_df, on='SK_ID_CURR', how='inner').corr()"
   ]
  },
  {
   "cell_type": "code",
   "execution_count": null,
   "metadata": {},
   "outputs": [],
   "source": []
  },
  {
   "cell_type": "code",
   "execution_count": null,
   "metadata": {},
   "outputs": [],
   "source": [
    "concat_with_features.iloc[:,129:].head()"
   ]
  },
  {
   "cell_type": "code",
   "execution_count": 297,
   "metadata": {},
   "outputs": [
    {
     "data": {
      "text/plain": [
       "126"
      ]
     },
     "execution_count": 297,
     "metadata": {},
     "output_type": "execute_result"
    }
   ],
   "source": [
    "concat_with_features.columns.get_loc('AMT_BALANCE')"
   ]
  },
  {
   "cell_type": "code",
   "execution_count": 131,
   "metadata": {},
   "outputs": [
    {
     "data": {
      "text/plain": [
       "'AMT_REQ_CREDIT_BUREAU_YEAR'"
      ]
     },
     "execution_count": 131,
     "metadata": {},
     "output_type": "execute_result"
    }
   ],
   "source": [
    "concatted.columns[-1]"
   ]
  },
  {
   "cell_type": "code",
   "execution_count": 240,
   "metadata": {},
   "outputs": [
    {
     "data": {
      "text/plain": [
       "120"
      ]
     },
     "execution_count": 240,
     "metadata": {},
     "output_type": "execute_result"
    }
   ],
   "source": [
    "concat_with_features.columns.get_loc('AMT_REQ_CREDIT_BUREAU_YEAR')"
   ]
  },
  {
   "cell_type": "code",
   "execution_count": 298,
   "metadata": {},
   "outputs": [],
   "source": [
    "#fill nas after 138th column with zeros. lower cased column names are engineered columns\n",
    "concat_with_features.iloc[:,126:] = concat_with_features.iloc[:,126:].fillna(value=0)"
   ]
  },
  {
   "cell_type": "code",
   "execution_count": 299,
   "metadata": {},
   "outputs": [],
   "source": [
    "y_train = train.TARGET"
   ]
  },
  {
   "cell_type": "markdown",
   "metadata": {},
   "source": [
    "### Load Imputer Libraries"
   ]
  },
  {
   "cell_type": "code",
   "execution_count": 300,
   "metadata": {},
   "outputs": [],
   "source": [
    "from sklearn.preprocessing import Imputer\n",
    "my_imputer = Imputer()\n",
    "from sklearn.ensemble import RandomForestClassifier\n",
    "clf = RandomForestClassifier()\n",
    "# clf = LogisticRegression()"
   ]
  },
  {
   "cell_type": "code",
   "execution_count": 301,
   "metadata": {},
   "outputs": [],
   "source": [
    "concat_with_features_drop = concat_with_features.drop('SK_ID_CURR', axis=1)"
   ]
  },
  {
   "cell_type": "code",
   "execution_count": 302,
   "metadata": {},
   "outputs": [],
   "source": [
    "dummied = pd.get_dummies(concat_with_features_drop)"
   ]
  },
  {
   "cell_type": "code",
   "execution_count": 303,
   "metadata": {},
   "outputs": [],
   "source": [
    "imputed = my_imputer.fit_transform(dummied)"
   ]
  },
  {
   "cell_type": "code",
   "execution_count": 304,
   "metadata": {},
   "outputs": [],
   "source": [
    "imputed_df = pd.DataFrame(imputed)\n",
    "# imputed_df.columns = dummied.columns"
   ]
  },
  {
   "cell_type": "markdown",
   "metadata": {},
   "source": [
    "### Split the test and train back"
   ]
  },
  {
   "cell_type": "code",
   "execution_count": 305,
   "metadata": {},
   "outputs": [],
   "source": [
    "new_x_train_df = imputed_df[:train_x.shape[0]]\n",
    "new_test_df = imputed_df[train_x.shape[0]:]"
   ]
  },
  {
   "cell_type": "code",
   "execution_count": 306,
   "metadata": {},
   "outputs": [],
   "source": [
    "assert new_x_train_df.shape[0] == train.shape[0] "
   ]
  },
  {
   "cell_type": "code",
   "execution_count": 307,
   "metadata": {},
   "outputs": [],
   "source": [
    "assert new_test_df.shape[0] == test.shape[0]"
   ]
  },
  {
   "cell_type": "markdown",
   "metadata": {},
   "source": [
    "### Initiate XGBoost Classifier"
   ]
  },
  {
   "cell_type": "code",
   "execution_count": 308,
   "metadata": {},
   "outputs": [],
   "source": [
    "# from xgboost import XGBClassifier\n",
    "# model = XGBClassifier()\n",
    "# n_estimators = [50, 100, 150, 200]\n",
    "# max_depth = [2, 4, 6, 8]\n",
    "# param_grid = dict(max_depth=max_depth, n_estimators=n_estimators)\n",
    "# kfold = StratifiedKFold(n_splits=10, shuffle=True, random_state=7)\n",
    "# grid_search = GridSearchCV(model, param_grid, cv=kfold, n_jobs=-1)\n",
    "# grid_result = grid_search.fit(new_x_train_df, y_train)\n",
    "# print 'Best %s using %s'%(str(grid_result.best_score_), str(grid_result.best_params_))"
   ]
  },
  {
   "cell_type": "code",
   "execution_count": 309,
   "metadata": {},
   "outputs": [
    {
     "name": "stderr",
     "output_type": "stream",
     "text": [
      "/opt/conda/lib/python3.6/site-packages/ipykernel_launcher.py:1: SettingWithCopyWarning: \n",
      "A value is trying to be set on a copy of a slice from a DataFrame.\n",
      "Try using .loc[row_indexer,col_indexer] = value instead\n",
      "\n",
      "See the caveats in the documentation: http://pandas.pydata.org/pandas-docs/stable/indexing.html#indexing-view-versus-copy\n",
      "  \"\"\"Entry point for launching an IPython kernel.\n"
     ]
    }
   ],
   "source": [
    "new_x_train_df['TARGET'] = train.TARGET"
   ]
  },
  {
   "cell_type": "code",
   "execution_count": 310,
   "metadata": {},
   "outputs": [
    {
     "name": "stdout",
     "output_type": "stream",
     "text": [
      "shape of sampled indices is (11, 24825)\n",
      "starting 0 th sample\n",
      "starting 1 th sample\n",
      "starting 2 th sample\n",
      "starting 3 th sample\n",
      "starting 4 th sample\n",
      "starting 5 th sample\n",
      "starting 6 th sample\n",
      "starting 7 th sample\n",
      "starting 8 th sample\n",
      "starting 9 th sample\n",
      "starting 10 th sample\n",
      "Done!!\n"
     ]
    }
   ],
   "source": [
    "\n",
    "train_zeros = new_x_train_df[new_x_train_df.TARGET == 0]\n",
    "train_ones = new_x_train_df[new_x_train_df.TARGET == 1]\n",
    "sampled_indices = np.random.choice(train_zeros.index, size=[11, train_ones.shape[0]], replace=False)\n",
    "print ('shape of sampled indices is %s'%(str(sampled_indices.shape)))\n",
    "test_dropid = new_test_df\n",
    "ensembled = np.zeros([11, test.shape[0]])\n",
    "preds_list = []\n",
    "for i in range(11):\n",
    "    print ('starting %s th sample'%(str(i)))\n",
    "    new_train = pd.concat([train_zeros.loc[sampled_indices[i]], train_ones])\n",
    "    train_y = new_train.TARGET\n",
    "    train_x = new_train.drop(['TARGET'], axis=1)\n",
    "    \n",
    "    concatted = pd.concat([train_x, test_dropid])\n",
    "    concatted_dummied = pd.get_dummies(concatted)\n",
    "    imputed_concatted = my_imputer.fit_transform(concatted_dummied)\n",
    "    imputed_concatted_df = pd.DataFrame(imputed_concatted)\n",
    "    imputed_concatted_df.columns = concatted_dummied.columns\n",
    "    #split them back to train and test\n",
    "    train_x_after_impute = imputed_concatted_df[:train_x.shape[0]]\n",
    "    test_x = imputed_concatted_df[train_x.shape[0]:]\n",
    "    clf.fit(train_x_after_impute, train_y)\n",
    "    preds = clf.predict_proba(test_x)\n",
    "    pred_actual = preds[:,1]\n",
    "    ensembled[i] = pred_actual\n",
    "print ('Done!!')\n",
    "\n"
   ]
  },
  {
   "cell_type": "code",
   "execution_count": null,
   "metadata": {},
   "outputs": [],
   "source": [
    "dropped = new_x_train_df.drop(['TARGET'], axis=1)\n",
    "x_resampled, y_resampled = SMOTE().fit_sample(dropped, y_train)\n",
    "clf.fit(x_resampled, y_resampled)\n",
    "predicts = clf.predict_log_proba(new_test_df)"
   ]
  },
  {
   "cell_type": "code",
   "execution_count": null,
   "metadata": {},
   "outputs": [],
   "source": [
    "predicts = clf.predict_proba(new_test_df)"
   ]
  },
  {
   "cell_type": "code",
   "execution_count": null,
   "metadata": {},
   "outputs": [],
   "source": [
    "y_train.shape"
   ]
  },
  {
   "cell_type": "code",
   "execution_count": null,
   "metadata": {},
   "outputs": [],
   "source": [
    "meaned = predicts[:,0]"
   ]
  },
  {
   "cell_type": "code",
   "execution_count": 311,
   "metadata": {},
   "outputs": [],
   "source": [
    "meaned = np.mean(ensembled, axis=0)\n",
    "assert meaned.shape[0] == 48744"
   ]
  },
  {
   "cell_type": "code",
   "execution_count": null,
   "metadata": {},
   "outputs": [],
   "source": [
    "clf.fit(x_resampled, y_resampled)"
   ]
  },
  {
   "cell_type": "code",
   "execution_count": null,
   "metadata": {},
   "outputs": [],
   "source": [
    "preds = clf.predict_proba(new_test)\n",
    "pred_actual = preds[:,1]"
   ]
  },
  {
   "cell_type": "code",
   "execution_count": null,
   "metadata": {},
   "outputs": [],
   "source": [
    "assert len(not_included) == test.shape[0] - test_merged.shape[0]"
   ]
  },
  {
   "cell_type": "code",
   "execution_count": 312,
   "metadata": {},
   "outputs": [],
   "source": [
    "preds_df = pd.DataFrame(meaned)\n",
    "subm = pd.concat([test.SK_ID_CURR, preds_df], axis=1)\n",
    "subm.columns = ['SK_ID_CURR', 'TARGET']"
   ]
  },
  {
   "cell_type": "code",
   "execution_count": 313,
   "metadata": {},
   "outputs": [],
   "source": [
    "subm_csv = subm.to_csv('submission.csv', sep=',', index=False)"
   ]
  },
  {
   "cell_type": "code",
   "execution_count": 225,
   "metadata": {},
   "outputs": [
    {
     "name": "stdout",
     "output_type": "stream",
     "text": [
      "mv: cannot move 'submission.csv' to '/home/pranay/Downloads/': No such file or directory\r\n"
     ]
    }
   ],
   "source": [
    "%mv submission.csv /home/pranay/Downloads/"
   ]
  },
  {
   "cell_type": "code",
   "execution_count": null,
   "metadata": {},
   "outputs": [],
   "source": [
    "credit_card_balance.sort_values(by=['SK_ID_CURR', 'MONTHS_BALANCE_CRED']).head()"
   ]
  },
  {
   "cell_type": "code",
   "execution_count": null,
   "metadata": {},
   "outputs": [],
   "source": [
    "credit_card_balance.AMT_DRAWINGS_CURRENT.plot.hist()"
   ]
  },
  {
   "cell_type": "code",
   "execution_count": null,
   "metadata": {},
   "outputs": [],
   "source": [
    "train.shape"
   ]
  },
  {
   "cell_type": "code",
   "execution_count": null,
   "metadata": {},
   "outputs": [],
   "source": [
    "pos_cash_balance.SK_ID_CURR.value_counts()"
   ]
  },
  {
   "cell_type": "code",
   "execution_count": null,
   "metadata": {},
   "outputs": [],
   "source": [
    "credit_card_balance.SK_ID_CURR.value_counts()"
   ]
  },
  {
   "cell_type": "code",
   "execution_count": null,
   "metadata": {},
   "outputs": [],
   "source": [
    "previous_application.SK_ID_CURR.value_counts()"
   ]
  },
  {
   "cell_type": "code",
   "execution_count": null,
   "metadata": {},
   "outputs": [],
   "source": [
    "for col in credit_card_balance"
   ]
  },
  {
   "cell_type": "code",
   "execution_count": null,
   "metadata": {},
   "outputs": [],
   "source": [
    "credit_card_balance.SK_ID_CURR.dtype == 'in'"
   ]
  },
  {
   "cell_type": "code",
   "execution_count": null,
   "metadata": {},
   "outputs": [],
   "source": [
    "assert new_train.shape[0] == train_ones.shape[0] * 2"
   ]
  },
  {
   "cell_type": "code",
   "execution_count": null,
   "metadata": {},
   "outputs": [],
   "source": [
    "floats = less_nulls_concat.loc[:,less_nulls_concat.dtypes == 'float64']\n",
    "ints = less_nulls_concat.loc[:,less_nulls_concat.dtypes == 'int64']\n",
    "objectly = less_nulls_concat.loc[:,less_nulls_concat.dtypes == 'object']"
   ]
  },
  {
   "cell_type": "code",
   "execution_count": null,
   "metadata": {},
   "outputs": [],
   "source": [
    "floats = floats.fillna(floats.mean())\n",
    "ints = ints.fillna(ints.mean())"
   ]
  },
  {
   "cell_type": "code",
   "execution_count": null,
   "metadata": {},
   "outputs": [],
   "source": [
    "assert floats.shape[0] == concatted.shape[0]"
   ]
  },
  {
   "cell_type": "code",
   "execution_count": null,
   "metadata": {},
   "outputs": [],
   "source": [
    "get_nulls(ints)"
   ]
  },
  {
   "cell_type": "code",
   "execution_count": null,
   "metadata": {},
   "outputs": [],
   "source": []
  },
  {
   "cell_type": "code",
   "execution_count": null,
   "metadata": {},
   "outputs": [],
   "source": [
    "pred_actual_df = pd.DataFrame(pred_actual)"
   ]
  },
  {
   "cell_type": "code",
   "execution_count": null,
   "metadata": {},
   "outputs": [],
   "source": [
    "subm = pd.concat([test.SK_ID_CURR, pred_actual_df], axis=1)"
   ]
  },
  {
   "cell_type": "code",
   "execution_count": null,
   "metadata": {},
   "outputs": [],
   "source": [
    "subm.columns = ['SK_ID_CURR', 'TARGET']"
   ]
  },
  {
   "cell_type": "code",
   "execution_count": null,
   "metadata": {},
   "outputs": [],
   "source": [
    "subm.columns"
   ]
  },
  {
   "cell_type": "code",
   "execution_count": null,
   "metadata": {},
   "outputs": [],
   "source": [
    "subm_csv = subm.to_csv('submission.csv', sep=',', index=False)"
   ]
  },
  {
   "cell_type": "code",
   "execution_count": null,
   "metadata": {},
   "outputs": [],
   "source": []
  },
  {
   "cell_type": "code",
   "execution_count": null,
   "metadata": {},
   "outputs": [],
   "source": [
    "%cp sample_submission.csv /home/pranay/Downloads/"
   ]
  },
  {
   "cell_type": "code",
   "execution_count": null,
   "metadata": {},
   "outputs": [],
   "source": [
    "sample = pd.read_csv('sample_submission.csv', sep=',')"
   ]
  },
  {
   "cell_type": "code",
   "execution_count": null,
   "metadata": {},
   "outputs": [],
   "source": [
    "subm.shape"
   ]
  },
  {
   "cell_type": "code",
   "execution_count": null,
   "metadata": {},
   "outputs": [],
   "source": [
    "# sample\n",
    "subm.TARGET.value_counts().plot.bar()"
   ]
  },
  {
   "cell_type": "code",
   "execution_count": null,
   "metadata": {},
   "outputs": [],
   "source": [
    "train_y.value_counts()"
   ]
  },
  {
   "cell_type": "code",
   "execution_count": null,
   "metadata": {},
   "outputs": [],
   "source": [
    "imputed_concatted.shape"
   ]
  },
  {
   "cell_type": "code",
   "execution_count": null,
   "metadata": {},
   "outputs": [],
   "source": [
    "get_nulls(concatted_dummied)"
   ]
  },
  {
   "cell_type": "code",
   "execution_count": null,
   "metadata": {},
   "outputs": [],
   "source": [
    "get_nulls(ints)"
   ]
  },
  {
   "cell_type": "code",
   "execution_count": null,
   "metadata": {},
   "outputs": [],
   "source": [
    "objectly = objectly.fillna(objectly.mode())"
   ]
  },
  {
   "cell_type": "code",
   "execution_count": null,
   "metadata": {},
   "outputs": [],
   "source": [
    "get_nulls(objectly)"
   ]
  },
  {
   "cell_type": "code",
   "execution_count": null,
   "metadata": {},
   "outputs": [],
   "source": [
    "objectly.EMERGENCYSTATE_MODE.fillna(objectly.EMERGENCYSTATE_MODE.mode())"
   ]
  },
  {
   "cell_type": "code",
   "execution_count": null,
   "metadata": {},
   "outputs": [],
   "source": [
    "msno.matrix(objectly)"
   ]
  },
  {
   "cell_type": "code",
   "execution_count": null,
   "metadata": {},
   "outputs": [],
   "source": [
    "less_nulls_concat.dtypes.value_counts()"
   ]
  },
  {
   "cell_type": "code",
   "execution_count": null,
   "metadata": {},
   "outputs": [],
   "source": []
  },
  {
   "cell_type": "code",
   "execution_count": null,
   "metadata": {},
   "outputs": [],
   "source": [
    "concatted.loc[:, concatted[less]"
   ]
  },
  {
   "cell_type": "code",
   "execution_count": null,
   "metadata": {},
   "outputs": [],
   "source": [
    "assert concatted.shape[0] == train.shape[0] + test.shape[0]"
   ]
  },
  {
   "cell_type": "code",
   "execution_count": null,
   "metadata": {},
   "outputs": [],
   "source": []
  },
  {
   "cell_type": "code",
   "execution_count": null,
   "metadata": {},
   "outputs": [],
   "source": [
    "credit_card_balance.head()"
   ]
  },
  {
   "cell_type": "code",
   "execution_count": null,
   "metadata": {},
   "outputs": [],
   "source": [
    "credit_card_balance[credit_card_balance.SK_ID_CURR == 186401].sort_values(by='MONTHS_BALANCE').head()"
   ]
  },
  {
   "cell_type": "code",
   "execution_count": null,
   "metadata": {},
   "outputs": [],
   "source": [
    "count_credit = credit_card_balance.groupby('SK_ID_CURR').SK_ID_CURR.count().sort_values(ascending=False).to_frame()"
   ]
  },
  {
   "cell_type": "code",
   "execution_count": null,
   "metadata": {},
   "outputs": [],
   "source": [
    "credit_card_balance.groupby('SK_ID_PREV').SK_ID_PREV.count().sort_values(ascending=False)"
   ]
  },
  {
   "cell_type": "code",
   "execution_count": null,
   "metadata": {},
   "outputs": [],
   "source": [
    "count_credit = credit_card_balance.groupby('SK_ID_CURR').SK_ID_CURR.count().sort_values(ascending=False)"
   ]
  },
  {
   "cell_type": "code",
   "execution_count": null,
   "metadata": {},
   "outputs": [],
   "source": [
    "count_credit"
   ]
  },
  {
   "cell_type": "code",
   "execution_count": null,
   "metadata": {},
   "outputs": [],
   "source": [
    "count_credit['COUNT'] = count_credit.SK_ID_CURR"
   ]
  },
  {
   "cell_type": "code",
   "execution_count": null,
   "metadata": {},
   "outputs": [],
   "source": [
    "count_credit['SK_ID_CURR'] = count_credit.index"
   ]
  },
  {
   "cell_type": "code",
   "execution_count": null,
   "metadata": {},
   "outputs": [],
   "source": [
    "merged = pd.merge(train, count_credit, how='inner', on='SK_ID_CURR')"
   ]
  },
  {
   "cell_type": "code",
   "execution_count": null,
   "metadata": {},
   "outputs": [],
   "source": [
    "merge_test = pd.merge(test, count_credit, how='inner', on='SK_ID_CURR')"
   ]
  },
  {
   "cell_type": "code",
   "execution_count": null,
   "metadata": {},
   "outputs": [],
   "source": [
    "assert merge_test.shape[0] == test.shape[0]"
   ]
  },
  {
   "cell_type": "code",
   "execution_count": null,
   "metadata": {},
   "outputs": [],
   "source": [
    "merged.columns"
   ]
  },
  {
   "cell_type": "code",
   "execution_count": null,
   "metadata": {},
   "outputs": [],
   "source": [
    "merged.COUNT.isnull().value_counts()"
   ]
  },
  {
   "cell_type": "code",
   "execution_count": null,
   "metadata": {},
   "outputs": [],
   "source": [
    "[ col for col in credit_card_balance.SK_ID_CURR.unique() if col not in train.SK_ID_CURR ]"
   ]
  },
  {
   "cell_type": "code",
   "execution_count": null,
   "metadata": {},
   "outputs": [],
   "source": [
    "train.TARGET.value_counts()"
   ]
  },
  {
   "cell_type": "code",
   "execution_count": null,
   "metadata": {},
   "outputs": [],
   "source": [
    "def get_description_of_columns(df):\n",
    "    for col in df.columns[2:]:\n",
    "        print col, descriptions[descriptions.Row == str(col)].Description.values"
   ]
  },
  {
   "cell_type": "code",
   "execution_count": null,
   "metadata": {},
   "outputs": [],
   "source": [
    "get_description_of_columns(credit_card_balance)"
   ]
  },
  {
   "cell_type": "code",
   "execution_count": null,
   "metadata": {},
   "outputs": [],
   "source": [
    "for col in credit_card_balance.columns[2:]:\n",
    "    print col, descriptions[descriptions.Row == str(col)].Description.values"
   ]
  },
  {
   "cell_type": "code",
   "execution_count": null,
   "metadata": {},
   "outputs": [],
   "source": [
    "descriptions.head()"
   ]
  },
  {
   "cell_type": "code",
   "execution_count": null,
   "metadata": {},
   "outputs": [],
   "source": [
    "train.groupby(['TARGET'])['NAME_CONTRACT_TYPE'].value_counts(normalize=True)"
   ]
  },
  {
   "cell_type": "code",
   "execution_count": null,
   "metadata": {},
   "outputs": [],
   "source": [
    "train.groupby(['TARGET'])['CODE_GENDER'].value_counts(normalize=True)"
   ]
  },
  {
   "cell_type": "code",
   "execution_count": null,
   "metadata": {},
   "outputs": [],
   "source": [
    "train.groupby(['TARGET'])['FLAG_OWN_CAR'].value_counts(normalize=True)"
   ]
  },
  {
   "cell_type": "code",
   "execution_count": null,
   "metadata": {},
   "outputs": [],
   "source": [
    "train.groupby(['TARGET'])['FLAG_OWN_REALTY'].value_counts(normalize=True)"
   ]
  },
  {
   "cell_type": "code",
   "execution_count": null,
   "metadata": {},
   "outputs": [],
   "source": [
    "train.groupby(['TARGET'])['CNT_CHILDREN'].value_counts(normalize=True)"
   ]
  },
  {
   "cell_type": "code",
   "execution_count": null,
   "metadata": {},
   "outputs": [],
   "source": [
    "msno.matrix(train[:10000])"
   ]
  },
  {
   "cell_type": "code",
   "execution_count": null,
   "metadata": {},
   "outputs": [],
   "source": [
    "train.head()"
   ]
  },
  {
   "cell_type": "code",
   "execution_count": null,
   "metadata": {},
   "outputs": [],
   "source": [
    "train.shape"
   ]
  },
  {
   "cell_type": "code",
   "execution_count": null,
   "metadata": {},
   "outputs": [],
   "source": [
    "nulls = train.isnull().sum() * 100/train.shape[0]"
   ]
  },
  {
   "cell_type": "code",
   "execution_count": null,
   "metadata": {},
   "outputs": [],
   "source": [
    "null_test = test.isnull().sum() * 100/test.shape[0]"
   ]
  },
  {
   "cell_type": "code",
   "execution_count": null,
   "metadata": {},
   "outputs": [],
   "source": [
    "above_fifty_null_test = null_test[null_test > 50].index"
   ]
  },
  {
   "cell_type": "code",
   "execution_count": null,
   "metadata": {},
   "outputs": [],
   "source": [
    "less_nulls_test = null_test[null_test < 50].index\n",
    "less_nulls_train = null_test[null_test < 50].index"
   ]
  },
  {
   "cell_type": "code",
   "execution_count": null,
   "metadata": {},
   "outputs": [],
   "source": [
    "msno.matrix(test[less_nulls_test])"
   ]
  },
  {
   "cell_type": "code",
   "execution_count": null,
   "metadata": {},
   "outputs": [],
   "source": [
    "msno.matrix(train[less_nulls_train])"
   ]
  },
  {
   "cell_type": "code",
   "execution_count": null,
   "metadata": {},
   "outputs": [],
   "source": [
    "above_fifty_null_test"
   ]
  },
  {
   "cell_type": "code",
   "execution_count": null,
   "metadata": {},
   "outputs": [],
   "source": [
    "above_fifty_nulls = nulls[nulls > 50].index\n",
    "above_fifty_nulls"
   ]
  },
  {
   "cell_type": "code",
   "execution_count": null,
   "metadata": {},
   "outputs": [],
   "source": [
    "[ col for col in above_fifty_nulls if col not in above_fifty_null_test ]"
   ]
  },
  {
   "cell_type": "code",
   "execution_count": null,
   "metadata": {},
   "outputs": [],
   "source": [
    "remove_nulls = train.drop(above_fifty_nulls, axis=1)"
   ]
  },
  {
   "cell_type": "code",
   "execution_count": null,
   "metadata": {},
   "outputs": [],
   "source": [
    "assert remove_nulls.shape[1] == train.shape[1] - above_fifty_nulls.shape[0]"
   ]
  },
  {
   "cell_type": "code",
   "execution_count": null,
   "metadata": {},
   "outputs": [],
   "source": [
    "msno.matrix(remove_nulls)"
   ]
  },
  {
   "cell_type": "code",
   "execution_count": null,
   "metadata": {},
   "outputs": [],
   "source": [
    "msno.matrix(remove_nulls.iloc[:100, 40:60])"
   ]
  },
  {
   "cell_type": "code",
   "execution_count": null,
   "metadata": {},
   "outputs": [],
   "source": [
    "remove_nulls.isnull().sum() * 100 /(remove_nulls.shape[0])"
   ]
  },
  {
   "cell_type": "code",
   "execution_count": null,
   "metadata": {},
   "outputs": [],
   "source": [
    "for col in remove_nulls.columns[remove_nulls.dtypes == 'object'].values:\n",
    "    print remove_nulls.groupby(['TARGET'])[str(col)].value_counts(normalize=True)"
   ]
  },
  {
   "cell_type": "code",
   "execution_count": null,
   "metadata": {},
   "outputs": [],
   "source": [
    "remove_nulls.dtypes.value_counts()"
   ]
  },
  {
   "cell_type": "code",
   "execution_count": null,
   "metadata": {},
   "outputs": [],
   "source": [
    "previous_application.head()"
   ]
  },
  {
   "cell_type": "code",
   "execution_count": null,
   "metadata": {},
   "outputs": [],
   "source": [
    "for col in previous_application.columns.values:\n",
    "    print col, descriptions[descriptions.Row == str(col)].Description.unique()"
   ]
  },
  {
   "cell_type": "code",
   "execution_count": null,
   "metadata": {},
   "outputs": [],
   "source": [
    "previous_application[previous_application.columns[previous_application.dtypes == 'float64'].values].head()"
   ]
  },
  {
   "cell_type": "code",
   "execution_count": null,
   "metadata": {},
   "outputs": [],
   "source": [
    "previous_application[previous_application.columns[previous_application.dtypes == 'float64']].isnull().sum()"
   ]
  },
  {
   "cell_type": "code",
   "execution_count": null,
   "metadata": {},
   "outputs": [],
   "source": [
    "previous_application.SK_ID_PREV.value_counts().head()"
   ]
  },
  {
   "cell_type": "code",
   "execution_count": null,
   "metadata": {},
   "outputs": [],
   "source": [
    "895844 * 100 / previous_application.shape[0]"
   ]
  },
  {
   "cell_type": "code",
   "execution_count": null,
   "metadata": {},
   "outputs": [],
   "source": [
    "pos_cash_balance.head()"
   ]
  },
  {
   "cell_type": "code",
   "execution_count": null,
   "metadata": {},
   "outputs": [],
   "source": [
    "previous_application.dtypes.value_counts()"
   ]
  },
  {
   "cell_type": "code",
   "execution_count": null,
   "metadata": {},
   "outputs": [],
   "source": [
    "descriptions.head()"
   ]
  },
  {
   "cell_type": "code",
   "execution_count": null,
   "metadata": {},
   "outputs": [],
   "source": [
    "descriptions[descriptions.Row == 'AMT_GOODS_PRICE']"
   ]
  },
  {
   "cell_type": "code",
   "execution_count": null,
   "metadata": {},
   "outputs": [],
   "source": [
    "for col in remove_nulls.columns[remove_nulls.dtypes == 'float64']:\n",
    "    if (col != 'SK_ID_CURR') and (col != 'TARGET'):\n",
    "        print remove_nulls.groupby(['TARGET'])[str(col)].mean()"
   ]
  },
  {
   "cell_type": "code",
   "execution_count": null,
   "metadata": {},
   "outputs": [],
   "source": [
    "#getting columns with missing values granular\n",
    "ranges = [(0,30),(30,60), (60, 120)]\n",
    "\n",
    "for i in ranges:\n",
    "    msno.matrix(remove_nulls.iloc[:100, i[0]:i[1]])"
   ]
  },
  {
   "cell_type": "code",
   "execution_count": null,
   "metadata": {},
   "outputs": [],
   "source": [
    "remove_nulls.OCCUPATION_TYPE.isnull().value_counts(normalize=True)"
   ]
  },
  {
   "cell_type": "code",
   "execution_count": null,
   "metadata": {},
   "outputs": [],
   "source": [
    "nulls = remove_nulls.isnull().sum() * 100/train.shape[0]"
   ]
  },
  {
   "cell_type": "code",
   "execution_count": null,
   "metadata": {},
   "outputs": [],
   "source": [
    "null_cols = nulls[nulls > 30].index.values"
   ]
  },
  {
   "cell_type": "code",
   "execution_count": null,
   "metadata": {},
   "outputs": [],
   "source": [
    "#dtypes of null cols in remove_nulls data frame\n",
    "for col in null_cols:\n",
    "    print col, remove_nulls[str(col)].dtype"
   ]
  },
  {
   "cell_type": "code",
   "execution_count": null,
   "metadata": {},
   "outputs": [],
   "source": [
    "#dtypes of missing cols in train\n",
    "for col in nulls[nulls > 50].index.values:\n",
    "    print col, train[str(col)].dtypes"
   ]
  },
  {
   "cell_type": "code",
   "execution_count": null,
   "metadata": {},
   "outputs": [],
   "source": [
    "pos_cash_balance.isnull().sum()"
   ]
  },
  {
   "cell_type": "code",
   "execution_count": null,
   "metadata": {},
   "outputs": [],
   "source": [
    "previous_application.head()"
   ]
  },
  {
   "cell_type": "code",
   "execution_count": null,
   "metadata": {},
   "outputs": [],
   "source": [
    "previous_application.SK_ID_CURR.value_counts().head()"
   ]
  },
  {
   "cell_type": "code",
   "execution_count": null,
   "metadata": {},
   "outputs": [],
   "source": [
    "previous_application.isnull().sum()"
   ]
  },
  {
   "cell_type": "code",
   "execution_count": null,
   "metadata": {},
   "outputs": [],
   "source": [
    "credit_card_balance.isnull().sum()"
   ]
  },
  {
   "cell_type": "code",
   "execution_count": null,
   "metadata": {},
   "outputs": [],
   "source": [
    "credit_card_balance.head()"
   ]
  },
  {
   "cell_type": "code",
   "execution_count": null,
   "metadata": {},
   "outputs": [],
   "source": []
  }
 ],
 "metadata": {
  "kernelspec": {
   "display_name": "Python 3",
   "language": "python",
   "name": "python3"
  },
  "language_info": {
   "codemirror_mode": {
    "name": "ipython",
    "version": 3
   },
   "file_extension": ".py",
   "mimetype": "text/x-python",
   "name": "python",
   "nbconvert_exporter": "python",
   "pygments_lexer": "ipython3",
   "version": "3.6.5"
  }
 },
 "nbformat": 4,
 "nbformat_minor": 2
}
