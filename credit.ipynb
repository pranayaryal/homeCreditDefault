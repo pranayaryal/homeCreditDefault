{
 "cells": [
  {
   "cell_type": "code",
   "execution_count": 110,
   "metadata": {},
   "outputs": [],
   "source": [
    "# import tensorflow as tf\n",
    "import pandas as pd\n",
    "import matplotlib.pyplot as plt\n",
    "from __future__ import division\n",
    "import missingno as msno\n",
    "import xgboost\n",
    "import numpy as np\n",
    "import xgboost\n",
    "from sklearn.model_selection import StratifiedKFold, GridSearchCV\n",
    "# import lightgbm\n",
    "import gc"
   ]
  },
  {
   "cell_type": "markdown",
   "metadata": {},
   "source": [
    "[Create Features](#createFeatures)\n",
    "\n",
    "[Merging DataFrames](#mergeDfs)\n",
    "\n",
    "[Start Training](#startTraining)\n",
    "\n",
    "[Renaming Columns](#renamingColumns)"
   ]
  },
  {
   "cell_type": "code",
   "execution_count": 111,
   "metadata": {},
   "outputs": [],
   "source": [
    "from imblearn.over_sampling import SMOTE,RandomOverSampler"
   ]
  },
  {
   "cell_type": "code",
   "execution_count": 112,
   "metadata": {},
   "outputs": [],
   "source": [
    "from utils import MyUtils"
   ]
  },
  {
   "cell_type": "code",
   "execution_count": 113,
   "metadata": {},
   "outputs": [],
   "source": [
    "pd.set_option('display.max_colwidth', -1)"
   ]
  },
  {
   "cell_type": "code",
   "execution_count": 114,
   "metadata": {},
   "outputs": [],
   "source": [
    "pd.set_option('display.max_columns', 50)\n",
    "pd.set_option('display.float_format', lambda x: '%.3f' % x)"
   ]
  },
  {
   "cell_type": "code",
   "execution_count": 115,
   "metadata": {},
   "outputs": [],
   "source": [
    "test = pd.read_csv('application_test.csv')"
   ]
  },
  {
   "cell_type": "code",
   "execution_count": 116,
   "metadata": {},
   "outputs": [
    {
     "name": "stdout",
     "output_type": "stream",
     "text": [
      "Reading train ...\n",
      "Shape of train is (307511, 122)\n",
      "The shape of bureau_balance is (27299925, 3)\n",
      "The shape of creditcard_balance is (3840312, 23)\n",
      "The shape of installments_payments is (13605401, 8)\n",
      "The shape of pos_cash_balance is (10001358, 8)\n",
      "The shape of previous_application is (1670214, 37)\n",
      "The shape of descriptions is (219, 5)\n",
      "The shape of bureau is (1716428, 17)\n",
      "Done!\n"
     ]
    }
   ],
   "source": [
    "print ('Reading train ...')\n",
    "train = pd.read_csv('application_train.csv')\n",
    "train.name = \"train\"\n",
    "print ('Shape of train is %s'%(str(train.shape)))\n",
    "bureau_balance = pd.read_csv('bureau_balance.csv')\n",
    "bureau_balance.name = 'bureau_balance'\n",
    "print ('The shape of bureau_balance is %s'%(str(bureau_balance.shape)))\n",
    "credit_card_balance = pd.read_csv('credit_card_balance.csv')\n",
    "credit_card_balance.name = 'credit_card_balance'\n",
    "print ('The shape of creditcard_balance is %s'%(str(credit_card_balance.shape)))\n",
    "installments_payments = pd.read_csv('installments_payments.csv')\n",
    "installments_payments.name = 'installments_payments'\n",
    "print ('The shape of installments_payments is %s'%(str(installments_payments.shape)))\n",
    "pos_cash_balance = pd.read_csv('POS_CASH_balance.csv')\n",
    "pos_cash_balance.name = 'pos_cash_balance'\n",
    "print ('The shape of pos_cash_balance is %s'%(str(pos_cash_balance.shape)))\n",
    "previous_application = pd.read_csv('previous_application.csv')\n",
    "previous_application.name = 'previous_application'\n",
    "print ('The shape of previous_application is %s'%(str(previous_application.shape)))\n",
    "descriptions = pd.read_csv('descriptions.csv', encoding='ISO-8859-1')\n",
    "print ('The shape of descriptions is %s'%(str(descriptions.shape)))\n",
    "bureau = pd.read_csv('bureau.csv')\n",
    "bureau.name = 'bureau'\n",
    "print ('The shape of bureau is %s'%(str(bureau.shape)))\n",
    "print ('Done!')"
   ]
  },
  {
   "cell_type": "code",
   "execution_count": null,
   "metadata": {},
   "outputs": [],
   "source": []
  },
  {
   "cell_type": "code",
   "execution_count": 81,
   "metadata": {},
   "outputs": [],
   "source": [
    "dataframes = [credit_card_balance, installments_payments, pos_cash_balance, previous_application, bureau]"
   ]
  },
  {
   "cell_type": "code",
   "execution_count": 82,
   "metadata": {},
   "outputs": [
    {
     "name": "stdout",
     "output_type": "stream",
     "text": [
      "The value counts for dataframe credit_card_balance is 103558\n",
      "The value counts for dataframe installments_payments is 339587\n",
      "The value counts for dataframe pos_cash_balance is 337252\n",
      "The value counts for dataframe previous_application is 338857\n",
      "The value counts for dataframe bureau is 305811\n"
     ]
    }
   ],
   "source": [
    "for df in dataframes:        \n",
    "        print(\"The value counts for dataframe %s is %s\"%(df.name, df.SK_ID_CURR.value_counts().shape[0]))"
   ]
  },
  {
   "cell_type": "code",
   "execution_count": 86,
   "metadata": {},
   "outputs": [
    {
     "data": {
      "text/plain": [
       "356255"
      ]
     },
     "execution_count": 86,
     "metadata": {},
     "output_type": "execute_result"
    }
   ],
   "source": [
    "test.shape[0] + train.shape[0]"
   ]
  },
  {
   "cell_type": "code",
   "execution_count": 117,
   "metadata": {},
   "outputs": [],
   "source": [
    "CCB_FULL = credit_card_balance"
   ]
  },
  {
   "cell_type": "code",
   "execution_count": 139,
   "metadata": {},
   "outputs": [
    {
     "name": "stderr",
     "output_type": "stream",
     "text": [
      "/opt/conda/lib/python3.6/site-packages/pandas/core/indexing.py:362: SettingWithCopyWarning: \n",
      "A value is trying to be set on a copy of a slice from a DataFrame.\n",
      "Try using .loc[row_indexer,col_indexer] = value instead\n",
      "\n",
      "See the caveats in the documentation: http://pandas.pydata.org/pandas-docs/stable/indexing.html#indexing-view-versus-copy\n",
      "  self.obj[key] = _infer_fill_value(value)\n",
      "/opt/conda/lib/python3.6/site-packages/pandas/core/indexing.py:543: SettingWithCopyWarning: \n",
      "A value is trying to be set on a copy of a slice from a DataFrame.\n",
      "Try using .loc[row_indexer,col_indexer] = value instead\n",
      "\n",
      "See the caveats in the documentation: http://pandas.pydata.org/pandas-docs/stable/indexing.html#indexing-view-versus-copy\n",
      "  self.obj[item] = s\n"
     ]
    }
   ],
   "source": [
    "CCB = CCB_FULL[0:]\n",
    "CCB.loc[:,'AMT_CREDIT_LIMIT_ACTUAL1'] = CCB.loc[:,'AMT_CREDIT_LIMIT_ACTUAL']\n",
    "df_2 = df[df['B'] == 'b.2'].copy()"
   ]
  },
  {
   "cell_type": "code",
   "execution_count": 102,
   "metadata": {},
   "outputs": [],
   "source": [
    "grp = CCB.groupby(by=['SK_ID_CURR'])['SK_ID_PREV'].nunique().reset_index().rename(index = str, columns = {'SK_ID_PREV': 'NO_LOANS'})"
   ]
  },
  {
   "cell_type": "code",
   "execution_count": 126,
   "metadata": {},
   "outputs": [],
   "source": [
    "def f(x1, x2):\n",
    "    balance = x1.max()\n",
    "    limit = x2.max()\n",
    "    return (balance/limit)"
   ]
  },
  {
   "cell_type": "code",
   "execution_count": 131,
   "metadata": {},
   "outputs": [
    {
     "name": "stderr",
     "output_type": "stream",
     "text": [
      "/opt/conda/lib/python3.6/site-packages/ipykernel_launcher.py:4: RuntimeWarning: invalid value encountered in double_scalars\n",
      "  after removing the cwd from sys.path.\n",
      "/opt/conda/lib/python3.6/site-packages/ipykernel_launcher.py:4: RuntimeWarning: divide by zero encountered in double_scalars\n",
      "  after removing the cwd from sys.path.\n"
     ]
    }
   ],
   "source": [
    "grp = CCB.groupby(by=['SK_ID_CURR', 'SK_ID_PREV', 'AMT_CREDIT_LIMIT_ACTUAL']) \\\n",
    "            .apply(lambda x: f(x.AMT_BALANCE, x.AMT_CREDIT_LIMIT_ACTUAL1)) \\\n",
    "            .reset_index() \\\n",
    "            .rename(index = str, columns={0: 'CREDIT_LOAD1'})"
   ]
  },
  {
   "cell_type": "code",
   "execution_count": 134,
   "metadata": {},
   "outputs": [],
   "source": [
    "grp = CCB.groupby(by=['SK_ID_CURR', 'SK_ID_PREV', 'AMT_CREDIT_LIMIT_ACTUAL']).sum()"
   ]
  },
  {
   "cell_type": "code",
   "execution_count": 135,
   "metadata": {},
   "outputs": [
    {
     "data": {
      "text/html": [
       "<div>\n",
       "<style scoped>\n",
       "    .dataframe tbody tr th:only-of-type {\n",
       "        vertical-align: middle;\n",
       "    }\n",
       "\n",
       "    .dataframe tbody tr th {\n",
       "        vertical-align: top;\n",
       "    }\n",
       "\n",
       "    .dataframe thead th {\n",
       "        text-align: right;\n",
       "    }\n",
       "</style>\n",
       "<table border=\"1\" class=\"dataframe\">\n",
       "  <thead>\n",
       "    <tr style=\"text-align: right;\">\n",
       "      <th></th>\n",
       "      <th></th>\n",
       "      <th></th>\n",
       "      <th>MONTHS_BALANCE</th>\n",
       "      <th>AMT_BALANCE</th>\n",
       "      <th>AMT_DRAWINGS_ATM_CURRENT</th>\n",
       "      <th>AMT_DRAWINGS_CURRENT</th>\n",
       "      <th>AMT_DRAWINGS_OTHER_CURRENT</th>\n",
       "      <th>AMT_DRAWINGS_POS_CURRENT</th>\n",
       "      <th>AMT_INST_MIN_REGULARITY</th>\n",
       "      <th>AMT_PAYMENT_CURRENT</th>\n",
       "      <th>AMT_PAYMENT_TOTAL_CURRENT</th>\n",
       "      <th>AMT_RECEIVABLE_PRINCIPAL</th>\n",
       "      <th>AMT_RECIVABLE</th>\n",
       "      <th>AMT_TOTAL_RECEIVABLE</th>\n",
       "      <th>CNT_DRAWINGS_ATM_CURRENT</th>\n",
       "      <th>CNT_DRAWINGS_CURRENT</th>\n",
       "      <th>CNT_DRAWINGS_OTHER_CURRENT</th>\n",
       "      <th>CNT_DRAWINGS_POS_CURRENT</th>\n",
       "      <th>CNT_INSTALMENT_MATURE_CUM</th>\n",
       "      <th>SK_DPD</th>\n",
       "      <th>SK_DPD_DEF</th>\n",
       "      <th>AMT_CREDIT_LIMIT_ACTUAL1</th>\n",
       "    </tr>\n",
       "    <tr>\n",
       "      <th>SK_ID_CURR</th>\n",
       "      <th>SK_ID_PREV</th>\n",
       "      <th>AMT_CREDIT_LIMIT_ACTUAL</th>\n",
       "      <th></th>\n",
       "      <th></th>\n",
       "      <th></th>\n",
       "      <th></th>\n",
       "      <th></th>\n",
       "      <th></th>\n",
       "      <th></th>\n",
       "      <th></th>\n",
       "      <th></th>\n",
       "      <th></th>\n",
       "      <th></th>\n",
       "      <th></th>\n",
       "      <th></th>\n",
       "      <th></th>\n",
       "      <th></th>\n",
       "      <th></th>\n",
       "      <th></th>\n",
       "      <th></th>\n",
       "      <th></th>\n",
       "      <th></th>\n",
       "    </tr>\n",
       "  </thead>\n",
       "  <tbody>\n",
       "    <tr>\n",
       "      <th>100006</th>\n",
       "      <th>1489396</th>\n",
       "      <th>270000</th>\n",
       "      <td>-21</td>\n",
       "      <td>0.000</td>\n",
       "      <td>0.000</td>\n",
       "      <td>0.000</td>\n",
       "      <td>0.000</td>\n",
       "      <td>0.000</td>\n",
       "      <td>0.000</td>\n",
       "      <td>0.000</td>\n",
       "      <td>0.000</td>\n",
       "      <td>0.000</td>\n",
       "      <td>0.000</td>\n",
       "      <td>0.000</td>\n",
       "      <td>0.000</td>\n",
       "      <td>0</td>\n",
       "      <td>0.000</td>\n",
       "      <td>0.000</td>\n",
       "      <td>0.000</td>\n",
       "      <td>0</td>\n",
       "      <td>0</td>\n",
       "      <td>1620000</td>\n",
       "    </tr>\n",
       "    <tr>\n",
       "      <th rowspan=\"2\" valign=\"top\">100011</th>\n",
       "      <th rowspan=\"2\" valign=\"top\">1843384</th>\n",
       "      <th>90000</th>\n",
       "      <td>-104</td>\n",
       "      <td>0.000</td>\n",
       "      <td>0.000</td>\n",
       "      <td>0.000</td>\n",
       "      <td>0.000</td>\n",
       "      <td>0.000</td>\n",
       "      <td>0.000</td>\n",
       "      <td>7323.615</td>\n",
       "      <td>0.000</td>\n",
       "      <td>0.000</td>\n",
       "      <td>0.000</td>\n",
       "      <td>0.000</td>\n",
       "      <td>0.000</td>\n",
       "      <td>0</td>\n",
       "      <td>0.000</td>\n",
       "      <td>0.000</td>\n",
       "      <td>429.000</td>\n",
       "      <td>0</td>\n",
       "      <td>0</td>\n",
       "      <td>1170000</td>\n",
       "    </tr>\n",
       "    <tr>\n",
       "      <th>180000</th>\n",
       "      <td>-2745</td>\n",
       "      <td>4031676.225</td>\n",
       "      <td>180000.000</td>\n",
       "      <td>180000.000</td>\n",
       "      <td>0.000</td>\n",
       "      <td>0.000</td>\n",
       "      <td>288804.195</td>\n",
       "      <td>351063.135</td>\n",
       "      <td>334485.000</td>\n",
       "      <td>3877754.580</td>\n",
       "      <td>4028055.255</td>\n",
       "      <td>4028055.255</td>\n",
       "      <td>4.000</td>\n",
       "      <td>4</td>\n",
       "      <td>0.000</td>\n",
       "      <td>0.000</td>\n",
       "      <td>1452.000</td>\n",
       "      <td>0</td>\n",
       "      <td>0</td>\n",
       "      <td>10980000</td>\n",
       "    </tr>\n",
       "    <tr>\n",
       "      <th rowspan=\"2\" valign=\"top\">100013</th>\n",
       "      <th rowspan=\"2\" valign=\"top\">2038692</th>\n",
       "      <th>45000</th>\n",
       "      <td>-253</td>\n",
       "      <td>0.000</td>\n",
       "      <td>0.000</td>\n",
       "      <td>0.000</td>\n",
       "      <td>0.000</td>\n",
       "      <td>0.000</td>\n",
       "      <td>0.000</td>\n",
       "      <td>6035.040</td>\n",
       "      <td>0.000</td>\n",
       "      <td>0.000</td>\n",
       "      <td>0.000</td>\n",
       "      <td>0.000</td>\n",
       "      <td>0.000</td>\n",
       "      <td>0</td>\n",
       "      <td>0.000</td>\n",
       "      <td>0.000</td>\n",
       "      <td>484.000</td>\n",
       "      <td>0</td>\n",
       "      <td>0</td>\n",
       "      <td>990000</td>\n",
       "    </tr>\n",
       "    <tr>\n",
       "      <th>157500</th>\n",
       "      <td>-4403</td>\n",
       "      <td>1743352.245</td>\n",
       "      <td>571500.000</td>\n",
       "      <td>571500.000</td>\n",
       "      <td>0.000</td>\n",
       "      <td>0.000</td>\n",
       "      <td>129454.020</td>\n",
       "      <td>682126.200</td>\n",
       "      <td>654448.545</td>\n",
       "      <td>1656533.745</td>\n",
       "      <td>1737703.665</td>\n",
       "      <td>1737703.665</td>\n",
       "      <td>23.000</td>\n",
       "      <td>23</td>\n",
       "      <td>0.000</td>\n",
       "      <td>0.000</td>\n",
       "      <td>1182.000</td>\n",
       "      <td>1</td>\n",
       "      <td>1</td>\n",
       "      <td>11655000</td>\n",
       "    </tr>\n",
       "    <tr>\n",
       "      <th>100021</th>\n",
       "      <th>2594025</th>\n",
       "      <th>675000</th>\n",
       "      <td>-170</td>\n",
       "      <td>0.000</td>\n",
       "      <td>0.000</td>\n",
       "      <td>0.000</td>\n",
       "      <td>0.000</td>\n",
       "      <td>0.000</td>\n",
       "      <td>0.000</td>\n",
       "      <td>0.000</td>\n",
       "      <td>0.000</td>\n",
       "      <td>0.000</td>\n",
       "      <td>0.000</td>\n",
       "      <td>0.000</td>\n",
       "      <td>0.000</td>\n",
       "      <td>0</td>\n",
       "      <td>0.000</td>\n",
       "      <td>0.000</td>\n",
       "      <td>0.000</td>\n",
       "      <td>0</td>\n",
       "      <td>0</td>\n",
       "      <td>11475000</td>\n",
       "    </tr>\n",
       "    <tr>\n",
       "      <th rowspan=\"2\" valign=\"top\">100023</th>\n",
       "      <th rowspan=\"2\" valign=\"top\">1499902</th>\n",
       "      <th>45000</th>\n",
       "      <td>-38</td>\n",
       "      <td>0.000</td>\n",
       "      <td>0.000</td>\n",
       "      <td>0.000</td>\n",
       "      <td>0.000</td>\n",
       "      <td>0.000</td>\n",
       "      <td>0.000</td>\n",
       "      <td>0.000</td>\n",
       "      <td>0.000</td>\n",
       "      <td>0.000</td>\n",
       "      <td>0.000</td>\n",
       "      <td>0.000</td>\n",
       "      <td>0.000</td>\n",
       "      <td>0</td>\n",
       "      <td>0.000</td>\n",
       "      <td>0.000</td>\n",
       "      <td>0.000</td>\n",
       "      <td>0</td>\n",
       "      <td>0</td>\n",
       "      <td>180000</td>\n",
       "    </tr>\n",
       "    <tr>\n",
       "      <th>225000</th>\n",
       "      <td>-22</td>\n",
       "      <td>0.000</td>\n",
       "      <td>0.000</td>\n",
       "      <td>0.000</td>\n",
       "      <td>0.000</td>\n",
       "      <td>0.000</td>\n",
       "      <td>0.000</td>\n",
       "      <td>0.000</td>\n",
       "      <td>0.000</td>\n",
       "      <td>0.000</td>\n",
       "      <td>0.000</td>\n",
       "      <td>0.000</td>\n",
       "      <td>0.000</td>\n",
       "      <td>0</td>\n",
       "      <td>0.000</td>\n",
       "      <td>0.000</td>\n",
       "      <td>0.000</td>\n",
       "      <td>0</td>\n",
       "      <td>0</td>\n",
       "      <td>900000</td>\n",
       "    </tr>\n",
       "    <tr>\n",
       "      <th>100028</th>\n",
       "      <th>1914954</th>\n",
       "      <th>225000</th>\n",
       "      <td>-1225</td>\n",
       "      <td>396167.850</td>\n",
       "      <td>27000.000</td>\n",
       "      <td>301663.620</td>\n",
       "      <td>0.000</td>\n",
       "      <td>274663.620</td>\n",
       "      <td>257601.285</td>\n",
       "      <td>283724.460</td>\n",
       "      <td>274701.465</td>\n",
       "      <td>376337.250</td>\n",
       "      <td>390461.850</td>\n",
       "      <td>390461.850</td>\n",
       "      <td>2.000</td>\n",
       "      <td>117</td>\n",
       "      <td>0.000</td>\n",
       "      <td>115.000</td>\n",
       "      <td>821.000</td>\n",
       "      <td>0</td>\n",
       "      <td>0</td>\n",
       "      <td>11025000</td>\n",
       "    </tr>\n",
       "    <tr>\n",
       "      <th rowspan=\"2\" valign=\"top\">100036</th>\n",
       "      <th rowspan=\"2\" valign=\"top\">2621538</th>\n",
       "      <th>45000</th>\n",
       "      <td>-36</td>\n",
       "      <td>0.000</td>\n",
       "      <td>0.000</td>\n",
       "      <td>0.000</td>\n",
       "      <td>0.000</td>\n",
       "      <td>0.000</td>\n",
       "      <td>0.000</td>\n",
       "      <td>0.000</td>\n",
       "      <td>0.000</td>\n",
       "      <td>0.000</td>\n",
       "      <td>0.000</td>\n",
       "      <td>0.000</td>\n",
       "      <td>0.000</td>\n",
       "      <td>0</td>\n",
       "      <td>0.000</td>\n",
       "      <td>0.000</td>\n",
       "      <td>0.000</td>\n",
       "      <td>0</td>\n",
       "      <td>0</td>\n",
       "      <td>135000</td>\n",
       "    </tr>\n",
       "    <tr>\n",
       "      <th>90000</th>\n",
       "      <td>-54</td>\n",
       "      <td>0.000</td>\n",
       "      <td>0.000</td>\n",
       "      <td>0.000</td>\n",
       "      <td>0.000</td>\n",
       "      <td>0.000</td>\n",
       "      <td>0.000</td>\n",
       "      <td>0.000</td>\n",
       "      <td>0.000</td>\n",
       "      <td>0.000</td>\n",
       "      <td>0.000</td>\n",
       "      <td>0.000</td>\n",
       "      <td>0.000</td>\n",
       "      <td>0</td>\n",
       "      <td>0.000</td>\n",
       "      <td>0.000</td>\n",
       "      <td>0.000</td>\n",
       "      <td>0</td>\n",
       "      <td>0</td>\n",
       "      <td>810000</td>\n",
       "    </tr>\n",
       "    <tr>\n",
       "      <th rowspan=\"2\" valign=\"top\">100042</th>\n",
       "      <th rowspan=\"2\" valign=\"top\">2137382</th>\n",
       "      <th>45000</th>\n",
       "      <td>-231</td>\n",
       "      <td>0.000</td>\n",
       "      <td>0.000</td>\n",
       "      <td>0.000</td>\n",
       "      <td>0.000</td>\n",
       "      <td>0.000</td>\n",
       "      <td>0.000</td>\n",
       "      <td>689.850</td>\n",
       "      <td>0.000</td>\n",
       "      <td>0.000</td>\n",
       "      <td>0.000</td>\n",
       "      <td>0.000</td>\n",
       "      <td>0.000</td>\n",
       "      <td>0</td>\n",
       "      <td>0.000</td>\n",
       "      <td>0.000</td>\n",
       "      <td>819.000</td>\n",
       "      <td>0</td>\n",
       "      <td>0</td>\n",
       "      <td>945000</td>\n",
       "    </tr>\n",
       "    <tr>\n",
       "      <th>90000</th>\n",
       "      <td>-3339</td>\n",
       "      <td>2801919.375</td>\n",
       "      <td>265500.000</td>\n",
       "      <td>497606.490</td>\n",
       "      <td>207931.500</td>\n",
       "      <td>24174.990</td>\n",
       "      <td>171342.765</td>\n",
       "      <td>625337.280</td>\n",
       "      <td>619065.000</td>\n",
       "      <td>2678984.145</td>\n",
       "      <td>2797043.760</td>\n",
       "      <td>2797043.760</td>\n",
       "      <td>19.000</td>\n",
       "      <td>32</td>\n",
       "      <td>5.000</td>\n",
       "      <td>8.000</td>\n",
       "      <td>1677.000</td>\n",
       "      <td>2</td>\n",
       "      <td>0</td>\n",
       "      <td>5670000</td>\n",
       "    </tr>\n",
       "    <tr>\n",
       "      <th rowspan=\"3\" valign=\"top\">100043</th>\n",
       "      <th rowspan=\"3\" valign=\"top\">1557583</th>\n",
       "      <th>22500</th>\n",
       "      <td>-3</td>\n",
       "      <td>0.000</td>\n",
       "      <td>0.000</td>\n",
       "      <td>0.000</td>\n",
       "      <td>0.000</td>\n",
       "      <td>0.000</td>\n",
       "      <td>0.000</td>\n",
       "      <td>0.000</td>\n",
       "      <td>0.000</td>\n",
       "      <td>0.000</td>\n",
       "      <td>0.000</td>\n",
       "      <td>0.000</td>\n",
       "      <td>0.000</td>\n",
       "      <td>0</td>\n",
       "      <td>0.000</td>\n",
       "      <td>0.000</td>\n",
       "      <td>40.000</td>\n",
       "      <td>0</td>\n",
       "      <td>0</td>\n",
       "      <td>45000</td>\n",
       "    </tr>\n",
       "    <tr>\n",
       "      <th>45000</th>\n",
       "      <td>-75</td>\n",
       "      <td>0.000</td>\n",
       "      <td>0.000</td>\n",
       "      <td>0.000</td>\n",
       "      <td>0.000</td>\n",
       "      <td>0.000</td>\n",
       "      <td>281.160</td>\n",
       "      <td>0.000</td>\n",
       "      <td>0.000</td>\n",
       "      <td>0.000</td>\n",
       "      <td>0.000</td>\n",
       "      <td>0.000</td>\n",
       "      <td>0.000</td>\n",
       "      <td>0</td>\n",
       "      <td>0.000</td>\n",
       "      <td>0.000</td>\n",
       "      <td>200.000</td>\n",
       "      <td>0</td>\n",
       "      <td>0</td>\n",
       "      <td>450000</td>\n",
       "    </tr>\n",
       "    <tr>\n",
       "      <th>427500</th>\n",
       "      <td>-483</td>\n",
       "      <td>6882895.800</td>\n",
       "      <td>67500.000</td>\n",
       "      <td>491864.085</td>\n",
       "      <td>0.000</td>\n",
       "      <td>424364.085</td>\n",
       "      <td>349371.405</td>\n",
       "      <td>692005.140</td>\n",
       "      <td>443580.435</td>\n",
       "      <td>6720369.075</td>\n",
       "      <td>6877115.820</td>\n",
       "      <td>6877115.820</td>\n",
       "      <td>2.000</td>\n",
       "      <td>12</td>\n",
       "      <td>0.000</td>\n",
       "      <td>10.000</td>\n",
       "      <td>190.000</td>\n",
       "      <td>0</td>\n",
       "      <td>0</td>\n",
       "      <td>8977500</td>\n",
       "    </tr>\n",
       "    <tr>\n",
       "      <th rowspan=\"2\" valign=\"top\">100047</th>\n",
       "      <th rowspan=\"2\" valign=\"top\">1472630</th>\n",
       "      <th>45000</th>\n",
       "      <td>-99</td>\n",
       "      <td>0.000</td>\n",
       "      <td>0.000</td>\n",
       "      <td>0.000</td>\n",
       "      <td>0.000</td>\n",
       "      <td>0.000</td>\n",
       "      <td>0.000</td>\n",
       "      <td>0.000</td>\n",
       "      <td>0.000</td>\n",
       "      <td>0.000</td>\n",
       "      <td>0.000</td>\n",
       "      <td>0.000</td>\n",
       "      <td>0.000</td>\n",
       "      <td>0</td>\n",
       "      <td>0.000</td>\n",
       "      <td>0.000</td>\n",
       "      <td>0.000</td>\n",
       "      <td>0</td>\n",
       "      <td>0</td>\n",
       "      <td>495000</td>\n",
       "    </tr>\n",
       "    <tr>\n",
       "      <th>450000</th>\n",
       "      <td>-675</td>\n",
       "      <td>0.000</td>\n",
       "      <td>0.000</td>\n",
       "      <td>0.000</td>\n",
       "      <td>0.000</td>\n",
       "      <td>0.000</td>\n",
       "      <td>0.000</td>\n",
       "      <td>0.000</td>\n",
       "      <td>0.000</td>\n",
       "      <td>0.000</td>\n",
       "      <td>0.000</td>\n",
       "      <td>0.000</td>\n",
       "      <td>0.000</td>\n",
       "      <td>0</td>\n",
       "      <td>0.000</td>\n",
       "      <td>0.000</td>\n",
       "      <td>0.000</td>\n",
       "      <td>0</td>\n",
       "      <td>0</td>\n",
       "      <td>11250000</td>\n",
       "    </tr>\n",
       "    <tr>\n",
       "      <th>100048</th>\n",
       "      <th>1060558</th>\n",
       "      <th>225000</th>\n",
       "      <td>-496</td>\n",
       "      <td>1854127.260</td>\n",
       "      <td>27000.000</td>\n",
       "      <td>496296.000</td>\n",
       "      <td>0.000</td>\n",
       "      <td>469296.000</td>\n",
       "      <td>112413.375</td>\n",
       "      <td>586414.890</td>\n",
       "      <td>586414.890</td>\n",
       "      <td>1805438.565</td>\n",
       "      <td>1865730.465</td>\n",
       "      <td>1865730.465</td>\n",
       "      <td>1.000</td>\n",
       "      <td>8</td>\n",
       "      <td>0.000</td>\n",
       "      <td>7.000</td>\n",
       "      <td>358.000</td>\n",
       "      <td>0</td>\n",
       "      <td>0</td>\n",
       "      <td>6975000</td>\n",
       "    </tr>\n",
       "    <tr>\n",
       "      <th rowspan=\"2\" valign=\"top\">100049</th>\n",
       "      <th rowspan=\"2\" valign=\"top\">1209367</th>\n",
       "      <th>90000</th>\n",
       "      <td>-95</td>\n",
       "      <td>273268.575</td>\n",
       "      <td>90000.000</td>\n",
       "      <td>93727.845</td>\n",
       "      <td>0.000</td>\n",
       "      <td>3727.845</td>\n",
       "      <td>7021.260</td>\n",
       "      <td>16536.825</td>\n",
       "      <td>4889.565</td>\n",
       "      <td>262865.925</td>\n",
       "      <td>267454.575</td>\n",
       "      <td>267454.575</td>\n",
       "      <td>5.000</td>\n",
       "      <td>11</td>\n",
       "      <td>0.000</td>\n",
       "      <td>6.000</td>\n",
       "      <td>3.000</td>\n",
       "      <td>0</td>\n",
       "      <td>0</td>\n",
       "      <td>900000</td>\n",
       "    </tr>\n",
       "    <tr>\n",
       "      <th>135000</th>\n",
       "      <td>-9</td>\n",
       "      <td>353114.280</td>\n",
       "      <td>36000.000</td>\n",
       "      <td>49909.815</td>\n",
       "      <td>0.000</td>\n",
       "      <td>13909.815</td>\n",
       "      <td>15120.000</td>\n",
       "      <td>18199.755</td>\n",
       "      <td>967.860</td>\n",
       "      <td>347388.570</td>\n",
       "      <td>351768.780</td>\n",
       "      <td>351768.780</td>\n",
       "      <td>2.000</td>\n",
       "      <td>14</td>\n",
       "      <td>0.000</td>\n",
       "      <td>12.000</td>\n",
       "      <td>12.000</td>\n",
       "      <td>0</td>\n",
       "      <td>0</td>\n",
       "      <td>405000</td>\n",
       "    </tr>\n",
       "    <tr>\n",
       "      <th>100050</th>\n",
       "      <th>1794209</th>\n",
       "      <th>180000</th>\n",
       "      <td>-28</td>\n",
       "      <td>0.000</td>\n",
       "      <td>0.000</td>\n",
       "      <td>0.000</td>\n",
       "      <td>0.000</td>\n",
       "      <td>0.000</td>\n",
       "      <td>0.000</td>\n",
       "      <td>0.000</td>\n",
       "      <td>0.000</td>\n",
       "      <td>0.000</td>\n",
       "      <td>0.000</td>\n",
       "      <td>0.000</td>\n",
       "      <td>0.000</td>\n",
       "      <td>0</td>\n",
       "      <td>0.000</td>\n",
       "      <td>0.000</td>\n",
       "      <td>0.000</td>\n",
       "      <td>0</td>\n",
       "      <td>0</td>\n",
       "      <td>1260000</td>\n",
       "    </tr>\n",
       "    <tr>\n",
       "      <th rowspan=\"2\" valign=\"top\">100059</th>\n",
       "      <th rowspan=\"2\" valign=\"top\">1787234</th>\n",
       "      <th>0</th>\n",
       "      <td>-20</td>\n",
       "      <td>0.000</td>\n",
       "      <td>0.000</td>\n",
       "      <td>0.000</td>\n",
       "      <td>0.000</td>\n",
       "      <td>0.000</td>\n",
       "      <td>0.000</td>\n",
       "      <td>0.000</td>\n",
       "      <td>0.000</td>\n",
       "      <td>0.000</td>\n",
       "      <td>0.000</td>\n",
       "      <td>0.000</td>\n",
       "      <td>0.000</td>\n",
       "      <td>0</td>\n",
       "      <td>0.000</td>\n",
       "      <td>0.000</td>\n",
       "      <td>0.000</td>\n",
       "      <td>0</td>\n",
       "      <td>0</td>\n",
       "      <td>0</td>\n",
       "    </tr>\n",
       "    <tr>\n",
       "      <th>90000</th>\n",
       "      <td>-45</td>\n",
       "      <td>0.000</td>\n",
       "      <td>0.000</td>\n",
       "      <td>0.000</td>\n",
       "      <td>0.000</td>\n",
       "      <td>0.000</td>\n",
       "      <td>0.000</td>\n",
       "      <td>0.000</td>\n",
       "      <td>0.000</td>\n",
       "      <td>0.000</td>\n",
       "      <td>0.000</td>\n",
       "      <td>0.000</td>\n",
       "      <td>0.000</td>\n",
       "      <td>0</td>\n",
       "      <td>0.000</td>\n",
       "      <td>0.000</td>\n",
       "      <td>0.000</td>\n",
       "      <td>0</td>\n",
       "      <td>0</td>\n",
       "      <td>450000</td>\n",
       "    </tr>\n",
       "    <tr>\n",
       "      <th rowspan=\"3\" valign=\"top\">100066</th>\n",
       "      <th rowspan=\"3\" valign=\"top\">1852787</th>\n",
       "      <th>9000</th>\n",
       "      <td>-21</td>\n",
       "      <td>0.000</td>\n",
       "      <td>0.000</td>\n",
       "      <td>0.000</td>\n",
       "      <td>0.000</td>\n",
       "      <td>0.000</td>\n",
       "      <td>0.000</td>\n",
       "      <td>0.000</td>\n",
       "      <td>0.000</td>\n",
       "      <td>0.000</td>\n",
       "      <td>0.000</td>\n",
       "      <td>0.000</td>\n",
       "      <td>0.000</td>\n",
       "      <td>0</td>\n",
       "      <td>0.000</td>\n",
       "      <td>0.000</td>\n",
       "      <td>0.000</td>\n",
       "      <td>0</td>\n",
       "      <td>0</td>\n",
       "      <td>54000</td>\n",
       "    </tr>\n",
       "    <tr>\n",
       "      <th>45000</th>\n",
       "      <td>-29</td>\n",
       "      <td>0.000</td>\n",
       "      <td>0.000</td>\n",
       "      <td>0.000</td>\n",
       "      <td>0.000</td>\n",
       "      <td>0.000</td>\n",
       "      <td>0.000</td>\n",
       "      <td>0.000</td>\n",
       "      <td>0.000</td>\n",
       "      <td>0.000</td>\n",
       "      <td>0.000</td>\n",
       "      <td>0.000</td>\n",
       "      <td>0.000</td>\n",
       "      <td>0</td>\n",
       "      <td>0.000</td>\n",
       "      <td>0.000</td>\n",
       "      <td>0.000</td>\n",
       "      <td>0</td>\n",
       "      <td>0</td>\n",
       "      <td>90000</td>\n",
       "    </tr>\n",
       "    <tr>\n",
       "      <th>135000</th>\n",
       "      <td>-70</td>\n",
       "      <td>0.000</td>\n",
       "      <td>0.000</td>\n",
       "      <td>0.000</td>\n",
       "      <td>0.000</td>\n",
       "      <td>0.000</td>\n",
       "      <td>0.000</td>\n",
       "      <td>0.000</td>\n",
       "      <td>0.000</td>\n",
       "      <td>0.000</td>\n",
       "      <td>0.000</td>\n",
       "      <td>0.000</td>\n",
       "      <td>0.000</td>\n",
       "      <td>0</td>\n",
       "      <td>0.000</td>\n",
       "      <td>0.000</td>\n",
       "      <td>0.000</td>\n",
       "      <td>0</td>\n",
       "      <td>0</td>\n",
       "      <td>945000</td>\n",
       "    </tr>\n",
       "    <tr>\n",
       "      <th>100067</th>\n",
       "      <th>2833536</th>\n",
       "      <th>45000</th>\n",
       "      <td>-3828</td>\n",
       "      <td>2364897.465</td>\n",
       "      <td>66600.000</td>\n",
       "      <td>281621.340</td>\n",
       "      <td>0.000</td>\n",
       "      <td>215021.340</td>\n",
       "      <td>140281.875</td>\n",
       "      <td>325541.205</td>\n",
       "      <td>320931.000</td>\n",
       "      <td>2273224.050</td>\n",
       "      <td>2363711.400</td>\n",
       "      <td>2363711.400</td>\n",
       "      <td>7.000</td>\n",
       "      <td>58</td>\n",
       "      <td>0.000</td>\n",
       "      <td>51.000</td>\n",
       "      <td>2945.000</td>\n",
       "      <td>3</td>\n",
       "      <td>3</td>\n",
       "      <td>3915000</td>\n",
       "    </tr>\n",
       "    <tr>\n",
       "      <th>100075</th>\n",
       "      <th>1596605</th>\n",
       "      <th>225000</th>\n",
       "      <td>-44</td>\n",
       "      <td>1308696.435</td>\n",
       "      <td>597375.000</td>\n",
       "      <td>599460.750</td>\n",
       "      <td>0.000</td>\n",
       "      <td>2085.750</td>\n",
       "      <td>50553.225</td>\n",
       "      <td>524066.715</td>\n",
       "      <td>524066.715</td>\n",
       "      <td>1160362.485</td>\n",
       "      <td>1215199.620</td>\n",
       "      <td>1215199.620</td>\n",
       "      <td>51.000</td>\n",
       "      <td>53</td>\n",
       "      <td>0.000</td>\n",
       "      <td>2.000</td>\n",
       "      <td>28.000</td>\n",
       "      <td>0</td>\n",
       "      <td>0</td>\n",
       "      <td>1800000</td>\n",
       "    </tr>\n",
       "    <tr>\n",
       "      <th>100077</th>\n",
       "      <th>1691588</th>\n",
       "      <th>0</th>\n",
       "      <td>-9</td>\n",
       "      <td>0.000</td>\n",
       "      <td>0.000</td>\n",
       "      <td>0.000</td>\n",
       "      <td>0.000</td>\n",
       "      <td>0.000</td>\n",
       "      <td>0.000</td>\n",
       "      <td>0.000</td>\n",
       "      <td>0.000</td>\n",
       "      <td>0.000</td>\n",
       "      <td>0.000</td>\n",
       "      <td>0.000</td>\n",
       "      <td>0.000</td>\n",
       "      <td>0</td>\n",
       "      <td>0.000</td>\n",
       "      <td>0.000</td>\n",
       "      <td>0.000</td>\n",
       "      <td>0</td>\n",
       "      <td>0</td>\n",
       "      <td>0</td>\n",
       "    </tr>\n",
       "    <tr>\n",
       "      <th>...</th>\n",
       "      <th>...</th>\n",
       "      <th>...</th>\n",
       "      <td>...</td>\n",
       "      <td>...</td>\n",
       "      <td>...</td>\n",
       "      <td>...</td>\n",
       "      <td>...</td>\n",
       "      <td>...</td>\n",
       "      <td>...</td>\n",
       "      <td>...</td>\n",
       "      <td>...</td>\n",
       "      <td>...</td>\n",
       "      <td>...</td>\n",
       "      <td>...</td>\n",
       "      <td>...</td>\n",
       "      <td>...</td>\n",
       "      <td>...</td>\n",
       "      <td>...</td>\n",
       "      <td>...</td>\n",
       "      <td>...</td>\n",
       "      <td>...</td>\n",
       "      <td>...</td>\n",
       "    </tr>\n",
       "    <tr>\n",
       "      <th rowspan=\"2\" valign=\"top\">456215</th>\n",
       "      <th rowspan=\"2\" valign=\"top\">1327087</th>\n",
       "      <th>0</th>\n",
       "      <td>-2553</td>\n",
       "      <td>0.000</td>\n",
       "      <td>0.000</td>\n",
       "      <td>0.000</td>\n",
       "      <td>0.000</td>\n",
       "      <td>0.000</td>\n",
       "      <td>0.000</td>\n",
       "      <td>39638.430</td>\n",
       "      <td>0.000</td>\n",
       "      <td>0.000</td>\n",
       "      <td>-4595.760</td>\n",
       "      <td>-4595.760</td>\n",
       "      <td>0.000</td>\n",
       "      <td>0</td>\n",
       "      <td>0.000</td>\n",
       "      <td>0.000</td>\n",
       "      <td>1380.000</td>\n",
       "      <td>0</td>\n",
       "      <td>0</td>\n",
       "      <td>0</td>\n",
       "    </tr>\n",
       "    <tr>\n",
       "      <th>135000</th>\n",
       "      <td>-2100</td>\n",
       "      <td>518065.740</td>\n",
       "      <td>0.000</td>\n",
       "      <td>0.000</td>\n",
       "      <td>0.000</td>\n",
       "      <td>0.000</td>\n",
       "      <td>42607.350</td>\n",
       "      <td>173166.750</td>\n",
       "      <td>159570.000</td>\n",
       "      <td>495244.530</td>\n",
       "      <td>515958.390</td>\n",
       "      <td>515958.390</td>\n",
       "      <td>0.000</td>\n",
       "      <td>0</td>\n",
       "      <td>0.000</td>\n",
       "      <td>0.000</td>\n",
       "      <td>485.000</td>\n",
       "      <td>0</td>\n",
       "      <td>0</td>\n",
       "      <td>3375000</td>\n",
       "    </tr>\n",
       "    <tr>\n",
       "      <th>456217</th>\n",
       "      <th>2287911</th>\n",
       "      <th>180000</th>\n",
       "      <td>-4560</td>\n",
       "      <td>15701376.060</td>\n",
       "      <td>490500.000</td>\n",
       "      <td>496680.750</td>\n",
       "      <td>0.000</td>\n",
       "      <td>6180.750</td>\n",
       "      <td>837000.000</td>\n",
       "      <td>842950.440</td>\n",
       "      <td>842950.440</td>\n",
       "      <td>15159353.535</td>\n",
       "      <td>15701376.060</td>\n",
       "      <td>15701376.060</td>\n",
       "      <td>32.000</td>\n",
       "      <td>34</td>\n",
       "      <td>0.000</td>\n",
       "      <td>2.000</td>\n",
       "      <td>4465.000</td>\n",
       "      <td>2</td>\n",
       "      <td>2</td>\n",
       "      <td>17100000</td>\n",
       "    </tr>\n",
       "    <tr>\n",
       "      <th rowspan=\"3\" valign=\"top\">456219</th>\n",
       "      <th rowspan=\"3\" valign=\"top\">2051360</th>\n",
       "      <th>45000</th>\n",
       "      <td>-10</td>\n",
       "      <td>17950.500</td>\n",
       "      <td>0.000</td>\n",
       "      <td>17950.500</td>\n",
       "      <td>0.000</td>\n",
       "      <td>17950.500</td>\n",
       "      <td>0.000</td>\n",
       "      <td>0.000</td>\n",
       "      <td>0.000</td>\n",
       "      <td>17950.500</td>\n",
       "      <td>17950.500</td>\n",
       "      <td>17950.500</td>\n",
       "      <td>0.000</td>\n",
       "      <td>1</td>\n",
       "      <td>0.000</td>\n",
       "      <td>1.000</td>\n",
       "      <td>0.000</td>\n",
       "      <td>0</td>\n",
       "      <td>0</td>\n",
       "      <td>45000</td>\n",
       "    </tr>\n",
       "    <tr>\n",
       "      <th>90000</th>\n",
       "      <td>-30</td>\n",
       "      <td>79750.080</td>\n",
       "      <td>0.000</td>\n",
       "      <td>50683.500</td>\n",
       "      <td>0.000</td>\n",
       "      <td>50683.500</td>\n",
       "      <td>4797.045</td>\n",
       "      <td>36398.700</td>\n",
       "      <td>36398.700</td>\n",
       "      <td>78498.810</td>\n",
       "      <td>79750.080</td>\n",
       "      <td>79750.080</td>\n",
       "      <td>0.000</td>\n",
       "      <td>16</td>\n",
       "      <td>0.000</td>\n",
       "      <td>16.000</td>\n",
       "      <td>5.000</td>\n",
       "      <td>0</td>\n",
       "      <td>0</td>\n",
       "      <td>360000</td>\n",
       "    </tr>\n",
       "    <tr>\n",
       "      <th>135000</th>\n",
       "      <td>-15</td>\n",
       "      <td>631140.210</td>\n",
       "      <td>94500.000</td>\n",
       "      <td>106538.040</td>\n",
       "      <td>0.000</td>\n",
       "      <td>12038.040</td>\n",
       "      <td>27096.930</td>\n",
       "      <td>30021.930</td>\n",
       "      <td>30021.930</td>\n",
       "      <td>590352.435</td>\n",
       "      <td>617464.710</td>\n",
       "      <td>617464.710</td>\n",
       "      <td>7.000</td>\n",
       "      <td>21</td>\n",
       "      <td>0.000</td>\n",
       "      <td>14.000</td>\n",
       "      <td>25.000</td>\n",
       "      <td>0</td>\n",
       "      <td>0</td>\n",
       "      <td>675000</td>\n",
       "    </tr>\n",
       "    <tr>\n",
       "      <th>456225</th>\n",
       "      <th>2445843</th>\n",
       "      <th>180000</th>\n",
       "      <td>-4656</td>\n",
       "      <td>11280137.985</td>\n",
       "      <td>566550.000</td>\n",
       "      <td>681714.945</td>\n",
       "      <td>0.000</td>\n",
       "      <td>115164.945</td>\n",
       "      <td>591530.130</td>\n",
       "      <td>932550.030</td>\n",
       "      <td>925920.000</td>\n",
       "      <td>10743884.730</td>\n",
       "      <td>11278010.745</td>\n",
       "      <td>11278010.745</td>\n",
       "      <td>45.000</td>\n",
       "      <td>88</td>\n",
       "      <td>0.000</td>\n",
       "      <td>43.000</td>\n",
       "      <td>3492.000</td>\n",
       "      <td>29</td>\n",
       "      <td>29</td>\n",
       "      <td>17280000</td>\n",
       "    </tr>\n",
       "    <tr>\n",
       "      <th rowspan=\"2\" valign=\"top\">456233</th>\n",
       "      <th rowspan=\"2\" valign=\"top\">2458558</th>\n",
       "      <th>45000</th>\n",
       "      <td>-34</td>\n",
       "      <td>28298.835</td>\n",
       "      <td>20250.000</td>\n",
       "      <td>28200.960</td>\n",
       "      <td>0.000</td>\n",
       "      <td>7950.960</td>\n",
       "      <td>2250.000</td>\n",
       "      <td>9134.730</td>\n",
       "      <td>9134.730</td>\n",
       "      <td>22428.090</td>\n",
       "      <td>22916.835</td>\n",
       "      <td>22916.835</td>\n",
       "      <td>5.000</td>\n",
       "      <td>10</td>\n",
       "      <td>0.000</td>\n",
       "      <td>5.000</td>\n",
       "      <td>1.000</td>\n",
       "      <td>0</td>\n",
       "      <td>0</td>\n",
       "      <td>180000</td>\n",
       "    </tr>\n",
       "    <tr>\n",
       "      <th>180000</th>\n",
       "      <td>-21</td>\n",
       "      <td>365644.215</td>\n",
       "      <td>4500.000</td>\n",
       "      <td>140418.000</td>\n",
       "      <td>0.000</td>\n",
       "      <td>135918.000</td>\n",
       "      <td>16588.125</td>\n",
       "      <td>66997.035</td>\n",
       "      <td>66997.035</td>\n",
       "      <td>354293.235</td>\n",
       "      <td>364753.215</td>\n",
       "      <td>364753.215</td>\n",
       "      <td>1.000</td>\n",
       "      <td>42</td>\n",
       "      <td>0.000</td>\n",
       "      <td>41.000</td>\n",
       "      <td>27.000</td>\n",
       "      <td>0</td>\n",
       "      <td>0</td>\n",
       "      <td>1080000</td>\n",
       "    </tr>\n",
       "    <tr>\n",
       "      <th rowspan=\"2\" valign=\"top\">456235</th>\n",
       "      <th rowspan=\"2\" valign=\"top\">1499583</th>\n",
       "      <th>45000</th>\n",
       "      <td>-11</td>\n",
       "      <td>0.000</td>\n",
       "      <td>0.000</td>\n",
       "      <td>0.000</td>\n",
       "      <td>0.000</td>\n",
       "      <td>0.000</td>\n",
       "      <td>0.000</td>\n",
       "      <td>0.000</td>\n",
       "      <td>0.000</td>\n",
       "      <td>0.000</td>\n",
       "      <td>0.000</td>\n",
       "      <td>0.000</td>\n",
       "      <td>0.000</td>\n",
       "      <td>0</td>\n",
       "      <td>0.000</td>\n",
       "      <td>0.000</td>\n",
       "      <td>0.000</td>\n",
       "      <td>0</td>\n",
       "      <td>0</td>\n",
       "      <td>45000</td>\n",
       "    </tr>\n",
       "    <tr>\n",
       "      <th>90000</th>\n",
       "      <td>-54</td>\n",
       "      <td>0.000</td>\n",
       "      <td>0.000</td>\n",
       "      <td>0.000</td>\n",
       "      <td>0.000</td>\n",
       "      <td>0.000</td>\n",
       "      <td>0.000</td>\n",
       "      <td>0.000</td>\n",
       "      <td>0.000</td>\n",
       "      <td>0.000</td>\n",
       "      <td>0.000</td>\n",
       "      <td>0.000</td>\n",
       "      <td>0.000</td>\n",
       "      <td>0</td>\n",
       "      <td>0.000</td>\n",
       "      <td>0.000</td>\n",
       "      <td>0.000</td>\n",
       "      <td>0</td>\n",
       "      <td>0</td>\n",
       "      <td>810000</td>\n",
       "    </tr>\n",
       "    <tr>\n",
       "      <th rowspan=\"2\" valign=\"top\">456236</th>\n",
       "      <th rowspan=\"2\" valign=\"top\">2789041</th>\n",
       "      <th>0</th>\n",
       "      <td>-2077</td>\n",
       "      <td>0.000</td>\n",
       "      <td>0.000</td>\n",
       "      <td>0.000</td>\n",
       "      <td>0.000</td>\n",
       "      <td>0.000</td>\n",
       "      <td>0.000</td>\n",
       "      <td>7934.760</td>\n",
       "      <td>220.410</td>\n",
       "      <td>0.000</td>\n",
       "      <td>-1763.280</td>\n",
       "      <td>-1763.280</td>\n",
       "      <td>0.000</td>\n",
       "      <td>0</td>\n",
       "      <td>0.000</td>\n",
       "      <td>0.000</td>\n",
       "      <td>1798.000</td>\n",
       "      <td>0</td>\n",
       "      <td>0</td>\n",
       "      <td>0</td>\n",
       "    </tr>\n",
       "    <tr>\n",
       "      <th>180000</th>\n",
       "      <td>-2576</td>\n",
       "      <td>2097559.080</td>\n",
       "      <td>333000.000</td>\n",
       "      <td>333000.000</td>\n",
       "      <td>0.000</td>\n",
       "      <td>0.000</td>\n",
       "      <td>173281.680</td>\n",
       "      <td>474043.635</td>\n",
       "      <td>467190.000</td>\n",
       "      <td>2001421.800</td>\n",
       "      <td>2097077.400</td>\n",
       "      <td>2097077.400</td>\n",
       "      <td>16.000</td>\n",
       "      <td>16</td>\n",
       "      <td>0.000</td>\n",
       "      <td>0.000</td>\n",
       "      <td>621.000</td>\n",
       "      <td>1</td>\n",
       "      <td>1</td>\n",
       "      <td>5760000</td>\n",
       "    </tr>\n",
       "    <tr>\n",
       "      <th rowspan=\"2\" valign=\"top\">456237</th>\n",
       "      <th rowspan=\"2\" valign=\"top\">2556618</th>\n",
       "      <th>0</th>\n",
       "      <td>-1</td>\n",
       "      <td>0.000</td>\n",
       "      <td>0.000</td>\n",
       "      <td>0.000</td>\n",
       "      <td>0.000</td>\n",
       "      <td>0.000</td>\n",
       "      <td>0.000</td>\n",
       "      <td>113.400</td>\n",
       "      <td>113.400</td>\n",
       "      <td>0.000</td>\n",
       "      <td>0.000</td>\n",
       "      <td>0.000</td>\n",
       "      <td>0.000</td>\n",
       "      <td>0</td>\n",
       "      <td>0.000</td>\n",
       "      <td>0.000</td>\n",
       "      <td>10.000</td>\n",
       "      <td>0</td>\n",
       "      <td>0</td>\n",
       "      <td>0</td>\n",
       "    </tr>\n",
       "    <tr>\n",
       "      <th>225000</th>\n",
       "      <td>-119</td>\n",
       "      <td>1096242.750</td>\n",
       "      <td>211050.000</td>\n",
       "      <td>211050.000</td>\n",
       "      <td>0.000</td>\n",
       "      <td>0.000</td>\n",
       "      <td>63647.010</td>\n",
       "      <td>267441.570</td>\n",
       "      <td>239328.315</td>\n",
       "      <td>1060683.030</td>\n",
       "      <td>1090671.615</td>\n",
       "      <td>1090671.615</td>\n",
       "      <td>10.000</td>\n",
       "      <td>10</td>\n",
       "      <td>0.000</td>\n",
       "      <td>0.000</td>\n",
       "      <td>75.000</td>\n",
       "      <td>0</td>\n",
       "      <td>0</td>\n",
       "      <td>3150000</td>\n",
       "    </tr>\n",
       "    <tr>\n",
       "      <th rowspan=\"3\" valign=\"top\">456239</th>\n",
       "      <th rowspan=\"3\" valign=\"top\">2131120</th>\n",
       "      <th>0</th>\n",
       "      <td>-88</td>\n",
       "      <td>0.000</td>\n",
       "      <td>0.000</td>\n",
       "      <td>0.000</td>\n",
       "      <td>0.000</td>\n",
       "      <td>0.000</td>\n",
       "      <td>0.000</td>\n",
       "      <td>1484.010</td>\n",
       "      <td>134.910</td>\n",
       "      <td>0.000</td>\n",
       "      <td>0.000</td>\n",
       "      <td>0.000</td>\n",
       "      <td>0.000</td>\n",
       "      <td>0</td>\n",
       "      <td>0.000</td>\n",
       "      <td>0.000</td>\n",
       "      <td>737.000</td>\n",
       "      <td>0</td>\n",
       "      <td>0</td>\n",
       "      <td>0</td>\n",
       "    </tr>\n",
       "    <tr>\n",
       "      <th>135000</th>\n",
       "      <td>-3105</td>\n",
       "      <td>4474300.410</td>\n",
       "      <td>327150.000</td>\n",
       "      <td>328050.000</td>\n",
       "      <td>0.000</td>\n",
       "      <td>900.000</td>\n",
       "      <td>243000.000</td>\n",
       "      <td>375750.000</td>\n",
       "      <td>375750.000</td>\n",
       "      <td>4294291.500</td>\n",
       "      <td>4474300.410</td>\n",
       "      <td>4474300.410</td>\n",
       "      <td>44.000</td>\n",
       "      <td>46</td>\n",
       "      <td>0.000</td>\n",
       "      <td>2.000</td>\n",
       "      <td>990.000</td>\n",
       "      <td>1</td>\n",
       "      <td>1</td>\n",
       "      <td>6210000</td>\n",
       "    </tr>\n",
       "    <tr>\n",
       "      <th>270000</th>\n",
       "      <td>-899</td>\n",
       "      <td>4989236.895</td>\n",
       "      <td>153000.000</td>\n",
       "      <td>153450.000</td>\n",
       "      <td>0.000</td>\n",
       "      <td>450.000</td>\n",
       "      <td>290661.660</td>\n",
       "      <td>466525.350</td>\n",
       "      <td>464899.500</td>\n",
       "      <td>4809280.365</td>\n",
       "      <td>4988825.235</td>\n",
       "      <td>4988825.235</td>\n",
       "      <td>15.000</td>\n",
       "      <td>16</td>\n",
       "      <td>0.000</td>\n",
       "      <td>1.000</td>\n",
       "      <td>1824.000</td>\n",
       "      <td>0</td>\n",
       "      <td>0</td>\n",
       "      <td>8370000</td>\n",
       "    </tr>\n",
       "    <tr>\n",
       "      <th rowspan=\"2\" valign=\"top\">456241</th>\n",
       "      <th rowspan=\"2\" valign=\"top\">1509615</th>\n",
       "      <th>45000</th>\n",
       "      <td>-65</td>\n",
       "      <td>0.000</td>\n",
       "      <td>0.000</td>\n",
       "      <td>0.000</td>\n",
       "      <td>0.000</td>\n",
       "      <td>0.000</td>\n",
       "      <td>0.000</td>\n",
       "      <td>0.000</td>\n",
       "      <td>0.000</td>\n",
       "      <td>0.000</td>\n",
       "      <td>0.000</td>\n",
       "      <td>0.000</td>\n",
       "      <td>0.000</td>\n",
       "      <td>0</td>\n",
       "      <td>0.000</td>\n",
       "      <td>0.000</td>\n",
       "      <td>0.000</td>\n",
       "      <td>0</td>\n",
       "      <td>0</td>\n",
       "      <td>450000</td>\n",
       "    </tr>\n",
       "    <tr>\n",
       "      <th>270000</th>\n",
       "      <td>-529</td>\n",
       "      <td>0.000</td>\n",
       "      <td>0.000</td>\n",
       "      <td>0.000</td>\n",
       "      <td>0.000</td>\n",
       "      <td>0.000</td>\n",
       "      <td>0.000</td>\n",
       "      <td>0.000</td>\n",
       "      <td>0.000</td>\n",
       "      <td>0.000</td>\n",
       "      <td>0.000</td>\n",
       "      <td>0.000</td>\n",
       "      <td>0.000</td>\n",
       "      <td>0</td>\n",
       "      <td>0.000</td>\n",
       "      <td>0.000</td>\n",
       "      <td>0.000</td>\n",
       "      <td>0</td>\n",
       "      <td>0</td>\n",
       "      <td>6210000</td>\n",
       "    </tr>\n",
       "    <tr>\n",
       "      <th rowspan=\"2\" valign=\"top\">456242</th>\n",
       "      <th rowspan=\"2\" valign=\"top\">2640681</th>\n",
       "      <th>45000</th>\n",
       "      <td>-8</td>\n",
       "      <td>14593.185</td>\n",
       "      <td>9000.000</td>\n",
       "      <td>13639.500</td>\n",
       "      <td>0.000</td>\n",
       "      <td>4639.500</td>\n",
       "      <td>0.000</td>\n",
       "      <td>0.000</td>\n",
       "      <td>0.000</td>\n",
       "      <td>13639.500</td>\n",
       "      <td>13702.185</td>\n",
       "      <td>13702.185</td>\n",
       "      <td>2.000</td>\n",
       "      <td>4</td>\n",
       "      <td>0.000</td>\n",
       "      <td>2.000</td>\n",
       "      <td>0.000</td>\n",
       "      <td>0</td>\n",
       "      <td>0</td>\n",
       "      <td>45000</td>\n",
       "    </tr>\n",
       "    <tr>\n",
       "      <th>225000</th>\n",
       "      <td>-28</td>\n",
       "      <td>1171265.445</td>\n",
       "      <td>175500.000</td>\n",
       "      <td>305158.770</td>\n",
       "      <td>0.000</td>\n",
       "      <td>129658.770</td>\n",
       "      <td>55841.220</td>\n",
       "      <td>156641.265</td>\n",
       "      <td>156641.265</td>\n",
       "      <td>1143565.020</td>\n",
       "      <td>1168358.445</td>\n",
       "      <td>1168358.445</td>\n",
       "      <td>6.000</td>\n",
       "      <td>27</td>\n",
       "      <td>0.000</td>\n",
       "      <td>21.000</td>\n",
       "      <td>28.000</td>\n",
       "      <td>0</td>\n",
       "      <td>0</td>\n",
       "      <td>1575000</td>\n",
       "    </tr>\n",
       "    <tr>\n",
       "      <th rowspan=\"2\" valign=\"top\">456244</th>\n",
       "      <th rowspan=\"2\" valign=\"top\">2181926</th>\n",
       "      <th>0</th>\n",
       "      <td>-105</td>\n",
       "      <td>0.000</td>\n",
       "      <td>0.000</td>\n",
       "      <td>154.260</td>\n",
       "      <td>0.000</td>\n",
       "      <td>0.000</td>\n",
       "      <td>0.000</td>\n",
       "      <td>1388.340</td>\n",
       "      <td>1388.340</td>\n",
       "      <td>0.000</td>\n",
       "      <td>0.000</td>\n",
       "      <td>0.000</td>\n",
       "      <td>0.000</td>\n",
       "      <td>0</td>\n",
       "      <td>0.000</td>\n",
       "      <td>0.000</td>\n",
       "      <td>238.000</td>\n",
       "      <td>0</td>\n",
       "      <td>0</td>\n",
       "      <td>0</td>\n",
       "    </tr>\n",
       "    <tr>\n",
       "      <th>450000</th>\n",
       "      <td>-756</td>\n",
       "      <td>5405223.960</td>\n",
       "      <td>1003500.000</td>\n",
       "      <td>1100383.650</td>\n",
       "      <td>0.000</td>\n",
       "      <td>96883.650</td>\n",
       "      <td>260568.000</td>\n",
       "      <td>1340154.000</td>\n",
       "      <td>1340154.000</td>\n",
       "      <td>5231943.315</td>\n",
       "      <td>5361449.490</td>\n",
       "      <td>5361449.490</td>\n",
       "      <td>43.000</td>\n",
       "      <td>56</td>\n",
       "      <td>0.000</td>\n",
       "      <td>13.000</td>\n",
       "      <td>306.000</td>\n",
       "      <td>0</td>\n",
       "      <td>0</td>\n",
       "      <td>12150000</td>\n",
       "    </tr>\n",
       "    <tr>\n",
       "      <th>456246</th>\n",
       "      <th>1079732</th>\n",
       "      <th>135000</th>\n",
       "      <td>-44</td>\n",
       "      <td>105093.855</td>\n",
       "      <td>0.000</td>\n",
       "      <td>121594.050</td>\n",
       "      <td>0.000</td>\n",
       "      <td>121594.050</td>\n",
       "      <td>11513.205</td>\n",
       "      <td>131447.925</td>\n",
       "      <td>124434.720</td>\n",
       "      <td>103064.130</td>\n",
       "      <td>103183.155</td>\n",
       "      <td>103183.155</td>\n",
       "      <td>0.000</td>\n",
       "      <td>20</td>\n",
       "      <td>0.000</td>\n",
       "      <td>20.000</td>\n",
       "      <td>28.000</td>\n",
       "      <td>0</td>\n",
       "      <td>0</td>\n",
       "      <td>1080000</td>\n",
       "    </tr>\n",
       "    <tr>\n",
       "      <th rowspan=\"2\" valign=\"top\">456247</th>\n",
       "      <th rowspan=\"2\" valign=\"top\">1595171</th>\n",
       "      <th>0</th>\n",
       "      <td>-209</td>\n",
       "      <td>0.000</td>\n",
       "      <td>0.000</td>\n",
       "      <td>0.000</td>\n",
       "      <td>0.000</td>\n",
       "      <td>0.000</td>\n",
       "      <td>0.000</td>\n",
       "      <td>9891.495</td>\n",
       "      <td>0.000</td>\n",
       "      <td>0.000</td>\n",
       "      <td>0.000</td>\n",
       "      <td>0.000</td>\n",
       "      <td>0.000</td>\n",
       "      <td>0</td>\n",
       "      <td>0.000</td>\n",
       "      <td>0.000</td>\n",
       "      <td>608.000</td>\n",
       "      <td>0</td>\n",
       "      <td>0</td>\n",
       "      <td>0</td>\n",
       "    </tr>\n",
       "    <tr>\n",
       "      <th>180000</th>\n",
       "      <td>-4446</td>\n",
       "      <td>2205557.640</td>\n",
       "      <td>202950.000</td>\n",
       "      <td>204203.115</td>\n",
       "      <td>0.000</td>\n",
       "      <td>1253.115</td>\n",
       "      <td>134396.955</td>\n",
       "      <td>454065.255</td>\n",
       "      <td>391008.420</td>\n",
       "      <td>2099562.120</td>\n",
       "      <td>2197183.095</td>\n",
       "      <td>2197183.095</td>\n",
       "      <td>11.000</td>\n",
       "      <td>14</td>\n",
       "      <td>0.000</td>\n",
       "      <td>3.000</td>\n",
       "      <td>1909.000</td>\n",
       "      <td>3</td>\n",
       "      <td>2</td>\n",
       "      <td>13680000</td>\n",
       "    </tr>\n",
       "    <tr>\n",
       "      <th>456248</th>\n",
       "      <th>2743495</th>\n",
       "      <th>900000</th>\n",
       "      <td>-299</td>\n",
       "      <td>0.000</td>\n",
       "      <td>0.000</td>\n",
       "      <td>0.000</td>\n",
       "      <td>0.000</td>\n",
       "      <td>0.000</td>\n",
       "      <td>0.000</td>\n",
       "      <td>0.000</td>\n",
       "      <td>0.000</td>\n",
       "      <td>0.000</td>\n",
       "      <td>0.000</td>\n",
       "      <td>0.000</td>\n",
       "      <td>0.000</td>\n",
       "      <td>0</td>\n",
       "      <td>0.000</td>\n",
       "      <td>0.000</td>\n",
       "      <td>0.000</td>\n",
       "      <td>0</td>\n",
       "      <td>0</td>\n",
       "      <td>20700000</td>\n",
       "    </tr>\n",
       "    <tr>\n",
       "      <th rowspan=\"2\" valign=\"top\">456250</th>\n",
       "      <th rowspan=\"2\" valign=\"top\">1794451</th>\n",
       "      <th>175500</th>\n",
       "      <td>-6</td>\n",
       "      <td>474525.225</td>\n",
       "      <td>0.000</td>\n",
       "      <td>0.000</td>\n",
       "      <td>0.000</td>\n",
       "      <td>0.000</td>\n",
       "      <td>25407.720</td>\n",
       "      <td>28350.000</td>\n",
       "      <td>3511.710</td>\n",
       "      <td>468415.755</td>\n",
       "      <td>474525.225</td>\n",
       "      <td>474525.225</td>\n",
       "      <td>0.000</td>\n",
       "      <td>0</td>\n",
       "      <td>0.000</td>\n",
       "      <td>0.000</td>\n",
       "      <td>27.000</td>\n",
       "      <td>0</td>\n",
       "      <td>0</td>\n",
       "      <td>526500</td>\n",
       "    </tr>\n",
       "    <tr>\n",
       "      <th>180000</th>\n",
       "      <td>-72</td>\n",
       "      <td>1608546.690</td>\n",
       "      <td>180000.000</td>\n",
       "      <td>180000.000</td>\n",
       "      <td>0.000</td>\n",
       "      <td>0.000</td>\n",
       "      <td>65073.240</td>\n",
       "      <td>79132.500</td>\n",
       "      <td>15962.130</td>\n",
       "      <td>1552943.340</td>\n",
       "      <td>1592325.090</td>\n",
       "      <td>1592325.090</td>\n",
       "      <td>8.000</td>\n",
       "      <td>8</td>\n",
       "      <td>0.000</td>\n",
       "      <td>0.000</td>\n",
       "      <td>28.000</td>\n",
       "      <td>0</td>\n",
       "      <td>0</td>\n",
       "      <td>1620000</td>\n",
       "    </tr>\n",
       "  </tbody>\n",
       "</table>\n",
       "<p>175093 rows × 20 columns</p>\n",
       "</div>"
      ],
      "text/plain": [
       "                                               MONTHS_BALANCE  AMT_BALANCE  \\\n",
       "SK_ID_CURR SK_ID_PREV AMT_CREDIT_LIMIT_ACTUAL                                \n",
       "100006     1489396    270000                  -21             0.000          \n",
       "100011     1843384    90000                   -104            0.000          \n",
       "                      180000                  -2745           4031676.225    \n",
       "100013     2038692    45000                   -253            0.000          \n",
       "                      157500                  -4403           1743352.245    \n",
       "100021     2594025    675000                  -170            0.000          \n",
       "100023     1499902    45000                   -38             0.000          \n",
       "                      225000                  -22             0.000          \n",
       "100028     1914954    225000                  -1225           396167.850     \n",
       "100036     2621538    45000                   -36             0.000          \n",
       "                      90000                   -54             0.000          \n",
       "100042     2137382    45000                   -231            0.000          \n",
       "                      90000                   -3339           2801919.375    \n",
       "100043     1557583    22500                   -3              0.000          \n",
       "                      45000                   -75             0.000          \n",
       "                      427500                  -483            6882895.800    \n",
       "100047     1472630    45000                   -99             0.000          \n",
       "                      450000                  -675            0.000          \n",
       "100048     1060558    225000                  -496            1854127.260    \n",
       "100049     1209367    90000                   -95             273268.575     \n",
       "                      135000                  -9              353114.280     \n",
       "100050     1794209    180000                  -28             0.000          \n",
       "100059     1787234    0                       -20             0.000          \n",
       "                      90000                   -45             0.000          \n",
       "100066     1852787    9000                    -21             0.000          \n",
       "                      45000                   -29             0.000          \n",
       "                      135000                  -70             0.000          \n",
       "100067     2833536    45000                   -3828           2364897.465    \n",
       "100075     1596605    225000                  -44             1308696.435    \n",
       "100077     1691588    0                       -9              0.000          \n",
       "...                                            ..                     ...    \n",
       "456215     1327087    0                       -2553           0.000          \n",
       "                      135000                  -2100           518065.740     \n",
       "456217     2287911    180000                  -4560           15701376.060   \n",
       "456219     2051360    45000                   -10             17950.500      \n",
       "                      90000                   -30             79750.080      \n",
       "                      135000                  -15             631140.210     \n",
       "456225     2445843    180000                  -4656           11280137.985   \n",
       "456233     2458558    45000                   -34             28298.835      \n",
       "                      180000                  -21             365644.215     \n",
       "456235     1499583    45000                   -11             0.000          \n",
       "                      90000                   -54             0.000          \n",
       "456236     2789041    0                       -2077           0.000          \n",
       "                      180000                  -2576           2097559.080    \n",
       "456237     2556618    0                       -1              0.000          \n",
       "                      225000                  -119            1096242.750    \n",
       "456239     2131120    0                       -88             0.000          \n",
       "                      135000                  -3105           4474300.410    \n",
       "                      270000                  -899            4989236.895    \n",
       "456241     1509615    45000                   -65             0.000          \n",
       "                      270000                  -529            0.000          \n",
       "456242     2640681    45000                   -8              14593.185      \n",
       "                      225000                  -28             1171265.445    \n",
       "456244     2181926    0                       -105            0.000          \n",
       "                      450000                  -756            5405223.960    \n",
       "456246     1079732    135000                  -44             105093.855     \n",
       "456247     1595171    0                       -209            0.000          \n",
       "                      180000                  -4446           2205557.640    \n",
       "456248     2743495    900000                  -299            0.000          \n",
       "456250     1794451    175500                  -6              474525.225     \n",
       "                      180000                  -72             1608546.690    \n",
       "\n",
       "                                               AMT_DRAWINGS_ATM_CURRENT  \\\n",
       "SK_ID_CURR SK_ID_PREV AMT_CREDIT_LIMIT_ACTUAL                             \n",
       "100006     1489396    270000                  0.000                       \n",
       "100011     1843384    90000                   0.000                       \n",
       "                      180000                  180000.000                  \n",
       "100013     2038692    45000                   0.000                       \n",
       "                      157500                  571500.000                  \n",
       "100021     2594025    675000                  0.000                       \n",
       "100023     1499902    45000                   0.000                       \n",
       "                      225000                  0.000                       \n",
       "100028     1914954    225000                  27000.000                   \n",
       "100036     2621538    45000                   0.000                       \n",
       "                      90000                   0.000                       \n",
       "100042     2137382    45000                   0.000                       \n",
       "                      90000                   265500.000                  \n",
       "100043     1557583    22500                   0.000                       \n",
       "                      45000                   0.000                       \n",
       "                      427500                  67500.000                   \n",
       "100047     1472630    45000                   0.000                       \n",
       "                      450000                  0.000                       \n",
       "100048     1060558    225000                  27000.000                   \n",
       "100049     1209367    90000                   90000.000                   \n",
       "                      135000                  36000.000                   \n",
       "100050     1794209    180000                  0.000                       \n",
       "100059     1787234    0                       0.000                       \n",
       "                      90000                   0.000                       \n",
       "100066     1852787    9000                    0.000                       \n",
       "                      45000                   0.000                       \n",
       "                      135000                  0.000                       \n",
       "100067     2833536    45000                   66600.000                   \n",
       "100075     1596605    225000                  597375.000                  \n",
       "100077     1691588    0                       0.000                       \n",
       "...                                                  ...                  \n",
       "456215     1327087    0                       0.000                       \n",
       "                      135000                  0.000                       \n",
       "456217     2287911    180000                  490500.000                  \n",
       "456219     2051360    45000                   0.000                       \n",
       "                      90000                   0.000                       \n",
       "                      135000                  94500.000                   \n",
       "456225     2445843    180000                  566550.000                  \n",
       "456233     2458558    45000                   20250.000                   \n",
       "                      180000                  4500.000                    \n",
       "456235     1499583    45000                   0.000                       \n",
       "                      90000                   0.000                       \n",
       "456236     2789041    0                       0.000                       \n",
       "                      180000                  333000.000                  \n",
       "456237     2556618    0                       0.000                       \n",
       "                      225000                  211050.000                  \n",
       "456239     2131120    0                       0.000                       \n",
       "                      135000                  327150.000                  \n",
       "                      270000                  153000.000                  \n",
       "456241     1509615    45000                   0.000                       \n",
       "                      270000                  0.000                       \n",
       "456242     2640681    45000                   9000.000                    \n",
       "                      225000                  175500.000                  \n",
       "456244     2181926    0                       0.000                       \n",
       "                      450000                  1003500.000                 \n",
       "456246     1079732    135000                  0.000                       \n",
       "456247     1595171    0                       0.000                       \n",
       "                      180000                  202950.000                  \n",
       "456248     2743495    900000                  0.000                       \n",
       "456250     1794451    175500                  0.000                       \n",
       "                      180000                  180000.000                  \n",
       "\n",
       "                                               AMT_DRAWINGS_CURRENT  \\\n",
       "SK_ID_CURR SK_ID_PREV AMT_CREDIT_LIMIT_ACTUAL                         \n",
       "100006     1489396    270000                  0.000                   \n",
       "100011     1843384    90000                   0.000                   \n",
       "                      180000                  180000.000              \n",
       "100013     2038692    45000                   0.000                   \n",
       "                      157500                  571500.000              \n",
       "100021     2594025    675000                  0.000                   \n",
       "100023     1499902    45000                   0.000                   \n",
       "                      225000                  0.000                   \n",
       "100028     1914954    225000                  301663.620              \n",
       "100036     2621538    45000                   0.000                   \n",
       "                      90000                   0.000                   \n",
       "100042     2137382    45000                   0.000                   \n",
       "                      90000                   497606.490              \n",
       "100043     1557583    22500                   0.000                   \n",
       "                      45000                   0.000                   \n",
       "                      427500                  491864.085              \n",
       "100047     1472630    45000                   0.000                   \n",
       "                      450000                  0.000                   \n",
       "100048     1060558    225000                  496296.000              \n",
       "100049     1209367    90000                   93727.845               \n",
       "                      135000                  49909.815               \n",
       "100050     1794209    180000                  0.000                   \n",
       "100059     1787234    0                       0.000                   \n",
       "                      90000                   0.000                   \n",
       "100066     1852787    9000                    0.000                   \n",
       "                      45000                   0.000                   \n",
       "                      135000                  0.000                   \n",
       "100067     2833536    45000                   281621.340              \n",
       "100075     1596605    225000                  599460.750              \n",
       "100077     1691588    0                       0.000                   \n",
       "...                                                  ...              \n",
       "456215     1327087    0                       0.000                   \n",
       "                      135000                  0.000                   \n",
       "456217     2287911    180000                  496680.750              \n",
       "456219     2051360    45000                   17950.500               \n",
       "                      90000                   50683.500               \n",
       "                      135000                  106538.040              \n",
       "456225     2445843    180000                  681714.945              \n",
       "456233     2458558    45000                   28200.960               \n",
       "                      180000                  140418.000              \n",
       "456235     1499583    45000                   0.000                   \n",
       "                      90000                   0.000                   \n",
       "456236     2789041    0                       0.000                   \n",
       "                      180000                  333000.000              \n",
       "456237     2556618    0                       0.000                   \n",
       "                      225000                  211050.000              \n",
       "456239     2131120    0                       0.000                   \n",
       "                      135000                  328050.000              \n",
       "                      270000                  153450.000              \n",
       "456241     1509615    45000                   0.000                   \n",
       "                      270000                  0.000                   \n",
       "456242     2640681    45000                   13639.500               \n",
       "                      225000                  305158.770              \n",
       "456244     2181926    0                       154.260                 \n",
       "                      450000                  1100383.650             \n",
       "456246     1079732    135000                  121594.050              \n",
       "456247     1595171    0                       0.000                   \n",
       "                      180000                  204203.115              \n",
       "456248     2743495    900000                  0.000                   \n",
       "456250     1794451    175500                  0.000                   \n",
       "                      180000                  180000.000              \n",
       "\n",
       "                                               AMT_DRAWINGS_OTHER_CURRENT  \\\n",
       "SK_ID_CURR SK_ID_PREV AMT_CREDIT_LIMIT_ACTUAL                               \n",
       "100006     1489396    270000                  0.000                         \n",
       "100011     1843384    90000                   0.000                         \n",
       "                      180000                  0.000                         \n",
       "100013     2038692    45000                   0.000                         \n",
       "                      157500                  0.000                         \n",
       "100021     2594025    675000                  0.000                         \n",
       "100023     1499902    45000                   0.000                         \n",
       "                      225000                  0.000                         \n",
       "100028     1914954    225000                  0.000                         \n",
       "100036     2621538    45000                   0.000                         \n",
       "                      90000                   0.000                         \n",
       "100042     2137382    45000                   0.000                         \n",
       "                      90000                   207931.500                    \n",
       "100043     1557583    22500                   0.000                         \n",
       "                      45000                   0.000                         \n",
       "                      427500                  0.000                         \n",
       "100047     1472630    45000                   0.000                         \n",
       "                      450000                  0.000                         \n",
       "100048     1060558    225000                  0.000                         \n",
       "100049     1209367    90000                   0.000                         \n",
       "                      135000                  0.000                         \n",
       "100050     1794209    180000                  0.000                         \n",
       "100059     1787234    0                       0.000                         \n",
       "                      90000                   0.000                         \n",
       "100066     1852787    9000                    0.000                         \n",
       "                      45000                   0.000                         \n",
       "                      135000                  0.000                         \n",
       "100067     2833536    45000                   0.000                         \n",
       "100075     1596605    225000                  0.000                         \n",
       "100077     1691588    0                       0.000                         \n",
       "...                                             ...                         \n",
       "456215     1327087    0                       0.000                         \n",
       "                      135000                  0.000                         \n",
       "456217     2287911    180000                  0.000                         \n",
       "456219     2051360    45000                   0.000                         \n",
       "                      90000                   0.000                         \n",
       "                      135000                  0.000                         \n",
       "456225     2445843    180000                  0.000                         \n",
       "456233     2458558    45000                   0.000                         \n",
       "                      180000                  0.000                         \n",
       "456235     1499583    45000                   0.000                         \n",
       "                      90000                   0.000                         \n",
       "456236     2789041    0                       0.000                         \n",
       "                      180000                  0.000                         \n",
       "456237     2556618    0                       0.000                         \n",
       "                      225000                  0.000                         \n",
       "456239     2131120    0                       0.000                         \n",
       "                      135000                  0.000                         \n",
       "                      270000                  0.000                         \n",
       "456241     1509615    45000                   0.000                         \n",
       "                      270000                  0.000                         \n",
       "456242     2640681    45000                   0.000                         \n",
       "                      225000                  0.000                         \n",
       "456244     2181926    0                       0.000                         \n",
       "                      450000                  0.000                         \n",
       "456246     1079732    135000                  0.000                         \n",
       "456247     1595171    0                       0.000                         \n",
       "                      180000                  0.000                         \n",
       "456248     2743495    900000                  0.000                         \n",
       "456250     1794451    175500                  0.000                         \n",
       "                      180000                  0.000                         \n",
       "\n",
       "                                               AMT_DRAWINGS_POS_CURRENT  \\\n",
       "SK_ID_CURR SK_ID_PREV AMT_CREDIT_LIMIT_ACTUAL                             \n",
       "100006     1489396    270000                  0.000                       \n",
       "100011     1843384    90000                   0.000                       \n",
       "                      180000                  0.000                       \n",
       "100013     2038692    45000                   0.000                       \n",
       "                      157500                  0.000                       \n",
       "100021     2594025    675000                  0.000                       \n",
       "100023     1499902    45000                   0.000                       \n",
       "                      225000                  0.000                       \n",
       "100028     1914954    225000                  274663.620                  \n",
       "100036     2621538    45000                   0.000                       \n",
       "                      90000                   0.000                       \n",
       "100042     2137382    45000                   0.000                       \n",
       "                      90000                   24174.990                   \n",
       "100043     1557583    22500                   0.000                       \n",
       "                      45000                   0.000                       \n",
       "                      427500                  424364.085                  \n",
       "100047     1472630    45000                   0.000                       \n",
       "                      450000                  0.000                       \n",
       "100048     1060558    225000                  469296.000                  \n",
       "100049     1209367    90000                   3727.845                    \n",
       "                      135000                  13909.815                   \n",
       "100050     1794209    180000                  0.000                       \n",
       "100059     1787234    0                       0.000                       \n",
       "                      90000                   0.000                       \n",
       "100066     1852787    9000                    0.000                       \n",
       "                      45000                   0.000                       \n",
       "                      135000                  0.000                       \n",
       "100067     2833536    45000                   215021.340                  \n",
       "100075     1596605    225000                  2085.750                    \n",
       "100077     1691588    0                       0.000                       \n",
       "...                                                ...                    \n",
       "456215     1327087    0                       0.000                       \n",
       "                      135000                  0.000                       \n",
       "456217     2287911    180000                  6180.750                    \n",
       "456219     2051360    45000                   17950.500                   \n",
       "                      90000                   50683.500                   \n",
       "                      135000                  12038.040                   \n",
       "456225     2445843    180000                  115164.945                  \n",
       "456233     2458558    45000                   7950.960                    \n",
       "                      180000                  135918.000                  \n",
       "456235     1499583    45000                   0.000                       \n",
       "                      90000                   0.000                       \n",
       "456236     2789041    0                       0.000                       \n",
       "                      180000                  0.000                       \n",
       "456237     2556618    0                       0.000                       \n",
       "                      225000                  0.000                       \n",
       "456239     2131120    0                       0.000                       \n",
       "                      135000                  900.000                     \n",
       "                      270000                  450.000                     \n",
       "456241     1509615    45000                   0.000                       \n",
       "                      270000                  0.000                       \n",
       "456242     2640681    45000                   4639.500                    \n",
       "                      225000                  129658.770                  \n",
       "456244     2181926    0                       0.000                       \n",
       "                      450000                  96883.650                   \n",
       "456246     1079732    135000                  121594.050                  \n",
       "456247     1595171    0                       0.000                       \n",
       "                      180000                  1253.115                    \n",
       "456248     2743495    900000                  0.000                       \n",
       "456250     1794451    175500                  0.000                       \n",
       "                      180000                  0.000                       \n",
       "\n",
       "                                               AMT_INST_MIN_REGULARITY  \\\n",
       "SK_ID_CURR SK_ID_PREV AMT_CREDIT_LIMIT_ACTUAL                            \n",
       "100006     1489396    270000                  0.000                      \n",
       "100011     1843384    90000                   0.000                      \n",
       "                      180000                  288804.195                 \n",
       "100013     2038692    45000                   0.000                      \n",
       "                      157500                  129454.020                 \n",
       "100021     2594025    675000                  0.000                      \n",
       "100023     1499902    45000                   0.000                      \n",
       "                      225000                  0.000                      \n",
       "100028     1914954    225000                  257601.285                 \n",
       "100036     2621538    45000                   0.000                      \n",
       "                      90000                   0.000                      \n",
       "100042     2137382    45000                   0.000                      \n",
       "                      90000                   171342.765                 \n",
       "100043     1557583    22500                   0.000                      \n",
       "                      45000                   281.160                    \n",
       "                      427500                  349371.405                 \n",
       "100047     1472630    45000                   0.000                      \n",
       "                      450000                  0.000                      \n",
       "100048     1060558    225000                  112413.375                 \n",
       "100049     1209367    90000                   7021.260                   \n",
       "                      135000                  15120.000                  \n",
       "100050     1794209    180000                  0.000                      \n",
       "100059     1787234    0                       0.000                      \n",
       "                      90000                   0.000                      \n",
       "100066     1852787    9000                    0.000                      \n",
       "                      45000                   0.000                      \n",
       "                      135000                  0.000                      \n",
       "100067     2833536    45000                   140281.875                 \n",
       "100075     1596605    225000                  50553.225                  \n",
       "100077     1691588    0                       0.000                      \n",
       "...                                                 ...                  \n",
       "456215     1327087    0                       0.000                      \n",
       "                      135000                  42607.350                  \n",
       "456217     2287911    180000                  837000.000                 \n",
       "456219     2051360    45000                   0.000                      \n",
       "                      90000                   4797.045                   \n",
       "                      135000                  27096.930                  \n",
       "456225     2445843    180000                  591530.130                 \n",
       "456233     2458558    45000                   2250.000                   \n",
       "                      180000                  16588.125                  \n",
       "456235     1499583    45000                   0.000                      \n",
       "                      90000                   0.000                      \n",
       "456236     2789041    0                       0.000                      \n",
       "                      180000                  173281.680                 \n",
       "456237     2556618    0                       0.000                      \n",
       "                      225000                  63647.010                  \n",
       "456239     2131120    0                       0.000                      \n",
       "                      135000                  243000.000                 \n",
       "                      270000                  290661.660                 \n",
       "456241     1509615    45000                   0.000                      \n",
       "                      270000                  0.000                      \n",
       "456242     2640681    45000                   0.000                      \n",
       "                      225000                  55841.220                  \n",
       "456244     2181926    0                       0.000                      \n",
       "                      450000                  260568.000                 \n",
       "456246     1079732    135000                  11513.205                  \n",
       "456247     1595171    0                       0.000                      \n",
       "                      180000                  134396.955                 \n",
       "456248     2743495    900000                  0.000                      \n",
       "456250     1794451    175500                  25407.720                  \n",
       "                      180000                  65073.240                  \n",
       "\n",
       "                                               AMT_PAYMENT_CURRENT  \\\n",
       "SK_ID_CURR SK_ID_PREV AMT_CREDIT_LIMIT_ACTUAL                        \n",
       "100006     1489396    270000                  0.000                  \n",
       "100011     1843384    90000                   7323.615               \n",
       "                      180000                  351063.135             \n",
       "100013     2038692    45000                   6035.040               \n",
       "                      157500                  682126.200             \n",
       "100021     2594025    675000                  0.000                  \n",
       "100023     1499902    45000                   0.000                  \n",
       "                      225000                  0.000                  \n",
       "100028     1914954    225000                  283724.460             \n",
       "100036     2621538    45000                   0.000                  \n",
       "                      90000                   0.000                  \n",
       "100042     2137382    45000                   689.850                \n",
       "                      90000                   625337.280             \n",
       "100043     1557583    22500                   0.000                  \n",
       "                      45000                   0.000                  \n",
       "                      427500                  692005.140             \n",
       "100047     1472630    45000                   0.000                  \n",
       "                      450000                  0.000                  \n",
       "100048     1060558    225000                  586414.890             \n",
       "100049     1209367    90000                   16536.825              \n",
       "                      135000                  18199.755              \n",
       "100050     1794209    180000                  0.000                  \n",
       "100059     1787234    0                       0.000                  \n",
       "                      90000                   0.000                  \n",
       "100066     1852787    9000                    0.000                  \n",
       "                      45000                   0.000                  \n",
       "                      135000                  0.000                  \n",
       "100067     2833536    45000                   325541.205             \n",
       "100075     1596605    225000                  524066.715             \n",
       "100077     1691588    0                       0.000                  \n",
       "...                                                  ...             \n",
       "456215     1327087    0                       39638.430              \n",
       "                      135000                  173166.750             \n",
       "456217     2287911    180000                  842950.440             \n",
       "456219     2051360    45000                   0.000                  \n",
       "                      90000                   36398.700              \n",
       "                      135000                  30021.930              \n",
       "456225     2445843    180000                  932550.030             \n",
       "456233     2458558    45000                   9134.730               \n",
       "                      180000                  66997.035              \n",
       "456235     1499583    45000                   0.000                  \n",
       "                      90000                   0.000                  \n",
       "456236     2789041    0                       7934.760               \n",
       "                      180000                  474043.635             \n",
       "456237     2556618    0                       113.400                \n",
       "                      225000                  267441.570             \n",
       "456239     2131120    0                       1484.010               \n",
       "                      135000                  375750.000             \n",
       "                      270000                  466525.350             \n",
       "456241     1509615    45000                   0.000                  \n",
       "                      270000                  0.000                  \n",
       "456242     2640681    45000                   0.000                  \n",
       "                      225000                  156641.265             \n",
       "456244     2181926    0                       1388.340               \n",
       "                      450000                  1340154.000            \n",
       "456246     1079732    135000                  131447.925             \n",
       "456247     1595171    0                       9891.495               \n",
       "                      180000                  454065.255             \n",
       "456248     2743495    900000                  0.000                  \n",
       "456250     1794451    175500                  28350.000              \n",
       "                      180000                  79132.500              \n",
       "\n",
       "                                               AMT_PAYMENT_TOTAL_CURRENT  \\\n",
       "SK_ID_CURR SK_ID_PREV AMT_CREDIT_LIMIT_ACTUAL                              \n",
       "100006     1489396    270000                  0.000                        \n",
       "100011     1843384    90000                   0.000                        \n",
       "                      180000                  334485.000                   \n",
       "100013     2038692    45000                   0.000                        \n",
       "                      157500                  654448.545                   \n",
       "100021     2594025    675000                  0.000                        \n",
       "100023     1499902    45000                   0.000                        \n",
       "                      225000                  0.000                        \n",
       "100028     1914954    225000                  274701.465                   \n",
       "100036     2621538    45000                   0.000                        \n",
       "                      90000                   0.000                        \n",
       "100042     2137382    45000                   0.000                        \n",
       "                      90000                   619065.000                   \n",
       "100043     1557583    22500                   0.000                        \n",
       "                      45000                   0.000                        \n",
       "                      427500                  443580.435                   \n",
       "100047     1472630    45000                   0.000                        \n",
       "                      450000                  0.000                        \n",
       "100048     1060558    225000                  586414.890                   \n",
       "100049     1209367    90000                   4889.565                     \n",
       "                      135000                  967.860                      \n",
       "100050     1794209    180000                  0.000                        \n",
       "100059     1787234    0                       0.000                        \n",
       "                      90000                   0.000                        \n",
       "100066     1852787    9000                    0.000                        \n",
       "                      45000                   0.000                        \n",
       "                      135000                  0.000                        \n",
       "100067     2833536    45000                   320931.000                   \n",
       "100075     1596605    225000                  524066.715                   \n",
       "100077     1691588    0                       0.000                        \n",
       "...                                                  ...                   \n",
       "456215     1327087    0                       0.000                        \n",
       "                      135000                  159570.000                   \n",
       "456217     2287911    180000                  842950.440                   \n",
       "456219     2051360    45000                   0.000                        \n",
       "                      90000                   36398.700                    \n",
       "                      135000                  30021.930                    \n",
       "456225     2445843    180000                  925920.000                   \n",
       "456233     2458558    45000                   9134.730                     \n",
       "                      180000                  66997.035                    \n",
       "456235     1499583    45000                   0.000                        \n",
       "                      90000                   0.000                        \n",
       "456236     2789041    0                       220.410                      \n",
       "                      180000                  467190.000                   \n",
       "456237     2556618    0                       113.400                      \n",
       "                      225000                  239328.315                   \n",
       "456239     2131120    0                       134.910                      \n",
       "                      135000                  375750.000                   \n",
       "                      270000                  464899.500                   \n",
       "456241     1509615    45000                   0.000                        \n",
       "                      270000                  0.000                        \n",
       "456242     2640681    45000                   0.000                        \n",
       "                      225000                  156641.265                   \n",
       "456244     2181926    0                       1388.340                     \n",
       "                      450000                  1340154.000                  \n",
       "456246     1079732    135000                  124434.720                   \n",
       "456247     1595171    0                       0.000                        \n",
       "                      180000                  391008.420                   \n",
       "456248     2743495    900000                  0.000                        \n",
       "456250     1794451    175500                  3511.710                     \n",
       "                      180000                  15962.130                    \n",
       "\n",
       "                                               AMT_RECEIVABLE_PRINCIPAL  \\\n",
       "SK_ID_CURR SK_ID_PREV AMT_CREDIT_LIMIT_ACTUAL                             \n",
       "100006     1489396    270000                  0.000                       \n",
       "100011     1843384    90000                   0.000                       \n",
       "                      180000                  3877754.580                 \n",
       "100013     2038692    45000                   0.000                       \n",
       "                      157500                  1656533.745                 \n",
       "100021     2594025    675000                  0.000                       \n",
       "100023     1499902    45000                   0.000                       \n",
       "                      225000                  0.000                       \n",
       "100028     1914954    225000                  376337.250                  \n",
       "100036     2621538    45000                   0.000                       \n",
       "                      90000                   0.000                       \n",
       "100042     2137382    45000                   0.000                       \n",
       "                      90000                   2678984.145                 \n",
       "100043     1557583    22500                   0.000                       \n",
       "                      45000                   0.000                       \n",
       "                      427500                  6720369.075                 \n",
       "100047     1472630    45000                   0.000                       \n",
       "                      450000                  0.000                       \n",
       "100048     1060558    225000                  1805438.565                 \n",
       "100049     1209367    90000                   262865.925                  \n",
       "                      135000                  347388.570                  \n",
       "100050     1794209    180000                  0.000                       \n",
       "100059     1787234    0                       0.000                       \n",
       "                      90000                   0.000                       \n",
       "100066     1852787    9000                    0.000                       \n",
       "                      45000                   0.000                       \n",
       "                      135000                  0.000                       \n",
       "100067     2833536    45000                   2273224.050                 \n",
       "100075     1596605    225000                  1160362.485                 \n",
       "100077     1691588    0                       0.000                       \n",
       "...                                                   ...                 \n",
       "456215     1327087    0                       0.000                       \n",
       "                      135000                  495244.530                  \n",
       "456217     2287911    180000                  15159353.535                \n",
       "456219     2051360    45000                   17950.500                   \n",
       "                      90000                   78498.810                   \n",
       "                      135000                  590352.435                  \n",
       "456225     2445843    180000                  10743884.730                \n",
       "456233     2458558    45000                   22428.090                   \n",
       "                      180000                  354293.235                  \n",
       "456235     1499583    45000                   0.000                       \n",
       "                      90000                   0.000                       \n",
       "456236     2789041    0                       0.000                       \n",
       "                      180000                  2001421.800                 \n",
       "456237     2556618    0                       0.000                       \n",
       "                      225000                  1060683.030                 \n",
       "456239     2131120    0                       0.000                       \n",
       "                      135000                  4294291.500                 \n",
       "                      270000                  4809280.365                 \n",
       "456241     1509615    45000                   0.000                       \n",
       "                      270000                  0.000                       \n",
       "456242     2640681    45000                   13639.500                   \n",
       "                      225000                  1143565.020                 \n",
       "456244     2181926    0                       0.000                       \n",
       "                      450000                  5231943.315                 \n",
       "456246     1079732    135000                  103064.130                  \n",
       "456247     1595171    0                       0.000                       \n",
       "                      180000                  2099562.120                 \n",
       "456248     2743495    900000                  0.000                       \n",
       "456250     1794451    175500                  468415.755                  \n",
       "                      180000                  1552943.340                 \n",
       "\n",
       "                                               AMT_RECIVABLE  \\\n",
       "SK_ID_CURR SK_ID_PREV AMT_CREDIT_LIMIT_ACTUAL                  \n",
       "100006     1489396    270000                  0.000            \n",
       "100011     1843384    90000                   0.000            \n",
       "                      180000                  4028055.255      \n",
       "100013     2038692    45000                   0.000            \n",
       "                      157500                  1737703.665      \n",
       "100021     2594025    675000                  0.000            \n",
       "100023     1499902    45000                   0.000            \n",
       "                      225000                  0.000            \n",
       "100028     1914954    225000                  390461.850       \n",
       "100036     2621538    45000                   0.000            \n",
       "                      90000                   0.000            \n",
       "100042     2137382    45000                   0.000            \n",
       "                      90000                   2797043.760      \n",
       "100043     1557583    22500                   0.000            \n",
       "                      45000                   0.000            \n",
       "                      427500                  6877115.820      \n",
       "100047     1472630    45000                   0.000            \n",
       "                      450000                  0.000            \n",
       "100048     1060558    225000                  1865730.465      \n",
       "100049     1209367    90000                   267454.575       \n",
       "                      135000                  351768.780       \n",
       "100050     1794209    180000                  0.000            \n",
       "100059     1787234    0                       0.000            \n",
       "                      90000                   0.000            \n",
       "100066     1852787    9000                    0.000            \n",
       "                      45000                   0.000            \n",
       "                      135000                  0.000            \n",
       "100067     2833536    45000                   2363711.400      \n",
       "100075     1596605    225000                  1215199.620      \n",
       "100077     1691588    0                       0.000            \n",
       "...                                                   ...      \n",
       "456215     1327087    0                       -4595.760        \n",
       "                      135000                  515958.390       \n",
       "456217     2287911    180000                  15701376.060     \n",
       "456219     2051360    45000                   17950.500        \n",
       "                      90000                   79750.080        \n",
       "                      135000                  617464.710       \n",
       "456225     2445843    180000                  11278010.745     \n",
       "456233     2458558    45000                   22916.835        \n",
       "                      180000                  364753.215       \n",
       "456235     1499583    45000                   0.000            \n",
       "                      90000                   0.000            \n",
       "456236     2789041    0                       -1763.280        \n",
       "                      180000                  2097077.400      \n",
       "456237     2556618    0                       0.000            \n",
       "                      225000                  1090671.615      \n",
       "456239     2131120    0                       0.000            \n",
       "                      135000                  4474300.410      \n",
       "                      270000                  4988825.235      \n",
       "456241     1509615    45000                   0.000            \n",
       "                      270000                  0.000            \n",
       "456242     2640681    45000                   13702.185        \n",
       "                      225000                  1168358.445      \n",
       "456244     2181926    0                       0.000            \n",
       "                      450000                  5361449.490      \n",
       "456246     1079732    135000                  103183.155       \n",
       "456247     1595171    0                       0.000            \n",
       "                      180000                  2197183.095      \n",
       "456248     2743495    900000                  0.000            \n",
       "456250     1794451    175500                  474525.225       \n",
       "                      180000                  1592325.090      \n",
       "\n",
       "                                               AMT_TOTAL_RECEIVABLE  \\\n",
       "SK_ID_CURR SK_ID_PREV AMT_CREDIT_LIMIT_ACTUAL                         \n",
       "100006     1489396    270000                  0.000                   \n",
       "100011     1843384    90000                   0.000                   \n",
       "                      180000                  4028055.255             \n",
       "100013     2038692    45000                   0.000                   \n",
       "                      157500                  1737703.665             \n",
       "100021     2594025    675000                  0.000                   \n",
       "100023     1499902    45000                   0.000                   \n",
       "                      225000                  0.000                   \n",
       "100028     1914954    225000                  390461.850              \n",
       "100036     2621538    45000                   0.000                   \n",
       "                      90000                   0.000                   \n",
       "100042     2137382    45000                   0.000                   \n",
       "                      90000                   2797043.760             \n",
       "100043     1557583    22500                   0.000                   \n",
       "                      45000                   0.000                   \n",
       "                      427500                  6877115.820             \n",
       "100047     1472630    45000                   0.000                   \n",
       "                      450000                  0.000                   \n",
       "100048     1060558    225000                  1865730.465             \n",
       "100049     1209367    90000                   267454.575              \n",
       "                      135000                  351768.780              \n",
       "100050     1794209    180000                  0.000                   \n",
       "100059     1787234    0                       0.000                   \n",
       "                      90000                   0.000                   \n",
       "100066     1852787    9000                    0.000                   \n",
       "                      45000                   0.000                   \n",
       "                      135000                  0.000                   \n",
       "100067     2833536    45000                   2363711.400             \n",
       "100075     1596605    225000                  1215199.620             \n",
       "100077     1691588    0                       0.000                   \n",
       "...                                                   ...             \n",
       "456215     1327087    0                       -4595.760               \n",
       "                      135000                  515958.390              \n",
       "456217     2287911    180000                  15701376.060            \n",
       "456219     2051360    45000                   17950.500               \n",
       "                      90000                   79750.080               \n",
       "                      135000                  617464.710              \n",
       "456225     2445843    180000                  11278010.745            \n",
       "456233     2458558    45000                   22916.835               \n",
       "                      180000                  364753.215              \n",
       "456235     1499583    45000                   0.000                   \n",
       "                      90000                   0.000                   \n",
       "456236     2789041    0                       -1763.280               \n",
       "                      180000                  2097077.400             \n",
       "456237     2556618    0                       0.000                   \n",
       "                      225000                  1090671.615             \n",
       "456239     2131120    0                       0.000                   \n",
       "                      135000                  4474300.410             \n",
       "                      270000                  4988825.235             \n",
       "456241     1509615    45000                   0.000                   \n",
       "                      270000                  0.000                   \n",
       "456242     2640681    45000                   13702.185               \n",
       "                      225000                  1168358.445             \n",
       "456244     2181926    0                       0.000                   \n",
       "                      450000                  5361449.490             \n",
       "456246     1079732    135000                  103183.155              \n",
       "456247     1595171    0                       0.000                   \n",
       "                      180000                  2197183.095             \n",
       "456248     2743495    900000                  0.000                   \n",
       "456250     1794451    175500                  474525.225              \n",
       "                      180000                  1592325.090             \n",
       "\n",
       "                                               CNT_DRAWINGS_ATM_CURRENT  \\\n",
       "SK_ID_CURR SK_ID_PREV AMT_CREDIT_LIMIT_ACTUAL                             \n",
       "100006     1489396    270000                  0.000                       \n",
       "100011     1843384    90000                   0.000                       \n",
       "                      180000                  4.000                       \n",
       "100013     2038692    45000                   0.000                       \n",
       "                      157500                  23.000                      \n",
       "100021     2594025    675000                  0.000                       \n",
       "100023     1499902    45000                   0.000                       \n",
       "                      225000                  0.000                       \n",
       "100028     1914954    225000                  2.000                       \n",
       "100036     2621538    45000                   0.000                       \n",
       "                      90000                   0.000                       \n",
       "100042     2137382    45000                   0.000                       \n",
       "                      90000                   19.000                      \n",
       "100043     1557583    22500                   0.000                       \n",
       "                      45000                   0.000                       \n",
       "                      427500                  2.000                       \n",
       "100047     1472630    45000                   0.000                       \n",
       "                      450000                  0.000                       \n",
       "100048     1060558    225000                  1.000                       \n",
       "100049     1209367    90000                   5.000                       \n",
       "                      135000                  2.000                       \n",
       "100050     1794209    180000                  0.000                       \n",
       "100059     1787234    0                       0.000                       \n",
       "                      90000                   0.000                       \n",
       "100066     1852787    9000                    0.000                       \n",
       "                      45000                   0.000                       \n",
       "                      135000                  0.000                       \n",
       "100067     2833536    45000                   7.000                       \n",
       "100075     1596605    225000                  51.000                      \n",
       "100077     1691588    0                       0.000                       \n",
       "...                                              ...                      \n",
       "456215     1327087    0                       0.000                       \n",
       "                      135000                  0.000                       \n",
       "456217     2287911    180000                  32.000                      \n",
       "456219     2051360    45000                   0.000                       \n",
       "                      90000                   0.000                       \n",
       "                      135000                  7.000                       \n",
       "456225     2445843    180000                  45.000                      \n",
       "456233     2458558    45000                   5.000                       \n",
       "                      180000                  1.000                       \n",
       "456235     1499583    45000                   0.000                       \n",
       "                      90000                   0.000                       \n",
       "456236     2789041    0                       0.000                       \n",
       "                      180000                  16.000                      \n",
       "456237     2556618    0                       0.000                       \n",
       "                      225000                  10.000                      \n",
       "456239     2131120    0                       0.000                       \n",
       "                      135000                  44.000                      \n",
       "                      270000                  15.000                      \n",
       "456241     1509615    45000                   0.000                       \n",
       "                      270000                  0.000                       \n",
       "456242     2640681    45000                   2.000                       \n",
       "                      225000                  6.000                       \n",
       "456244     2181926    0                       0.000                       \n",
       "                      450000                  43.000                      \n",
       "456246     1079732    135000                  0.000                       \n",
       "456247     1595171    0                       0.000                       \n",
       "                      180000                  11.000                      \n",
       "456248     2743495    900000                  0.000                       \n",
       "456250     1794451    175500                  0.000                       \n",
       "                      180000                  8.000                       \n",
       "\n",
       "                                               CNT_DRAWINGS_CURRENT  \\\n",
       "SK_ID_CURR SK_ID_PREV AMT_CREDIT_LIMIT_ACTUAL                         \n",
       "100006     1489396    270000                   0                      \n",
       "100011     1843384    90000                    0                      \n",
       "                      180000                   4                      \n",
       "100013     2038692    45000                    0                      \n",
       "                      157500                   23                     \n",
       "100021     2594025    675000                   0                      \n",
       "100023     1499902    45000                    0                      \n",
       "                      225000                   0                      \n",
       "100028     1914954    225000                   117                    \n",
       "100036     2621538    45000                    0                      \n",
       "                      90000                    0                      \n",
       "100042     2137382    45000                    0                      \n",
       "                      90000                    32                     \n",
       "100043     1557583    22500                    0                      \n",
       "                      45000                    0                      \n",
       "                      427500                   12                     \n",
       "100047     1472630    45000                    0                      \n",
       "                      450000                   0                      \n",
       "100048     1060558    225000                   8                      \n",
       "100049     1209367    90000                    11                     \n",
       "                      135000                   14                     \n",
       "100050     1794209    180000                   0                      \n",
       "100059     1787234    0                        0                      \n",
       "                      90000                    0                      \n",
       "100066     1852787    9000                     0                      \n",
       "                      45000                    0                      \n",
       "                      135000                   0                      \n",
       "100067     2833536    45000                    58                     \n",
       "100075     1596605    225000                   53                     \n",
       "100077     1691588    0                        0                      \n",
       "...                                            ..                     \n",
       "456215     1327087    0                        0                      \n",
       "                      135000                   0                      \n",
       "456217     2287911    180000                   34                     \n",
       "456219     2051360    45000                    1                      \n",
       "                      90000                    16                     \n",
       "                      135000                   21                     \n",
       "456225     2445843    180000                   88                     \n",
       "456233     2458558    45000                    10                     \n",
       "                      180000                   42                     \n",
       "456235     1499583    45000                    0                      \n",
       "                      90000                    0                      \n",
       "456236     2789041    0                        0                      \n",
       "                      180000                   16                     \n",
       "456237     2556618    0                        0                      \n",
       "                      225000                   10                     \n",
       "456239     2131120    0                        0                      \n",
       "                      135000                   46                     \n",
       "                      270000                   16                     \n",
       "456241     1509615    45000                    0                      \n",
       "                      270000                   0                      \n",
       "456242     2640681    45000                    4                      \n",
       "                      225000                   27                     \n",
       "456244     2181926    0                        0                      \n",
       "                      450000                   56                     \n",
       "456246     1079732    135000                   20                     \n",
       "456247     1595171    0                        0                      \n",
       "                      180000                   14                     \n",
       "456248     2743495    900000                   0                      \n",
       "456250     1794451    175500                   0                      \n",
       "                      180000                   8                      \n",
       "\n",
       "                                               CNT_DRAWINGS_OTHER_CURRENT  \\\n",
       "SK_ID_CURR SK_ID_PREV AMT_CREDIT_LIMIT_ACTUAL                               \n",
       "100006     1489396    270000                  0.000                         \n",
       "100011     1843384    90000                   0.000                         \n",
       "                      180000                  0.000                         \n",
       "100013     2038692    45000                   0.000                         \n",
       "                      157500                  0.000                         \n",
       "100021     2594025    675000                  0.000                         \n",
       "100023     1499902    45000                   0.000                         \n",
       "                      225000                  0.000                         \n",
       "100028     1914954    225000                  0.000                         \n",
       "100036     2621538    45000                   0.000                         \n",
       "                      90000                   0.000                         \n",
       "100042     2137382    45000                   0.000                         \n",
       "                      90000                   5.000                         \n",
       "100043     1557583    22500                   0.000                         \n",
       "                      45000                   0.000                         \n",
       "                      427500                  0.000                         \n",
       "100047     1472630    45000                   0.000                         \n",
       "                      450000                  0.000                         \n",
       "100048     1060558    225000                  0.000                         \n",
       "100049     1209367    90000                   0.000                         \n",
       "                      135000                  0.000                         \n",
       "100050     1794209    180000                  0.000                         \n",
       "100059     1787234    0                       0.000                         \n",
       "                      90000                   0.000                         \n",
       "100066     1852787    9000                    0.000                         \n",
       "                      45000                   0.000                         \n",
       "                      135000                  0.000                         \n",
       "100067     2833536    45000                   0.000                         \n",
       "100075     1596605    225000                  0.000                         \n",
       "100077     1691588    0                       0.000                         \n",
       "...                                             ...                         \n",
       "456215     1327087    0                       0.000                         \n",
       "                      135000                  0.000                         \n",
       "456217     2287911    180000                  0.000                         \n",
       "456219     2051360    45000                   0.000                         \n",
       "                      90000                   0.000                         \n",
       "                      135000                  0.000                         \n",
       "456225     2445843    180000                  0.000                         \n",
       "456233     2458558    45000                   0.000                         \n",
       "                      180000                  0.000                         \n",
       "456235     1499583    45000                   0.000                         \n",
       "                      90000                   0.000                         \n",
       "456236     2789041    0                       0.000                         \n",
       "                      180000                  0.000                         \n",
       "456237     2556618    0                       0.000                         \n",
       "                      225000                  0.000                         \n",
       "456239     2131120    0                       0.000                         \n",
       "                      135000                  0.000                         \n",
       "                      270000                  0.000                         \n",
       "456241     1509615    45000                   0.000                         \n",
       "                      270000                  0.000                         \n",
       "456242     2640681    45000                   0.000                         \n",
       "                      225000                  0.000                         \n",
       "456244     2181926    0                       0.000                         \n",
       "                      450000                  0.000                         \n",
       "456246     1079732    135000                  0.000                         \n",
       "456247     1595171    0                       0.000                         \n",
       "                      180000                  0.000                         \n",
       "456248     2743495    900000                  0.000                         \n",
       "456250     1794451    175500                  0.000                         \n",
       "                      180000                  0.000                         \n",
       "\n",
       "                                               CNT_DRAWINGS_POS_CURRENT  \\\n",
       "SK_ID_CURR SK_ID_PREV AMT_CREDIT_LIMIT_ACTUAL                             \n",
       "100006     1489396    270000                  0.000                       \n",
       "100011     1843384    90000                   0.000                       \n",
       "                      180000                  0.000                       \n",
       "100013     2038692    45000                   0.000                       \n",
       "                      157500                  0.000                       \n",
       "100021     2594025    675000                  0.000                       \n",
       "100023     1499902    45000                   0.000                       \n",
       "                      225000                  0.000                       \n",
       "100028     1914954    225000                  115.000                     \n",
       "100036     2621538    45000                   0.000                       \n",
       "                      90000                   0.000                       \n",
       "100042     2137382    45000                   0.000                       \n",
       "                      90000                   8.000                       \n",
       "100043     1557583    22500                   0.000                       \n",
       "                      45000                   0.000                       \n",
       "                      427500                  10.000                      \n",
       "100047     1472630    45000                   0.000                       \n",
       "                      450000                  0.000                       \n",
       "100048     1060558    225000                  7.000                       \n",
       "100049     1209367    90000                   6.000                       \n",
       "                      135000                  12.000                      \n",
       "100050     1794209    180000                  0.000                       \n",
       "100059     1787234    0                       0.000                       \n",
       "                      90000                   0.000                       \n",
       "100066     1852787    9000                    0.000                       \n",
       "                      45000                   0.000                       \n",
       "                      135000                  0.000                       \n",
       "100067     2833536    45000                   51.000                      \n",
       "100075     1596605    225000                  2.000                       \n",
       "100077     1691588    0                       0.000                       \n",
       "...                                             ...                       \n",
       "456215     1327087    0                       0.000                       \n",
       "                      135000                  0.000                       \n",
       "456217     2287911    180000                  2.000                       \n",
       "456219     2051360    45000                   1.000                       \n",
       "                      90000                   16.000                      \n",
       "                      135000                  14.000                      \n",
       "456225     2445843    180000                  43.000                      \n",
       "456233     2458558    45000                   5.000                       \n",
       "                      180000                  41.000                      \n",
       "456235     1499583    45000                   0.000                       \n",
       "                      90000                   0.000                       \n",
       "456236     2789041    0                       0.000                       \n",
       "                      180000                  0.000                       \n",
       "456237     2556618    0                       0.000                       \n",
       "                      225000                  0.000                       \n",
       "456239     2131120    0                       0.000                       \n",
       "                      135000                  2.000                       \n",
       "                      270000                  1.000                       \n",
       "456241     1509615    45000                   0.000                       \n",
       "                      270000                  0.000                       \n",
       "456242     2640681    45000                   2.000                       \n",
       "                      225000                  21.000                      \n",
       "456244     2181926    0                       0.000                       \n",
       "                      450000                  13.000                      \n",
       "456246     1079732    135000                  20.000                      \n",
       "456247     1595171    0                       0.000                       \n",
       "                      180000                  3.000                       \n",
       "456248     2743495    900000                  0.000                       \n",
       "456250     1794451    175500                  0.000                       \n",
       "                      180000                  0.000                       \n",
       "\n",
       "                                               CNT_INSTALMENT_MATURE_CUM  \\\n",
       "SK_ID_CURR SK_ID_PREV AMT_CREDIT_LIMIT_ACTUAL                              \n",
       "100006     1489396    270000                  0.000                        \n",
       "100011     1843384    90000                   429.000                      \n",
       "                      180000                  1452.000                     \n",
       "100013     2038692    45000                   484.000                      \n",
       "                      157500                  1182.000                     \n",
       "100021     2594025    675000                  0.000                        \n",
       "100023     1499902    45000                   0.000                        \n",
       "                      225000                  0.000                        \n",
       "100028     1914954    225000                  821.000                      \n",
       "100036     2621538    45000                   0.000                        \n",
       "                      90000                   0.000                        \n",
       "100042     2137382    45000                   819.000                      \n",
       "                      90000                   1677.000                     \n",
       "100043     1557583    22500                   40.000                       \n",
       "                      45000                   200.000                      \n",
       "                      427500                  190.000                      \n",
       "100047     1472630    45000                   0.000                        \n",
       "                      450000                  0.000                        \n",
       "100048     1060558    225000                  358.000                      \n",
       "100049     1209367    90000                   3.000                        \n",
       "                      135000                  12.000                       \n",
       "100050     1794209    180000                  0.000                        \n",
       "100059     1787234    0                       0.000                        \n",
       "                      90000                   0.000                        \n",
       "100066     1852787    9000                    0.000                        \n",
       "                      45000                   0.000                        \n",
       "                      135000                  0.000                        \n",
       "100067     2833536    45000                   2945.000                     \n",
       "100075     1596605    225000                  28.000                       \n",
       "100077     1691588    0                       0.000                        \n",
       "...                                              ...                       \n",
       "456215     1327087    0                       1380.000                     \n",
       "                      135000                  485.000                      \n",
       "456217     2287911    180000                  4465.000                     \n",
       "456219     2051360    45000                   0.000                        \n",
       "                      90000                   5.000                        \n",
       "                      135000                  25.000                       \n",
       "456225     2445843    180000                  3492.000                     \n",
       "456233     2458558    45000                   1.000                        \n",
       "                      180000                  27.000                       \n",
       "456235     1499583    45000                   0.000                        \n",
       "                      90000                   0.000                        \n",
       "456236     2789041    0                       1798.000                     \n",
       "                      180000                  621.000                      \n",
       "456237     2556618    0                       10.000                       \n",
       "                      225000                  75.000                       \n",
       "456239     2131120    0                       737.000                      \n",
       "                      135000                  990.000                      \n",
       "                      270000                  1824.000                     \n",
       "456241     1509615    45000                   0.000                        \n",
       "                      270000                  0.000                        \n",
       "456242     2640681    45000                   0.000                        \n",
       "                      225000                  28.000                       \n",
       "456244     2181926    0                       238.000                      \n",
       "                      450000                  306.000                      \n",
       "456246     1079732    135000                  28.000                       \n",
       "456247     1595171    0                       608.000                      \n",
       "                      180000                  1909.000                     \n",
       "456248     2743495    900000                  0.000                        \n",
       "456250     1794451    175500                  27.000                       \n",
       "                      180000                  28.000                       \n",
       "\n",
       "                                               SK_DPD  SK_DPD_DEF  \\\n",
       "SK_ID_CURR SK_ID_PREV AMT_CREDIT_LIMIT_ACTUAL                       \n",
       "100006     1489396    270000                   0       0            \n",
       "100011     1843384    90000                    0       0            \n",
       "                      180000                   0       0            \n",
       "100013     2038692    45000                    0       0            \n",
       "                      157500                   1       1            \n",
       "100021     2594025    675000                   0       0            \n",
       "100023     1499902    45000                    0       0            \n",
       "                      225000                   0       0            \n",
       "100028     1914954    225000                   0       0            \n",
       "100036     2621538    45000                    0       0            \n",
       "                      90000                    0       0            \n",
       "100042     2137382    45000                    0       0            \n",
       "                      90000                    2       0            \n",
       "100043     1557583    22500                    0       0            \n",
       "                      45000                    0       0            \n",
       "                      427500                   0       0            \n",
       "100047     1472630    45000                    0       0            \n",
       "                      450000                   0       0            \n",
       "100048     1060558    225000                   0       0            \n",
       "100049     1209367    90000                    0       0            \n",
       "                      135000                   0       0            \n",
       "100050     1794209    180000                   0       0            \n",
       "100059     1787234    0                        0       0            \n",
       "                      90000                    0       0            \n",
       "100066     1852787    9000                     0       0            \n",
       "                      45000                    0       0            \n",
       "                      135000                   0       0            \n",
       "100067     2833536    45000                    3       3            \n",
       "100075     1596605    225000                   0       0            \n",
       "100077     1691588    0                        0       0            \n",
       "...                                           ..      ..            \n",
       "456215     1327087    0                        0       0            \n",
       "                      135000                   0       0            \n",
       "456217     2287911    180000                   2       2            \n",
       "456219     2051360    45000                    0       0            \n",
       "                      90000                    0       0            \n",
       "                      135000                   0       0            \n",
       "456225     2445843    180000                   29      29           \n",
       "456233     2458558    45000                    0       0            \n",
       "                      180000                   0       0            \n",
       "456235     1499583    45000                    0       0            \n",
       "                      90000                    0       0            \n",
       "456236     2789041    0                        0       0            \n",
       "                      180000                   1       1            \n",
       "456237     2556618    0                        0       0            \n",
       "                      225000                   0       0            \n",
       "456239     2131120    0                        0       0            \n",
       "                      135000                   1       1            \n",
       "                      270000                   0       0            \n",
       "456241     1509615    45000                    0       0            \n",
       "                      270000                   0       0            \n",
       "456242     2640681    45000                    0       0            \n",
       "                      225000                   0       0            \n",
       "456244     2181926    0                        0       0            \n",
       "                      450000                   0       0            \n",
       "456246     1079732    135000                   0       0            \n",
       "456247     1595171    0                        0       0            \n",
       "                      180000                   3       2            \n",
       "456248     2743495    900000                   0       0            \n",
       "456250     1794451    175500                   0       0            \n",
       "                      180000                   0       0            \n",
       "\n",
       "                                               AMT_CREDIT_LIMIT_ACTUAL1  \n",
       "SK_ID_CURR SK_ID_PREV AMT_CREDIT_LIMIT_ACTUAL                            \n",
       "100006     1489396    270000                   1620000                   \n",
       "100011     1843384    90000                    1170000                   \n",
       "                      180000                   10980000                  \n",
       "100013     2038692    45000                    990000                    \n",
       "                      157500                   11655000                  \n",
       "100021     2594025    675000                   11475000                  \n",
       "100023     1499902    45000                    180000                    \n",
       "                      225000                   900000                    \n",
       "100028     1914954    225000                   11025000                  \n",
       "100036     2621538    45000                    135000                    \n",
       "                      90000                    810000                    \n",
       "100042     2137382    45000                    945000                    \n",
       "                      90000                    5670000                   \n",
       "100043     1557583    22500                    45000                     \n",
       "                      45000                    450000                    \n",
       "                      427500                   8977500                   \n",
       "100047     1472630    45000                    495000                    \n",
       "                      450000                   11250000                  \n",
       "100048     1060558    225000                   6975000                   \n",
       "100049     1209367    90000                    900000                    \n",
       "                      135000                   405000                    \n",
       "100050     1794209    180000                   1260000                   \n",
       "100059     1787234    0                        0                         \n",
       "                      90000                    450000                    \n",
       "100066     1852787    9000                     54000                     \n",
       "                      45000                    90000                     \n",
       "                      135000                   945000                    \n",
       "100067     2833536    45000                    3915000                   \n",
       "100075     1596605    225000                   1800000                   \n",
       "100077     1691588    0                        0                         \n",
       "...                                                ...                   \n",
       "456215     1327087    0                        0                         \n",
       "                      135000                   3375000                   \n",
       "456217     2287911    180000                   17100000                  \n",
       "456219     2051360    45000                    45000                     \n",
       "                      90000                    360000                    \n",
       "                      135000                   675000                    \n",
       "456225     2445843    180000                   17280000                  \n",
       "456233     2458558    45000                    180000                    \n",
       "                      180000                   1080000                   \n",
       "456235     1499583    45000                    45000                     \n",
       "                      90000                    810000                    \n",
       "456236     2789041    0                        0                         \n",
       "                      180000                   5760000                   \n",
       "456237     2556618    0                        0                         \n",
       "                      225000                   3150000                   \n",
       "456239     2131120    0                        0                         \n",
       "                      135000                   6210000                   \n",
       "                      270000                   8370000                   \n",
       "456241     1509615    45000                    450000                    \n",
       "                      270000                   6210000                   \n",
       "456242     2640681    45000                    45000                     \n",
       "                      225000                   1575000                   \n",
       "456244     2181926    0                        0                         \n",
       "                      450000                   12150000                  \n",
       "456246     1079732    135000                   1080000                   \n",
       "456247     1595171    0                        0                         \n",
       "                      180000                   13680000                  \n",
       "456248     2743495    900000                   20700000                  \n",
       "456250     1794451    175500                   526500                    \n",
       "                      180000                   1620000                   \n",
       "\n",
       "[175093 rows x 20 columns]"
      ]
     },
     "execution_count": 135,
     "metadata": {},
     "output_type": "execute_result"
    }
   ],
   "source": [
    "grp"
   ]
  },
  {
   "cell_type": "code",
   "execution_count": 130,
   "metadata": {},
   "outputs": [
    {
     "data": {
      "text/plain": [
       "(3840312, 24)"
      ]
     },
     "execution_count": 130,
     "metadata": {},
     "output_type": "execute_result"
    }
   ],
   "source": [
    "CCB.shape"
   ]
  },
  {
   "cell_type": "code",
   "execution_count": 105,
   "metadata": {},
   "outputs": [
    {
     "data": {
      "text/plain": [
       "1052"
      ]
     },
     "execution_count": 105,
     "metadata": {},
     "output_type": "execute_result"
    }
   ],
   "source": [
    "CCB = CCB.merge(grp, on='SK_ID_CURR', how='left')\n",
    "gc.collect()"
   ]
  },
  {
   "cell_type": "code",
   "execution_count": 106,
   "metadata": {},
   "outputs": [],
   "source": [
    "my_utils = MyUtils(CCB)"
   ]
  },
  {
   "cell_type": "code",
   "execution_count": 109,
   "metadata": {},
   "outputs": [
    {
     "name": "stdout",
     "output_type": "stream",
     "text": [
      "MONTHS_BALANCE [ 'Month of balance relative to application date (-1 means the freshest balance date)'\n",
      " 'Month of balance relative to application date (-1 means the information to the freshest monthly snapshot, 0 means the information at application - often it will be the same as -1 as many banks are not updating the information to Credit Bureau regularly )']\n",
      "AMT_BALANCE ['Balance during the month of previous credit']\n",
      "AMT_CREDIT_LIMIT_ACTUAL ['Credit card limit during the month of the previous credit']\n",
      "AMT_DRAWINGS_ATM_CURRENT ['Amount drawing at ATM during the month of the previous credit']\n",
      "AMT_DRAWINGS_CURRENT ['Amount drawing during the month of the previous credit']\n",
      "AMT_DRAWINGS_OTHER_CURRENT ['Amount of other drawings during the month of the previous credit']\n",
      "AMT_DRAWINGS_POS_CURRENT ['Amount drawing or buying goods during the month of the previous credit']\n",
      "AMT_INST_MIN_REGULARITY ['Minimal installment for this month of the previous credit']\n",
      "AMT_PAYMENT_CURRENT ['How much did the client pay during the month on the previous credit']\n",
      "AMT_PAYMENT_TOTAL_CURRENT [ 'How much did the client pay during the month in total on the previous credit']\n",
      "AMT_RECEIVABLE_PRINCIPAL ['Amount receivable for principal on the previous credit']\n",
      "AMT_RECIVABLE ['Amount receivable on the previous credit']\n",
      "AMT_TOTAL_RECEIVABLE ['Total amount receivable on the previous credit']\n",
      "CNT_DRAWINGS_ATM_CURRENT ['Number of drawings at ATM during this month on the previous credit']\n",
      "CNT_DRAWINGS_CURRENT ['Number of drawings during this month on the previous credit']\n",
      "CNT_DRAWINGS_OTHER_CURRENT ['Number of other drawings during this month on the previous credit']\n",
      "CNT_DRAWINGS_POS_CURRENT ['Number of drawings for goods during this month on the previous credit']\n",
      "CNT_INSTALMENT_MATURE_CUM ['Number of paid installments on the previous credit']\n",
      "NAME_CONTRACT_STATUS ['Contract status during the month'\n",
      " 'Contract status (active signed,...) on the previous credit'\n",
      " 'Contract status (approved, cancelled, ...) of previous application']\n",
      "SK_DPD ['DPD (days past due) during the month of previous credit'\n",
      " 'DPD (Days past due) during the month on the previous credit']\n",
      "SK_DPD_DEF [ 'DPD during the month with tolerance (debts with low loan amounts are ignored) of the previous credit'\n",
      " 'DPD (Days past due) during the month with tolerance (debts with low loan amounts are ignored) of the previous credit']\n",
      "NO_LOANS_x []\n",
      "NO_LOANS_y []\n",
      "NO_LOANS_x []\n",
      "NO_LOANS_y []\n"
     ]
    }
   ],
   "source": [
    "my_utils.getColDesc()"
   ]
  },
  {
   "cell_type": "code",
   "execution_count": null,
   "metadata": {},
   "outputs": [],
   "source": [
    "CCB.SK_ID_PREV.value_counts()"
   ]
  },
  {
   "cell_type": "code",
   "execution_count": 98,
   "metadata": {},
   "outputs": [
    {
     "data": {
      "text/plain": [
       "False    3840312\n",
       "Name: NO_LOANS, dtype: int64"
      ]
     },
     "execution_count": 98,
     "metadata": {},
     "output_type": "execute_result"
    }
   ],
   "source": [
    "CCB.NO_LOANS.isnull().value_counts()"
   ]
  },
  {
   "cell_type": "code",
   "execution_count": 73,
   "metadata": {},
   "outputs": [
    {
     "data": {
      "text/plain": [
       "0      application_{train|test}.csv\n",
       "122    bureau.csv                  \n",
       "143    POS_CASH_balance.csv        \n",
       "151    credit_card_balance.csv     \n",
       "174    previous_application.csv    \n",
       "212    installments_payments.csv   \n",
       "Name: Table, dtype: object"
      ]
     },
     "execution_count": 73,
     "metadata": {},
     "output_type": "execute_result"
    }
   ],
   "source": [
    "descriptions[descriptions.Row == 'SK_ID_CURR'].Table"
   ]
  },
  {
   "cell_type": "code",
   "execution_count": 8,
   "metadata": {},
   "outputs": [],
   "source": [
    "cred_sort = credit_card_balance.sort_values(by=['SK_ID_CURR', 'MONTHS_BALANCE'])"
   ]
  },
  {
   "cell_type": "code",
   "execution_count": null,
   "metadata": {},
   "outputs": [],
   "source": []
  },
  {
   "cell_type": "code",
   "execution_count": null,
   "metadata": {},
   "outputs": [],
   "source": [
    "cred_sort[cred_sort.groupby('SK_ID_CURR').cumcount() == 0].shape"
   ]
  },
  {
   "cell_type": "code",
   "execution_count": null,
   "metadata": {},
   "outputs": [],
   "source": [
    "cred_month_max_df = credit_card_balance.groupby('SK_ID_CURR').MONTHS_BALANCE.min().to_frame().reset_index()"
   ]
  },
  {
   "cell_type": "code",
   "execution_count": null,
   "metadata": {},
   "outputs": [],
   "source": [
    "credit_card_balance.sort_values(by=['SK_ID_CURR', 'MONTHS_BALANCE_CRED']).head(50)"
   ]
  },
  {
   "cell_type": "code",
   "execution_count": null,
   "metadata": {},
   "outputs": [],
   "source": [
    "zero_amt_cred = credit_card_balance[credit_card_balance.AMT_BALANCE == 0]\n",
    "zero_grp_cred_df = zero_amt_cred.groupby('SK_ID_CURR').AMT_BALANCE.count().to_frame().reset_index()\n",
    "zero_grp_cred_df.columns = ['SK_ID_CURR', 'ZERO_MONTHS_COUNT']"
   ]
  },
  {
   "cell_type": "code",
   "execution_count": null,
   "metadata": {},
   "outputs": [],
   "source": [
    "head_cred[head_cred.groupby('SK_ID_CURR').cumcount() == 0]"
   ]
  },
  {
   "cell_type": "code",
   "execution_count": null,
   "metadata": {},
   "outputs": [],
   "source": [
    "bur_bal_max = bureau_balance.groupby('SK_ID_BUREAU').MONTHS_BALANCE.max().to_frame().reset_index()"
   ]
  },
  {
   "cell_type": "code",
   "execution_count": null,
   "metadata": {},
   "outputs": [],
   "source": [
    "bureau_balance.head()"
   ]
  },
  {
   "cell_type": "code",
   "execution_count": null,
   "metadata": {},
   "outputs": [],
   "source": [
    "bureau.head()"
   ]
  },
  {
   "cell_type": "code",
   "execution_count": null,
   "metadata": {},
   "outputs": [],
   "source": [
    "bur_bal_max.shape"
   ]
  },
  {
   "cell_type": "code",
   "execution_count": null,
   "metadata": {},
   "outputs": [],
   "source": [
    "bureau.shape"
   ]
  },
  {
   "cell_type": "code",
   "execution_count": null,
   "metadata": {},
   "outputs": [],
   "source": [
    "bureau.groupby('SK_ID_CURR').count().shape"
   ]
  },
  {
   "cell_type": "raw",
   "metadata": {},
   "source": [
    "bur_bal_max"
   ]
  },
  {
   "cell_type": "code",
   "execution_count": null,
   "metadata": {},
   "outputs": [],
   "source": [
    "dum_bureau_balance = pd.get_dummies(bureau_balance)"
   ]
  },
  {
   "cell_type": "code",
   "execution_count": null,
   "metadata": {},
   "outputs": [],
   "source": [
    "dum_bureau_balance.groupby('SK_ID_BUREAU').STATUS_0.count().shape"
   ]
  },
  {
   "cell_type": "code",
   "execution_count": null,
   "metadata": {},
   "outputs": [],
   "source": [
    "bureau.SK_ID_BUREAU.value_counts().shape"
   ]
  },
  {
   "cell_type": "code",
   "execution_count": null,
   "metadata": {},
   "outputs": [],
   "source": [
    "bur_bal_merge = bureau.merge(bureau_balance, on='SK_ID_BUREAU', how='left')"
   ]
  },
  {
   "cell_type": "code",
   "execution_count": null,
   "metadata": {},
   "outputs": [],
   "source": [
    "bur_bal_merge.shape"
   ]
  },
  {
   "cell_type": "code",
   "execution_count": null,
   "metadata": {},
   "outputs": [],
   "source": [
    "bur_bal_merge.isnull().sum()"
   ]
  },
  {
   "cell_type": "code",
   "execution_count": null,
   "metadata": {},
   "outputs": [],
   "source": [
    "bureau.corr()"
   ]
  },
  {
   "cell_type": "code",
   "execution_count": null,
   "metadata": {},
   "outputs": [],
   "source": [
    "bureau.dtypes[bureau.dtypes == 'object'].index.values"
   ]
  },
  {
   "cell_type": "code",
   "execution_count": null,
   "metadata": {},
   "outputs": [],
   "source": [
    "credit_card_balance.groupby(['SK_ID_CURR', 'SK_ID_PREV']).AMT_BALANCE.mean().reset_index().sort_values('SK_ID_CURR')"
   ]
  },
  {
   "cell_type": "code",
   "execution_count": null,
   "metadata": {},
   "outputs": [],
   "source": [
    "my_utils = MyUtils(bureau)\n",
    "my_utils.getColDesc()"
   ]
  },
  {
   "cell_type": "code",
   "execution_count": null,
   "metadata": {},
   "outputs": [],
   "source": [
    "my_utils.getColDesc()"
   ]
  },
  {
   "cell_type": "code",
   "execution_count": null,
   "metadata": {},
   "outputs": [],
   "source": [
    "dum_bureau = pd.get_dummies(bureau)"
   ]
  },
  {
   "cell_type": "code",
   "execution_count": null,
   "metadata": {},
   "outputs": [],
   "source": [
    "my_utils = MyUtils(bureau)\n",
    "my_utils.groupBySkidCount('DAYS_CREDIT').shape"
   ]
  },
  {
   "cell_type": "code",
   "execution_count": null,
   "metadata": {},
   "outputs": [],
   "source": [
    "columns_without_spaces = []\n",
    "for col in dum_bureau.columns.values:\n",
    "    columns_without_spaces.append(col.replace(' ', '_'))"
   ]
  },
  {
   "cell_type": "code",
   "execution_count": null,
   "metadata": {},
   "outputs": [],
   "source": [
    "dum_bureau.columns = columns_without_spaces"
   ]
  },
  {
   "cell_type": "code",
   "execution_count": null,
   "metadata": {},
   "outputs": [],
   "source": [
    "dum_bureau.CREDIT_CURRENCY_currency_4.min()"
   ]
  },
  {
   "cell_type": "code",
   "execution_count": null,
   "metadata": {},
   "outputs": [],
   "source": [
    "from __future__ import division\n",
    "bureau.CREDIT_CURRENCY.value_counts()"
   ]
  },
  {
   "cell_type": "code",
   "execution_count": null,
   "metadata": {},
   "outputs": [],
   "source": [
    "dum_bureau.groupby('SK_ID_CURR')['CREDIT_ACTIVE_Active'].mean()"
   ]
  },
  {
   "cell_type": "code",
   "execution_count": null,
   "metadata": {},
   "outputs": [],
   "source": []
  },
  {
   "cell_type": "code",
   "execution_count": null,
   "metadata": {},
   "outputs": [],
   "source": [
    "bureau_num_dfs = {}\n",
    "for col in dum_bureau.columns:\n",
    "    if col != 'object':\n",
    "        meaned_df = dum_bureau.groupby('SK_ID_CURR')[str(col)].mean().to_frame().reset_index()\n",
    "        bureau_num_dfs.append(col, meaned_df)"
   ]
  },
  {
   "cell_type": "code",
   "execution_count": null,
   "metadata": {},
   "outputs": [],
   "source": [
    "dum_bureau.dtypes"
   ]
  },
  {
   "cell_type": "code",
   "execution_count": null,
   "metadata": {},
   "outputs": [],
   "source": [
    "my_utils = MyUtils(concat_with_features)\n",
    "my_utils.get_nulls()"
   ]
  },
  {
   "cell_type": "code",
   "execution_count": null,
   "metadata": {},
   "outputs": [],
   "source": [
    "pos_cash_balance.groupby('SK_ID_CURR').SK_ID_PREV.count().shape"
   ]
  },
  {
   "cell_type": "code",
   "execution_count": null,
   "metadata": {},
   "outputs": [],
   "source": [
    "my_utils = MyUtils(pos_cash_balance)\n",
    "my_utils.getColDesc()"
   ]
  },
  {
   "cell_type": "markdown",
   "metadata": {},
   "source": [
    "#### Remember 'unstack' is used to unfold categorical columns with levels"
   ]
  },
  {
   "cell_type": "markdown",
   "metadata": {},
   "source": [
    "### Dont delete this, It is important"
   ]
  },
  {
   "cell_type": "code",
   "execution_count": null,
   "metadata": {},
   "outputs": [],
   "source": [
    "# pos_cash_balance.sort_values('SK_ID_CURR').head(50)\n",
    "# grouped = pos_cash_balance.groupby(['SK_ID_PREV', 'MONTHS_BALANCE']).mean()"
   ]
  },
  {
   "cell_type": "code",
   "execution_count": null,
   "metadata": {},
   "outputs": [],
   "source": [
    "corr_train = train.corr()\n",
    "corr_test = test.corr()\n",
    "corr_train[corr_train > 0.70][50:]\n",
    "corr_test[corr_test > 0.70][:50]\n",
    "corr_train[corr_train == 0.950842]"
   ]
  },
  {
   "cell_type": "markdown",
   "metadata": {},
   "source": [
    "<strong>Remember to remove one of these columns in credit_card_application as they are correlated</strong>\n",
    "7. CNT_DRAWINGS_ATM_CURRENT | CNT_DRAWINGS_CURRENT columns are correlated (1.0)\n",
    "8. AMT_DRAWINGS_ATM_CURRENT | AMT_DRAWINGS_CURRENT are correlated(1.0)\n",
    "9. SK_DPD | SK_DPD_DEF are correlated by 1.0\n",
    "\n",
    "<strong>These are correlated in installments_payments</strong>\n",
    "1. DAYS_INSTALLMENT | DAYS_ENTRY_PAYMENT (0.99)\n",
    "2. AMT_INSTALMENT | AMT_PAYMENT\n",
    "\n",
    "<strong>In pos_cash_balance</strong>\n",
    "1. CNT_INSTALMENT | CNT_INSTALMENT_FUTURE (0.87)\n",
    "\n",
    "<strong>In train</strong>\n",
    "1. AMT_CREDIT | AMT_ANNUITY (0.77)\n",
    "2. AMT_CREDIT | AMT_GOODS_PRICE (0.98)\n",
    "3. AMT_ANNUITY | AMT_GOODS_PRICE (0.77)\n",
    "4. CNT_FAM_MEMBERS | CNT_CHILDREN\n",
    "5. REGION_RATING_CLIENT | REGION_RATING_CLIENT_W_CITY (0.95)"
   ]
  },
  {
   "cell_type": "markdown",
   "metadata": {},
   "source": [
    "### Let's drop correlated variables\n",
    "`test = test.drop(['AMT_ANNUITY', 'AMT_GOODS_PRICE', 'CNT_CHILDREN', 'REGION_RATING_CLIENT_W_CITY'], axis=1)`"
   ]
  },
  {
   "cell_type": "markdown",
   "metadata": {},
   "source": [
    "### Calculating some correlations"
   ]
  },
  {
   "cell_type": "code",
   "execution_count": null,
   "metadata": {},
   "outputs": [],
   "source": [
    "my_utils = MyUtils(credit_card_balance)\n",
    "my_utils.getDfOfMax().sort_values('SK_ID_PREV')\n",
    "corr_df = my_utils.getDfOfMax()[my_utils.getDfOfMax().SK_ID_PREV == 2243411].sort_values('MONTHS_BALANCE').corr()\n",
    "corr_df[corr_df == 1]"
   ]
  },
  {
   "cell_type": "markdown",
   "metadata": {},
   "source": [
    "### How to get frequency distribution of numpy array"
   ]
  },
  {
   "cell_type": "code",
   "execution_count": null,
   "metadata": {},
   "outputs": [],
   "source": [
    "##How to get frequency distribution in numpy array\n",
    "y = np.bincount(credit_card_balance.SK_ID_PREV.value_counts().values)\n",
    "ii = np.nonzero(y)[0]\n",
    "zip(ii,y[ii])"
   ]
  },
  {
   "cell_type": "markdown",
   "metadata": {},
   "source": [
    "### Checking if skids are in two dataframes"
   ]
  },
  {
   "cell_type": "code",
   "execution_count": null,
   "metadata": {},
   "outputs": [],
   "source": [
    "train_skids = train.SK_ID_CURR\n",
    "test_skids = test.SK_ID_CURR\n",
    "appended = train_skids.append(test_skids)\n",
    "assert len(appended) == len(train_skids) + len(test_skids)\n",
    "not_in_prev = [ skid for skid in appended if skid not in  previous_application.SK_ID_CURR.unique()]\n",
    "len(not_in_prev)\n",
    "not_in_prev_df = pd.DataFrame(not_in_prev)\n",
    "not_in_prev_df.columns = ['SK_ID_CURR']\n",
    "# not_in_prev_df.SK_ID_CURR.value_counts()\n",
    "\n",
    "# len(appended)\n",
    "# previous_application.SK_ID_CURR.unique()"
   ]
  },
  {
   "cell_type": "markdown",
   "metadata": {},
   "source": [
    "### Renaming colums which are similar\n",
    "<a id=\"renamingColumns\"/>\n",
    "Not doing this is causing problems in xgboost. Naming is by adding dataframe name at the end"
   ]
  },
  {
   "cell_type": "code",
   "execution_count": 12,
   "metadata": {},
   "outputs": [],
   "source": [
    "credit_card_balance['NAME_CONTRACT_STATUS_CRED'] = credit_card_balance.NAME_CONTRACT_STATUS\n",
    "credit_card_balance = credit_card_balance.drop(['NAME_CONTRACT_STATUS'], axis=1)\n",
    "credit_card_balance['MONTHS_BALANCE_CRED'] = credit_card_balance.MONTHS_BALANCE\n",
    "credit_card_balance = credit_card_balance.drop(['MONTHS_BALANCE'], axis=1)\n",
    "\n",
    "bureau_balance['MONTHS_BALANCE_BUR'] = bureau_balance.MONTHS_BALANCE\n",
    "bureau_balance = bureau_balance.drop(['MONTHS_BALANCE'], axis=1)\n",
    "pos_cash_balance['MONTHS_BALANCE_POS'] = pos_cash_balance.MONTHS_BALANCE\n",
    "pos_cash_balance = pos_cash_balance.drop(['MONTHS_BALANCE'], axis=1)\n",
    "pos_cash_balance['SK_DPD_DEF_POS'] = pos_cash_balance.SK_DPD_DEF\n",
    "pos_cash_balance = pos_cash_balance.drop(['SK_DPD_DEF'], axis=1)\n",
    "pos_cash_balance['NAME_CONTRACT_STATUS_POS'] = pos_cash_balance.NAME_CONTRACT_STATUS\n",
    "pos_cash_balance = pos_cash_balance.drop(['NAME_CONTRACT_STATUS'], axis=1)\n",
    "\n",
    "\n",
    "previous_application['HOUR_APPR_PROCESS_START_PREV'] = previous_application.HOUR_APPR_PROCESS_START\n",
    "previous_application = previous_application.drop(['HOUR_APPR_PROCESS_START'], axis=1)\n",
    "previous_application['NAME_TYPE_SUITE_PREV'] = previous_application.NAME_TYPE_SUITE\n",
    "previous_application = previous_application.drop(['NAME_TYPE_SUITE'], axis=1)\n",
    "previous_application['WEEKDAY_APPR_PROCESS_START_PREV'] = previous_application.WEEKDAY_APPR_PROCESS_START\n",
    "previous_application = previous_application.drop(['WEEKDAY_APPR_PROCESS_START'], axis=1)\n",
    "previous_application['NAME_CONTRACT_TYPE_PREV'] = previous_application.NAME_CONTRACT_TYPE\n",
    "previous_application = previous_application.drop(['NAME_CONTRACT_TYPE'], axis=1)\n",
    "previous_application['AMT_CREDIT_PREV'] = previous_application.AMT_CREDIT\n",
    "previous_application = previous_application.drop(['AMT_CREDIT'], axis=1)\n",
    "previous_application['AMT_GOODS_PRICE_PREV'] = previous_application.AMT_GOODS_PRICE\n",
    "previous_application = previous_application.drop(['AMT_GOODS_PRICE'], axis=1)\n",
    "previous_application['NAME_CONTRACT_STATUS_PREV'] = previous_application.NAME_CONTRACT_STATUS\n",
    "previous_application= previous_application.drop(['NAME_CONTRACT_STATUS'], axis=1)"
   ]
  },
  {
   "cell_type": "code",
   "execution_count": null,
   "metadata": {},
   "outputs": [],
   "source": [
    "# if 'NAME_CONTRACT_STATUS' in previous_application.columns:\n",
    "#     credit_card_balance['NAME_CONTRACT_STATUS_CRED'] = credit_card_balance.NAME_CONTRACT_STATUS"
   ]
  },
  {
   "cell_type": "code",
   "execution_count": null,
   "metadata": {},
   "outputs": [],
   "source": []
  },
  {
   "cell_type": "markdown",
   "metadata": {},
   "source": [
    "<a id=\"createFeatures\">Starting to create feature columns</a>\n",
    "\n",
    "Columns with Levels needs to be unstacked after group by\n",
    "<p><strong>This is to get pure columns. It is almost like creating dummies</strong></p>"
   ]
  },
  {
   "cell_type": "markdown",
   "metadata": {},
   "source": [
    "### Bureau related features"
   ]
  },
  {
   "cell_type": "code",
   "execution_count": 13,
   "metadata": {},
   "outputs": [],
   "source": [
    "feature_dataframes = {} #creating a dictionary of dataframes"
   ]
  },
  {
   "cell_type": "code",
   "execution_count": 14,
   "metadata": {},
   "outputs": [],
   "source": [
    "bureau_cred_curr = bureau[['SK_ID_CURR', 'CREDIT_ACTIVE', 'CREDIT_CURRENCY']]"
   ]
  },
  {
   "cell_type": "code",
   "execution_count": 15,
   "metadata": {},
   "outputs": [
    {
     "name": "stdout",
     "output_type": "stream",
     "text": [
      "Shape of active_percent_df is (305811, 2)\n"
     ]
    }
   ],
   "source": [
    "dum_bureau_cred_curr = pd.get_dummies(bureau_cred_curr)\n",
    "dum_bureau_cred_curr.columns = ['SK_ID_CURR', 'credit_active', 'credit_baddebt', 'credit_closed', 'credit_sold',\n",
    "                           'currency1', 'currency2', 'currency3', 'currency4']\n",
    "\n",
    "bureau_active = dum_bureau_cred_curr.groupby('SK_ID_CURR').credit_active.sum().to_frame().reset_index()\n",
    "bureau_total = bureau.groupby('SK_ID_CURR').SK_ID_BUREAU.count().to_frame().reset_index()\n",
    "\n",
    "merge_active_burtotal = bureau_active.merge(bureau_total, on='SK_ID_CURR', how='inner')\n",
    "merge_active_burtotal['active_percent'] = merge_active_burtotal.credit_active / merge_active_burtotal.SK_ID_BUREAU\n",
    "\n",
    "active_percent_df = merge_active_burtotal[['SK_ID_CURR', 'active_percent']]\n",
    "feature_dataframes['active_percent_df'] = active_percent_df\n",
    "print('Shape of active_percent_df is %s'%(str(active_percent_df.shape)))"
   ]
  },
  {
   "cell_type": "code",
   "execution_count": null,
   "metadata": {},
   "outputs": [],
   "source": [
    "feature_dataframes"
   ]
  },
  {
   "cell_type": "code",
   "execution_count": null,
   "metadata": {},
   "outputs": [],
   "source": [
    "str(sk_dpd_def_pos_df)"
   ]
  },
  {
   "cell_type": "code",
   "execution_count": 19,
   "metadata": {},
   "outputs": [],
   "source": [
    "my_utils = MyUtils(pos_cash_balance)\n",
    "sk_dpd_def_pos_df = my_utils.groupBySkidMean('SK_DPD_DEF_POS')\n",
    "feature_dataframes['sk_dpd_def_pos_df'] = sk_dpd_def_pos_df\n",
    "sk_dpd_df = my_utils.groupBySkidMean('SK_DPD')\n",
    "feature_dataframes['sk_dpd_df'] = sk_dpd_df\n",
    "# sk_dpd_def_pos_df.merge(sk_dpd_df, how='left', on='SK_ID_CURR').corr()\n",
    "\n",
    "# bur_grp_df =bureau.groupby('SK_ID_CURR').CREDIT_ACTIVE.value_counts().unstack()\n",
    "# bur_grp_df.columns = ['credit_active', 'credit_bad_debt', 'credit_closed', 'credit_sold']\n",
    "# bur_grp_df = bur_grp_df.fillna(value=0).reset_index()\n",
    "\n",
    "bur_curr_df = bureau.groupby('SK_ID_CURR').CREDIT_CURRENCY.value_counts().unstack()\n",
    "bur_curr_df.columns = ['currency1', 'currency2', 'currency3', 'currency4']\n",
    "bur_curr_df = bur_curr_df.fillna(value=0).reset_index()\n",
    "feature_dataframes['bur_curr_df'] = bur_curr_df\n",
    "\n",
    "# bur_credtype_df = bureau.groupby('SK_ID_CURR').CREDIT_TYPE.value_counts().unstack()\n",
    "# bur_credtype_df.columns = ['currency1', 'currency2', 'currency3', 'currency4']\n",
    "# bur_credtype_df = bur_credtype_df.fillna(value=0).reset_index()\n",
    "\n",
    "my_utils = MyUtils(bureau)\n",
    "bur_amtcredsum_df = my_utils.groupBySkidMean('AMT_CREDIT_SUM')\n",
    "feature_dataframes['bur_amtcredsum_df'] = bur_amtcredsum_df\n",
    "\n"
   ]
  },
  {
   "cell_type": "code",
   "execution_count": 20,
   "metadata": {},
   "outputs": [],
   "source": [
    "assert len(feature_dataframes) == 5"
   ]
  },
  {
   "cell_type": "code",
   "execution_count": null,
   "metadata": {},
   "outputs": [],
   "source": [
    "# bur_curr_df.shape\n",
    "# max_month_df.shape\n"
   ]
  },
  {
   "cell_type": "code",
   "execution_count": null,
   "metadata": {},
   "outputs": [],
   "source": [
    "bureau.head()"
   ]
  },
  {
   "cell_type": "code",
   "execution_count": null,
   "metadata": {},
   "outputs": [],
   "source": [
    "my_utils = MyUtils(bureau)\n",
    "my_utils.getColDesc()"
   ]
  },
  {
   "cell_type": "code",
   "execution_count": null,
   "metadata": {},
   "outputs": [],
   "source": [
    "bureau.corr()"
   ]
  },
  {
   "cell_type": "code",
   "execution_count": null,
   "metadata": {},
   "outputs": [],
   "source": [
    "bureau.sort_values(['SK_ID_CURR', 'DAYS_CREDIT']).head()"
   ]
  },
  {
   "cell_type": "code",
   "execution_count": 21,
   "metadata": {},
   "outputs": [],
   "source": [
    "my_utils = MyUtils(bureau)\n",
    "bur_dayscredupdate_df = my_utils.groupBySkidMean('DAYS_CREDIT_UPDATE')\n",
    "feature_dataframes['bur_dayscredupdate_df'] = bur_dayscredupdate_df\n",
    "\n",
    "bur_creddayoverdue_df = my_utils.groupBySkidMean('CREDIT_DAY_OVERDUE')\n",
    "feature_dataframes['bur_creddayoverdue_df'] = bur_creddayoverdue_df\n",
    "\n",
    "bur_days_credit_max_df = bureau.groupby('SK_ID_CURR').DAYS_CREDIT.max().to_frame().reset_index().rename(columns={'DAYS_CREDIT': 'days_credit_max'})\n",
    "feature_dataframes['bur_days_credit_max_df'] = bur_days_credit_max_df\n",
    "\n",
    "bur_days_credit_min_df = bureau.groupby('SK_ID_CURR').DAYS_CREDIT.min().to_frame().reset_index().rename(columns={'DAYS_CREDIT': 'days_credit_min'})\n",
    "feature_dataframes['bur_days_credit_min_df'] = bur_days_credit_min_df\n",
    "\n",
    "bur_days_credit_mean_df = bureau.groupby('SK_ID_CURR').DAYS_CREDIT.mean().to_frame().reset_index().rename(columns={'DAYS_CREDIT': 'days_credit_mean'})\n",
    "feature_dataframes['bur_days_credit_mean_df'] = bur_days_credit_mean_df\n",
    "\n",
    "bur_amtcred_sum_df = bureau.groupby('SK_ID_CURR').AMT_CREDIT_SUM.mean().to_frame().reset_index()\n",
    "feature_dataframes['bur_amtcred_sum_df'] = bur_amtcred_sum_df\n",
    "\n",
    "bur_amt_cred_sum_overdue_df = my_utils.groupBySkidMean('AMT_CREDIT_SUM_OVERDUE')\n",
    "feature_dataframes['bur_amt_cred_sum_overdue_df'] = bur_amt_cred_sum_overdue_df\n",
    "\n",
    "bur_amt_cred_sum_limit_df = my_utils.groupBySkidMean('AMT_CREDIT_SUM_LIMIT')\n",
    "feature_dataframes['bur_amt_cred_sum_limit_df'] = bur_amt_cred_sum_limit_df\n",
    "\n",
    "bur_amt_credit_sum_debt_df = my_utils.groupBySkidMean('AMT_CREDIT_SUM_DEBT')\n",
    "feature_dataframes['bur_amt_credit_sum_debt_df'] = bur_amt_credit_sum_debt_df\n"
   ]
  },
  {
   "cell_type": "code",
   "execution_count": null,
   "metadata": {},
   "outputs": [],
   "source": [
    "assert len(feature_dataframes) == 14\n",
    "\n",
    "for (key,value) in feature_dataframes.items():\n",
    "    print('Shape of %s is %s'%(key, value.shape))"
   ]
  },
  {
   "cell_type": "code",
   "execution_count": 24,
   "metadata": {},
   "outputs": [],
   "source": [
    "bb_cnt_df = bureau_balance.SK_ID_BUREAU.value_counts().to_frame().reset_index()\n",
    "bb_cnt_df.columns = ['SK_ID_BUREAU', 'bb_cnt']\n",
    "\n",
    "bureau_bb_cnt_df = bureau.merge(bb_cnt_df, on='SK_ID_BUREAU', how='inner')\n",
    "grp_cnt_bureau_df = bureau_bb_cnt_df.groupby('SK_ID_CURR').bb_cnt.sum().to_frame().reset_index()\n",
    "feature_dataframes['grp_cnt_bureau_df'] = grp_cnt_bureau_df"
   ]
  },
  {
   "cell_type": "code",
   "execution_count": 25,
   "metadata": {},
   "outputs": [],
   "source": [
    "bureau_cnt_df = bureau.SK_ID_CURR.value_counts().to_frame().reset_index()\n",
    "bureau_cnt_df.columns = ['SK_ID_CURR', 'bureau_cnt']"
   ]
  },
  {
   "cell_type": "code",
   "execution_count": 26,
   "metadata": {},
   "outputs": [],
   "source": [
    "my_utils = MyUtils(bureau)\n",
    "bureau_cnt_df = my_utils.skidCount('bureau_')\n",
    "feature_dataframes['bureau_cnt_df'] = bureau_cnt_df"
   ]
  },
  {
   "cell_type": "code",
   "execution_count": 27,
   "metadata": {},
   "outputs": [],
   "source": [
    "burbal_df = bureau_balance['SK_ID_BUREAU'].value_counts().to_frame().reset_index()\n",
    "burbal_df.columns = ['SK_ID_BUREAU',  'bureau_cnt']\n",
    "feature_dataframes['burbal_df'] = burbal_df"
   ]
  },
  {
   "cell_type": "code",
   "execution_count": 26,
   "metadata": {},
   "outputs": [
    {
     "data": {
      "text/plain": [
       "True     942074\n",
       "False    774354\n",
       "Name: bureau_cnt, dtype: int64"
      ]
     },
     "execution_count": 26,
     "metadata": {},
     "output_type": "execute_result"
    }
   ],
   "source": [
    "bureau[['SK_ID_CURR', 'SK_ID_BUREAU']].merge(burbal_df, on='SK_ID_BUREAU', how='left') \\\n",
    "            .bureau_cnt.isnull().value_counts()"
   ]
  },
  {
   "cell_type": "markdown",
   "metadata": {},
   "source": [
    "### Merging Bureau and Bureau balance\n",
    "Remember that each one sk_id_curr is asoociated with many sk_id_bureau which in turn has monthly records so will have to multiply both"
   ]
  },
  {
   "cell_type": "code",
   "execution_count": 28,
   "metadata": {},
   "outputs": [],
   "source": [
    "#merge bureau and bureau_balance\n",
    "bureau_burbal = bureau[['SK_ID_CURR', 'SK_ID_BUREAU']].merge(burbal_df, on='SK_ID_BUREAU', how='inner')\n",
    "bureau_burbal.bureau_cnt = bureau_burbal.bureau_cnt.fillna(value=0)\n",
    "bureau_burbal_df = bureau_burbal.groupby('SK_ID_CURR').bureau_cnt.sum().reset_index()\n",
    "feature_dataframes['bureau_burbal_df'] = bureau_burbal_df"
   ]
  },
  {
   "cell_type": "code",
   "execution_count": 29,
   "metadata": {},
   "outputs": [
    {
     "data": {
      "text/plain": [
       "(774354, 3)"
      ]
     },
     "execution_count": 29,
     "metadata": {},
     "output_type": "execute_result"
    }
   ],
   "source": [
    "bureau_burbal.shape"
   ]
  },
  {
   "cell_type": "code",
   "execution_count": null,
   "metadata": {},
   "outputs": [],
   "source": [
    "bureau_burbal_df"
   ]
  },
  {
   "cell_type": "markdown",
   "metadata": {},
   "source": [
    "### previous_application related features"
   ]
  },
  {
   "cell_type": "code",
   "execution_count": 30,
   "metadata": {},
   "outputs": [],
   "source": [
    "prev_app_cnt_df = previous_application.SK_ID_CURR.value_counts().to_frame().reset_index()\n",
    "prev_app_cnt_df.columns = ['SK_ID_CURR', 'prev_app_cnt']\n",
    "feature_dataframes['prev_app_cnt_df'] = prev_app_cnt_df\n",
    "\n",
    "#name_contr_df\n",
    "nam_contr = previous_application[['SK_ID_CURR', 'NAME_CONTRACT_TYPE_PREV']]\n",
    "nam_cntr_dummied_df = nam_contr.groupby('SK_ID_CURR').NAME_CONTRACT_TYPE_PREV.value_counts().unstack()\n",
    "nam_cntr_dummied_df.columns = ['cash_loans', 'consumer_loans', 'revolving_loans', 'xna']\n",
    "nam_cntr_dummied_df = nam_cntr_dummied_df.fillna(value=0).reset_index()\n",
    "feature_dataframes['nam_cntr_dummied_df'] = nam_cntr_dummied_df\n",
    "\n",
    "cnt_payment_df = previous_application.groupby('SK_ID_CURR').CNT_PAYMENT.sum().to_frame().reset_index()\n",
    "feature_dataframes['cnt_payment_df'] = cnt_payment_df"
   ]
  },
  {
   "cell_type": "markdown",
   "metadata": {},
   "source": [
    "### Count of skidcurr in credit card balance"
   ]
  },
  {
   "cell_type": "code",
   "execution_count": 31,
   "metadata": {},
   "outputs": [],
   "source": [
    "cred_cnt_df = credit_card_balance.SK_ID_CURR.value_counts().to_frame().reset_index()\n",
    "cred_cnt_df.columns = ['SK_ID_CURR', 'cred_cnt']\n",
    "feature_dataframes['cred_cnt_df'] = cred_cnt_df"
   ]
  },
  {
   "cell_type": "markdown",
   "metadata": {},
   "source": [
    "### Max value of months in credit card balance"
   ]
  },
  {
   "cell_type": "code",
   "execution_count": 32,
   "metadata": {},
   "outputs": [],
   "source": [
    "cred_month_max_df = credit_card_balance.groupby('SK_ID_CURR').MONTHS_BALANCE_CRED.min().to_frame().reset_index()\n",
    "feature_dataframes['cred_month_max_df'] = cred_month_max_df"
   ]
  },
  {
   "cell_type": "markdown",
   "metadata": {},
   "source": [
    "### Number of zeros in credi card balance"
   ]
  },
  {
   "cell_type": "code",
   "execution_count": 33,
   "metadata": {},
   "outputs": [],
   "source": [
    "zero_amt_cred = credit_card_balance[credit_card_balance.AMT_BALANCE == 0]\n",
    "zero_grp_cred_df = zero_amt_cred.groupby('SK_ID_CURR').AMT_BALANCE.count().to_frame().reset_index()\n",
    "zero_grp_cred_df.columns = ['SK_ID_CURR', 'ZERO_MONTHS_COUNT']\n",
    "feature_dataframes['zero_grp_cred_df'] = zero_grp_cred_df"
   ]
  },
  {
   "cell_type": "code",
   "execution_count": 34,
   "metadata": {},
   "outputs": [],
   "source": [
    "my_utils = MyUtils(df=credit_card_balance)\n",
    "amt_balance_df = my_utils.groupBySkidMean('AMT_BALANCE')\n",
    "feature_dataframes['amt_balance_df'] = amt_balance_df"
   ]
  },
  {
   "cell_type": "code",
   "execution_count": null,
   "metadata": {},
   "outputs": [],
   "source": [
    "credit_card_balance.corr()"
   ]
  },
  {
   "cell_type": "code",
   "execution_count": null,
   "metadata": {},
   "outputs": [],
   "source": [
    "my_utils.getColDesc()"
   ]
  },
  {
   "cell_type": "code",
   "execution_count": 35,
   "metadata": {},
   "outputs": [],
   "source": [
    "my_utils = MyUtils(previous_application)\n",
    "amt_credit_df = my_utils.groupBySkidMean('AMT_CREDIT_PREV')\n",
    "feature_dataframes['amt_credit_df'] = amt_credit_df"
   ]
  },
  {
   "cell_type": "code",
   "execution_count": null,
   "metadata": {},
   "outputs": [],
   "source": [
    "previous_application.corr()"
   ]
  },
  {
   "cell_type": "code",
   "execution_count": 37,
   "metadata": {},
   "outputs": [],
   "source": [
    "cols_select = ['SK_ID_CURR', 'NAME_CONTRACT_STATUS_PREV']\n",
    "prevapp_select = previous_application[cols_select]"
   ]
  },
  {
   "cell_type": "code",
   "execution_count": 38,
   "metadata": {},
   "outputs": [],
   "source": [
    "prev_name_cntr_status_df = prevapp_select.groupby('SK_ID_CURR').NAME_CONTRACT_STATUS_PREV.value_counts().unstack().fillna(value=0)\n",
    "prev_name_cntr_status_df.columns = ['NAME_CONTRACT_STATUS_PREV_approved', 'NAME_CONTRACT_STATUS_PREV_canceled', 'NAME_CONTRACT_STATUS_PREV_refused', 'NAME_CONTRACT_STATUS_PREV_unused']\n",
    "prev_name_cntr_status_df = prev_name_cntr_status_df.reset_index()\n",
    "feature_dataframes['prev_name_cntr_status_df'] = prev_name_cntr_status_df"
   ]
  },
  {
   "cell_type": "code",
   "execution_count": 39,
   "metadata": {},
   "outputs": [],
   "source": [
    "#This is because concatted is used in the next code block\n",
    "train_x = train.drop(['TARGET'], axis=1)\n",
    "concatted = pd.concat([train_x, test])"
   ]
  },
  {
   "cell_type": "code",
   "execution_count": 40,
   "metadata": {},
   "outputs": [],
   "source": [
    "my_utils = MyUtils(pos_cash_balance)\n",
    "# count_contract_status_df = my_utils.groupBySkidCount('NAME_CONTRACT_STATUS_POS')\n",
    "pos_cash_bal_dum = pd.get_dummies(pos_cash_balance)\n",
    "pos_cash_active_df = pos_cash_bal_dum.groupby('SK_ID_CURR').NAME_CONTRACT_STATUS_POS_Active \\\n",
    "                                .sum().to_frame().reset_index()\n",
    "feature_dataframes['pos_cash_active_df'] = pos_cash_active_df\n",
    "\n",
    "total_skids_pos = pos_cash_balance.groupby('SK_ID_CURR').SK_ID_PREV.count().to_frame().reset_index()\n",
    "merge_total_active_df = pos_cash_active_df.merge(total_skids_pos, on='SK_ID_CURR', how='left')\n",
    "merge_total_active_df.columns = ['SK_ID_CURR', 'ACTIVE', 'TOTAL_OF_GROUP']\n",
    "merge_total_active_df['ratio_active'] = merge_total_active_df.ACTIVE / merge_total_active_df.TOTAL_OF_GROUP\n",
    "merge_total_active_df = merge_total_active_df.drop(['ACTIVE', 'TOTAL_OF_GROUP'], axis=1)\n",
    "feature_dataframes['merge_total_active_df'] = merge_total_active_df\n",
    "\n",
    "##from pos_cash_balance, get the minimum value of Month and Maximum value of Month as features\n",
    "min_month_df = pos_cash_balance.groupby('SK_ID_CURR').MONTHS_BALANCE_POS.min().to_frame().reset_index()\n",
    "feature_dataframes['min_month_df'] = min_month_df\n",
    "\n",
    "min_month_df = pos_cash_balance.groupby('SK_ID_CURR').MONTHS_BALANCE_POS.max().to_frame().reset_index()\n",
    "feature_dataframes['min_month_df'] = min_month_df\n",
    "\n",
    "max_dpd_df = pos_cash_balance.groupby('SK_ID_CURR').SK_DPD.max().to_frame().reset_index()\n",
    "feature_dataframes['max_dpd_df'] = max_dpd_df\n",
    "\n",
    "#Making levels of name_contract_pos into feature\n",
    "cols_to_select = ['SK_ID_CURR', 'NAME_CONTRACT_STATUS_POS']\n",
    "pos_select = pos_cash_balance[cols_to_select]\n",
    "pos_name_contract_df = pos_select.groupby('SK_ID_CURR').NAME_CONTRACT_STATUS_POS.value_counts().unstack().fillna(value=0)\n",
    "pos_name_contract_df.columns = ['pos_active', 'pos_amortized_debt', 'pos_approved', 'pos_canceled', 'pos_completed', 'pos_demand', 'pos_returned_to_store', 'pos_signed', 'pos_xna']\n",
    "pos_name_contract_df = pos_name_contract_df.reset_index()\n",
    "feature_dataframes['pos_name_contract_df'] = pos_name_contract_df\n",
    "\n",
    "pos_cnt_instalmentMax_df = pos_cash_balance.groupby('SK_ID_CURR').CNT_INSTALMENT.max().to_frame().reset_index()\n",
    "\n",
    "cred_card_grp_df = credit_card_balance.groupby('SK_ID_CURR').SK_ID_PREV.count().to_frame().reset_index()\n",
    "concatted_select = concatted.iloc[:,0].to_frame() ##concatted is by joining test and train\n",
    "cred_card_grp_df.columns = ['SK_ID_CURR', 'HAS_CRED']\n",
    "\n",
    "concat_select_cred_df = concatted_select.merge(cred_card_grp_df, on='SK_ID_CURR', how='left')\n",
    "concat_select_cred_df.HAS_CRED = concat_select_cred_df.HAS_CRED.apply(lambda x: 0 if x != x else 1 ) #checking if x is null\n",
    "feature_dataframes['concat_select_cred_df'] = concat_select_cred_df\n"
   ]
  },
  {
   "cell_type": "code",
   "execution_count": 41,
   "metadata": {},
   "outputs": [],
   "source": [
    "assert total_skids_pos.shape[0] == pos_cash_active_df.shape[0]"
   ]
  },
  {
   "cell_type": "code",
   "execution_count": null,
   "metadata": {},
   "outputs": [],
   "source": [
    "pos_cash_balance.head()"
   ]
  },
  {
   "cell_type": "code",
   "execution_count": 42,
   "metadata": {},
   "outputs": [],
   "source": [
    "pos_cnt_instalmentMax_df = pos_cash_balance.groupby('SK_ID_CURR').CNT_INSTALMENT.max().to_frame().reset_index()\n",
    "feature_dataframes['pos_cnt_instalmentMax_df'] = pos_cnt_instalmentMax_df\n",
    "\n",
    "pos_cnt_instalmentMin_df = pos_cash_balance.groupby('SK_ID_CURR').CNT_INSTALMENT.min().to_frame().reset_index()\n",
    "feature_dataframes['pos_cnt_instalmentMin_df'] = pos_cnt_instalmentMin_df"
   ]
  },
  {
   "cell_type": "markdown",
   "metadata": {},
   "source": [
    "### In installments_payments days_installment and days_entry_payment are correlated (0.99)\n",
    "amt_instalment and amt_payment are correlated (0.937)"
   ]
  },
  {
   "cell_type": "code",
   "execution_count": 43,
   "metadata": {},
   "outputs": [],
   "source": [
    "installments_payments['payment_ratio'] = installments_payments.AMT_PAYMENT / installments_payments.AMT_INSTALMENT\n",
    "my_utils = MyUtils(installments_payments)\n",
    "payment_ratio_df = my_utils.groupBySkidMean('payment_ratio')\n",
    "feature_dataframes['payment_ratio_df'] = payment_ratio_df"
   ]
  },
  {
   "cell_type": "code",
   "execution_count": null,
   "metadata": {},
   "outputs": [],
   "source": [
    "installments_payments.head()"
   ]
  },
  {
   "cell_type": "code",
   "execution_count": null,
   "metadata": {},
   "outputs": [],
   "source": [
    "my_utils = MyUtils(installments_payments)\n",
    "my_utils.getColDesc()"
   ]
  },
  {
   "cell_type": "code",
   "execution_count": 16,
   "metadata": {},
   "outputs": [
    {
     "data": {
      "text/plain": [
       "(817395,)"
      ]
     },
     "execution_count": 16,
     "metadata": {},
     "output_type": "execute_result"
    }
   ],
   "source": [
    "# bureau_balance.sort_values(['SK_ID_BUREAU', 'MONTHS_BALANCE']).head(50)\n",
    "bureau_balance.SK_ID_BUREAU.value_counts().shape"
   ]
  },
  {
   "cell_type": "code",
   "execution_count": 49,
   "metadata": {},
   "outputs": [],
   "source": [
    "assert bureau.SK_ID_BUREAU.shape == bureau.SK_ID_BUREAU.unique().shape"
   ]
  },
  {
   "cell_type": "code",
   "execution_count": 44,
   "metadata": {},
   "outputs": [
    {
     "name": "stdout",
     "output_type": "stream",
     "text": [
      "active_percent_df\n",
      "sk_dpd_def_pos_df\n",
      "sk_dpd_df\n",
      "bur_curr_df\n",
      "bur_amtcredsum_df\n",
      "bur_dayscredupdate_df\n",
      "bur_creddayoverdue_df\n",
      "bur_days_credit_max_df\n",
      "bur_days_credit_min_df\n",
      "bur_days_credit_mean_df\n",
      "bur_amtcred_sum_df\n",
      "bur_amt_cred_sum_overdue_df\n",
      "bur_amt_cred_sum_limit_df\n",
      "bur_amt_credit_sum_debt_df\n",
      "grp_cnt_bureau_df\n",
      "bureau_cnt_df\n",
      "burbal_df\n",
      "bureau_burbal_df\n",
      "prev_app_cnt_df\n",
      "nam_cntr_dummied_df\n",
      "cnt_payment_df\n",
      "cred_cnt_df\n",
      "cred_month_max_df\n",
      "zero_grp_cred_df\n",
      "amt_balance_df\n",
      "amt_credit_df\n",
      "prev_name_cntr_status_df\n",
      "pos_cash_active_df\n",
      "merge_total_active_df\n",
      "min_month_df\n",
      "max_dpd_df\n",
      "pos_name_contract_df\n",
      "concat_select_cred_df\n",
      "pos_cnt_instalmentMax_df\n",
      "pos_cnt_instalmentMin_df\n",
      "payment_ratio_df\n"
     ]
    }
   ],
   "source": [
    "for (key, value) in feature_dataframes.items():\n",
    "    print(key)"
   ]
  },
  {
   "cell_type": "markdown",
   "metadata": {},
   "source": [
    "### Start the Main Process\n",
    "<a id=\"startTraining\"/>"
   ]
  },
  {
   "cell_type": "code",
   "execution_count": 45,
   "metadata": {},
   "outputs": [],
   "source": [
    "train_x = train.drop(['TARGET'], axis=1)"
   ]
  },
  {
   "cell_type": "code",
   "execution_count": 46,
   "metadata": {},
   "outputs": [],
   "source": [
    "assert train_x.shape[1] == test.shape[1]"
   ]
  },
  {
   "cell_type": "code",
   "execution_count": 47,
   "metadata": {},
   "outputs": [],
   "source": [
    "concatted = pd.concat([train_x, test])"
   ]
  },
  {
   "cell_type": "code",
   "execution_count": 48,
   "metadata": {},
   "outputs": [
    {
     "data": {
      "text/plain": [
       "(356255, 121)"
      ]
     },
     "execution_count": 48,
     "metadata": {},
     "output_type": "execute_result"
    }
   ],
   "source": [
    "concatted.shape"
   ]
  },
  {
   "cell_type": "markdown",
   "metadata": {},
   "source": [
    "### Let's remove correlated columns here"
   ]
  },
  {
   "cell_type": "code",
   "execution_count": 49,
   "metadata": {},
   "outputs": [],
   "source": [
    "# concatted = concatted.drop(['AMT_ANNUITY', 'AMT_GOODS_PRICE', 'CNT_CHILDREN', 'REGION_RATING_CLIENT_W_CITY'], axis=1)"
   ]
  },
  {
   "cell_type": "code",
   "execution_count": 50,
   "metadata": {},
   "outputs": [],
   "source": [
    "# assert installments_payments[installments_payments.diff_amount.isnull()].shape[0] == installments_payments[installments_payments.diff_days.isnull()].shape[0]"
   ]
  },
  {
   "cell_type": "code",
   "execution_count": 51,
   "metadata": {},
   "outputs": [],
   "source": [
    "#Since they share same rows, joint them\n",
    "# join_amt_days = diff_amt_mean_df.merge(diff_days_mean_df, on='SK_ID_CURR', how='inner')"
   ]
  },
  {
   "cell_type": "code",
   "execution_count": 52,
   "metadata": {},
   "outputs": [],
   "source": [
    "# concat_with_features.SK_ID_CURR.value_counts()"
   ]
  },
  {
   "cell_type": "markdown",
   "metadata": {},
   "source": [
    "### Doing Joins with Engineered Features\n",
    "<a id=\"mergeDfs\"/>"
   ]
  },
  {
   "cell_type": "code",
   "execution_count": 54,
   "metadata": {},
   "outputs": [],
   "source": [
    "concat_with_features = concatted.merge(pos_cash_active_df, on='SK_ID_CURR', how='left') \\\n",
    "            .merge(amt_credit_df, on='SK_ID_CURR', how='left') \\\n",
    "            .merge(amt_balance_df, on='SK_ID_CURR', how='left') \\\n",
    "            .merge(cnt_payment_df, on='SK_ID_CURR', how='left') \\\n",
    "            .merge(prev_app_cnt_df, on='SK_ID_CURR', how='left') \\\n",
    "            .merge(cred_cnt_df, on='SK_ID_CURR', how='left') \\\n",
    "            .merge(bureau_burbal_df, on='SK_ID_CURR', how='left') \\\n",
    "            .merge(bur_curr_df, on='SK_ID_CURR', how='left') \\\n",
    "            .merge(bur_days_credit_max_df, on='SK_ID_CURR', how='left') \\\n",
    "            .merge(bur_days_credit_min_df, on='SK_ID_CURR', how='left') \\\n",
    "            .merge(bur_days_credit_mean_df, on='SK_ID_CURR', how='left') \\\n",
    "            .merge(bur_amtcredsum_df, on='SK_ID_CURR', how='left') \\\n",
    "            .merge(bur_dayscredupdate_df, on='SK_ID_CURR', how='left') \\\n",
    "            .merge(bur_creddayoverdue_df, on='SK_ID_CURR', how='left') \\\n",
    "            .merge(bur_amtcred_sum_df, on='SK_ID_CURR', how='left') \\\n",
    "            .merge(nam_cntr_dummied_df, on='SK_ID_CURR', how='left') \\\n",
    "            .merge(prev_name_cntr_status_df, on='SK_ID_CURR', how='left') \\\n",
    "            .merge(sk_dpd_def_pos_df, on='SK_ID_CURR', how='left') \\\n",
    "            .merge(sk_dpd_df, on='SK_ID_CURR', how='left') \\\n",
    "            .merge(bur_amt_cred_sum_overdue_df, on='SK_ID_CURR', how='left') \\\n",
    "            .merge(bur_amt_cred_sum_limit_df, on='SK_ID_CURR', how='left') \\\n",
    "            .merge(bur_amt_credit_sum_debt_df, on='SK_ID_CURR', how='left') \\\n",
    "            .merge(min_month_df, on='SK_ID_CURR', how='left')\\\n",
    "            .merge(max_dpd_df, on='SK_ID_CURR', how='left') \\\n",
    "            .merge(pos_name_contract_df, on='SK_ID_CURR', how='left') \\\n",
    "            .merge(pos_cnt_instalmentMax_df, on='SK_ID_CURR', how='left') \\\n",
    "            .merge(pos_cnt_instalmentMin_df, on='SK_ID_CURR', how='left') \\\n",
    "            .merge(concat_select_cred_df, on='SK_ID_CURR', how='left') \\\n",
    "            .merge(active_percent_df, on='SK_ID_CURR', how='left') \\\n",
    "            .merge(cred_month_max_df, on='SK_ID_CURR', how='left') \\\n",
    "            .merge(zero_grp_cred_df, on='SK_ID_CURR', how='left') \\\n",
    "            .merge(payment_ratio_df, on='SK_ID_CURR', how='left') "
   ]
  },
  {
   "cell_type": "code",
   "execution_count": 55,
   "metadata": {},
   "outputs": [
    {
     "name": "stdout",
     "output_type": "stream",
     "text": [
      "The shape of active_percent_df is (305811, 2)\n",
      "The shape of sk_dpd_def_pos_df is (337252, 2)\n",
      "The shape of sk_dpd_df is (337252, 2)\n",
      "The shape of bur_curr_df is (305811, 5)\n",
      "The shape of bur_amtcredsum_df is (305811, 2)\n",
      "The shape of bur_dayscredupdate_df is (305811, 2)\n",
      "The shape of bur_creddayoverdue_df is (305811, 2)\n",
      "The shape of bur_days_credit_max_df is (305811, 2)\n",
      "The shape of bur_days_credit_min_df is (305811, 2)\n",
      "The shape of bur_days_credit_mean_df is (305811, 2)\n",
      "The shape of bur_amtcred_sum_df is (305811, 2)\n",
      "The shape of bur_amt_cred_sum_overdue_df is (305811, 2)\n",
      "The shape of bur_amt_cred_sum_limit_df is (305811, 2)\n",
      "The shape of bur_amt_credit_sum_debt_df is (305811, 2)\n",
      "The shape of grp_cnt_bureau_df is (134542, 2)\n",
      "The shape of bureau_cnt_df is (305811, 2)\n",
      "The shape of burbal_df is (817395, 2)\n",
      "The shape of bureau_burbal_df is (134542, 2)\n",
      "The shape of prev_app_cnt_df is (338857, 2)\n",
      "The shape of nam_cntr_dummied_df is (338857, 5)\n",
      "The shape of cnt_payment_df is (338857, 2)\n",
      "The shape of cred_cnt_df is (103558, 2)\n",
      "The shape of cred_month_max_df is (103558, 2)\n",
      "The shape of zero_grp_cred_df is (89531, 2)\n",
      "The shape of amt_balance_df is (103558, 2)\n",
      "The shape of amt_credit_df is (338857, 2)\n",
      "The shape of prev_name_cntr_status_df is (338857, 5)\n",
      "The shape of pos_cash_active_df is (337252, 2)\n",
      "The shape of merge_total_active_df is (337252, 2)\n",
      "The shape of min_month_df is (337252, 2)\n",
      "The shape of max_dpd_df is (337252, 2)\n",
      "The shape of pos_name_contract_df is (337252, 10)\n",
      "The shape of concat_select_cred_df is (356255, 2)\n",
      "The shape of pos_cnt_instalmentMax_df is (337252, 2)\n",
      "The shape of pos_cnt_instalmentMin_df is (337252, 2)\n",
      "The shape of payment_ratio_df is (339587, 2)\n"
     ]
    }
   ],
   "source": [
    "for (key, value) in feature_dataframes.items():\n",
    "    print('The shape of %s is %s'%(key, value.shape))"
   ]
  },
  {
   "cell_type": "code",
   "execution_count": null,
   "metadata": {},
   "outputs": [],
   "source": []
  },
  {
   "cell_type": "markdown",
   "metadata": {},
   "source": [
    "<p style=\"color: steelblue;\"> Reminder: check if there are nulls because of merge later</p>"
   ]
  },
  {
   "cell_type": "code",
   "execution_count": null,
   "metadata": {},
   "outputs": [],
   "source": [
    "#Checking correlation between them\n",
    "# bureau_total.merge(bureau_burbal_df, on='SK_ID_CURR', how='inner').corr()"
   ]
  },
  {
   "cell_type": "code",
   "execution_count": null,
   "metadata": {},
   "outputs": [],
   "source": []
  },
  {
   "cell_type": "code",
   "execution_count": null,
   "metadata": {},
   "outputs": [],
   "source": [
    "concat_with_features.iloc[:,129:].head()"
   ]
  },
  {
   "cell_type": "code",
   "execution_count": 55,
   "metadata": {},
   "outputs": [
    {
     "data": {
      "text/plain": [
       "123"
      ]
     },
     "execution_count": 55,
     "metadata": {},
     "output_type": "execute_result"
    }
   ],
   "source": [
    "concat_with_features.columns.get_loc('AMT_BALANCE')"
   ]
  },
  {
   "cell_type": "code",
   "execution_count": 131,
   "metadata": {},
   "outputs": [
    {
     "data": {
      "text/plain": [
       "'AMT_REQ_CREDIT_BUREAU_YEAR'"
      ]
     },
     "execution_count": 131,
     "metadata": {},
     "output_type": "execute_result"
    }
   ],
   "source": [
    "concatted.columns[-1]"
   ]
  },
  {
   "cell_type": "code",
   "execution_count": 240,
   "metadata": {},
   "outputs": [
    {
     "data": {
      "text/plain": [
       "120"
      ]
     },
     "execution_count": 240,
     "metadata": {},
     "output_type": "execute_result"
    }
   ],
   "source": [
    "concat_with_features.columns.get_loc('AMT_REQ_CREDIT_BUREAU_YEAR')"
   ]
  },
  {
   "cell_type": "code",
   "execution_count": 56,
   "metadata": {},
   "outputs": [],
   "source": [
    "#fill nas after 138th column with zeros. lower cased column names are engineered columns\n",
    "concat_with_features.iloc[:,123:] = concat_with_features.iloc[:,123:].fillna(value=0)"
   ]
  },
  {
   "cell_type": "code",
   "execution_count": 57,
   "metadata": {},
   "outputs": [],
   "source": [
    "y_train = train.TARGET"
   ]
  },
  {
   "cell_type": "markdown",
   "metadata": {},
   "source": [
    "### Load Imputer Libraries"
   ]
  },
  {
   "cell_type": "code",
   "execution_count": 58,
   "metadata": {},
   "outputs": [],
   "source": [
    "from sklearn.preprocessing import Imputer\n",
    "my_imputer = Imputer()\n",
    "from sklearn.ensemble import RandomForestClassifier\n",
    "clf = RandomForestClassifier()\n",
    "# clf = LogisticRegression()"
   ]
  },
  {
   "cell_type": "code",
   "execution_count": 59,
   "metadata": {},
   "outputs": [],
   "source": [
    "concat_with_features_drop = concat_with_features.drop('SK_ID_CURR', axis=1)"
   ]
  },
  {
   "cell_type": "code",
   "execution_count": 60,
   "metadata": {},
   "outputs": [],
   "source": [
    "dummied = pd.get_dummies(concat_with_features_drop)"
   ]
  },
  {
   "cell_type": "code",
   "execution_count": 61,
   "metadata": {},
   "outputs": [],
   "source": [
    "imputed = my_imputer.fit_transform(dummied)"
   ]
  },
  {
   "cell_type": "code",
   "execution_count": 62,
   "metadata": {},
   "outputs": [],
   "source": [
    "imputed_df = pd.DataFrame(imputed)\n",
    "# imputed_df.columns = dummied.columns"
   ]
  },
  {
   "cell_type": "markdown",
   "metadata": {},
   "source": [
    "### Split the test and train back"
   ]
  },
  {
   "cell_type": "code",
   "execution_count": 63,
   "metadata": {},
   "outputs": [],
   "source": [
    "new_x_train_df = imputed_df[:train_x.shape[0]]\n",
    "new_test_df = imputed_df[train_x.shape[0]:]"
   ]
  },
  {
   "cell_type": "code",
   "execution_count": 64,
   "metadata": {},
   "outputs": [],
   "source": [
    "assert new_x_train_df.shape[0] == train.shape[0] "
   ]
  },
  {
   "cell_type": "code",
   "execution_count": 65,
   "metadata": {},
   "outputs": [],
   "source": [
    "assert new_test_df.shape[0] == test.shape[0]"
   ]
  },
  {
   "cell_type": "markdown",
   "metadata": {},
   "source": [
    "### Initiate XGBoost Classifier"
   ]
  },
  {
   "cell_type": "code",
   "execution_count": 308,
   "metadata": {},
   "outputs": [],
   "source": [
    "# from xgboost import XGBClassifier\n",
    "# model = XGBClassifier()\n",
    "# n_estimators = [50, 100, 150, 200]\n",
    "# max_depth = [2, 4, 6, 8]\n",
    "# param_grid = dict(max_depth=max_depth, n_estimators=n_estimators)\n",
    "# kfold = StratifiedKFold(n_splits=10, shuffle=True, random_state=7)\n",
    "# grid_search = GridSearchCV(model, param_grid, cv=kfold, n_jobs=-1)\n",
    "# grid_result = grid_search.fit(new_x_train_df, y_train)\n",
    "# print 'Best %s using %s'%(str(grid_result.best_score_), str(grid_result.best_params_))"
   ]
  },
  {
   "cell_type": "code",
   "execution_count": 66,
   "metadata": {},
   "outputs": [
    {
     "name": "stderr",
     "output_type": "stream",
     "text": [
      "/opt/conda/lib/python3.6/site-packages/ipykernel_launcher.py:1: SettingWithCopyWarning: \n",
      "A value is trying to be set on a copy of a slice from a DataFrame.\n",
      "Try using .loc[row_indexer,col_indexer] = value instead\n",
      "\n",
      "See the caveats in the documentation: http://pandas.pydata.org/pandas-docs/stable/indexing.html#indexing-view-versus-copy\n",
      "  \"\"\"Entry point for launching an IPython kernel.\n"
     ]
    }
   ],
   "source": [
    "new_x_train_df['TARGET'] = train.TARGET"
   ]
  },
  {
   "cell_type": "code",
   "execution_count": 67,
   "metadata": {},
   "outputs": [
    {
     "name": "stdout",
     "output_type": "stream",
     "text": [
      "shape of sampled indices is (11, 24825)\n",
      "starting 0 th sample\n",
      "starting 1 th sample\n",
      "starting 2 th sample\n",
      "starting 3 th sample\n",
      "starting 4 th sample\n",
      "starting 5 th sample\n",
      "starting 6 th sample\n",
      "starting 7 th sample\n",
      "starting 8 th sample\n",
      "starting 9 th sample\n",
      "starting 10 th sample\n",
      "Done!!\n"
     ]
    }
   ],
   "source": [
    "\n",
    "train_zeros = new_x_train_df[new_x_train_df.TARGET == 0]\n",
    "train_ones = new_x_train_df[new_x_train_df.TARGET == 1]\n",
    "sampled_indices = np.random.choice(train_zeros.index, size=[11, train_ones.shape[0]], replace=False)\n",
    "print ('shape of sampled indices is %s'%(str(sampled_indices.shape)))\n",
    "test_dropid = new_test_df\n",
    "ensembled = np.zeros([11, test.shape[0]])\n",
    "preds_list = []\n",
    "for i in range(11):\n",
    "    print ('starting %s th sample'%(str(i)))\n",
    "    new_train = pd.concat([train_zeros.loc[sampled_indices[i]], train_ones])\n",
    "    train_y = new_train.TARGET\n",
    "    train_x = new_train.drop(['TARGET'], axis=1)\n",
    "    \n",
    "    concatted = pd.concat([train_x, test_dropid])\n",
    "    concatted_dummied = pd.get_dummies(concatted)\n",
    "    imputed_concatted = my_imputer.fit_transform(concatted_dummied)\n",
    "    imputed_concatted_df = pd.DataFrame(imputed_concatted)\n",
    "    imputed_concatted_df.columns = concatted_dummied.columns\n",
    "    #split them back to train and test\n",
    "    train_x_after_impute = imputed_concatted_df[:train_x.shape[0]]\n",
    "    test_x = imputed_concatted_df[train_x.shape[0]:]\n",
    "    clf.fit(train_x_after_impute, train_y)\n",
    "    preds = clf.predict_proba(test_x)\n",
    "    pred_actual = preds[:,1]\n",
    "    ensembled[i] = pred_actual\n",
    "print ('Done!!')\n",
    "\n"
   ]
  },
  {
   "cell_type": "code",
   "execution_count": null,
   "metadata": {},
   "outputs": [],
   "source": [
    "dropped = new_x_train_df.drop(['TARGET'], axis=1)\n",
    "x_resampled, y_resampled = SMOTE().fit_sample(dropped, y_train)\n",
    "clf.fit(x_resampled, y_resampled)\n",
    "predicts = clf.predict_log_proba(new_test_df)"
   ]
  },
  {
   "cell_type": "code",
   "execution_count": null,
   "metadata": {},
   "outputs": [],
   "source": [
    "predicts = clf.predict_proba(new_test_df)"
   ]
  },
  {
   "cell_type": "code",
   "execution_count": null,
   "metadata": {},
   "outputs": [],
   "source": [
    "y_train.shape"
   ]
  },
  {
   "cell_type": "code",
   "execution_count": null,
   "metadata": {},
   "outputs": [],
   "source": [
    "meaned = predicts[:,0]"
   ]
  },
  {
   "cell_type": "code",
   "execution_count": 68,
   "metadata": {},
   "outputs": [],
   "source": [
    "meaned = np.mean(ensembled, axis=0)\n",
    "assert meaned.shape[0] == 48744"
   ]
  },
  {
   "cell_type": "code",
   "execution_count": null,
   "metadata": {},
   "outputs": [],
   "source": [
    "clf.fit(x_resampled, y_resampled)"
   ]
  },
  {
   "cell_type": "code",
   "execution_count": null,
   "metadata": {},
   "outputs": [],
   "source": [
    "preds = clf.predict_proba(new_test)\n",
    "pred_actual = preds[:,1]"
   ]
  },
  {
   "cell_type": "code",
   "execution_count": null,
   "metadata": {},
   "outputs": [],
   "source": [
    "assert len(not_included) == test.shape[0] - test_merged.shape[0]"
   ]
  },
  {
   "cell_type": "code",
   "execution_count": 69,
   "metadata": {},
   "outputs": [],
   "source": [
    "preds_df = pd.DataFrame(meaned)\n",
    "subm = pd.concat([test.SK_ID_CURR, preds_df], axis=1)\n",
    "subm.columns = ['SK_ID_CURR', 'TARGET']"
   ]
  },
  {
   "cell_type": "code",
   "execution_count": 70,
   "metadata": {},
   "outputs": [],
   "source": [
    "subm_csv = subm.to_csv('submission.csv', sep=',', index=False)"
   ]
  },
  {
   "cell_type": "code",
   "execution_count": 225,
   "metadata": {},
   "outputs": [
    {
     "name": "stdout",
     "output_type": "stream",
     "text": [
      "mv: cannot move 'submission.csv' to '/home/pranay/Downloads/': No such file or directory\r\n"
     ]
    }
   ],
   "source": [
    "%mv submission.csv /home/pranay/Downloads/"
   ]
  },
  {
   "cell_type": "code",
   "execution_count": null,
   "metadata": {},
   "outputs": [],
   "source": [
    "credit_card_balance.sort_values(by=['SK_ID_CURR', 'MONTHS_BALANCE_CRED']).head()"
   ]
  },
  {
   "cell_type": "code",
   "execution_count": null,
   "metadata": {},
   "outputs": [],
   "source": [
    "credit_card_balance.AMT_DRAWINGS_CURRENT.plot.hist()"
   ]
  },
  {
   "cell_type": "code",
   "execution_count": null,
   "metadata": {},
   "outputs": [],
   "source": [
    "train.shape"
   ]
  },
  {
   "cell_type": "code",
   "execution_count": null,
   "metadata": {},
   "outputs": [],
   "source": [
    "pos_cash_balance.SK_ID_CURR.value_counts()"
   ]
  },
  {
   "cell_type": "code",
   "execution_count": null,
   "metadata": {},
   "outputs": [],
   "source": [
    "credit_card_balance.SK_ID_CURR.value_counts()"
   ]
  },
  {
   "cell_type": "code",
   "execution_count": null,
   "metadata": {},
   "outputs": [],
   "source": [
    "previous_application.SK_ID_CURR.value_counts()"
   ]
  },
  {
   "cell_type": "code",
   "execution_count": null,
   "metadata": {},
   "outputs": [],
   "source": [
    "for col in credit_card_balance"
   ]
  },
  {
   "cell_type": "code",
   "execution_count": null,
   "metadata": {},
   "outputs": [],
   "source": [
    "credit_card_balance.SK_ID_CURR.dtype == 'in'"
   ]
  },
  {
   "cell_type": "code",
   "execution_count": null,
   "metadata": {},
   "outputs": [],
   "source": [
    "assert new_train.shape[0] == train_ones.shape[0] * 2"
   ]
  },
  {
   "cell_type": "code",
   "execution_count": null,
   "metadata": {},
   "outputs": [],
   "source": [
    "floats = less_nulls_concat.loc[:,less_nulls_concat.dtypes == 'float64']\n",
    "ints = less_nulls_concat.loc[:,less_nulls_concat.dtypes == 'int64']\n",
    "objectly = less_nulls_concat.loc[:,less_nulls_concat.dtypes == 'object']"
   ]
  },
  {
   "cell_type": "code",
   "execution_count": null,
   "metadata": {},
   "outputs": [],
   "source": [
    "floats = floats.fillna(floats.mean())\n",
    "ints = ints.fillna(ints.mean())"
   ]
  },
  {
   "cell_type": "code",
   "execution_count": null,
   "metadata": {},
   "outputs": [],
   "source": [
    "assert floats.shape[0] == concatted.shape[0]"
   ]
  },
  {
   "cell_type": "code",
   "execution_count": null,
   "metadata": {},
   "outputs": [],
   "source": [
    "get_nulls(ints)"
   ]
  },
  {
   "cell_type": "code",
   "execution_count": null,
   "metadata": {},
   "outputs": [],
   "source": []
  },
  {
   "cell_type": "code",
   "execution_count": null,
   "metadata": {},
   "outputs": [],
   "source": [
    "pred_actual_df = pd.DataFrame(pred_actual)"
   ]
  },
  {
   "cell_type": "code",
   "execution_count": null,
   "metadata": {},
   "outputs": [],
   "source": [
    "subm = pd.concat([test.SK_ID_CURR, pred_actual_df], axis=1)"
   ]
  },
  {
   "cell_type": "code",
   "execution_count": null,
   "metadata": {},
   "outputs": [],
   "source": [
    "subm.columns = ['SK_ID_CURR', 'TARGET']"
   ]
  },
  {
   "cell_type": "code",
   "execution_count": null,
   "metadata": {},
   "outputs": [],
   "source": [
    "subm.columns"
   ]
  },
  {
   "cell_type": "code",
   "execution_count": null,
   "metadata": {},
   "outputs": [],
   "source": [
    "subm_csv = subm.to_csv('submission.csv', sep=',', index=False)"
   ]
  },
  {
   "cell_type": "code",
   "execution_count": null,
   "metadata": {},
   "outputs": [],
   "source": []
  },
  {
   "cell_type": "code",
   "execution_count": null,
   "metadata": {},
   "outputs": [],
   "source": [
    "%cp sample_submission.csv /home/pranay/Downloads/"
   ]
  },
  {
   "cell_type": "code",
   "execution_count": null,
   "metadata": {},
   "outputs": [],
   "source": [
    "sample = pd.read_csv('sample_submission.csv', sep=',')"
   ]
  },
  {
   "cell_type": "code",
   "execution_count": null,
   "metadata": {},
   "outputs": [],
   "source": [
    "subm.shape"
   ]
  },
  {
   "cell_type": "code",
   "execution_count": null,
   "metadata": {},
   "outputs": [],
   "source": [
    "# sample\n",
    "subm.TARGET.value_counts().plot.bar()"
   ]
  },
  {
   "cell_type": "code",
   "execution_count": null,
   "metadata": {},
   "outputs": [],
   "source": [
    "train_y.value_counts()"
   ]
  },
  {
   "cell_type": "code",
   "execution_count": null,
   "metadata": {},
   "outputs": [],
   "source": [
    "imputed_concatted.shape"
   ]
  },
  {
   "cell_type": "code",
   "execution_count": null,
   "metadata": {},
   "outputs": [],
   "source": [
    "get_nulls(concatted_dummied)"
   ]
  },
  {
   "cell_type": "code",
   "execution_count": null,
   "metadata": {},
   "outputs": [],
   "source": [
    "get_nulls(ints)"
   ]
  },
  {
   "cell_type": "code",
   "execution_count": null,
   "metadata": {},
   "outputs": [],
   "source": [
    "objectly = objectly.fillna(objectly.mode())"
   ]
  },
  {
   "cell_type": "code",
   "execution_count": null,
   "metadata": {},
   "outputs": [],
   "source": [
    "get_nulls(objectly)"
   ]
  },
  {
   "cell_type": "code",
   "execution_count": null,
   "metadata": {},
   "outputs": [],
   "source": [
    "objectly.EMERGENCYSTATE_MODE.fillna(objectly.EMERGENCYSTATE_MODE.mode())"
   ]
  },
  {
   "cell_type": "code",
   "execution_count": null,
   "metadata": {},
   "outputs": [],
   "source": [
    "msno.matrix(objectly)"
   ]
  },
  {
   "cell_type": "code",
   "execution_count": null,
   "metadata": {},
   "outputs": [],
   "source": [
    "less_nulls_concat.dtypes.value_counts()"
   ]
  },
  {
   "cell_type": "code",
   "execution_count": null,
   "metadata": {},
   "outputs": [],
   "source": []
  },
  {
   "cell_type": "code",
   "execution_count": null,
   "metadata": {},
   "outputs": [],
   "source": [
    "concatted.loc[:, concatted[less]"
   ]
  },
  {
   "cell_type": "code",
   "execution_count": null,
   "metadata": {},
   "outputs": [],
   "source": [
    "assert concatted.shape[0] == train.shape[0] + test.shape[0]"
   ]
  },
  {
   "cell_type": "code",
   "execution_count": null,
   "metadata": {},
   "outputs": [],
   "source": []
  },
  {
   "cell_type": "code",
   "execution_count": null,
   "metadata": {},
   "outputs": [],
   "source": [
    "credit_card_balance.head()"
   ]
  },
  {
   "cell_type": "code",
   "execution_count": null,
   "metadata": {},
   "outputs": [],
   "source": [
    "credit_card_balance[credit_card_balance.SK_ID_CURR == 186401].sort_values(by='MONTHS_BALANCE').head()"
   ]
  },
  {
   "cell_type": "code",
   "execution_count": null,
   "metadata": {},
   "outputs": [],
   "source": [
    "count_credit = credit_card_balance.groupby('SK_ID_CURR').SK_ID_CURR.count().sort_values(ascending=False).to_frame()"
   ]
  },
  {
   "cell_type": "code",
   "execution_count": null,
   "metadata": {},
   "outputs": [],
   "source": [
    "credit_card_balance.groupby('SK_ID_PREV').SK_ID_PREV.count().sort_values(ascending=False)"
   ]
  },
  {
   "cell_type": "code",
   "execution_count": null,
   "metadata": {},
   "outputs": [],
   "source": [
    "count_credit = credit_card_balance.groupby('SK_ID_CURR').SK_ID_CURR.count().sort_values(ascending=False)"
   ]
  },
  {
   "cell_type": "code",
   "execution_count": null,
   "metadata": {},
   "outputs": [],
   "source": [
    "count_credit"
   ]
  },
  {
   "cell_type": "code",
   "execution_count": null,
   "metadata": {},
   "outputs": [],
   "source": [
    "count_credit['COUNT'] = count_credit.SK_ID_CURR"
   ]
  },
  {
   "cell_type": "code",
   "execution_count": null,
   "metadata": {},
   "outputs": [],
   "source": [
    "count_credit['SK_ID_CURR'] = count_credit.index"
   ]
  },
  {
   "cell_type": "code",
   "execution_count": null,
   "metadata": {},
   "outputs": [],
   "source": [
    "merged = pd.merge(train, count_credit, how='inner', on='SK_ID_CURR')"
   ]
  },
  {
   "cell_type": "code",
   "execution_count": null,
   "metadata": {},
   "outputs": [],
   "source": [
    "merge_test = pd.merge(test, count_credit, how='inner', on='SK_ID_CURR')"
   ]
  },
  {
   "cell_type": "code",
   "execution_count": null,
   "metadata": {},
   "outputs": [],
   "source": [
    "assert merge_test.shape[0] == test.shape[0]"
   ]
  },
  {
   "cell_type": "code",
   "execution_count": null,
   "metadata": {},
   "outputs": [],
   "source": [
    "merged.columns"
   ]
  },
  {
   "cell_type": "code",
   "execution_count": null,
   "metadata": {},
   "outputs": [],
   "source": [
    "merged.COUNT.isnull().value_counts()"
   ]
  },
  {
   "cell_type": "code",
   "execution_count": null,
   "metadata": {},
   "outputs": [],
   "source": [
    "[ col for col in credit_card_balance.SK_ID_CURR.unique() if col not in train.SK_ID_CURR ]"
   ]
  },
  {
   "cell_type": "code",
   "execution_count": null,
   "metadata": {},
   "outputs": [],
   "source": [
    "train.TARGET.value_counts()"
   ]
  },
  {
   "cell_type": "code",
   "execution_count": null,
   "metadata": {},
   "outputs": [],
   "source": [
    "def get_description_of_columns(df):\n",
    "    for col in df.columns[2:]:\n",
    "        print col, descriptions[descriptions.Row == str(col)].Description.values"
   ]
  },
  {
   "cell_type": "code",
   "execution_count": null,
   "metadata": {},
   "outputs": [],
   "source": [
    "get_description_of_columns(credit_card_balance)"
   ]
  },
  {
   "cell_type": "code",
   "execution_count": null,
   "metadata": {},
   "outputs": [],
   "source": [
    "for col in credit_card_balance.columns[2:]:\n",
    "    print col, descriptions[descriptions.Row == str(col)].Description.values"
   ]
  },
  {
   "cell_type": "code",
   "execution_count": null,
   "metadata": {},
   "outputs": [],
   "source": [
    "descriptions.head()"
   ]
  },
  {
   "cell_type": "code",
   "execution_count": null,
   "metadata": {},
   "outputs": [],
   "source": [
    "train.groupby(['TARGET'])['NAME_CONTRACT_TYPE'].value_counts(normalize=True)"
   ]
  },
  {
   "cell_type": "code",
   "execution_count": null,
   "metadata": {},
   "outputs": [],
   "source": [
    "train.groupby(['TARGET'])['CODE_GENDER'].value_counts(normalize=True)"
   ]
  },
  {
   "cell_type": "code",
   "execution_count": null,
   "metadata": {},
   "outputs": [],
   "source": [
    "train.groupby(['TARGET'])['FLAG_OWN_CAR'].value_counts(normalize=True)"
   ]
  },
  {
   "cell_type": "code",
   "execution_count": null,
   "metadata": {},
   "outputs": [],
   "source": [
    "train.groupby(['TARGET'])['FLAG_OWN_REALTY'].value_counts(normalize=True)"
   ]
  },
  {
   "cell_type": "code",
   "execution_count": null,
   "metadata": {},
   "outputs": [],
   "source": [
    "train.groupby(['TARGET'])['CNT_CHILDREN'].value_counts(normalize=True)"
   ]
  },
  {
   "cell_type": "code",
   "execution_count": null,
   "metadata": {},
   "outputs": [],
   "source": [
    "msno.matrix(train[:10000])"
   ]
  },
  {
   "cell_type": "code",
   "execution_count": null,
   "metadata": {},
   "outputs": [],
   "source": [
    "train.head()"
   ]
  },
  {
   "cell_type": "code",
   "execution_count": null,
   "metadata": {},
   "outputs": [],
   "source": [
    "train.shape"
   ]
  },
  {
   "cell_type": "code",
   "execution_count": null,
   "metadata": {},
   "outputs": [],
   "source": [
    "nulls = train.isnull().sum() * 100/train.shape[0]"
   ]
  },
  {
   "cell_type": "code",
   "execution_count": null,
   "metadata": {},
   "outputs": [],
   "source": [
    "null_test = test.isnull().sum() * 100/test.shape[0]"
   ]
  },
  {
   "cell_type": "code",
   "execution_count": null,
   "metadata": {},
   "outputs": [],
   "source": [
    "above_fifty_null_test = null_test[null_test > 50].index"
   ]
  },
  {
   "cell_type": "code",
   "execution_count": null,
   "metadata": {},
   "outputs": [],
   "source": [
    "less_nulls_test = null_test[null_test < 50].index\n",
    "less_nulls_train = null_test[null_test < 50].index"
   ]
  },
  {
   "cell_type": "code",
   "execution_count": null,
   "metadata": {},
   "outputs": [],
   "source": [
    "msno.matrix(test[less_nulls_test])"
   ]
  },
  {
   "cell_type": "code",
   "execution_count": null,
   "metadata": {},
   "outputs": [],
   "source": [
    "msno.matrix(train[less_nulls_train])"
   ]
  },
  {
   "cell_type": "code",
   "execution_count": null,
   "metadata": {},
   "outputs": [],
   "source": [
    "above_fifty_null_test"
   ]
  },
  {
   "cell_type": "code",
   "execution_count": null,
   "metadata": {},
   "outputs": [],
   "source": [
    "above_fifty_nulls = nulls[nulls > 50].index\n",
    "above_fifty_nulls"
   ]
  },
  {
   "cell_type": "code",
   "execution_count": null,
   "metadata": {},
   "outputs": [],
   "source": [
    "[ col for col in above_fifty_nulls if col not in above_fifty_null_test ]"
   ]
  },
  {
   "cell_type": "code",
   "execution_count": null,
   "metadata": {},
   "outputs": [],
   "source": [
    "remove_nulls = train.drop(above_fifty_nulls, axis=1)"
   ]
  },
  {
   "cell_type": "code",
   "execution_count": null,
   "metadata": {},
   "outputs": [],
   "source": [
    "assert remove_nulls.shape[1] == train.shape[1] - above_fifty_nulls.shape[0]"
   ]
  },
  {
   "cell_type": "code",
   "execution_count": null,
   "metadata": {},
   "outputs": [],
   "source": [
    "msno.matrix(remove_nulls)"
   ]
  },
  {
   "cell_type": "code",
   "execution_count": null,
   "metadata": {},
   "outputs": [],
   "source": [
    "msno.matrix(remove_nulls.iloc[:100, 40:60])"
   ]
  },
  {
   "cell_type": "code",
   "execution_count": null,
   "metadata": {},
   "outputs": [],
   "source": [
    "remove_nulls.isnull().sum() * 100 /(remove_nulls.shape[0])"
   ]
  },
  {
   "cell_type": "code",
   "execution_count": null,
   "metadata": {},
   "outputs": [],
   "source": [
    "for col in remove_nulls.columns[remove_nulls.dtypes == 'object'].values:\n",
    "    print remove_nulls.groupby(['TARGET'])[str(col)].value_counts(normalize=True)"
   ]
  },
  {
   "cell_type": "code",
   "execution_count": null,
   "metadata": {},
   "outputs": [],
   "source": [
    "remove_nulls.dtypes.value_counts()"
   ]
  },
  {
   "cell_type": "code",
   "execution_count": null,
   "metadata": {},
   "outputs": [],
   "source": [
    "previous_application.head()"
   ]
  },
  {
   "cell_type": "code",
   "execution_count": null,
   "metadata": {},
   "outputs": [],
   "source": [
    "for col in previous_application.columns.values:\n",
    "    print col, descriptions[descriptions.Row == str(col)].Description.unique()"
   ]
  },
  {
   "cell_type": "code",
   "execution_count": null,
   "metadata": {},
   "outputs": [],
   "source": [
    "previous_application[previous_application.columns[previous_application.dtypes == 'float64'].values].head()"
   ]
  },
  {
   "cell_type": "code",
   "execution_count": null,
   "metadata": {},
   "outputs": [],
   "source": [
    "previous_application[previous_application.columns[previous_application.dtypes == 'float64']].isnull().sum()"
   ]
  },
  {
   "cell_type": "code",
   "execution_count": null,
   "metadata": {},
   "outputs": [],
   "source": [
    "previous_application.SK_ID_PREV.value_counts().head()"
   ]
  },
  {
   "cell_type": "code",
   "execution_count": null,
   "metadata": {},
   "outputs": [],
   "source": [
    "895844 * 100 / previous_application.shape[0]"
   ]
  },
  {
   "cell_type": "code",
   "execution_count": null,
   "metadata": {},
   "outputs": [],
   "source": [
    "pos_cash_balance.head()"
   ]
  },
  {
   "cell_type": "code",
   "execution_count": null,
   "metadata": {},
   "outputs": [],
   "source": [
    "previous_application.dtypes.value_counts()"
   ]
  },
  {
   "cell_type": "code",
   "execution_count": null,
   "metadata": {},
   "outputs": [],
   "source": [
    "descriptions.head()"
   ]
  },
  {
   "cell_type": "code",
   "execution_count": null,
   "metadata": {},
   "outputs": [],
   "source": [
    "descriptions[descriptions.Row == 'AMT_GOODS_PRICE']"
   ]
  },
  {
   "cell_type": "code",
   "execution_count": null,
   "metadata": {},
   "outputs": [],
   "source": [
    "for col in remove_nulls.columns[remove_nulls.dtypes == 'float64']:\n",
    "    if (col != 'SK_ID_CURR') and (col != 'TARGET'):\n",
    "        print remove_nulls.groupby(['TARGET'])[str(col)].mean()"
   ]
  },
  {
   "cell_type": "code",
   "execution_count": null,
   "metadata": {},
   "outputs": [],
   "source": [
    "#getting columns with missing values granular\n",
    "ranges = [(0,30),(30,60), (60, 120)]\n",
    "\n",
    "for i in ranges:\n",
    "    msno.matrix(remove_nulls.iloc[:100, i[0]:i[1]])"
   ]
  },
  {
   "cell_type": "code",
   "execution_count": null,
   "metadata": {},
   "outputs": [],
   "source": [
    "remove_nulls.OCCUPATION_TYPE.isnull().value_counts(normalize=True)"
   ]
  },
  {
   "cell_type": "code",
   "execution_count": null,
   "metadata": {},
   "outputs": [],
   "source": [
    "nulls = remove_nulls.isnull().sum() * 100/train.shape[0]"
   ]
  },
  {
   "cell_type": "code",
   "execution_count": null,
   "metadata": {},
   "outputs": [],
   "source": [
    "null_cols = nulls[nulls > 30].index.values"
   ]
  },
  {
   "cell_type": "code",
   "execution_count": null,
   "metadata": {},
   "outputs": [],
   "source": [
    "#dtypes of null cols in remove_nulls data frame\n",
    "for col in null_cols:\n",
    "    print col, remove_nulls[str(col)].dtype"
   ]
  },
  {
   "cell_type": "code",
   "execution_count": null,
   "metadata": {},
   "outputs": [],
   "source": [
    "#dtypes of missing cols in train\n",
    "for col in nulls[nulls > 50].index.values:\n",
    "    print col, train[str(col)].dtypes"
   ]
  },
  {
   "cell_type": "code",
   "execution_count": null,
   "metadata": {},
   "outputs": [],
   "source": [
    "pos_cash_balance.isnull().sum()"
   ]
  },
  {
   "cell_type": "code",
   "execution_count": null,
   "metadata": {},
   "outputs": [],
   "source": [
    "previous_application.head()"
   ]
  },
  {
   "cell_type": "code",
   "execution_count": null,
   "metadata": {},
   "outputs": [],
   "source": [
    "previous_application.SK_ID_CURR.value_counts().head()"
   ]
  },
  {
   "cell_type": "code",
   "execution_count": null,
   "metadata": {},
   "outputs": [],
   "source": [
    "previous_application.isnull().sum()"
   ]
  },
  {
   "cell_type": "code",
   "execution_count": null,
   "metadata": {},
   "outputs": [],
   "source": [
    "credit_card_balance.isnull().sum()"
   ]
  },
  {
   "cell_type": "code",
   "execution_count": null,
   "metadata": {},
   "outputs": [],
   "source": [
    "credit_card_balance.head()"
   ]
  },
  {
   "cell_type": "code",
   "execution_count": null,
   "metadata": {},
   "outputs": [],
   "source": []
  }
 ],
 "metadata": {
  "kernelspec": {
   "display_name": "Python 3",
   "language": "python",
   "name": "python3"
  },
  "language_info": {
   "codemirror_mode": {
    "name": "ipython",
    "version": 3
   },
   "file_extension": ".py",
   "mimetype": "text/x-python",
   "name": "python",
   "nbconvert_exporter": "python",
   "pygments_lexer": "ipython3",
   "version": "3.6.5"
  }
 },
 "nbformat": 4,
 "nbformat_minor": 2
}
